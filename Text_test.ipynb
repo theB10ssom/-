{
  "nbformat": 4,
  "nbformat_minor": 0,
  "metadata": {
    "colab": {
      "name": "Text_test.ipynb",
      "provenance": [],
      "collapsed_sections": [],
      "authorship_tag": "ABX9TyNdzzVCJzfaYjXsRovshVPP"
    },
    "kernelspec": {
      "name": "python3",
      "display_name": "Python 3"
    },
    "language_info": {
      "name": "python"
    },
    "accelerator": "GPU",
    "widgets": {
      "application/vnd.jupyter.widget-state+json": {
        "89945c5a2ed542b58153c6d1663f1227": {
          "model_module": "@jupyter-widgets/controls",
          "model_name": "HBoxModel",
          "model_module_version": "1.5.0",
          "state": {
            "_view_name": "HBoxView",
            "_dom_classes": [],
            "_model_name": "HBoxModel",
            "_view_module": "@jupyter-widgets/controls",
            "_model_module_version": "1.5.0",
            "_view_count": null,
            "_view_module_version": "1.5.0",
            "box_style": "",
            "layout": "IPY_MODEL_030ef830d0e444d2abb421cc8542899c",
            "_model_module": "@jupyter-widgets/controls",
            "children": [
              "IPY_MODEL_a0ecd07309fd4390984a169198994374",
              "IPY_MODEL_1bafed05a1c444e78a5f9f5eefb9b623",
              "IPY_MODEL_9f944af1d28d4643b8f035a50f1328bb"
            ]
          }
        },
        "030ef830d0e444d2abb421cc8542899c": {
          "model_module": "@jupyter-widgets/base",
          "model_name": "LayoutModel",
          "model_module_version": "1.2.0",
          "state": {
            "_view_name": "LayoutView",
            "grid_template_rows": null,
            "right": null,
            "justify_content": null,
            "_view_module": "@jupyter-widgets/base",
            "overflow": null,
            "_model_module_version": "1.2.0",
            "_view_count": null,
            "flex_flow": null,
            "width": null,
            "min_width": null,
            "border": null,
            "align_items": null,
            "bottom": null,
            "_model_module": "@jupyter-widgets/base",
            "top": null,
            "grid_column": null,
            "overflow_y": null,
            "overflow_x": null,
            "grid_auto_flow": null,
            "grid_area": null,
            "grid_template_columns": null,
            "flex": null,
            "_model_name": "LayoutModel",
            "justify_items": null,
            "grid_row": null,
            "max_height": null,
            "align_content": null,
            "visibility": null,
            "align_self": null,
            "height": null,
            "min_height": null,
            "padding": null,
            "grid_auto_rows": null,
            "grid_gap": null,
            "max_width": null,
            "order": null,
            "_view_module_version": "1.2.0",
            "grid_template_areas": null,
            "object_position": null,
            "object_fit": null,
            "grid_auto_columns": null,
            "margin": null,
            "display": null,
            "left": null
          }
        },
        "a0ecd07309fd4390984a169198994374": {
          "model_module": "@jupyter-widgets/controls",
          "model_name": "HTMLModel",
          "model_module_version": "1.5.0",
          "state": {
            "_view_name": "HTMLView",
            "style": "IPY_MODEL_45f9098365fd42bca64da154494887aa",
            "_dom_classes": [],
            "description": "",
            "_model_name": "HTMLModel",
            "placeholder": "​",
            "_view_module": "@jupyter-widgets/controls",
            "_model_module_version": "1.5.0",
            "value": "Batches: 100%",
            "_view_count": null,
            "_view_module_version": "1.5.0",
            "description_tooltip": null,
            "_model_module": "@jupyter-widgets/controls",
            "layout": "IPY_MODEL_c1df19dad4344cfc869f0e979959124f"
          }
        },
        "1bafed05a1c444e78a5f9f5eefb9b623": {
          "model_module": "@jupyter-widgets/controls",
          "model_name": "FloatProgressModel",
          "model_module_version": "1.5.0",
          "state": {
            "_view_name": "ProgressView",
            "style": "IPY_MODEL_6ed7a23d416c4405a96ad210d5ba6b94",
            "_dom_classes": [],
            "description": "",
            "_model_name": "FloatProgressModel",
            "bar_style": "success",
            "max": 1479,
            "_view_module": "@jupyter-widgets/controls",
            "_model_module_version": "1.5.0",
            "value": 1479,
            "_view_count": null,
            "_view_module_version": "1.5.0",
            "orientation": "horizontal",
            "min": 0,
            "description_tooltip": null,
            "_model_module": "@jupyter-widgets/controls",
            "layout": "IPY_MODEL_22c50555bb4e4f7d99bdb190eefe0a6d"
          }
        },
        "9f944af1d28d4643b8f035a50f1328bb": {
          "model_module": "@jupyter-widgets/controls",
          "model_name": "HTMLModel",
          "model_module_version": "1.5.0",
          "state": {
            "_view_name": "HTMLView",
            "style": "IPY_MODEL_52f52af572b842c39408f9f567302b2a",
            "_dom_classes": [],
            "description": "",
            "_model_name": "HTMLModel",
            "placeholder": "​",
            "_view_module": "@jupyter-widgets/controls",
            "_model_module_version": "1.5.0",
            "value": " 1479/1479 [01:06&lt;00:00, 50.87it/s]",
            "_view_count": null,
            "_view_module_version": "1.5.0",
            "description_tooltip": null,
            "_model_module": "@jupyter-widgets/controls",
            "layout": "IPY_MODEL_139b8cadabd64f01a0f8e57ba6e82a19"
          }
        },
        "45f9098365fd42bca64da154494887aa": {
          "model_module": "@jupyter-widgets/controls",
          "model_name": "DescriptionStyleModel",
          "model_module_version": "1.5.0",
          "state": {
            "_view_name": "StyleView",
            "_model_name": "DescriptionStyleModel",
            "description_width": "",
            "_view_module": "@jupyter-widgets/base",
            "_model_module_version": "1.5.0",
            "_view_count": null,
            "_view_module_version": "1.2.0",
            "_model_module": "@jupyter-widgets/controls"
          }
        },
        "c1df19dad4344cfc869f0e979959124f": {
          "model_module": "@jupyter-widgets/base",
          "model_name": "LayoutModel",
          "model_module_version": "1.2.0",
          "state": {
            "_view_name": "LayoutView",
            "grid_template_rows": null,
            "right": null,
            "justify_content": null,
            "_view_module": "@jupyter-widgets/base",
            "overflow": null,
            "_model_module_version": "1.2.0",
            "_view_count": null,
            "flex_flow": null,
            "width": null,
            "min_width": null,
            "border": null,
            "align_items": null,
            "bottom": null,
            "_model_module": "@jupyter-widgets/base",
            "top": null,
            "grid_column": null,
            "overflow_y": null,
            "overflow_x": null,
            "grid_auto_flow": null,
            "grid_area": null,
            "grid_template_columns": null,
            "flex": null,
            "_model_name": "LayoutModel",
            "justify_items": null,
            "grid_row": null,
            "max_height": null,
            "align_content": null,
            "visibility": null,
            "align_self": null,
            "height": null,
            "min_height": null,
            "padding": null,
            "grid_auto_rows": null,
            "grid_gap": null,
            "max_width": null,
            "order": null,
            "_view_module_version": "1.2.0",
            "grid_template_areas": null,
            "object_position": null,
            "object_fit": null,
            "grid_auto_columns": null,
            "margin": null,
            "display": null,
            "left": null
          }
        },
        "6ed7a23d416c4405a96ad210d5ba6b94": {
          "model_module": "@jupyter-widgets/controls",
          "model_name": "ProgressStyleModel",
          "model_module_version": "1.5.0",
          "state": {
            "_view_name": "StyleView",
            "_model_name": "ProgressStyleModel",
            "description_width": "",
            "_view_module": "@jupyter-widgets/base",
            "_model_module_version": "1.5.0",
            "_view_count": null,
            "_view_module_version": "1.2.0",
            "bar_color": null,
            "_model_module": "@jupyter-widgets/controls"
          }
        },
        "22c50555bb4e4f7d99bdb190eefe0a6d": {
          "model_module": "@jupyter-widgets/base",
          "model_name": "LayoutModel",
          "model_module_version": "1.2.0",
          "state": {
            "_view_name": "LayoutView",
            "grid_template_rows": null,
            "right": null,
            "justify_content": null,
            "_view_module": "@jupyter-widgets/base",
            "overflow": null,
            "_model_module_version": "1.2.0",
            "_view_count": null,
            "flex_flow": null,
            "width": null,
            "min_width": null,
            "border": null,
            "align_items": null,
            "bottom": null,
            "_model_module": "@jupyter-widgets/base",
            "top": null,
            "grid_column": null,
            "overflow_y": null,
            "overflow_x": null,
            "grid_auto_flow": null,
            "grid_area": null,
            "grid_template_columns": null,
            "flex": null,
            "_model_name": "LayoutModel",
            "justify_items": null,
            "grid_row": null,
            "max_height": null,
            "align_content": null,
            "visibility": null,
            "align_self": null,
            "height": null,
            "min_height": null,
            "padding": null,
            "grid_auto_rows": null,
            "grid_gap": null,
            "max_width": null,
            "order": null,
            "_view_module_version": "1.2.0",
            "grid_template_areas": null,
            "object_position": null,
            "object_fit": null,
            "grid_auto_columns": null,
            "margin": null,
            "display": null,
            "left": null
          }
        },
        "52f52af572b842c39408f9f567302b2a": {
          "model_module": "@jupyter-widgets/controls",
          "model_name": "DescriptionStyleModel",
          "model_module_version": "1.5.0",
          "state": {
            "_view_name": "StyleView",
            "_model_name": "DescriptionStyleModel",
            "description_width": "",
            "_view_module": "@jupyter-widgets/base",
            "_model_module_version": "1.5.0",
            "_view_count": null,
            "_view_module_version": "1.2.0",
            "_model_module": "@jupyter-widgets/controls"
          }
        },
        "139b8cadabd64f01a0f8e57ba6e82a19": {
          "model_module": "@jupyter-widgets/base",
          "model_name": "LayoutModel",
          "model_module_version": "1.2.0",
          "state": {
            "_view_name": "LayoutView",
            "grid_template_rows": null,
            "right": null,
            "justify_content": null,
            "_view_module": "@jupyter-widgets/base",
            "overflow": null,
            "_model_module_version": "1.2.0",
            "_view_count": null,
            "flex_flow": null,
            "width": null,
            "min_width": null,
            "border": null,
            "align_items": null,
            "bottom": null,
            "_model_module": "@jupyter-widgets/base",
            "top": null,
            "grid_column": null,
            "overflow_y": null,
            "overflow_x": null,
            "grid_auto_flow": null,
            "grid_area": null,
            "grid_template_columns": null,
            "flex": null,
            "_model_name": "LayoutModel",
            "justify_items": null,
            "grid_row": null,
            "max_height": null,
            "align_content": null,
            "visibility": null,
            "align_self": null,
            "height": null,
            "min_height": null,
            "padding": null,
            "grid_auto_rows": null,
            "grid_gap": null,
            "max_width": null,
            "order": null,
            "_view_module_version": "1.2.0",
            "grid_template_areas": null,
            "object_position": null,
            "object_fit": null,
            "grid_auto_columns": null,
            "margin": null,
            "display": null,
            "left": null
          }
        }
      }
    }
  },
  "cells": [
    {
      "cell_type": "code",
      "metadata": {
        "colab": {
          "base_uri": "https://localhost:8080/"
        },
        "id": "mGnqGZqXIKri",
        "outputId": "512c4489-51d3-470c-aa1a-4dc04d13a3cd"
      },
      "source": [
        "from google.colab import drive\n",
        "drive.mount('/gdrive')"
      ],
      "execution_count": null,
      "outputs": [
        {
          "output_type": "stream",
          "name": "stdout",
          "text": [
            "Drive already mounted at /gdrive; to attempt to forcibly remount, call drive.mount(\"/gdrive\", force_remount=True).\n"
          ]
        }
      ]
    },
    {
      "cell_type": "code",
      "metadata": {
        "id": "DmwVzGiwdsiK"
      },
      "source": [
        "import os\n",
        "import pandas as pd\n",
        "import warnings\n",
        "warnings.filterwarnings(\"ignore\")\n",
        "\n",
        "os.chdir('/gdrive/MyDrive/민원분석/')\n",
        "dir = os.getcwd()\n",
        "path = dir + '/Data/minwon_data_ver2.pkl'"
      ],
      "execution_count": null,
      "outputs": []
    },
    {
      "cell_type": "code",
      "metadata": {
        "colab": {
          "base_uri": "https://localhost:8080/"
        },
        "id": "9beJ1e2l653h",
        "outputId": "5a999926-54dc-476d-f48c-c14c2495dc5f"
      },
      "source": [
        "!pip install bertopic"
      ],
      "execution_count": null,
      "outputs": [
        {
          "output_type": "stream",
          "name": "stdout",
          "text": [
            "Requirement already satisfied: bertopic in /usr/local/lib/python3.7/dist-packages (0.9.3)\n",
            "Requirement already satisfied: plotly<4.14.3,>=4.7.0 in /usr/local/lib/python3.7/dist-packages (from bertopic) (4.14.2)\n",
            "Requirement already satisfied: tqdm>=4.41.1 in /usr/local/lib/python3.7/dist-packages (from bertopic) (4.62.3)\n",
            "Requirement already satisfied: scikit-learn>=0.22.2.post1 in /usr/local/lib/python3.7/dist-packages (from bertopic) (0.22.2.post1)\n",
            "Requirement already satisfied: hdbscan>=0.8.27 in /usr/local/lib/python3.7/dist-packages (from bertopic) (0.8.27)\n",
            "Requirement already satisfied: pandas>=1.1.5 in /usr/local/lib/python3.7/dist-packages (from bertopic) (1.1.5)\n",
            "Requirement already satisfied: pyyaml<6.0 in /usr/local/lib/python3.7/dist-packages (from bertopic) (5.4.1)\n",
            "Requirement already satisfied: umap-learn>=0.5.0 in /usr/local/lib/python3.7/dist-packages (from bertopic) (0.5.2)\n",
            "Requirement already satisfied: numpy>=1.20.0 in /usr/local/lib/python3.7/dist-packages (from bertopic) (1.21.4)\n",
            "Requirement already satisfied: sentence-transformers>=0.4.1 in /usr/local/lib/python3.7/dist-packages (from bertopic) (2.1.0)\n",
            "Requirement already satisfied: scipy>=1.0 in /usr/local/lib/python3.7/dist-packages (from hdbscan>=0.8.27->bertopic) (1.4.1)\n",
            "Requirement already satisfied: joblib>=1.0 in /usr/local/lib/python3.7/dist-packages (from hdbscan>=0.8.27->bertopic) (1.1.0)\n",
            "Requirement already satisfied: six in /usr/local/lib/python3.7/dist-packages (from hdbscan>=0.8.27->bertopic) (1.15.0)\n",
            "Requirement already satisfied: cython>=0.27 in /usr/local/lib/python3.7/dist-packages (from hdbscan>=0.8.27->bertopic) (0.29.24)\n",
            "Requirement already satisfied: pytz>=2017.2 in /usr/local/lib/python3.7/dist-packages (from pandas>=1.1.5->bertopic) (2018.9)\n",
            "Requirement already satisfied: python-dateutil>=2.7.3 in /usr/local/lib/python3.7/dist-packages (from pandas>=1.1.5->bertopic) (2.8.2)\n",
            "Requirement already satisfied: retrying>=1.3.3 in /usr/local/lib/python3.7/dist-packages (from plotly<4.14.3,>=4.7.0->bertopic) (1.3.3)\n",
            "Requirement already satisfied: sentencepiece in /usr/local/lib/python3.7/dist-packages (from sentence-transformers>=0.4.1->bertopic) (0.1.96)\n",
            "Requirement already satisfied: huggingface-hub in /usr/local/lib/python3.7/dist-packages (from sentence-transformers>=0.4.1->bertopic) (0.1.2)\n",
            "Requirement already satisfied: tokenizers>=0.10.3 in /usr/local/lib/python3.7/dist-packages (from sentence-transformers>=0.4.1->bertopic) (0.10.3)\n",
            "Requirement already satisfied: nltk in /usr/local/lib/python3.7/dist-packages (from sentence-transformers>=0.4.1->bertopic) (3.2.5)\n",
            "Requirement already satisfied: torch>=1.6.0 in /usr/local/lib/python3.7/dist-packages (from sentence-transformers>=0.4.1->bertopic) (1.10.0+cu111)\n",
            "Requirement already satisfied: torchvision in /usr/local/lib/python3.7/dist-packages (from sentence-transformers>=0.4.1->bertopic) (0.11.1+cu111)\n",
            "Requirement already satisfied: transformers<5.0.0,>=4.6.0 in /usr/local/lib/python3.7/dist-packages (from sentence-transformers>=0.4.1->bertopic) (4.12.3)\n",
            "Requirement already satisfied: typing-extensions in /usr/local/lib/python3.7/dist-packages (from torch>=1.6.0->sentence-transformers>=0.4.1->bertopic) (3.10.0.2)\n",
            "Requirement already satisfied: sacremoses in /usr/local/lib/python3.7/dist-packages (from transformers<5.0.0,>=4.6.0->sentence-transformers>=0.4.1->bertopic) (0.0.46)\n",
            "Requirement already satisfied: requests in /usr/local/lib/python3.7/dist-packages (from transformers<5.0.0,>=4.6.0->sentence-transformers>=0.4.1->bertopic) (2.23.0)\n",
            "Requirement already satisfied: importlib-metadata in /usr/local/lib/python3.7/dist-packages (from transformers<5.0.0,>=4.6.0->sentence-transformers>=0.4.1->bertopic) (4.8.2)\n",
            "Requirement already satisfied: filelock in /usr/local/lib/python3.7/dist-packages (from transformers<5.0.0,>=4.6.0->sentence-transformers>=0.4.1->bertopic) (3.3.2)\n",
            "Requirement already satisfied: regex!=2019.12.17 in /usr/local/lib/python3.7/dist-packages (from transformers<5.0.0,>=4.6.0->sentence-transformers>=0.4.1->bertopic) (2019.12.20)\n",
            "Requirement already satisfied: packaging>=20.0 in /usr/local/lib/python3.7/dist-packages (from transformers<5.0.0,>=4.6.0->sentence-transformers>=0.4.1->bertopic) (21.2)\n",
            "Requirement already satisfied: pyparsing<3,>=2.0.2 in /usr/local/lib/python3.7/dist-packages (from packaging>=20.0->transformers<5.0.0,>=4.6.0->sentence-transformers>=0.4.1->bertopic) (2.4.7)\n",
            "Requirement already satisfied: pynndescent>=0.5 in /usr/local/lib/python3.7/dist-packages (from umap-learn>=0.5.0->bertopic) (0.5.5)\n",
            "Requirement already satisfied: numba>=0.49 in /usr/local/lib/python3.7/dist-packages (from umap-learn>=0.5.0->bertopic) (0.51.2)\n",
            "Requirement already satisfied: llvmlite<0.35,>=0.34.0.dev0 in /usr/local/lib/python3.7/dist-packages (from numba>=0.49->umap-learn>=0.5.0->bertopic) (0.34.0)\n",
            "Requirement already satisfied: setuptools in /usr/local/lib/python3.7/dist-packages (from numba>=0.49->umap-learn>=0.5.0->bertopic) (57.4.0)\n",
            "Requirement already satisfied: zipp>=0.5 in /usr/local/lib/python3.7/dist-packages (from importlib-metadata->transformers<5.0.0,>=4.6.0->sentence-transformers>=0.4.1->bertopic) (3.6.0)\n",
            "Requirement already satisfied: urllib3!=1.25.0,!=1.25.1,<1.26,>=1.21.1 in /usr/local/lib/python3.7/dist-packages (from requests->transformers<5.0.0,>=4.6.0->sentence-transformers>=0.4.1->bertopic) (1.24.3)\n",
            "Requirement already satisfied: certifi>=2017.4.17 in /usr/local/lib/python3.7/dist-packages (from requests->transformers<5.0.0,>=4.6.0->sentence-transformers>=0.4.1->bertopic) (2021.10.8)\n",
            "Requirement already satisfied: idna<3,>=2.5 in /usr/local/lib/python3.7/dist-packages (from requests->transformers<5.0.0,>=4.6.0->sentence-transformers>=0.4.1->bertopic) (2.10)\n",
            "Requirement already satisfied: chardet<4,>=3.0.2 in /usr/local/lib/python3.7/dist-packages (from requests->transformers<5.0.0,>=4.6.0->sentence-transformers>=0.4.1->bertopic) (3.0.4)\n",
            "Requirement already satisfied: click in /usr/local/lib/python3.7/dist-packages (from sacremoses->transformers<5.0.0,>=4.6.0->sentence-transformers>=0.4.1->bertopic) (7.1.2)\n",
            "Requirement already satisfied: pillow!=8.3.0,>=5.3.0 in /usr/local/lib/python3.7/dist-packages (from torchvision->sentence-transformers>=0.4.1->bertopic) (7.1.2)\n"
          ]
        }
      ]
    },
    {
      "cell_type": "code",
      "metadata": {
        "id": "3wGvfqqH4onh"
      },
      "source": [
        "import pickle as pkl\n",
        "with open(dir + '/Data/내용토큰.pkl', 'rb') as f:\n",
        "    tokens = pkl.load(f)"
      ],
      "execution_count": null,
      "outputs": []
    },
    {
      "cell_type": "code",
      "metadata": {
        "id": "DddRXu2CPM-O"
      },
      "source": [
        "from bertopic import BERTopic"
      ],
      "execution_count": null,
      "outputs": []
    },
    {
      "cell_type": "code",
      "metadata": {
        "id": "_kltkFtUFXx4"
      },
      "source": [
        "stopwords = ['안녕하세요', '우선', '아니고', '어떻게', '요청', '요망', '가요', '있나요', '어떠'\n",
        "             '문의', '여부', '가능', '관련', '질의', '방법', '건의', '요청', '필요', '질문',\n",
        "             '예정', '하여', '어느', '부탁', '궁금', '있는지', '무엇', '대하여', '알고', '궁금',\n",
        "             '바랍니다', '확인', '어디', '어디서', '충청북도', '충주시', '대구', '중구', '이해',\n",
        "             '요건', '거쳐야', '것들', '경우']\n",
        "\n",
        "tokens = pd.Series(tokens).map(lambda x:[w for w in x if (not w in stopwords)]).to_list()"
      ],
      "execution_count": null,
      "outputs": []
    },
    {
      "cell_type": "code",
      "metadata": {
        "id": "Y23rh2ZOE7cm"
      },
      "source": [
        "tokens = pd.Series(tokens).apply(lambda x: ' '.join(x))"
      ],
      "execution_count": null,
      "outputs": []
    },
    {
      "cell_type": "code",
      "metadata": {
        "colab": {
          "base_uri": "https://localhost:8080/",
          "height": 102,
          "referenced_widgets": [
            "89945c5a2ed542b58153c6d1663f1227",
            "030ef830d0e444d2abb421cc8542899c",
            "a0ecd07309fd4390984a169198994374",
            "1bafed05a1c444e78a5f9f5eefb9b623",
            "9f944af1d28d4643b8f035a50f1328bb",
            "45f9098365fd42bca64da154494887aa",
            "c1df19dad4344cfc869f0e979959124f",
            "6ed7a23d416c4405a96ad210d5ba6b94",
            "22c50555bb4e4f7d99bdb190eefe0a6d",
            "52f52af572b842c39408f9f567302b2a",
            "139b8cadabd64f01a0f8e57ba6e82a19"
          ]
        },
        "id": "MfEkbTag6LVc",
        "outputId": "26c1bd73-cc1c-4c44-a1b7-5bfb1eec7472"
      },
      "source": [
        "topic_model = BERTopic(language='Korean', verbose=True, n_gram_range=(2, 3))\n",
        "topics, probs = topic_model.fit_transform(tokens.to_list())"
      ],
      "execution_count": null,
      "outputs": [
        {
          "output_type": "display_data",
          "data": {
            "application/vnd.jupyter.widget-view+json": {
              "model_id": "89945c5a2ed542b58153c6d1663f1227",
              "version_minor": 0,
              "version_major": 2
            },
            "text/plain": [
              "Batches:   0%|          | 0/1479 [00:00<?, ?it/s]"
            ]
          },
          "metadata": {}
        },
        {
          "output_type": "stream",
          "name": "stderr",
          "text": [
            "2021-11-15 06:34:43,837 - BERTopic - Transformed documents to Embeddings\n",
            "2021-11-15 06:35:46,821 - BERTopic - Reduced dimensionality with UMAP\n",
            "2021-11-15 06:35:51,388 - BERTopic - Clustered UMAP embeddings with HDBSCAN\n"
          ]
        }
      ]
    },
    {
      "cell_type": "code",
      "metadata": {
        "colab": {
          "base_uri": "https://localhost:8080/",
          "height": 234
        },
        "id": "zvSXiMjC7AEm",
        "outputId": "7e454434-1516-4eb6-c328-d327267dc89f"
      },
      "source": [
        "freq = topic_model.get_topic_info(); freq.head(6)"
      ],
      "execution_count": null,
      "outputs": [
        {
          "output_type": "execute_result",
          "data": {
            "text/html": [
              "<div>\n",
              "<style scoped>\n",
              "    .dataframe tbody tr th:only-of-type {\n",
              "        vertical-align: middle;\n",
              "    }\n",
              "\n",
              "    .dataframe tbody tr th {\n",
              "        vertical-align: top;\n",
              "    }\n",
              "\n",
              "    .dataframe thead th {\n",
              "        text-align: right;\n",
              "    }\n",
              "</style>\n",
              "<table border=\"1\" class=\"dataframe\">\n",
              "  <thead>\n",
              "    <tr style=\"text-align: right;\">\n",
              "      <th></th>\n",
              "      <th>Topic</th>\n",
              "      <th>Count</th>\n",
              "      <th>Name</th>\n",
              "    </tr>\n",
              "  </thead>\n",
              "  <tbody>\n",
              "    <tr>\n",
              "      <th>0</th>\n",
              "      <td>-1</td>\n",
              "      <td>22024</td>\n",
              "      <td>-1_관리 대행 계약_계약 대행 기간_대행 계약 대행_관리 대행 최초계약</td>\n",
              "    </tr>\n",
              "    <tr>\n",
              "      <th>1</th>\n",
              "      <td>0</td>\n",
              "      <td>590</td>\n",
              "      <td>0_학교 폐교_초등학교 분교장 학적_초등학교 입학_중학교 배정</td>\n",
              "    </tr>\n",
              "    <tr>\n",
              "      <th>2</th>\n",
              "      <td>1</td>\n",
              "      <td>520</td>\n",
              "      <td>1_요금제 변경_인터넷 전화_인터넷 사용_인터넷 요금</td>\n",
              "    </tr>\n",
              "    <tr>\n",
              "      <th>3</th>\n",
              "      <td>2</td>\n",
              "      <td>422</td>\n",
              "      <td>2_해양시설 신고_신고 구비서류 해양시설_해양시설 신고 구비서류_국립해양조사원 제공</td>\n",
              "    </tr>\n",
              "    <tr>\n",
              "      <th>4</th>\n",
              "      <td>3</td>\n",
              "      <td>363</td>\n",
              "      <td>3_이유 대구광역시_일부개정 이유 대구광역시_허가 건축물 거주_헤어리베치 라이</td>\n",
              "    </tr>\n",
              "    <tr>\n",
              "      <th>5</th>\n",
              "      <td>4</td>\n",
              "      <td>322</td>\n",
              "      <td>4_개별공시지가 의견제출_의견제출 개별공시지가 의견제출_산청 관리 어항_단속 생각 신청</td>\n",
              "    </tr>\n",
              "  </tbody>\n",
              "</table>\n",
              "</div>"
            ],
            "text/plain": [
              "   Topic  Count                                              Name\n",
              "0     -1  22024          -1_관리 대행 계약_계약 대행 기간_대행 계약 대행_관리 대행 최초계약\n",
              "1      0    590                0_학교 폐교_초등학교 분교장 학적_초등학교 입학_중학교 배정\n",
              "2      1    520                     1_요금제 변경_인터넷 전화_인터넷 사용_인터넷 요금\n",
              "3      2    422    2_해양시설 신고_신고 구비서류 해양시설_해양시설 신고 구비서류_국립해양조사원 제공\n",
              "4      3    363       3_이유 대구광역시_일부개정 이유 대구광역시_허가 건축물 거주_헤어리베치 라이\n",
              "5      4    322  4_개별공시지가 의견제출_의견제출 개별공시지가 의견제출_산청 관리 어항_단속 생각 신청"
            ]
          },
          "metadata": {},
          "execution_count": 90
        }
      ]
    },
    {
      "cell_type": "code",
      "metadata": {
        "colab": {
          "base_uri": "https://localhost:8080/"
        },
        "id": "oCL4uiOl7AHD",
        "outputId": "1a16c4c3-ef1b-476f-840f-e2404a0c030a"
      },
      "source": [
        "topic_model.get_topic(0)  # Select the most frequent topic"
      ],
      "execution_count": null,
      "outputs": [
        {
          "output_type": "execute_result",
          "data": {
            "text/plain": [
              "[('학교 폐교', 0.01354663544780032),\n",
              " ('초등학교 분교장 학적', 0.003982116790052581),\n",
              " ('초등학교 입학', 0.003680042615947306),\n",
              " ('중학교 배정', 0.0031417148232795486),\n",
              " ('관내 초등학교', 0.0029317332090977926),\n",
              " ('초중등학교 정보공시', 0.0027429274246756332),\n",
              " ('초중등학교 정보공시 입력', 0.0027429274246756332),\n",
              " ('학교 생활기록부', 0.002514260118044015),\n",
              " ('중학교 입학 배정', 0.002353570905040508),\n",
              " ('학교 전학', 0.0023249444355895963)]"
            ]
          },
          "metadata": {},
          "execution_count": 93
        }
      ]
    },
    {
      "cell_type": "markdown",
      "metadata": {
        "id": "4QLcWIezWDCQ"
      },
      "source": [
        "## 빈도수 상위 10개 토픽"
      ]
    },
    {
      "cell_type": "code",
      "metadata": {
        "colab": {
          "base_uri": "https://localhost:8080/",
          "height": 617
        },
        "id": "CCuM8npx7AOW",
        "outputId": "8da63053-01c0-4cf5-d46a-cd346a9e1309"
      },
      "source": [
        "topic_model.visualize_barchart(top_n_topics=10)#.write_html(dir + 'test.html')\n"
      ],
      "execution_count": null,
      "outputs": [
        {
          "output_type": "display_data",
          "data": {
            "text/html": [
              "<html>\n",
              "<head><meta charset=\"utf-8\" /></head>\n",
              "<body>\n",
              "    <div>            <script src=\"https://cdnjs.cloudflare.com/ajax/libs/mathjax/2.7.5/MathJax.js?config=TeX-AMS-MML_SVG\"></script><script type=\"text/javascript\">if (window.MathJax) {MathJax.Hub.Config({SVG: {font: \"STIX-Web\"}});}</script>                <script type=\"text/javascript\">window.PlotlyConfig = {MathJaxConfig: 'local'};</script>\n",
              "        <script src=\"https://cdn.plot.ly/plotly-latest.min.js\"></script>                <div id=\"22a7a3e8-c06e-409a-b672-360639c47e27\" class=\"plotly-graph-div\" style=\"height:600px; width:800px;\"></div>            <script type=\"text/javascript\">                                    window.PLOTLYENV=window.PLOTLYENV || {};                                    if (document.getElementById(\"22a7a3e8-c06e-409a-b672-360639c47e27\")) {                    Plotly.newPlot(                        \"22a7a3e8-c06e-409a-b672-360639c47e27\",                        [{\"orientation\": \"h\", \"type\": \"bar\", \"x\": [0.0029317332090977926, 0.0031417148232795486, 0.003680042615947306, 0.003982116790052581, 0.01354663544780032], \"xaxis\": \"x\", \"y\": [\"\\uad00\\ub0b4 \\ucd08\\ub4f1\\ud559\\uad50  \", \"\\uc911\\ud559\\uad50 \\ubc30\\uc815  \", \"\\ucd08\\ub4f1\\ud559\\uad50 \\uc785\\ud559  \", \"\\ucd08\\ub4f1\\ud559\\uad50 \\ubd84\\uad50\\uc7a5 \\ud559\\uc801  \", \"\\ud559\\uad50 \\ud3d0\\uad50  \"], \"yaxis\": \"y\"}, {\"orientation\": \"h\", \"type\": \"bar\", \"x\": [0.0027350692194242276, 0.002909739573068296, 0.00316767205100014, 0.0035841842224555473, 0.004304827369562885], \"xaxis\": \"x2\", \"y\": [\"\\uc0ac\\uc6a9 \\uc694\\uae08  \", \"\\uc778\\ud130\\ub137 \\uc694\\uae08  \", \"\\uc778\\ud130\\ub137 \\uc0ac\\uc6a9  \", \"\\uc778\\ud130\\ub137 \\uc804\\ud654  \", \"\\uc694\\uae08\\uc81c \\ubcc0\\uacbd  \"], \"yaxis\": \"y2\"}, {\"orientation\": \"h\", \"type\": \"bar\", \"x\": [0.006202462042238327, 0.007203530213267798, 0.007963371261689983, 0.010006611587580955, 0.012481809497386552], \"xaxis\": \"x3\", \"y\": [\"\\ud574\\uc591\\uc2dc\\uc124 \\uc2e0\\uace0\\ub300\\uc0c1  \", \"\\uad6d\\ub9bd\\ud574\\uc591\\uc870\\uc0ac\\uc6d0 \\uc81c\\uacf5  \", \"\\ud574\\uc591\\uc2dc\\uc124 \\uc2e0\\uace0 \\uad6c\\ube44\\uc11c\\ub958  \", \"\\uc2e0\\uace0 \\uad6c\\ube44\\uc11c\\ub958 \\ud574\\uc591\\uc2dc\\uc124  \", \"\\ud574\\uc591\\uc2dc\\uc124 \\uc2e0\\uace0  \"], \"yaxis\": \"y3\"}, {\"orientation\": \"h\", \"type\": \"bar\", \"x\": [0.0019047622231061654, 0.0019047622231061654, 0.0019047622231061654, 0.0043076162518540136, 0.004851200002606511], \"xaxis\": \"x4\", \"y\": [\"\\ub77c\\uc774 \\uadf8\\ub77c\\uc2a4 \\uc885\\uc790  \", \"\\ud5e4\\uc5b4\\ub9ac\\ubca0\\uce58 \\ub77c\\uc774  \", \"\\ud5c8\\uac00 \\uac74\\ucd95\\ubb3c \\uac70\\uc8fc  \", \"\\uc77c\\ubd80\\uac1c\\uc815 \\uc774\\uc720 \\ub300\\uad6c\\uad11\\uc5ed\\uc2dc  \", \"\\uc774\\uc720 \\ub300\\uad6c\\uad11\\uc5ed\\uc2dc  \"], \"yaxis\": \"y4\"}, {\"orientation\": \"h\", \"type\": \"bar\", \"x\": [0.010820214537504582, 0.010820214537504582, 0.010820214537504582, 0.010820214537504582, 0.021354996651403647], \"xaxis\": \"x5\", \"y\": [\"\\uc758\\uacac\\uc81c\\ucd9c \\uac1c\\ubcc4\\uacf5\\uc2dc\\uc9c0\\uac00  \", \"\\ub2e8\\uc18d \\uc0dd\\uac01 \\uc2e0\\uccad  \", \"\\uc0b0\\uccad \\uad00\\ub9ac \\uc5b4\\ud56d  \", \"\\uc758\\uacac\\uc81c\\ucd9c \\uac1c\\ubcc4\\uacf5\\uc2dc\\uc9c0\\uac00 \\uc758\\uacac\\uc81c\\ucd9c  \", \"\\uac1c\\ubcc4\\uacf5\\uc2dc\\uc9c0\\uac00 \\uc758\\uacac\\uc81c\\ucd9c  \"], \"yaxis\": \"y5\"}, {\"orientation\": \"h\", \"type\": \"bar\", \"x\": [0.010685264385381234, 0.011592799324321187, 0.014478026851329437, 0.0368327187997867, 0.040217104851445876], \"xaxis\": \"x6\", \"y\": [\"\\ud559\\uad50\\ud3ed\\ub825 \\uc0ac\\uc548\\ucc98\\ub9ac  \", \"\\ud559\\uad50\\ud3ed\\ub825 \\uac00\\ud574\\ud559\\uc0dd  \", \"\\uc808\\ucc28 \\ud559\\uad50\\ud3ed\\ub825  \", \"\\ud559\\uad50\\ud3ed\\ub825 \\ub300\\ucc45 \\uc2ec\\uc758\\uc704\\uc6d0\\ud68c  \", \"\\ud559\\uad50\\ud3ed\\ub825 \\ub300\\ucc45  \"], \"yaxis\": \"y6\"}, {\"orientation\": \"h\", \"type\": \"bar\", \"x\": [0.006026684528019587, 0.006318182039345396, 0.006318182039345396, 0.00953537143067877, 0.012741056723760203], \"xaxis\": \"x7\", \"y\": [\"\\uac70\\uc18c \\uc2e0\\uace0 \\uc0ac\\uc2e4  \", \"\\uc678\\uad6d\\uc778\\ub4f1\\ub85d \\uc0ac\\uc2e4  \", \"\\uc678\\uad6d\\uc778\\ub4f1\\ub85d \\uc0ac\\uc2e4 \\uc99d\\uba85  \", \"\\ud574\\uc678 \\uccb4\\ub958  \", \"\\ucd9c\\uc785\\uad6d \\uc0ac\\uc2e4  \"], \"yaxis\": \"y7\"}, {\"orientation\": \"h\", \"type\": \"bar\", \"x\": [0.011877549468900628, 0.012160769984954701, 0.0121888383101019, 0.018005183971067387, 0.01972735497713147], \"xaxis\": \"x8\", \"y\": [\"\\ud559\\uad50\\uc7a5 \\uc790\\uccb4\\ud574\\uacb0  \", \"\\ud559\\uad50 \\uc124\\ub9bd  \", \"\\ud559\\uad50\\uc2dc\\uc124 \\ub0b4\\uc9c4 \\ubcf4\\uac15  \", \"\\ud559\\uad50 \\uc2dc\\uc124  \", \"\\ud559\\uc6d0 \\uc124\\ub9bd  \"], \"yaxis\": \"y8\"}, {\"orientation\": \"h\", \"type\": \"bar\", \"x\": [0.008891960711344151, 0.010115274755257584, 0.01156031400600867, 0.013349589726516503, 0.015177904782756872], \"xaxis\": \"x9\", \"y\": [\"\\uc9c0\\ubc29\\uc138 \\ub0a9\\ubd80  \", \"\\ub0a9\\ubd80 \\uac00\\uc0b0\\uc138  \", \"\\uc9c0\\ubc29\\uc138 \\ub0a9\\uc138\\uc790\\ubcf4\\ud638\\uad00  \", \"\\uc138\\uae08 \\ub0a9\\ubd80  \", \"\\uc138\\uae08\\uacc4\\uc0b0\\uc11c \\ubc1c\\uae09  \"], \"yaxis\": \"y9\"}, {\"orientation\": \"h\", \"type\": \"bar\", \"x\": [0.0083589263788742, 0.0083589263788742, 0.0083589263788742, 0.01005287302979316, 0.02445920042755549], \"xaxis\": \"x10\", \"y\": [\"\\ud589\\uc815\\ucc98\\ubd84 \\uae30\\uc900 \\uc2dc\\uc7a5  \", \"\\ud589\\uc815\\ucc98\\ubd84 \\uae30\\uc900 \\uc218\\uc0b0\\uc5c5\\ubc95  \", \"\\uae30\\uc900 \\uc218\\uc0b0\\uc5c5\\ubc95  \", \"\\uc5b4\\uc5c5 \\ud604\\ud669 \\ubb38\\uc81c\\uc810  \", \"\\ud589\\uc815\\ucc98\\ubd84 \\uae30\\uc900  \"], \"yaxis\": \"y10\"}],                        {\"annotations\": [{\"font\": {\"size\": 16}, \"showarrow\": false, \"text\": \"Topic 0\", \"x\": 0.11666666666666665, \"xanchor\": \"center\", \"xref\": \"paper\", \"y\": 1.0, \"yanchor\": \"bottom\", \"yref\": \"paper\"}, {\"font\": {\"size\": 16}, \"showarrow\": false, \"text\": \"Topic 1\", \"x\": 0.49999999999999994, \"xanchor\": \"center\", \"xref\": \"paper\", \"y\": 1.0, \"yanchor\": \"bottom\", \"yref\": \"paper\"}, {\"font\": {\"size\": 16}, \"showarrow\": false, \"text\": \"Topic 2\", \"x\": 0.8833333333333333, \"xanchor\": \"center\", \"xref\": \"paper\", \"y\": 1.0, \"yanchor\": \"bottom\", \"yref\": \"paper\"}, {\"font\": {\"size\": 16}, \"showarrow\": false, \"text\": \"Topic 3\", \"x\": 0.11666666666666665, \"xanchor\": \"center\", \"xref\": \"paper\", \"y\": 0.7124999999999999, \"yanchor\": \"bottom\", \"yref\": \"paper\"}, {\"font\": {\"size\": 16}, \"showarrow\": false, \"text\": \"Topic 4\", \"x\": 0.49999999999999994, \"xanchor\": \"center\", \"xref\": \"paper\", \"y\": 0.7124999999999999, \"yanchor\": \"bottom\", \"yref\": \"paper\"}, {\"font\": {\"size\": 16}, \"showarrow\": false, \"text\": \"Topic 5\", \"x\": 0.8833333333333333, \"xanchor\": \"center\", \"xref\": \"paper\", \"y\": 0.7124999999999999, \"yanchor\": \"bottom\", \"yref\": \"paper\"}, {\"font\": {\"size\": 16}, \"showarrow\": false, \"text\": \"Topic 6\", \"x\": 0.11666666666666665, \"xanchor\": \"center\", \"xref\": \"paper\", \"y\": 0.425, \"yanchor\": \"bottom\", \"yref\": \"paper\"}, {\"font\": {\"size\": 16}, \"showarrow\": false, \"text\": \"Topic 7\", \"x\": 0.49999999999999994, \"xanchor\": \"center\", \"xref\": \"paper\", \"y\": 0.425, \"yanchor\": \"bottom\", \"yref\": \"paper\"}, {\"font\": {\"size\": 16}, \"showarrow\": false, \"text\": \"Topic 8\", \"x\": 0.8833333333333333, \"xanchor\": \"center\", \"xref\": \"paper\", \"y\": 0.425, \"yanchor\": \"bottom\", \"yref\": \"paper\"}, {\"font\": {\"size\": 16}, \"showarrow\": false, \"text\": \"Topic 9\", \"x\": 0.11666666666666665, \"xanchor\": \"center\", \"xref\": \"paper\", \"y\": 0.1375, \"yanchor\": \"bottom\", \"yref\": \"paper\"}], \"height\": 600, \"hoverlabel\": {\"bgcolor\": \"white\", \"font\": {\"family\": \"Rockwell\", \"size\": 16}}, \"showlegend\": false, \"template\": {\"data\": {\"bar\": [{\"error_x\": {\"color\": \"#2a3f5f\"}, \"error_y\": {\"color\": \"#2a3f5f\"}, \"marker\": {\"line\": {\"color\": \"white\", \"width\": 0.5}}, \"type\": \"bar\"}], \"barpolar\": [{\"marker\": {\"line\": {\"color\": \"white\", \"width\": 0.5}}, \"type\": \"barpolar\"}], \"carpet\": [{\"aaxis\": {\"endlinecolor\": \"#2a3f5f\", \"gridcolor\": \"#C8D4E3\", \"linecolor\": \"#C8D4E3\", \"minorgridcolor\": \"#C8D4E3\", \"startlinecolor\": \"#2a3f5f\"}, \"baxis\": {\"endlinecolor\": \"#2a3f5f\", \"gridcolor\": \"#C8D4E3\", \"linecolor\": \"#C8D4E3\", \"minorgridcolor\": \"#C8D4E3\", \"startlinecolor\": \"#2a3f5f\"}, \"type\": \"carpet\"}], \"choropleth\": [{\"colorbar\": {\"outlinewidth\": 0, \"ticks\": \"\"}, \"type\": \"choropleth\"}], \"contour\": [{\"colorbar\": {\"outlinewidth\": 0, \"ticks\": \"\"}, \"colorscale\": [[0.0, \"#0d0887\"], [0.1111111111111111, \"#46039f\"], [0.2222222222222222, \"#7201a8\"], [0.3333333333333333, \"#9c179e\"], [0.4444444444444444, \"#bd3786\"], [0.5555555555555556, \"#d8576b\"], [0.6666666666666666, \"#ed7953\"], [0.7777777777777778, \"#fb9f3a\"], [0.8888888888888888, \"#fdca26\"], [1.0, \"#f0f921\"]], \"type\": \"contour\"}], \"contourcarpet\": [{\"colorbar\": {\"outlinewidth\": 0, \"ticks\": \"\"}, \"type\": \"contourcarpet\"}], \"heatmap\": [{\"colorbar\": {\"outlinewidth\": 0, \"ticks\": \"\"}, \"colorscale\": [[0.0, \"#0d0887\"], [0.1111111111111111, \"#46039f\"], [0.2222222222222222, \"#7201a8\"], [0.3333333333333333, \"#9c179e\"], [0.4444444444444444, \"#bd3786\"], [0.5555555555555556, \"#d8576b\"], [0.6666666666666666, \"#ed7953\"], [0.7777777777777778, \"#fb9f3a\"], [0.8888888888888888, \"#fdca26\"], [1.0, \"#f0f921\"]], \"type\": \"heatmap\"}], \"heatmapgl\": [{\"colorbar\": {\"outlinewidth\": 0, \"ticks\": \"\"}, \"colorscale\": [[0.0, \"#0d0887\"], [0.1111111111111111, \"#46039f\"], [0.2222222222222222, \"#7201a8\"], [0.3333333333333333, \"#9c179e\"], [0.4444444444444444, \"#bd3786\"], [0.5555555555555556, \"#d8576b\"], [0.6666666666666666, \"#ed7953\"], [0.7777777777777778, \"#fb9f3a\"], [0.8888888888888888, \"#fdca26\"], [1.0, \"#f0f921\"]], \"type\": \"heatmapgl\"}], \"histogram\": [{\"marker\": {\"colorbar\": {\"outlinewidth\": 0, \"ticks\": \"\"}}, \"type\": \"histogram\"}], \"histogram2d\": [{\"colorbar\": {\"outlinewidth\": 0, \"ticks\": \"\"}, \"colorscale\": [[0.0, \"#0d0887\"], [0.1111111111111111, \"#46039f\"], [0.2222222222222222, \"#7201a8\"], [0.3333333333333333, \"#9c179e\"], [0.4444444444444444, \"#bd3786\"], [0.5555555555555556, \"#d8576b\"], [0.6666666666666666, \"#ed7953\"], [0.7777777777777778, \"#fb9f3a\"], [0.8888888888888888, \"#fdca26\"], [1.0, \"#f0f921\"]], \"type\": \"histogram2d\"}], \"histogram2dcontour\": [{\"colorbar\": {\"outlinewidth\": 0, \"ticks\": \"\"}, \"colorscale\": [[0.0, \"#0d0887\"], [0.1111111111111111, \"#46039f\"], [0.2222222222222222, \"#7201a8\"], [0.3333333333333333, \"#9c179e\"], [0.4444444444444444, \"#bd3786\"], [0.5555555555555556, \"#d8576b\"], [0.6666666666666666, \"#ed7953\"], [0.7777777777777778, \"#fb9f3a\"], [0.8888888888888888, \"#fdca26\"], [1.0, \"#f0f921\"]], \"type\": \"histogram2dcontour\"}], \"mesh3d\": [{\"colorbar\": {\"outlinewidth\": 0, \"ticks\": \"\"}, \"type\": \"mesh3d\"}], \"parcoords\": [{\"line\": {\"colorbar\": {\"outlinewidth\": 0, \"ticks\": \"\"}}, \"type\": \"parcoords\"}], \"pie\": [{\"automargin\": true, \"type\": \"pie\"}], \"scatter\": [{\"marker\": {\"colorbar\": {\"outlinewidth\": 0, \"ticks\": \"\"}}, \"type\": \"scatter\"}], \"scatter3d\": [{\"line\": {\"colorbar\": {\"outlinewidth\": 0, \"ticks\": \"\"}}, \"marker\": {\"colorbar\": {\"outlinewidth\": 0, \"ticks\": \"\"}}, \"type\": \"scatter3d\"}], \"scattercarpet\": [{\"marker\": {\"colorbar\": {\"outlinewidth\": 0, \"ticks\": \"\"}}, \"type\": \"scattercarpet\"}], \"scattergeo\": [{\"marker\": {\"colorbar\": {\"outlinewidth\": 0, \"ticks\": \"\"}}, \"type\": \"scattergeo\"}], \"scattergl\": [{\"marker\": {\"colorbar\": {\"outlinewidth\": 0, \"ticks\": \"\"}}, \"type\": \"scattergl\"}], \"scattermapbox\": [{\"marker\": {\"colorbar\": {\"outlinewidth\": 0, \"ticks\": \"\"}}, \"type\": \"scattermapbox\"}], \"scatterpolar\": [{\"marker\": {\"colorbar\": {\"outlinewidth\": 0, \"ticks\": \"\"}}, \"type\": \"scatterpolar\"}], \"scatterpolargl\": [{\"marker\": {\"colorbar\": {\"outlinewidth\": 0, \"ticks\": \"\"}}, \"type\": \"scatterpolargl\"}], \"scatterternary\": [{\"marker\": {\"colorbar\": {\"outlinewidth\": 0, \"ticks\": \"\"}}, \"type\": \"scatterternary\"}], \"surface\": [{\"colorbar\": {\"outlinewidth\": 0, \"ticks\": \"\"}, \"colorscale\": [[0.0, \"#0d0887\"], [0.1111111111111111, \"#46039f\"], [0.2222222222222222, \"#7201a8\"], [0.3333333333333333, \"#9c179e\"], [0.4444444444444444, \"#bd3786\"], [0.5555555555555556, \"#d8576b\"], [0.6666666666666666, \"#ed7953\"], [0.7777777777777778, \"#fb9f3a\"], [0.8888888888888888, \"#fdca26\"], [1.0, \"#f0f921\"]], \"type\": \"surface\"}], \"table\": [{\"cells\": {\"fill\": {\"color\": \"#EBF0F8\"}, \"line\": {\"color\": \"white\"}}, \"header\": {\"fill\": {\"color\": \"#C8D4E3\"}, \"line\": {\"color\": \"white\"}}, \"type\": \"table\"}]}, \"layout\": {\"annotationdefaults\": {\"arrowcolor\": \"#2a3f5f\", \"arrowhead\": 0, \"arrowwidth\": 1}, \"autotypenumbers\": \"strict\", \"coloraxis\": {\"colorbar\": {\"outlinewidth\": 0, \"ticks\": \"\"}}, \"colorscale\": {\"diverging\": [[0, \"#8e0152\"], [0.1, \"#c51b7d\"], [0.2, \"#de77ae\"], [0.3, \"#f1b6da\"], [0.4, \"#fde0ef\"], [0.5, \"#f7f7f7\"], [0.6, \"#e6f5d0\"], [0.7, \"#b8e186\"], [0.8, \"#7fbc41\"], [0.9, \"#4d9221\"], [1, \"#276419\"]], \"sequential\": [[0.0, \"#0d0887\"], [0.1111111111111111, \"#46039f\"], [0.2222222222222222, \"#7201a8\"], [0.3333333333333333, \"#9c179e\"], [0.4444444444444444, \"#bd3786\"], [0.5555555555555556, \"#d8576b\"], [0.6666666666666666, \"#ed7953\"], [0.7777777777777778, \"#fb9f3a\"], [0.8888888888888888, \"#fdca26\"], [1.0, \"#f0f921\"]], \"sequentialminus\": [[0.0, \"#0d0887\"], [0.1111111111111111, \"#46039f\"], [0.2222222222222222, \"#7201a8\"], [0.3333333333333333, \"#9c179e\"], [0.4444444444444444, \"#bd3786\"], [0.5555555555555556, \"#d8576b\"], [0.6666666666666666, \"#ed7953\"], [0.7777777777777778, \"#fb9f3a\"], [0.8888888888888888, \"#fdca26\"], [1.0, \"#f0f921\"]]}, \"colorway\": [\"#636efa\", \"#EF553B\", \"#00cc96\", \"#ab63fa\", \"#FFA15A\", \"#19d3f3\", \"#FF6692\", \"#B6E880\", \"#FF97FF\", \"#FECB52\"], \"font\": {\"color\": \"#2a3f5f\"}, \"geo\": {\"bgcolor\": \"white\", \"lakecolor\": \"white\", \"landcolor\": \"white\", \"showlakes\": true, \"showland\": true, \"subunitcolor\": \"#C8D4E3\"}, \"hoverlabel\": {\"align\": \"left\"}, \"hovermode\": \"closest\", \"mapbox\": {\"style\": \"light\"}, \"paper_bgcolor\": \"white\", \"plot_bgcolor\": \"white\", \"polar\": {\"angularaxis\": {\"gridcolor\": \"#EBF0F8\", \"linecolor\": \"#EBF0F8\", \"ticks\": \"\"}, \"bgcolor\": \"white\", \"radialaxis\": {\"gridcolor\": \"#EBF0F8\", \"linecolor\": \"#EBF0F8\", \"ticks\": \"\"}}, \"scene\": {\"xaxis\": {\"backgroundcolor\": \"white\", \"gridcolor\": \"#DFE8F3\", \"gridwidth\": 2, \"linecolor\": \"#EBF0F8\", \"showbackground\": true, \"ticks\": \"\", \"zerolinecolor\": \"#EBF0F8\"}, \"yaxis\": {\"backgroundcolor\": \"white\", \"gridcolor\": \"#DFE8F3\", \"gridwidth\": 2, \"linecolor\": \"#EBF0F8\", \"showbackground\": true, \"ticks\": \"\", \"zerolinecolor\": \"#EBF0F8\"}, \"zaxis\": {\"backgroundcolor\": \"white\", \"gridcolor\": \"#DFE8F3\", \"gridwidth\": 2, \"linecolor\": \"#EBF0F8\", \"showbackground\": true, \"ticks\": \"\", \"zerolinecolor\": \"#EBF0F8\"}}, \"shapedefaults\": {\"line\": {\"color\": \"#2a3f5f\"}}, \"ternary\": {\"aaxis\": {\"gridcolor\": \"#DFE8F3\", \"linecolor\": \"#A2B1C6\", \"ticks\": \"\"}, \"baxis\": {\"gridcolor\": \"#DFE8F3\", \"linecolor\": \"#A2B1C6\", \"ticks\": \"\"}, \"bgcolor\": \"white\", \"caxis\": {\"gridcolor\": \"#DFE8F3\", \"linecolor\": \"#A2B1C6\", \"ticks\": \"\"}}, \"title\": {\"x\": 0.05}, \"xaxis\": {\"automargin\": true, \"gridcolor\": \"#EBF0F8\", \"linecolor\": \"#EBF0F8\", \"ticks\": \"\", \"title\": {\"standoff\": 15}, \"zerolinecolor\": \"#EBF0F8\", \"zerolinewidth\": 2}, \"yaxis\": {\"automargin\": true, \"gridcolor\": \"#EBF0F8\", \"linecolor\": \"#EBF0F8\", \"ticks\": \"\", \"title\": {\"standoff\": 15}, \"zerolinecolor\": \"#EBF0F8\", \"zerolinewidth\": 2}}}, \"title\": {\"font\": {\"color\": \"Black\", \"size\": 22}, \"text\": \"<b>Topic Word Scores\", \"x\": 0.15, \"xanchor\": \"center\", \"y\": 0.95, \"yanchor\": \"top\"}, \"width\": 800, \"xaxis\": {\"anchor\": \"y\", \"domain\": [0.0, 0.2333333333333333], \"matches\": \"x10\", \"showgrid\": true, \"showticklabels\": false}, \"xaxis10\": {\"anchor\": \"y10\", \"domain\": [0.0, 0.2333333333333333], \"showgrid\": true}, \"xaxis11\": {\"anchor\": \"y11\", \"domain\": [0.3833333333333333, 0.6166666666666666], \"showgrid\": true}, \"xaxis12\": {\"anchor\": \"y12\", \"domain\": [0.7666666666666666, 0.9999999999999999], \"showgrid\": true}, \"xaxis2\": {\"anchor\": \"y2\", \"domain\": [0.3833333333333333, 0.6166666666666666], \"matches\": \"x11\", \"showgrid\": true, \"showticklabels\": false}, \"xaxis3\": {\"anchor\": \"y3\", \"domain\": [0.7666666666666666, 0.9999999999999999], \"matches\": \"x12\", \"showgrid\": true, \"showticklabels\": false}, \"xaxis4\": {\"anchor\": \"y4\", \"domain\": [0.0, 0.2333333333333333], \"matches\": \"x10\", \"showgrid\": true, \"showticklabels\": false}, \"xaxis5\": {\"anchor\": \"y5\", \"domain\": [0.3833333333333333, 0.6166666666666666], \"matches\": \"x11\", \"showgrid\": true, \"showticklabels\": false}, \"xaxis6\": {\"anchor\": \"y6\", \"domain\": [0.7666666666666666, 0.9999999999999999], \"matches\": \"x12\", \"showgrid\": true, \"showticklabels\": false}, \"xaxis7\": {\"anchor\": \"y7\", \"domain\": [0.0, 0.2333333333333333], \"matches\": \"x10\", \"showgrid\": true, \"showticklabels\": false}, \"xaxis8\": {\"anchor\": \"y8\", \"domain\": [0.3833333333333333, 0.6166666666666666], \"matches\": \"x11\", \"showgrid\": true, \"showticklabels\": false}, \"xaxis9\": {\"anchor\": \"y9\", \"domain\": [0.7666666666666666, 0.9999999999999999], \"matches\": \"x12\", \"showgrid\": true, \"showticklabels\": false}, \"yaxis\": {\"anchor\": \"x\", \"domain\": [0.8625, 1.0], \"showgrid\": true}, \"yaxis10\": {\"anchor\": \"x10\", \"domain\": [0.0, 0.1375], \"showgrid\": true}, \"yaxis11\": {\"anchor\": \"x11\", \"domain\": [0.0, 0.1375], \"showgrid\": true}, \"yaxis12\": {\"anchor\": \"x12\", \"domain\": [0.0, 0.1375], \"showgrid\": true}, \"yaxis2\": {\"anchor\": \"x2\", \"domain\": [0.8625, 1.0], \"showgrid\": true}, \"yaxis3\": {\"anchor\": \"x3\", \"domain\": [0.8625, 1.0], \"showgrid\": true}, \"yaxis4\": {\"anchor\": \"x4\", \"domain\": [0.575, 0.7124999999999999], \"showgrid\": true}, \"yaxis5\": {\"anchor\": \"x5\", \"domain\": [0.575, 0.7124999999999999], \"showgrid\": true}, \"yaxis6\": {\"anchor\": \"x6\", \"domain\": [0.575, 0.7124999999999999], \"showgrid\": true}, \"yaxis7\": {\"anchor\": \"x7\", \"domain\": [0.2875, 0.425], \"showgrid\": true}, \"yaxis8\": {\"anchor\": \"x8\", \"domain\": [0.2875, 0.425], \"showgrid\": true}, \"yaxis9\": {\"anchor\": \"x9\", \"domain\": [0.2875, 0.425], \"showgrid\": true}},                        {\"responsive\": true}                    ).then(function(){\n",
              "                            \n",
              "var gd = document.getElementById('22a7a3e8-c06e-409a-b672-360639c47e27');\n",
              "var x = new MutationObserver(function (mutations, observer) {{\n",
              "        var display = window.getComputedStyle(gd).display;\n",
              "        if (!display || display === 'none') {{\n",
              "            console.log([gd, 'removed!']);\n",
              "            Plotly.purge(gd);\n",
              "            observer.disconnect();\n",
              "        }}\n",
              "}});\n",
              "\n",
              "// Listen for the removal of the full notebook cells\n",
              "var notebookContainer = gd.closest('#notebook-container');\n",
              "if (notebookContainer) {{\n",
              "    x.observe(notebookContainer, {childList: true});\n",
              "}}\n",
              "\n",
              "// Listen for the clearing of the current output cell\n",
              "var outputEl = gd.closest('.output');\n",
              "if (outputEl) {{\n",
              "    x.observe(outputEl, {childList: true});\n",
              "}}\n",
              "\n",
              "                        })                };                            </script>        </div>\n",
              "</body>\n",
              "</html>"
            ]
          },
          "metadata": {}
        }
      ]
    },
    {
      "cell_type": "markdown",
      "metadata": {
        "id": "7VBUZ6utWHE_"
      },
      "source": [
        "토픽 0 : 분교장 폐교, 학교 입학 관련  \n",
        "토픽 1: 인터넷 요금제 관련  \n",
        "토픽 2: 해양시설 신고 관련  \n",
        "토픽 3: 대구광역시 도시계획 일부개정, 호밀 종자(헤어리베치, 라이그라스)? 관련  \n",
        "토픽 4: 개별공시지가 관련  \n",
        "토픽 5: 학교폭력 관련  \n",
        "토픽 6: 외국인등록, 해외체류 관련  \n",
        "토픽 7: 학교시설, 학원설립 관련  \n",
        "토픽 8: 세금 계산, 납부 관련  \n",
        "토픽 9: 수산업법 행정처분 관련  "
      ]
    },
    {
      "cell_type": "markdown",
      "metadata": {
        "id": "V3NWqo5lXOyw"
      },
      "source": [
        "이는 분야별 민원 트리맵으로 시각화한 결과와 유사하다고 볼 수 있다.  \n",
        "국토/교통/농림/해양 분야와 관련해서는 해양시설 신고와 수산업법 행정처분  \n",
        "교육/문화/체육/관광 분야와 관련해서는 분교장 폐교, 입학, 학교폭력, 학교시설  \n",
        "재정/금융/소비자 분야와 관련해서는 세금 계산, 납부가 유사하게 나타났다.  \n"
      ]
    },
    {
      "cell_type": "markdown",
      "metadata": {
        "id": "gEMbIO1SXBpR"
      },
      "source": [
        "## 빈도수 상위 30개 토픽"
      ]
    },
    {
      "cell_type": "markdown",
      "metadata": {
        "id": "AKOjvDSsXEoi"
      },
      "source": [
        "유사하거나 연관된 토픽별로 그룹을 지어 모여있는 것을 확인할 수 있음."
      ]
    },
    {
      "cell_type": "code",
      "metadata": {
        "colab": {
          "base_uri": "https://localhost:8080/",
          "height": 667
        },
        "id": "CG045YnQ7AQr",
        "outputId": "655b2f1e-af8c-4ab4-a203-259b2e157a1a"
      },
      "source": [
        "topic_model.visualize_topics(top_n_topics=30)#.write_html(dir + 'LDA.html')"
      ],
      "execution_count": null,
      "outputs": [
        {
          "output_type": "display_data",
          "data": {
            "text/html": [
              "<html>\n",
              "<head><meta charset=\"utf-8\" /></head>\n",
              "<body>\n",
              "    <div>            <script src=\"https://cdnjs.cloudflare.com/ajax/libs/mathjax/2.7.5/MathJax.js?config=TeX-AMS-MML_SVG\"></script><script type=\"text/javascript\">if (window.MathJax) {MathJax.Hub.Config({SVG: {font: \"STIX-Web\"}});}</script>                <script type=\"text/javascript\">window.PlotlyConfig = {MathJaxConfig: 'local'};</script>\n",
              "        <script src=\"https://cdn.plot.ly/plotly-latest.min.js\"></script>                <div id=\"96545d01-0d28-43e0-bbec-005220ed2ed0\" class=\"plotly-graph-div\" style=\"height:650px; width:650px;\"></div>            <script type=\"text/javascript\">                                    window.PLOTLYENV=window.PLOTLYENV || {};                                    if (document.getElementById(\"96545d01-0d28-43e0-bbec-005220ed2ed0\")) {                    Plotly.newPlot(                        \"96545d01-0d28-43e0-bbec-005220ed2ed0\",                        [{\"customdata\": [[-7.202805042266846, 6.380622863769531, 1, \"\\uc694\\uae08\\uc81c \\ubcc0\\uacbd | \\uc778\\ud130\\ub137 \\uc804\\ud654 | \\uc778\\ud130\\ub137 \\uc0ac\\uc6a9 | \\uc778\\ud130\\ub137 \\uc694\\uae08 | \\uc0ac\\uc6a9 \\uc694\\uae08\", 520], [13.23958969116211, 0.9721532464027405, 2, \"\\ud574\\uc591\\uc2dc\\uc124 \\uc2e0\\uace0 | \\uc2e0\\uace0 \\uad6c\\ube44\\uc11c\\ub958 \\ud574\\uc591\\uc2dc\\uc124 | \\ud574\\uc591\\uc2dc\\uc124 \\uc2e0\\uace0 \\uad6c\\ube44\\uc11c\\ub958 | \\uad6d\\ub9bd\\ud574\\uc591\\uc870\\uc0ac\\uc6d0 \\uc81c\\uacf5 | \\ud574\\uc591\\uc2dc\\uc124 \\uc2e0\\uace0\\ub300\\uc0c1\", 422], [-7.1394853591918945, 6.756415843963623, 3, \"\\uc774\\uc720 \\ub300\\uad6c\\uad11\\uc5ed\\uc2dc | \\uc77c\\ubd80\\uac1c\\uc815 \\uc774\\uc720 \\ub300\\uad6c\\uad11\\uc5ed\\uc2dc | \\ud5c8\\uac00 \\uac74\\ucd95\\ubb3c \\uac70\\uc8fc | \\ud5e4\\uc5b4\\ub9ac\\ubca0\\uce58 \\ub77c\\uc774 | \\ub77c\\uc774 \\uadf8\\ub77c\\uc2a4 \\uc885\\uc790\", 363], [23.972562789916992, -0.5441961288452148, 4, \"\\uac1c\\ubcc4\\uacf5\\uc2dc\\uc9c0\\uac00 \\uc758\\uacac\\uc81c\\ucd9c | \\uc758\\uacac\\uc81c\\ucd9c \\uac1c\\ubcc4\\uacf5\\uc2dc\\uc9c0\\uac00 \\uc758\\uacac\\uc81c\\ucd9c | \\uc0b0\\uccad \\uad00\\ub9ac \\uc5b4\\ud56d | \\ub2e8\\uc18d \\uc0dd\\uac01 \\uc2e0\\uccad | \\uc758\\uacac\\uc81c\\ucd9c \\uac1c\\ubcc4\\uacf5\\uc2dc\\uc9c0\\uac00\", 322], [-7.356357574462891, 7.087622165679932, 5, \"\\ud559\\uad50\\ud3ed\\ub825 \\ub300\\ucc45 | \\ud559\\uad50\\ud3ed\\ub825 \\ub300\\ucc45 \\uc2ec\\uc758\\uc704\\uc6d0\\ud68c | \\uc808\\ucc28 \\ud559\\uad50\\ud3ed\\ub825 | \\ud559\\uad50\\ud3ed\\ub825 \\uac00\\ud574\\ud559\\uc0dd | \\ud559\\uad50\\ud3ed\\ub825 \\uc0ac\\uc548\\ucc98\\ub9ac\", 272], [0.4032697379589081, 10.827533721923828, 6, \"\\ucd9c\\uc785\\uad6d \\uc0ac\\uc2e4 | \\ud574\\uc678 \\uccb4\\ub958 | \\uc678\\uad6d\\uc778\\ub4f1\\ub85d \\uc0ac\\uc2e4 \\uc99d\\uba85 | \\uc678\\uad6d\\uc778\\ub4f1\\ub85d \\uc0ac\\uc2e4 | \\uac70\\uc18c \\uc2e0\\uace0 \\uc0ac\\uc2e4\", 234], [-7.261565208435059, 7.693612098693848, 7, \"\\ud559\\uc6d0 \\uc124\\ub9bd | \\ud559\\uad50 \\uc2dc\\uc124 | \\ud559\\uad50\\uc2dc\\uc124 \\ub0b4\\uc9c4 \\ubcf4\\uac15 | \\ud559\\uad50 \\uc124\\ub9bd | \\ud559\\uad50\\uc7a5 \\uc790\\uccb4\\ud574\\uacb0\", 229], [4.950462818145752, 1.6159831285476685, 8, \"\\uc138\\uae08\\uacc4\\uc0b0\\uc11c \\ubc1c\\uae09 | \\uc138\\uae08 \\ub0a9\\ubd80 | \\uc9c0\\ubc29\\uc138 \\ub0a9\\uc138\\uc790\\ubcf4\\ud638\\uad00 | \\ub0a9\\ubd80 \\uac00\\uc0b0\\uc138 | \\uc9c0\\ubc29\\uc138 \\ub0a9\\ubd80\", 209], [13.432317733764648, 0.7825194001197815, 9, \"\\ud589\\uc815\\ucc98\\ubd84 \\uae30\\uc900 | \\uc5b4\\uc5c5 \\ud604\\ud669 \\ubb38\\uc81c\\uc810 | \\uae30\\uc900 \\uc218\\uc0b0\\uc5c5\\ubc95 | \\ud589\\uc815\\ucc98\\ubd84 \\uae30\\uc900 \\uc218\\uc0b0\\uc5c5\\ubc95 | \\ud589\\uc815\\ucc98\\ubd84 \\uae30\\uc900 \\uc2dc\\uc7a5\", 207], [13.070950508117676, 1.139055609703064, 10, \"\\uc120\\ubc15 \\ud56d\\ud574 | \\ud56d\\ud574 \\uad6c\\uc5ed \\uc218\\uc5ed | \\uc120\\ubc15 \\ud56d\\ud574 \\uad6c\\uc5ed | \\uc120\\ubc15 \\uc785\\ucd9c\\ud56d \\ud654\\ubb3c | \\uc120\\ubc15 \\uc785\\ucd9c\\ud56d\", 193], [4.505030632019043, 1.733006477355957, 11, \"\\ud3ec\\uc0c1\\uae08 \\uc9c0\\uae09 | \\uc7ac\\ud574 \\ubcf4\\uc0c1 \\uc9c1\\ubb34 | \\ubcf4\\uc0c1 \\uc9c1\\ubb34 | \\ud0c8\\uc138\\uc81c\\ubcf4 \\ud3ec\\uc0c1\\uae08 | \\ud604\\uae08 \\uc601\\uc218\\uc99d\", 189], [23.465129852294922, -0.03430284187197685, 12, \"\\ud3d0\\uae30\\ubb3c \\ucc98\\ub9ac | \\ud3d0\\uae30\\ubb3c \\uc218\\uc9d1 | \\ud3d0\\uae30\\ubb3c \\uc218\\uc9d1 \\uc6b4\\ubc18 | \\ud3d0\\uae30\\ubb3c \\uc218\\uac70 | \\ubc1c\\uc0dd \\ud3d0\\uae30\\ubb3c\", 167], [17.60649299621582, -10.416945457458496, 13, \"\\ubd84\\uc57c \\uae30\\ucd08\\uc5f0\\uad6c\\uc0ac\\uc5c5 | \\uae30\\uc220 \\ubd84\\uc57c \\uae30\\ucd08\\uc5f0\\uad6c\\uc0ac\\uc5c5 | \\uae30\\ucd08\\uc5f0\\uad6c\\uc0ac\\uc5c5 \\uac1c\\uc778 \\uc5f0\\uad6c | \\uae30\\ucd08\\uc5f0\\uad6c\\uc0ac\\uc5c5 \\uac1c\\uc778 | \\ubd84\\uc57c \\uae30\\ucd08\\uc5f0\\uad6c\\uc0ac\\uc5c5 \\uac1c\\uc778\", 161], [4.438309192657471, 1.8000774383544922, 14, \"\\uc2e0\\uc6a9 \\uce74\\ub4dc | \\uce74\\ub4dc \\uacb0\\uc81c | \\uce74\\ub4dc \\ub0a9\\ubd80 | \\uce74\\ub4dc \\uce74\\ub4dc | \\ud604\\uae08 \\uce74\\ub4dc\", 159], [-5.851873397827148, 19.922592163085938, 15, \"\\ubc84\\uc2a4 \\ub178\\uc120 | \\ubc84\\uc2a4 \\uc6b4\\ud589 | \\ub9c8\\uc744 \\ubc84\\uc2a4 | \\ubc84\\uc2a4 \\ubc84\\uc2a4 | \\ubc84\\uc2a4 \\uc774\\uc6a9\", 153], [-5.588296413421631, 20.186321258544922, 16, \"\\uc790\\uc804\\uac70 \\ubcf4\\ud5d8 | \\uc790\\uc804\\uac70 \\ud1b5\\ud589 | \\uc548\\uc804 \\uc790\\uc804\\uac70 | \\uc790\\uc804\\uac70 \\uc774\\uc6a9 | \\uc790\\uc804\\uac70 \\uacf5\\uae30\", 150], [0.9971919059753418, 10.237846374511719, 17, \"\\uc678\\uad6d\\uc778 \\ubc30\\uc6b0\\uc790 | \\ud63c\\uc778\\uc2e0\\uace0 \\uc808\\ucc28 | \\uad6d\\ub0b4 \\uacb0\\ud63c | \\ubc30\\uc6b0\\uc790 \\uacf5\\uc81c | \\uacb0\\ud63c \\uac1c\\uc5c5\", 148], [-7.1282196044921875, 7.86704683303833, 18, \"\\uad50\\uc721 \\uacfc\\uc815 | \\ud3c9\\uc0dd\\ud559\\uc2b5 \\ud504\\ub85c\\uadf8\\ub7a8 | \\uc601\\uc7ac \\uad50\\uc721 | \\uad50\\uc721 \\ud504\\ub85c\\uadf8\\ub7a8 | \\uad50\\uc721 \\uc704\\ud0c1\\uad50\\uc721\\uae30\\uad00\", 146], [5.38835334777832, 1.6185691356658936, 19, \"\\uc808\\ucc28 \\ubd80\\ub3d9\\uc0b0 | \\uc774\\uc804 \\ub4f1\\uae30 \\ud2b9\\ubcc4\\uc870\\uce58\\ubc95 | \\ub4f1\\uae30 \\ud2b9\\ubcc4\\uc870\\uce58\\ubc95 | \\ubd80\\ub3d9\\uc0b0 \\uc18c\\uc720 \\uc774\\uc804 | \\ub4f1\\ub85d\\ubc88\\ud638 \\ubd80\\uc5ec\", 142], [-5.7745890617370605, 19.99981117248535, 20, \"\\uacf5\\uc6d0 \\uc870\\uc131 | \\ub180\\uc774\\ud130 \\ub180\\uc774\\ud130 | \\uc544\\uc774\\ub4e4 \\ub180\\uc774\\ud130 | \\uc5b4\\ub9b0\\uc774 \\ub180\\uc774\\ud130 | \\ub3c4\\uc2dc \\uacf5\\uc6d0\", 141], [23.526456832885742, -0.09591744840145111, 21, \"\\uac74\\ucd95\\ubb3c\\ub300\\uc7a5 \\ubc1c\\uae09 | \\uac00\\uc124\\uac74\\ucd95\\ubb3c \\ucd95\\uc870 \\uc2e0\\uace0 | \\uac00\\uc124\\uac74\\ucd95\\ubb3c \\ucd95\\uc870 | \\uac74\\ucd95 \\uc124\\uacc4 | \\uac74\\ucd95\\ubb3c\\ub300\\uc7a5 \\ud604\\ud669\", 140], [0.8812656402587891, 10.353862762451172, 22, \"\\ud55c\\uad6d \\uc785\\uad6d | \\ube44\\uc790 \\ud55c\\uad6d | \\ud55c\\uad6d \\uad6d\\uc801 | \\ud55c\\uad6d \\uac70\\uc8fc | \\ub300\\ud55c\\ubbfc\\uad6d \\uad6d\\uc801\", 140], [17.246767044067383, -10.048209190368652, 23, \"\\uc815\\ubcf4\\uacf5\\uac1c \\uccad\\uad6c | \\uccad\\uad6c \\uc815\\ubcf4\\uacf5\\uac1c | \\uccad\\uad6c \\uac1c\\uc778 \\uc815\\ubcf4 | \\uccad\\uad6c \\uc815\\ubcf4\\uacf5\\uac1c \\uccad\\uad6c | \\uc2e0\\uc6a9 \\uc815\\ubcf4 \\uc81c\\uacf5\", 130], [5.604435920715332, 1.4913339614868164, 24, \"\\uc704\\ud5d8\\ubb3c \\uc548\\uc804\\uad00\\ub9ac\\uc790 | \\uc790\\uccb4\\uc548\\uc804\\uad00\\ub9ac\\uacc4\\ud68d\\uc11c \\uc2b9\\uc778 | \\uc790\\uccb4\\uc548\\uc804\\uad00\\ub9ac\\uacc4\\ud68d \\uc720\\ud6a8\\uae30\\uac04 | \\uc704\\ud5d8\\ubb3c \\ud558\\uc5ed \\uc790\\uccb4\\uc548\\uc804\\uad00\\ub9ac\\uacc4\\ud68d\\uc11c | \\ud558\\uc5ed \\uc790\\uccb4\\uc548\\uc804\\uad00\\ub9ac\\uacc4\\ud68d\\uc11c\", 127], [0.49116814136505127, 10.739347457885742, 25, \"\\ucf54\\ub85c\\ub09819 \\uc608\\ubc29\\uc811\\uc885 | \\uc608\\ubc29\\uc811\\uc885 \\uc99d\\uba85\\uc11c | \\ucf54\\ub85c\\ub09819 \\ubc31\\uc2e0 | \\ucf54\\ub85c\\ub09819 \\ubc31\\uc2e0 \\uc811\\uc885 | \\uc608\\ubc29\\uc811\\uc885 \\uc99d\\uba85\\uc11c \\ubc1c\\uae09\", 123], [23.792146682739258, -0.3633440434932709, 26, \"\\uc2dd\\ud488 \\uc601\\uc5c5 | \\uc77c\\ubc18\\uc74c\\uc2dd\\uc810 \\ud734\\uac8c\\uc74c\\uc2dd\\uc810 | \\uc2dd\\ud488 \\uc601\\uc5c5\\uc790 | \\uc77c\\ubc18\\uc74c\\uc2dd\\uc810 \\ud734\\uac8c\\uc74c\\uc2dd\\uc810 \\uc81c\\uacfc\\uc810 | \\ud734\\uac8c\\uc74c\\uc2dd\\uc810 \\uc81c\\uacfc\\uc810\", 116], [16.97793960571289, -9.792168617248535, 27, \"\\uc138\\ubd80\\ub0b4\\uc6a9 \\ubc1c\\ud45c | \\uc138\\ubd80\\ub0b4\\uc6a9 \\ubc1c\\ud45c \\ubc29\\ud1b5\\uc704 | \\ubc1c\\ud45c \\ubc29\\ud1b5\\uc704 | \\ubc1c\\ud45c \\uc138\\ubd80\\ub0b4\\uc6a9 \\ubc1c\\ud45c | \\ubc1c\\ud45c \\uc138\\ubd80\\ub0b4\\uc6a9\", 115], [17.442323684692383, -10.248538970947266, 28, \"\\uc758\\ub8cc\\ube44 \\uc9c0\\uc6d0 | \\uc9c8\\ud658\\uc790 \\uc758\\ub8cc\\ube44 \\uc9c0\\uc6d0\\uc0ac\\uc5c5 | \\uc758\\ub8cc\\uae30\\uad00 \\uac1c\\uc124 | \\uc758\\ub8cc \\uc9c0\\uc6d0 | \\ubc29\\ubb38 \\uac74\\uac15\\uad00\\ub9ac\", 115], [5.617434501647949, 1.7964602708816528, 29, \"\\ub300\\ucd9c \\ub300\\ucd9c | \\uace0\\uc561 \\uc2e0\\uc6a9\\ub300\\ucd9c | \\uc2e0\\uc6a9\\ub300\\ucd9c \\ucc28\\uc8fc\\ub2e8\\uc704 \\uc801\\uc6a9 | \\uc18c\\ub4dd \\uace0\\uc561 \\uc2e0\\uc6a9\\ub300\\ucd9c | \\uc790\\uae08 \\ub300\\ucd9c\", 114]], \"hovertemplate\": \"<b>Topic %{customdata[2]}</b><br>Words: %{customdata[3]}<br>Size: %{customdata[4]}\", \"legendgroup\": \"\", \"marker\": {\"color\": \"#B0BEC5\", \"line\": {\"color\": \"DarkSlateGrey\", \"width\": 2}, \"size\": [520, 422, 363, 322, 272, 234, 229, 209, 207, 193, 189, 167, 161, 159, 153, 150, 148, 146, 142, 141, 140, 140, 130, 127, 123, 116, 115, 115, 114], \"sizemode\": \"area\", \"sizeref\": 0.325, \"symbol\": \"circle\"}, \"mode\": \"markers\", \"name\": \"\", \"orientation\": \"v\", \"showlegend\": false, \"type\": \"scatter\", \"x\": [-7.202805042266846, 13.23958969116211, -7.1394853591918945, 23.972562789916992, -7.356357574462891, 0.4032697379589081, -7.261565208435059, 4.950462818145752, 13.432317733764648, 13.070950508117676, 4.505030632019043, 23.465129852294922, 17.60649299621582, 4.438309192657471, -5.851873397827148, -5.588296413421631, 0.9971919059753418, -7.1282196044921875, 5.38835334777832, -5.7745890617370605, 23.526456832885742, 0.8812656402587891, 17.246767044067383, 5.604435920715332, 0.49116814136505127, 23.792146682739258, 16.97793960571289, 17.442323684692383, 5.617434501647949], \"xaxis\": \"x\", \"y\": [6.380622863769531, 0.9721532464027405, 6.756415843963623, -0.5441961288452148, 7.087622165679932, 10.827533721923828, 7.693612098693848, 1.6159831285476685, 0.7825194001197815, 1.139055609703064, 1.733006477355957, -0.03430284187197685, -10.416945457458496, 1.8000774383544922, 19.922592163085938, 20.186321258544922, 10.237846374511719, 7.86704683303833, 1.6185691356658936, 19.99981117248535, -0.09591744840145111, 10.353862762451172, -10.048209190368652, 1.4913339614868164, 10.739347457885742, -0.3633440434932709, -9.792168617248535, -10.248538970947266, 1.7964602708816528], \"yaxis\": \"y\"}],                        {\"annotations\": [{\"showarrow\": false, \"text\": \"D1\", \"x\": -8.459811210632324, \"y\": 5.617391085624695, \"yshift\": 10}, {\"showarrow\": false, \"text\": \"D2\", \"x\": 9.554317998886109, \"xshift\": 10, \"y\": 23.21426944732666}], \"height\": 650, \"hoverlabel\": {\"bgcolor\": \"white\", \"font\": {\"family\": \"Rockwell\", \"size\": 16}}, \"legend\": {\"itemsizing\": \"constant\", \"tracegroupgap\": 0}, \"margin\": {\"t\": 60}, \"shapes\": [{\"line\": {\"color\": \"#CFD8DC\", \"width\": 2}, \"type\": \"line\", \"x0\": 9.554317998886109, \"x1\": 9.554317998886109, \"y0\": -11.97948727607727, \"y1\": 23.21426944732666}, {\"line\": {\"color\": \"#9E9E9E\", \"width\": 2}, \"type\": \"line\", \"x0\": -8.459811210632324, \"x1\": 27.568447208404542, \"y0\": 5.617391085624695, \"y1\": 5.617391085624695}], \"sliders\": [{\"active\": 0, \"pad\": {\"t\": 50}, \"steps\": [{\"args\": [{\"marker.color\": [[\"red\", \"#B0BEC5\", \"#B0BEC5\", \"#B0BEC5\", \"#B0BEC5\", \"#B0BEC5\", \"#B0BEC5\", \"#B0BEC5\", \"#B0BEC5\", \"#B0BEC5\", \"#B0BEC5\", \"#B0BEC5\", \"#B0BEC5\", \"#B0BEC5\", \"#B0BEC5\", \"#B0BEC5\", \"#B0BEC5\", \"#B0BEC5\", \"#B0BEC5\", \"#B0BEC5\", \"#B0BEC5\", \"#B0BEC5\", \"#B0BEC5\", \"#B0BEC5\", \"#B0BEC5\", \"#B0BEC5\", \"#B0BEC5\", \"#B0BEC5\", \"#B0BEC5\"]]}], \"label\": \"Topic 1\", \"method\": \"update\"}, {\"args\": [{\"marker.color\": [[\"#B0BEC5\", \"red\", \"#B0BEC5\", \"#B0BEC5\", \"#B0BEC5\", \"#B0BEC5\", \"#B0BEC5\", \"#B0BEC5\", \"#B0BEC5\", \"#B0BEC5\", \"#B0BEC5\", \"#B0BEC5\", \"#B0BEC5\", \"#B0BEC5\", \"#B0BEC5\", \"#B0BEC5\", \"#B0BEC5\", \"#B0BEC5\", \"#B0BEC5\", \"#B0BEC5\", \"#B0BEC5\", \"#B0BEC5\", \"#B0BEC5\", \"#B0BEC5\", \"#B0BEC5\", \"#B0BEC5\", \"#B0BEC5\", \"#B0BEC5\", \"#B0BEC5\"]]}], \"label\": \"Topic 2\", \"method\": \"update\"}, {\"args\": [{\"marker.color\": [[\"#B0BEC5\", \"#B0BEC5\", \"red\", \"#B0BEC5\", \"#B0BEC5\", \"#B0BEC5\", \"#B0BEC5\", \"#B0BEC5\", \"#B0BEC5\", \"#B0BEC5\", \"#B0BEC5\", \"#B0BEC5\", \"#B0BEC5\", \"#B0BEC5\", \"#B0BEC5\", \"#B0BEC5\", \"#B0BEC5\", \"#B0BEC5\", \"#B0BEC5\", \"#B0BEC5\", \"#B0BEC5\", \"#B0BEC5\", \"#B0BEC5\", \"#B0BEC5\", \"#B0BEC5\", \"#B0BEC5\", \"#B0BEC5\", \"#B0BEC5\", \"#B0BEC5\"]]}], \"label\": \"Topic 3\", \"method\": \"update\"}, {\"args\": [{\"marker.color\": [[\"#B0BEC5\", \"#B0BEC5\", \"#B0BEC5\", \"red\", \"#B0BEC5\", \"#B0BEC5\", \"#B0BEC5\", \"#B0BEC5\", \"#B0BEC5\", \"#B0BEC5\", \"#B0BEC5\", \"#B0BEC5\", \"#B0BEC5\", \"#B0BEC5\", \"#B0BEC5\", \"#B0BEC5\", \"#B0BEC5\", \"#B0BEC5\", \"#B0BEC5\", \"#B0BEC5\", \"#B0BEC5\", \"#B0BEC5\", \"#B0BEC5\", \"#B0BEC5\", \"#B0BEC5\", \"#B0BEC5\", \"#B0BEC5\", \"#B0BEC5\", \"#B0BEC5\"]]}], \"label\": \"Topic 4\", \"method\": \"update\"}, {\"args\": [{\"marker.color\": [[\"#B0BEC5\", \"#B0BEC5\", \"#B0BEC5\", \"#B0BEC5\", \"red\", \"#B0BEC5\", \"#B0BEC5\", \"#B0BEC5\", \"#B0BEC5\", \"#B0BEC5\", \"#B0BEC5\", \"#B0BEC5\", \"#B0BEC5\", \"#B0BEC5\", \"#B0BEC5\", \"#B0BEC5\", \"#B0BEC5\", \"#B0BEC5\", \"#B0BEC5\", \"#B0BEC5\", \"#B0BEC5\", \"#B0BEC5\", \"#B0BEC5\", \"#B0BEC5\", \"#B0BEC5\", \"#B0BEC5\", \"#B0BEC5\", \"#B0BEC5\", \"#B0BEC5\"]]}], \"label\": \"Topic 5\", \"method\": \"update\"}, {\"args\": [{\"marker.color\": [[\"#B0BEC5\", \"#B0BEC5\", \"#B0BEC5\", \"#B0BEC5\", \"#B0BEC5\", \"red\", \"#B0BEC5\", \"#B0BEC5\", \"#B0BEC5\", \"#B0BEC5\", \"#B0BEC5\", \"#B0BEC5\", \"#B0BEC5\", \"#B0BEC5\", \"#B0BEC5\", \"#B0BEC5\", \"#B0BEC5\", \"#B0BEC5\", \"#B0BEC5\", \"#B0BEC5\", \"#B0BEC5\", \"#B0BEC5\", \"#B0BEC5\", \"#B0BEC5\", \"#B0BEC5\", \"#B0BEC5\", \"#B0BEC5\", \"#B0BEC5\", \"#B0BEC5\"]]}], \"label\": \"Topic 6\", \"method\": \"update\"}, {\"args\": [{\"marker.color\": [[\"#B0BEC5\", \"#B0BEC5\", \"#B0BEC5\", \"#B0BEC5\", \"#B0BEC5\", \"#B0BEC5\", \"red\", \"#B0BEC5\", \"#B0BEC5\", \"#B0BEC5\", \"#B0BEC5\", \"#B0BEC5\", \"#B0BEC5\", \"#B0BEC5\", \"#B0BEC5\", \"#B0BEC5\", \"#B0BEC5\", \"#B0BEC5\", \"#B0BEC5\", \"#B0BEC5\", \"#B0BEC5\", \"#B0BEC5\", \"#B0BEC5\", \"#B0BEC5\", \"#B0BEC5\", \"#B0BEC5\", \"#B0BEC5\", \"#B0BEC5\", \"#B0BEC5\"]]}], \"label\": \"Topic 7\", \"method\": \"update\"}, {\"args\": [{\"marker.color\": [[\"#B0BEC5\", \"#B0BEC5\", \"#B0BEC5\", \"#B0BEC5\", \"#B0BEC5\", \"#B0BEC5\", \"#B0BEC5\", \"red\", \"#B0BEC5\", \"#B0BEC5\", \"#B0BEC5\", \"#B0BEC5\", \"#B0BEC5\", \"#B0BEC5\", \"#B0BEC5\", \"#B0BEC5\", \"#B0BEC5\", \"#B0BEC5\", \"#B0BEC5\", \"#B0BEC5\", \"#B0BEC5\", \"#B0BEC5\", \"#B0BEC5\", \"#B0BEC5\", \"#B0BEC5\", \"#B0BEC5\", \"#B0BEC5\", \"#B0BEC5\", \"#B0BEC5\"]]}], \"label\": \"Topic 8\", \"method\": \"update\"}, {\"args\": [{\"marker.color\": [[\"#B0BEC5\", \"#B0BEC5\", \"#B0BEC5\", \"#B0BEC5\", \"#B0BEC5\", \"#B0BEC5\", \"#B0BEC5\", \"#B0BEC5\", \"red\", \"#B0BEC5\", \"#B0BEC5\", \"#B0BEC5\", \"#B0BEC5\", \"#B0BEC5\", \"#B0BEC5\", \"#B0BEC5\", \"#B0BEC5\", \"#B0BEC5\", \"#B0BEC5\", \"#B0BEC5\", \"#B0BEC5\", \"#B0BEC5\", \"#B0BEC5\", \"#B0BEC5\", \"#B0BEC5\", \"#B0BEC5\", \"#B0BEC5\", \"#B0BEC5\", \"#B0BEC5\"]]}], \"label\": \"Topic 9\", \"method\": \"update\"}, {\"args\": [{\"marker.color\": [[\"#B0BEC5\", \"#B0BEC5\", \"#B0BEC5\", \"#B0BEC5\", \"#B0BEC5\", \"#B0BEC5\", \"#B0BEC5\", \"#B0BEC5\", \"#B0BEC5\", \"red\", \"#B0BEC5\", \"#B0BEC5\", \"#B0BEC5\", \"#B0BEC5\", \"#B0BEC5\", \"#B0BEC5\", \"#B0BEC5\", \"#B0BEC5\", \"#B0BEC5\", \"#B0BEC5\", \"#B0BEC5\", \"#B0BEC5\", \"#B0BEC5\", \"#B0BEC5\", \"#B0BEC5\", \"#B0BEC5\", \"#B0BEC5\", \"#B0BEC5\", \"#B0BEC5\"]]}], \"label\": \"Topic 10\", \"method\": \"update\"}, {\"args\": [{\"marker.color\": [[\"#B0BEC5\", \"#B0BEC5\", \"#B0BEC5\", \"#B0BEC5\", \"#B0BEC5\", \"#B0BEC5\", \"#B0BEC5\", \"#B0BEC5\", \"#B0BEC5\", \"#B0BEC5\", \"red\", \"#B0BEC5\", \"#B0BEC5\", \"#B0BEC5\", \"#B0BEC5\", \"#B0BEC5\", \"#B0BEC5\", \"#B0BEC5\", \"#B0BEC5\", \"#B0BEC5\", \"#B0BEC5\", \"#B0BEC5\", \"#B0BEC5\", \"#B0BEC5\", \"#B0BEC5\", \"#B0BEC5\", \"#B0BEC5\", \"#B0BEC5\", \"#B0BEC5\"]]}], \"label\": \"Topic 11\", \"method\": \"update\"}, {\"args\": [{\"marker.color\": [[\"#B0BEC5\", \"#B0BEC5\", \"#B0BEC5\", \"#B0BEC5\", \"#B0BEC5\", \"#B0BEC5\", \"#B0BEC5\", \"#B0BEC5\", \"#B0BEC5\", \"#B0BEC5\", \"#B0BEC5\", \"red\", \"#B0BEC5\", \"#B0BEC5\", \"#B0BEC5\", \"#B0BEC5\", \"#B0BEC5\", \"#B0BEC5\", \"#B0BEC5\", \"#B0BEC5\", \"#B0BEC5\", \"#B0BEC5\", \"#B0BEC5\", \"#B0BEC5\", \"#B0BEC5\", \"#B0BEC5\", \"#B0BEC5\", \"#B0BEC5\", \"#B0BEC5\"]]}], \"label\": \"Topic 12\", \"method\": \"update\"}, {\"args\": [{\"marker.color\": [[\"#B0BEC5\", \"#B0BEC5\", \"#B0BEC5\", \"#B0BEC5\", \"#B0BEC5\", \"#B0BEC5\", \"#B0BEC5\", \"#B0BEC5\", \"#B0BEC5\", \"#B0BEC5\", \"#B0BEC5\", \"#B0BEC5\", \"red\", \"#B0BEC5\", \"#B0BEC5\", \"#B0BEC5\", \"#B0BEC5\", \"#B0BEC5\", \"#B0BEC5\", \"#B0BEC5\", \"#B0BEC5\", \"#B0BEC5\", \"#B0BEC5\", \"#B0BEC5\", \"#B0BEC5\", \"#B0BEC5\", \"#B0BEC5\", \"#B0BEC5\", \"#B0BEC5\"]]}], \"label\": \"Topic 13\", \"method\": \"update\"}, {\"args\": [{\"marker.color\": [[\"#B0BEC5\", \"#B0BEC5\", \"#B0BEC5\", \"#B0BEC5\", \"#B0BEC5\", \"#B0BEC5\", \"#B0BEC5\", \"#B0BEC5\", \"#B0BEC5\", \"#B0BEC5\", \"#B0BEC5\", \"#B0BEC5\", \"#B0BEC5\", \"red\", \"#B0BEC5\", \"#B0BEC5\", \"#B0BEC5\", \"#B0BEC5\", \"#B0BEC5\", \"#B0BEC5\", \"#B0BEC5\", \"#B0BEC5\", \"#B0BEC5\", \"#B0BEC5\", \"#B0BEC5\", \"#B0BEC5\", \"#B0BEC5\", \"#B0BEC5\", \"#B0BEC5\"]]}], \"label\": \"Topic 14\", \"method\": \"update\"}, {\"args\": [{\"marker.color\": [[\"#B0BEC5\", \"#B0BEC5\", \"#B0BEC5\", \"#B0BEC5\", \"#B0BEC5\", \"#B0BEC5\", \"#B0BEC5\", \"#B0BEC5\", \"#B0BEC5\", \"#B0BEC5\", \"#B0BEC5\", \"#B0BEC5\", \"#B0BEC5\", \"#B0BEC5\", \"red\", \"#B0BEC5\", \"#B0BEC5\", \"#B0BEC5\", \"#B0BEC5\", \"#B0BEC5\", \"#B0BEC5\", \"#B0BEC5\", \"#B0BEC5\", \"#B0BEC5\", \"#B0BEC5\", \"#B0BEC5\", \"#B0BEC5\", \"#B0BEC5\", \"#B0BEC5\"]]}], \"label\": \"Topic 15\", \"method\": \"update\"}, {\"args\": [{\"marker.color\": [[\"#B0BEC5\", \"#B0BEC5\", \"#B0BEC5\", \"#B0BEC5\", \"#B0BEC5\", \"#B0BEC5\", \"#B0BEC5\", \"#B0BEC5\", \"#B0BEC5\", \"#B0BEC5\", \"#B0BEC5\", \"#B0BEC5\", \"#B0BEC5\", \"#B0BEC5\", \"#B0BEC5\", \"red\", \"#B0BEC5\", \"#B0BEC5\", \"#B0BEC5\", \"#B0BEC5\", \"#B0BEC5\", \"#B0BEC5\", \"#B0BEC5\", \"#B0BEC5\", \"#B0BEC5\", \"#B0BEC5\", \"#B0BEC5\", \"#B0BEC5\", \"#B0BEC5\"]]}], \"label\": \"Topic 16\", \"method\": \"update\"}, {\"args\": [{\"marker.color\": [[\"#B0BEC5\", \"#B0BEC5\", \"#B0BEC5\", \"#B0BEC5\", \"#B0BEC5\", \"#B0BEC5\", \"#B0BEC5\", \"#B0BEC5\", \"#B0BEC5\", \"#B0BEC5\", \"#B0BEC5\", \"#B0BEC5\", \"#B0BEC5\", \"#B0BEC5\", \"#B0BEC5\", \"#B0BEC5\", \"red\", \"#B0BEC5\", \"#B0BEC5\", \"#B0BEC5\", \"#B0BEC5\", \"#B0BEC5\", \"#B0BEC5\", \"#B0BEC5\", \"#B0BEC5\", \"#B0BEC5\", \"#B0BEC5\", \"#B0BEC5\", \"#B0BEC5\"]]}], \"label\": \"Topic 17\", \"method\": \"update\"}, {\"args\": [{\"marker.color\": [[\"#B0BEC5\", \"#B0BEC5\", \"#B0BEC5\", \"#B0BEC5\", \"#B0BEC5\", \"#B0BEC5\", \"#B0BEC5\", \"#B0BEC5\", \"#B0BEC5\", \"#B0BEC5\", \"#B0BEC5\", \"#B0BEC5\", \"#B0BEC5\", \"#B0BEC5\", \"#B0BEC5\", \"#B0BEC5\", \"#B0BEC5\", \"red\", \"#B0BEC5\", \"#B0BEC5\", \"#B0BEC5\", \"#B0BEC5\", \"#B0BEC5\", \"#B0BEC5\", \"#B0BEC5\", \"#B0BEC5\", \"#B0BEC5\", \"#B0BEC5\", \"#B0BEC5\"]]}], \"label\": \"Topic 18\", \"method\": \"update\"}, {\"args\": [{\"marker.color\": [[\"#B0BEC5\", \"#B0BEC5\", \"#B0BEC5\", \"#B0BEC5\", \"#B0BEC5\", \"#B0BEC5\", \"#B0BEC5\", \"#B0BEC5\", \"#B0BEC5\", \"#B0BEC5\", \"#B0BEC5\", \"#B0BEC5\", \"#B0BEC5\", \"#B0BEC5\", \"#B0BEC5\", \"#B0BEC5\", \"#B0BEC5\", \"#B0BEC5\", \"red\", \"#B0BEC5\", \"#B0BEC5\", \"#B0BEC5\", \"#B0BEC5\", \"#B0BEC5\", \"#B0BEC5\", \"#B0BEC5\", \"#B0BEC5\", \"#B0BEC5\", \"#B0BEC5\"]]}], \"label\": \"Topic 19\", \"method\": \"update\"}, {\"args\": [{\"marker.color\": [[\"#B0BEC5\", \"#B0BEC5\", \"#B0BEC5\", \"#B0BEC5\", \"#B0BEC5\", \"#B0BEC5\", \"#B0BEC5\", \"#B0BEC5\", \"#B0BEC5\", \"#B0BEC5\", \"#B0BEC5\", \"#B0BEC5\", \"#B0BEC5\", \"#B0BEC5\", \"#B0BEC5\", \"#B0BEC5\", \"#B0BEC5\", \"#B0BEC5\", \"#B0BEC5\", \"red\", \"#B0BEC5\", \"#B0BEC5\", \"#B0BEC5\", \"#B0BEC5\", \"#B0BEC5\", \"#B0BEC5\", \"#B0BEC5\", \"#B0BEC5\", \"#B0BEC5\"]]}], \"label\": \"Topic 20\", \"method\": \"update\"}, {\"args\": [{\"marker.color\": [[\"#B0BEC5\", \"#B0BEC5\", \"#B0BEC5\", \"#B0BEC5\", \"#B0BEC5\", \"#B0BEC5\", \"#B0BEC5\", \"#B0BEC5\", \"#B0BEC5\", \"#B0BEC5\", \"#B0BEC5\", \"#B0BEC5\", \"#B0BEC5\", \"#B0BEC5\", \"#B0BEC5\", \"#B0BEC5\", \"#B0BEC5\", \"#B0BEC5\", \"#B0BEC5\", \"#B0BEC5\", \"red\", \"#B0BEC5\", \"#B0BEC5\", \"#B0BEC5\", \"#B0BEC5\", \"#B0BEC5\", \"#B0BEC5\", \"#B0BEC5\", \"#B0BEC5\"]]}], \"label\": \"Topic 21\", \"method\": \"update\"}, {\"args\": [{\"marker.color\": [[\"#B0BEC5\", \"#B0BEC5\", \"#B0BEC5\", \"#B0BEC5\", \"#B0BEC5\", \"#B0BEC5\", \"#B0BEC5\", \"#B0BEC5\", \"#B0BEC5\", \"#B0BEC5\", \"#B0BEC5\", \"#B0BEC5\", \"#B0BEC5\", \"#B0BEC5\", \"#B0BEC5\", \"#B0BEC5\", \"#B0BEC5\", \"#B0BEC5\", \"#B0BEC5\", \"#B0BEC5\", \"#B0BEC5\", \"red\", \"#B0BEC5\", \"#B0BEC5\", \"#B0BEC5\", \"#B0BEC5\", \"#B0BEC5\", \"#B0BEC5\", \"#B0BEC5\"]]}], \"label\": \"Topic 22\", \"method\": \"update\"}, {\"args\": [{\"marker.color\": [[\"#B0BEC5\", \"#B0BEC5\", \"#B0BEC5\", \"#B0BEC5\", \"#B0BEC5\", \"#B0BEC5\", \"#B0BEC5\", \"#B0BEC5\", \"#B0BEC5\", \"#B0BEC5\", \"#B0BEC5\", \"#B0BEC5\", \"#B0BEC5\", \"#B0BEC5\", \"#B0BEC5\", \"#B0BEC5\", \"#B0BEC5\", \"#B0BEC5\", \"#B0BEC5\", \"#B0BEC5\", \"#B0BEC5\", \"#B0BEC5\", \"red\", \"#B0BEC5\", \"#B0BEC5\", \"#B0BEC5\", \"#B0BEC5\", \"#B0BEC5\", \"#B0BEC5\"]]}], \"label\": \"Topic 23\", \"method\": \"update\"}, {\"args\": [{\"marker.color\": [[\"#B0BEC5\", \"#B0BEC5\", \"#B0BEC5\", \"#B0BEC5\", \"#B0BEC5\", \"#B0BEC5\", \"#B0BEC5\", \"#B0BEC5\", \"#B0BEC5\", \"#B0BEC5\", \"#B0BEC5\", \"#B0BEC5\", \"#B0BEC5\", \"#B0BEC5\", \"#B0BEC5\", \"#B0BEC5\", \"#B0BEC5\", \"#B0BEC5\", \"#B0BEC5\", \"#B0BEC5\", \"#B0BEC5\", \"#B0BEC5\", \"#B0BEC5\", \"red\", \"#B0BEC5\", \"#B0BEC5\", \"#B0BEC5\", \"#B0BEC5\", \"#B0BEC5\"]]}], \"label\": \"Topic 24\", \"method\": \"update\"}, {\"args\": [{\"marker.color\": [[\"#B0BEC5\", \"#B0BEC5\", \"#B0BEC5\", \"#B0BEC5\", \"#B0BEC5\", \"#B0BEC5\", \"#B0BEC5\", \"#B0BEC5\", \"#B0BEC5\", \"#B0BEC5\", \"#B0BEC5\", \"#B0BEC5\", \"#B0BEC5\", \"#B0BEC5\", \"#B0BEC5\", \"#B0BEC5\", \"#B0BEC5\", \"#B0BEC5\", \"#B0BEC5\", \"#B0BEC5\", \"#B0BEC5\", \"#B0BEC5\", \"#B0BEC5\", \"#B0BEC5\", \"red\", \"#B0BEC5\", \"#B0BEC5\", \"#B0BEC5\", \"#B0BEC5\"]]}], \"label\": \"Topic 25\", \"method\": \"update\"}, {\"args\": [{\"marker.color\": [[\"#B0BEC5\", \"#B0BEC5\", \"#B0BEC5\", \"#B0BEC5\", \"#B0BEC5\", \"#B0BEC5\", \"#B0BEC5\", \"#B0BEC5\", \"#B0BEC5\", \"#B0BEC5\", \"#B0BEC5\", \"#B0BEC5\", \"#B0BEC5\", \"#B0BEC5\", \"#B0BEC5\", \"#B0BEC5\", \"#B0BEC5\", \"#B0BEC5\", \"#B0BEC5\", \"#B0BEC5\", \"#B0BEC5\", \"#B0BEC5\", \"#B0BEC5\", \"#B0BEC5\", \"#B0BEC5\", \"red\", \"#B0BEC5\", \"#B0BEC5\", \"#B0BEC5\"]]}], \"label\": \"Topic 26\", \"method\": \"update\"}, {\"args\": [{\"marker.color\": [[\"#B0BEC5\", \"#B0BEC5\", \"#B0BEC5\", \"#B0BEC5\", \"#B0BEC5\", \"#B0BEC5\", \"#B0BEC5\", \"#B0BEC5\", \"#B0BEC5\", \"#B0BEC5\", \"#B0BEC5\", \"#B0BEC5\", \"#B0BEC5\", \"#B0BEC5\", \"#B0BEC5\", \"#B0BEC5\", \"#B0BEC5\", \"#B0BEC5\", \"#B0BEC5\", \"#B0BEC5\", \"#B0BEC5\", \"#B0BEC5\", \"#B0BEC5\", \"#B0BEC5\", \"#B0BEC5\", \"#B0BEC5\", \"red\", \"#B0BEC5\", \"#B0BEC5\"]]}], \"label\": \"Topic 27\", \"method\": \"update\"}, {\"args\": [{\"marker.color\": [[\"#B0BEC5\", \"#B0BEC5\", \"#B0BEC5\", \"#B0BEC5\", \"#B0BEC5\", \"#B0BEC5\", \"#B0BEC5\", \"#B0BEC5\", \"#B0BEC5\", \"#B0BEC5\", \"#B0BEC5\", \"#B0BEC5\", \"#B0BEC5\", \"#B0BEC5\", \"#B0BEC5\", \"#B0BEC5\", \"#B0BEC5\", \"#B0BEC5\", \"#B0BEC5\", \"#B0BEC5\", \"#B0BEC5\", \"#B0BEC5\", \"#B0BEC5\", \"#B0BEC5\", \"#B0BEC5\", \"#B0BEC5\", \"#B0BEC5\", \"red\", \"#B0BEC5\"]]}], \"label\": \"Topic 28\", \"method\": \"update\"}, {\"args\": [{\"marker.color\": [[\"#B0BEC5\", \"#B0BEC5\", \"#B0BEC5\", \"#B0BEC5\", \"#B0BEC5\", \"#B0BEC5\", \"#B0BEC5\", \"#B0BEC5\", \"#B0BEC5\", \"#B0BEC5\", \"#B0BEC5\", \"#B0BEC5\", \"#B0BEC5\", \"#B0BEC5\", \"#B0BEC5\", \"#B0BEC5\", \"#B0BEC5\", \"#B0BEC5\", \"#B0BEC5\", \"#B0BEC5\", \"#B0BEC5\", \"#B0BEC5\", \"#B0BEC5\", \"#B0BEC5\", \"#B0BEC5\", \"#B0BEC5\", \"#B0BEC5\", \"#B0BEC5\", \"red\"]]}], \"label\": \"Topic 29\", \"method\": \"update\"}]}], \"template\": {\"data\": {\"bar\": [{\"error_x\": {\"color\": \"rgb(36,36,36)\"}, \"error_y\": {\"color\": \"rgb(36,36,36)\"}, \"marker\": {\"line\": {\"color\": \"white\", \"width\": 0.5}}, \"type\": \"bar\"}], \"barpolar\": [{\"marker\": {\"line\": {\"color\": \"white\", \"width\": 0.5}}, \"type\": \"barpolar\"}], \"carpet\": [{\"aaxis\": {\"endlinecolor\": \"rgb(36,36,36)\", \"gridcolor\": \"white\", \"linecolor\": \"white\", \"minorgridcolor\": \"white\", \"startlinecolor\": \"rgb(36,36,36)\"}, \"baxis\": {\"endlinecolor\": \"rgb(36,36,36)\", \"gridcolor\": \"white\", \"linecolor\": \"white\", \"minorgridcolor\": \"white\", \"startlinecolor\": \"rgb(36,36,36)\"}, \"type\": \"carpet\"}], \"choropleth\": [{\"colorbar\": {\"outlinewidth\": 1, \"tickcolor\": \"rgb(36,36,36)\", \"ticks\": \"outside\"}, \"type\": \"choropleth\"}], \"contour\": [{\"colorbar\": {\"outlinewidth\": 1, \"tickcolor\": \"rgb(36,36,36)\", \"ticks\": \"outside\"}, \"colorscale\": [[0.0, \"#440154\"], [0.1111111111111111, \"#482878\"], [0.2222222222222222, \"#3e4989\"], [0.3333333333333333, \"#31688e\"], [0.4444444444444444, \"#26828e\"], [0.5555555555555556, \"#1f9e89\"], [0.6666666666666666, \"#35b779\"], [0.7777777777777778, \"#6ece58\"], [0.8888888888888888, \"#b5de2b\"], [1.0, \"#fde725\"]], \"type\": \"contour\"}], \"contourcarpet\": [{\"colorbar\": {\"outlinewidth\": 1, \"tickcolor\": \"rgb(36,36,36)\", \"ticks\": \"outside\"}, \"type\": \"contourcarpet\"}], \"heatmap\": [{\"colorbar\": {\"outlinewidth\": 1, \"tickcolor\": \"rgb(36,36,36)\", \"ticks\": \"outside\"}, \"colorscale\": [[0.0, \"#440154\"], [0.1111111111111111, \"#482878\"], [0.2222222222222222, \"#3e4989\"], [0.3333333333333333, \"#31688e\"], [0.4444444444444444, \"#26828e\"], [0.5555555555555556, \"#1f9e89\"], [0.6666666666666666, \"#35b779\"], [0.7777777777777778, \"#6ece58\"], [0.8888888888888888, \"#b5de2b\"], [1.0, \"#fde725\"]], \"type\": \"heatmap\"}], \"heatmapgl\": [{\"colorbar\": {\"outlinewidth\": 1, \"tickcolor\": \"rgb(36,36,36)\", \"ticks\": \"outside\"}, \"colorscale\": [[0.0, \"#440154\"], [0.1111111111111111, \"#482878\"], [0.2222222222222222, \"#3e4989\"], [0.3333333333333333, \"#31688e\"], [0.4444444444444444, \"#26828e\"], [0.5555555555555556, \"#1f9e89\"], [0.6666666666666666, \"#35b779\"], [0.7777777777777778, \"#6ece58\"], [0.8888888888888888, \"#b5de2b\"], [1.0, \"#fde725\"]], \"type\": \"heatmapgl\"}], \"histogram\": [{\"marker\": {\"line\": {\"color\": \"white\", \"width\": 0.6}}, \"type\": \"histogram\"}], \"histogram2d\": [{\"colorbar\": {\"outlinewidth\": 1, \"tickcolor\": \"rgb(36,36,36)\", \"ticks\": \"outside\"}, \"colorscale\": [[0.0, \"#440154\"], [0.1111111111111111, \"#482878\"], [0.2222222222222222, \"#3e4989\"], [0.3333333333333333, \"#31688e\"], [0.4444444444444444, \"#26828e\"], [0.5555555555555556, \"#1f9e89\"], [0.6666666666666666, \"#35b779\"], [0.7777777777777778, \"#6ece58\"], [0.8888888888888888, \"#b5de2b\"], [1.0, \"#fde725\"]], \"type\": \"histogram2d\"}], \"histogram2dcontour\": [{\"colorbar\": {\"outlinewidth\": 1, \"tickcolor\": \"rgb(36,36,36)\", \"ticks\": \"outside\"}, \"colorscale\": [[0.0, \"#440154\"], [0.1111111111111111, \"#482878\"], [0.2222222222222222, \"#3e4989\"], [0.3333333333333333, \"#31688e\"], [0.4444444444444444, \"#26828e\"], [0.5555555555555556, \"#1f9e89\"], [0.6666666666666666, \"#35b779\"], [0.7777777777777778, \"#6ece58\"], [0.8888888888888888, \"#b5de2b\"], [1.0, \"#fde725\"]], \"type\": \"histogram2dcontour\"}], \"mesh3d\": [{\"colorbar\": {\"outlinewidth\": 1, \"tickcolor\": \"rgb(36,36,36)\", \"ticks\": \"outside\"}, \"type\": \"mesh3d\"}], \"parcoords\": [{\"line\": {\"colorbar\": {\"outlinewidth\": 1, \"tickcolor\": \"rgb(36,36,36)\", \"ticks\": \"outside\"}}, \"type\": \"parcoords\"}], \"pie\": [{\"automargin\": true, \"type\": \"pie\"}], \"scatter\": [{\"marker\": {\"colorbar\": {\"outlinewidth\": 1, \"tickcolor\": \"rgb(36,36,36)\", \"ticks\": \"outside\"}}, \"type\": \"scatter\"}], \"scatter3d\": [{\"line\": {\"colorbar\": {\"outlinewidth\": 1, \"tickcolor\": \"rgb(36,36,36)\", \"ticks\": \"outside\"}}, \"marker\": {\"colorbar\": {\"outlinewidth\": 1, \"tickcolor\": \"rgb(36,36,36)\", \"ticks\": \"outside\"}}, \"type\": \"scatter3d\"}], \"scattercarpet\": [{\"marker\": {\"colorbar\": {\"outlinewidth\": 1, \"tickcolor\": \"rgb(36,36,36)\", \"ticks\": \"outside\"}}, \"type\": \"scattercarpet\"}], \"scattergeo\": [{\"marker\": {\"colorbar\": {\"outlinewidth\": 1, \"tickcolor\": \"rgb(36,36,36)\", \"ticks\": \"outside\"}}, \"type\": \"scattergeo\"}], \"scattergl\": [{\"marker\": {\"colorbar\": {\"outlinewidth\": 1, \"tickcolor\": \"rgb(36,36,36)\", \"ticks\": \"outside\"}}, \"type\": \"scattergl\"}], \"scattermapbox\": [{\"marker\": {\"colorbar\": {\"outlinewidth\": 1, \"tickcolor\": \"rgb(36,36,36)\", \"ticks\": \"outside\"}}, \"type\": \"scattermapbox\"}], \"scatterpolar\": [{\"marker\": {\"colorbar\": {\"outlinewidth\": 1, \"tickcolor\": \"rgb(36,36,36)\", \"ticks\": \"outside\"}}, \"type\": \"scatterpolar\"}], \"scatterpolargl\": [{\"marker\": {\"colorbar\": {\"outlinewidth\": 1, \"tickcolor\": \"rgb(36,36,36)\", \"ticks\": \"outside\"}}, \"type\": \"scatterpolargl\"}], \"scatterternary\": [{\"marker\": {\"colorbar\": {\"outlinewidth\": 1, \"tickcolor\": \"rgb(36,36,36)\", \"ticks\": \"outside\"}}, \"type\": \"scatterternary\"}], \"surface\": [{\"colorbar\": {\"outlinewidth\": 1, \"tickcolor\": \"rgb(36,36,36)\", \"ticks\": \"outside\"}, \"colorscale\": [[0.0, \"#440154\"], [0.1111111111111111, \"#482878\"], [0.2222222222222222, \"#3e4989\"], [0.3333333333333333, \"#31688e\"], [0.4444444444444444, \"#26828e\"], [0.5555555555555556, \"#1f9e89\"], [0.6666666666666666, \"#35b779\"], [0.7777777777777778, \"#6ece58\"], [0.8888888888888888, \"#b5de2b\"], [1.0, \"#fde725\"]], \"type\": \"surface\"}], \"table\": [{\"cells\": {\"fill\": {\"color\": \"rgb(237,237,237)\"}, \"line\": {\"color\": \"white\"}}, \"header\": {\"fill\": {\"color\": \"rgb(217,217,217)\"}, \"line\": {\"color\": \"white\"}}, \"type\": \"table\"}]}, \"layout\": {\"annotationdefaults\": {\"arrowhead\": 0, \"arrowwidth\": 1}, \"autotypenumbers\": \"strict\", \"coloraxis\": {\"colorbar\": {\"outlinewidth\": 1, \"tickcolor\": \"rgb(36,36,36)\", \"ticks\": \"outside\"}}, \"colorscale\": {\"diverging\": [[0.0, \"rgb(103,0,31)\"], [0.1, \"rgb(178,24,43)\"], [0.2, \"rgb(214,96,77)\"], [0.3, \"rgb(244,165,130)\"], [0.4, \"rgb(253,219,199)\"], [0.5, \"rgb(247,247,247)\"], [0.6, \"rgb(209,229,240)\"], [0.7, \"rgb(146,197,222)\"], [0.8, \"rgb(67,147,195)\"], [0.9, \"rgb(33,102,172)\"], [1.0, \"rgb(5,48,97)\"]], \"sequential\": [[0.0, \"#440154\"], [0.1111111111111111, \"#482878\"], [0.2222222222222222, \"#3e4989\"], [0.3333333333333333, \"#31688e\"], [0.4444444444444444, \"#26828e\"], [0.5555555555555556, \"#1f9e89\"], [0.6666666666666666, \"#35b779\"], [0.7777777777777778, \"#6ece58\"], [0.8888888888888888, \"#b5de2b\"], [1.0, \"#fde725\"]], \"sequentialminus\": [[0.0, \"#440154\"], [0.1111111111111111, \"#482878\"], [0.2222222222222222, \"#3e4989\"], [0.3333333333333333, \"#31688e\"], [0.4444444444444444, \"#26828e\"], [0.5555555555555556, \"#1f9e89\"], [0.6666666666666666, \"#35b779\"], [0.7777777777777778, \"#6ece58\"], [0.8888888888888888, \"#b5de2b\"], [1.0, \"#fde725\"]]}, \"colorway\": [\"#1F77B4\", \"#FF7F0E\", \"#2CA02C\", \"#D62728\", \"#9467BD\", \"#8C564B\", \"#E377C2\", \"#7F7F7F\", \"#BCBD22\", \"#17BECF\"], \"font\": {\"color\": \"rgb(36,36,36)\"}, \"geo\": {\"bgcolor\": \"white\", \"lakecolor\": \"white\", \"landcolor\": \"white\", \"showlakes\": true, \"showland\": true, \"subunitcolor\": \"white\"}, \"hoverlabel\": {\"align\": \"left\"}, \"hovermode\": \"closest\", \"mapbox\": {\"style\": \"light\"}, \"paper_bgcolor\": \"white\", \"plot_bgcolor\": \"white\", \"polar\": {\"angularaxis\": {\"gridcolor\": \"rgb(232,232,232)\", \"linecolor\": \"rgb(36,36,36)\", \"showgrid\": false, \"showline\": true, \"ticks\": \"outside\"}, \"bgcolor\": \"white\", \"radialaxis\": {\"gridcolor\": \"rgb(232,232,232)\", \"linecolor\": \"rgb(36,36,36)\", \"showgrid\": false, \"showline\": true, \"ticks\": \"outside\"}}, \"scene\": {\"xaxis\": {\"backgroundcolor\": \"white\", \"gridcolor\": \"rgb(232,232,232)\", \"gridwidth\": 2, \"linecolor\": \"rgb(36,36,36)\", \"showbackground\": true, \"showgrid\": false, \"showline\": true, \"ticks\": \"outside\", \"zeroline\": false, \"zerolinecolor\": \"rgb(36,36,36)\"}, \"yaxis\": {\"backgroundcolor\": \"white\", \"gridcolor\": \"rgb(232,232,232)\", \"gridwidth\": 2, \"linecolor\": \"rgb(36,36,36)\", \"showbackground\": true, \"showgrid\": false, \"showline\": true, \"ticks\": \"outside\", \"zeroline\": false, \"zerolinecolor\": \"rgb(36,36,36)\"}, \"zaxis\": {\"backgroundcolor\": \"white\", \"gridcolor\": \"rgb(232,232,232)\", \"gridwidth\": 2, \"linecolor\": \"rgb(36,36,36)\", \"showbackground\": true, \"showgrid\": false, \"showline\": true, \"ticks\": \"outside\", \"zeroline\": false, \"zerolinecolor\": \"rgb(36,36,36)\"}}, \"shapedefaults\": {\"fillcolor\": \"black\", \"line\": {\"width\": 0}, \"opacity\": 0.3}, \"ternary\": {\"aaxis\": {\"gridcolor\": \"rgb(232,232,232)\", \"linecolor\": \"rgb(36,36,36)\", \"showgrid\": false, \"showline\": true, \"ticks\": \"outside\"}, \"baxis\": {\"gridcolor\": \"rgb(232,232,232)\", \"linecolor\": \"rgb(36,36,36)\", \"showgrid\": false, \"showline\": true, \"ticks\": \"outside\"}, \"bgcolor\": \"white\", \"caxis\": {\"gridcolor\": \"rgb(232,232,232)\", \"linecolor\": \"rgb(36,36,36)\", \"showgrid\": false, \"showline\": true, \"ticks\": \"outside\"}}, \"title\": {\"x\": 0.05}, \"xaxis\": {\"automargin\": true, \"gridcolor\": \"rgb(232,232,232)\", \"linecolor\": \"rgb(36,36,36)\", \"showgrid\": false, \"showline\": true, \"ticks\": \"outside\", \"title\": {\"standoff\": 15}, \"zeroline\": false, \"zerolinecolor\": \"rgb(36,36,36)\"}, \"yaxis\": {\"automargin\": true, \"gridcolor\": \"rgb(232,232,232)\", \"linecolor\": \"rgb(36,36,36)\", \"showgrid\": false, \"showline\": true, \"ticks\": \"outside\", \"title\": {\"standoff\": 15}, \"zeroline\": false, \"zerolinecolor\": \"rgb(36,36,36)\"}}}, \"title\": {\"font\": {\"color\": \"Black\", \"size\": 22}, \"text\": \"<b>Intertopic Distance Map\", \"x\": 0.5, \"xanchor\": \"center\", \"y\": 0.95, \"yanchor\": \"top\"}, \"width\": 650, \"xaxis\": {\"anchor\": \"y\", \"domain\": [0.0, 1.0], \"range\": [-8.459811210632324, 27.568447208404542], \"title\": {\"text\": \"\"}, \"visible\": false}, \"yaxis\": {\"anchor\": \"x\", \"domain\": [0.0, 1.0], \"range\": [-11.97948727607727, 23.21426944732666], \"title\": {\"text\": \"\"}, \"visible\": false}},                        {\"responsive\": true}                    ).then(function(){\n",
              "                            \n",
              "var gd = document.getElementById('96545d01-0d28-43e0-bbec-005220ed2ed0');\n",
              "var x = new MutationObserver(function (mutations, observer) {{\n",
              "        var display = window.getComputedStyle(gd).display;\n",
              "        if (!display || display === 'none') {{\n",
              "            console.log([gd, 'removed!']);\n",
              "            Plotly.purge(gd);\n",
              "            observer.disconnect();\n",
              "        }}\n",
              "}});\n",
              "\n",
              "// Listen for the removal of the full notebook cells\n",
              "var notebookContainer = gd.closest('#notebook-container');\n",
              "if (notebookContainer) {{\n",
              "    x.observe(notebookContainer, {childList: true});\n",
              "}}\n",
              "\n",
              "// Listen for the clearing of the current output cell\n",
              "var outputEl = gd.closest('.output');\n",
              "if (outputEl) {{\n",
              "    x.observe(outputEl, {childList: true});\n",
              "}}\n",
              "\n",
              "                        })                };                            </script>        </div>\n",
              "</body>\n",
              "</html>"
            ]
          },
          "metadata": {}
        }
      ]
    },
    {
      "cell_type": "code",
      "metadata": {
        "id": "A2xvfduxiLm9"
      },
      "source": [
        "with open(dir + '/Data/minwon_ver3.pkl', 'rb') as f:\n",
        "    root = pkl.load(f)\n",
        "timestamp = root['등록일시'].reset_index(drop=True)"
      ],
      "execution_count": null,
      "outputs": []
    },
    {
      "cell_type": "code",
      "metadata": {
        "colab": {
          "base_uri": "https://localhost:8080/"
        },
        "id": "boGBCrJFip7x",
        "outputId": "6eb2a7a0-9f9a-4f67-871c-541c25c345aa"
      },
      "source": [
        "len(timestamp)"
      ],
      "execution_count": null,
      "outputs": [
        {
          "output_type": "execute_result",
          "data": {
            "text/plain": [
              "47328"
            ]
          },
          "metadata": {},
          "execution_count": 113
        }
      ]
    },
    {
      "cell_type": "code",
      "metadata": {
        "colab": {
          "base_uri": "https://localhost:8080/"
        },
        "id": "Zj_ZPTQ7irGE",
        "outputId": "925f6618-13f9-4344-ac7d-0f2f6f03a651"
      },
      "source": [
        "len(tokens)"
      ],
      "execution_count": null,
      "outputs": [
        {
          "output_type": "execute_result",
          "data": {
            "text/plain": [
              "47328"
            ]
          },
          "metadata": {},
          "execution_count": 105
        }
      ]
    },
    {
      "cell_type": "code",
      "metadata": {
        "colab": {
          "base_uri": "https://localhost:8080/"
        },
        "id": "O1EG2FmtjoQE",
        "outputId": "a4604876-b5b7-4a61-e905-42a66e3fb3ee"
      },
      "source": [
        "timestamp"
      ],
      "execution_count": null,
      "outputs": [
        {
          "output_type": "execute_result",
          "data": {
            "text/plain": [
              "0       2021-08-27 15:31:44\n",
              "1       2021-08-27 13:49:33\n",
              "2       2021-08-27 16:19:51\n",
              "3       2021-08-27 16:18:09\n",
              "4       2021-08-27 16:24:24\n",
              "                ...        \n",
              "47323   2021-07-14 16:34:58\n",
              "47324   2021-07-18 16:06:59\n",
              "47325   2021-07-18 16:08:03\n",
              "47326   2021-07-20 10:47:56\n",
              "47327   2021-07-20 12:45:41\n",
              "Name: 등록일시, Length: 47328, dtype: datetime64[ns]"
            ]
          },
          "metadata": {},
          "execution_count": 115
        }
      ]
    },
    {
      "cell_type": "code",
      "metadata": {
        "id": "aBMVhChWjUao"
      },
      "source": [
        "timestamp = timestamp.dt.strftime(\"%Y-%m\")"
      ],
      "execution_count": null,
      "outputs": []
    },
    {
      "cell_type": "code",
      "metadata": {
        "colab": {
          "base_uri": "https://localhost:8080/"
        },
        "id": "ImzKLXZzM8Le",
        "outputId": "b619cd2d-10a3-439e-a6a0-71792e7ece28"
      },
      "source": [
        "topics_over_time = topic_model.topics_over_time(tokens, topics, timestamp)"
      ],
      "execution_count": null,
      "outputs": [
        {
          "output_type": "stream",
          "name": "stderr",
          "text": [
            "22it [10:05, 27.51s/it]\n"
          ]
        }
      ]
    },
    {
      "cell_type": "code",
      "metadata": {
        "colab": {
          "base_uri": "https://localhost:8080/",
          "height": 467
        },
        "id": "yJk3WhyZilEe",
        "outputId": "b86908b9-908d-4246-b161-273b1702234d"
      },
      "source": [
        "topic_model.visualize_topics_over_time(topics_over_time, top_n_topics=10)#.write_html(dir + 'Topics_overtime.html')"
      ],
      "execution_count": null,
      "outputs": [
        {
          "output_type": "display_data",
          "data": {
            "text/html": [
              "<html>\n",
              "<head><meta charset=\"utf-8\" /></head>\n",
              "<body>\n",
              "    <div>            <script src=\"https://cdnjs.cloudflare.com/ajax/libs/mathjax/2.7.5/MathJax.js?config=TeX-AMS-MML_SVG\"></script><script type=\"text/javascript\">if (window.MathJax) {MathJax.Hub.Config({SVG: {font: \"STIX-Web\"}});}</script>                <script type=\"text/javascript\">window.PlotlyConfig = {MathJaxConfig: 'local'};</script>\n",
              "        <script src=\"https://cdn.plot.ly/plotly-latest.min.js\"></script>                <div id=\"a2235442-20e7-4657-a631-fe0a5058a084\" class=\"plotly-graph-div\" style=\"height:450px; width:1250px;\"></div>            <script type=\"text/javascript\">                                    window.PLOTLYENV=window.PLOTLYENV || {};                                    if (document.getElementById(\"a2235442-20e7-4657-a631-fe0a5058a084\")) {                    Plotly.newPlot(                        \"a2235442-20e7-4657-a631-fe0a5058a084\",                        [{\"hoverinfo\": \"text\", \"hovertext\": [\"<b>Topic 1</b><br>Words: \\uc2a4\\ub9c8\\ud2b8\\ud3f0 \\ubcf4\\uc720, \\ub9e4\\uccb4 \\uc2a4\\ub9c8\\ud2b8\\ud3f0 \\ubcf4\\uc720, \\ub9e4\\uccb4 \\uc2a4\\ub9c8\\ud2b8\\ud3f0, \\uc2a4\\ub9c8\\ud2b8\\ud3f0 \\ubcf4\\uc720 \\ub3cc\\ud30c, \\uac1c\\uc778 \\ub9e4\\uccb4 \\uc2a4\\ub9c8\\ud2b8\\ud3f0\", \"<b>Topic 1</b><br>Words: \\uc804\\ud654 \\uc218\\uc9d1 \\ucd9c\\ucc98, \\ud734\\ub300\\uc804\\ud654 \\uba85\\uc758\\uc790, \\uc804\\ud654 \\uc218\\uc9d1, \\ud604\\uc7ac \\ud734\\ub300\\uc804\\ud654, \\uc790\\uac00 \\ud604\\uc7ac \\ud734\\ub300\\uc804\\ud654\", \"<b>Topic 1</b><br>Words: \\ud55c\\uae00 \\uc774\\ub984 \\ud734\\ub300\\ud3f0, \\ubc1c\\ud45c \\uc678\\uad6d\\uc778\\ub4f1\\ub85d\\uc99d \\uc678\\uad6d\\uad6d\\uc801, \\ud55c\\uae00 \\uc774\\ub984 \\ud568\\uaed8, \\uc774\\ub984 \\ud568\\uaed8 \\ud45c\\uae30, \\uc774\\ub984 \\ud734\\ub300\\ud3f0 \\uac1c\\ud1b5\", \"<b>Topic 1</b><br>Words: \\uc0ac\\uae30 \\ud310\\ub9e4 \\ud53c\\ud574, \\ud310\\ub9e4 \\ud53c\\ud574 \\uc8fc\\uc758, \\ud310\\ub9e4 \\ud53c\\ud574, \\ud734\\ub300\\ud3f0 \\uc0ac\\uae30 \\ud310\\ub9e4, \\ubc1c\\ud45c \\ud734\\ub300\\ud3f0 \\uc0ac\\uae30\", \"<b>Topic 1</b><br>Words: \\ud5c8\\uac00 \\uc911\\uc785\\ub2c8\\ub2e4 \\uc81c\\uac00, \\uba54\\uc2dc\\uc9c0 \\uba54\\uc2e0\\uc838, \\uba54\\uc2dc\\uc9c0 \\uba54\\uc2e0\\uc838 \\uc74c\\ub780\\ubb3c, \\uc8fc\\uc18c \\ubb38\\uc790 \\uac71\\uc815\\uc774, \\uc6b0\\ud3b8 \\ud639\\uc2dc\", \"<b>Topic 1</b><br>Words: 00 \\uc608\\ube44\\uad70 \\uc911\\ub300, 00 \\uc608\\ube44\\uad70, \\ud574\\uc57c\\ub418\\ub098\\uc694 \\ubb38\\uc7a5, \\ub2f5\\ubcc0 00 \\uc608\\ube44\\uad70, \\uc608\\ube44\\uad70 \\uc911\\ub300 0\\uc6d4\", \"<b>Topic 1</b><br>Words: \\uc778\\ud130\\ub137 \\uc804\\ud654, \\uc804\\ud654 \\uc11c\\ube44\\uc2a4, \\uc911\\uacc4 \\uc124\\uce58, \\uc0ac\\uc6a9 \\uc778\\ud130\\ub137, \\uc694\\uae08\\uc81c \\ubcc0\\uacbd\", \"<b>Topic 1</b><br>Words: \\uc694\\uae08\\uc81c \\ubcc0\\uacbd, \\uc778\\ud130\\ub137 \\uc0ac\\uc6a9, \\uc694\\uae08 \\uccad\\uad6c, \\uc778\\ud130\\ub137 \\uc694\\uae08, \\uc694\\uae08 \\ub0a9\\ubd80\", \"<b>Topic 1</b><br>Words: \\uc694\\uae08 \\uccad\\uad6c, \\uc694\\uae08\\uc81c \\ubcc0\\uacbd, \\ubb34\\uc81c\\ud55c \\uc694\\uae08\\uc81c, \\uc0ac\\uc6a9 \\uc694\\uae08, \\uc694\\uae08 \\ubd80\\uacfc\", \"<b>Topic 1</b><br>Words: \\ub370\\uc774\\ud130 \\ud568\\uaed8, \\ud734\\ub300\\uc804\\ud654 \\uac1c\\ud1b5, \\ub370\\uc774\\ud130 \\ud568\\uaed8 \\uac00\\uc785, \\ub9e4\\uc6d4 \\uc790\\ub3d9 \\uacb0\\uc81c, \\ud0dc\\ube14\\ub9bf \\uc720\\uc2ec \\uad6c\\ub9e4\", \"<b>Topic 1</b><br>Words: \\uc628\\ub77c\\uc778 \\ubc1c\\uc0dd, \\uc628\\ub77c\\uc778 \\uc544\\ub974\\ubc14\\uc774\\ud2b8, \\uc628\\ub77c\\uc778 \\uc544\\ub974\\ubc14\\uc774\\ud2b8 \\uc77c\\uc815, \\ud329\\uc2a4 \\uc2e0\\uccad \\ud329\\uc2a4, \\ud329\\uc2a4 \\ucc98\\ub9ac\", \"<b>Topic 1</b><br>Words: \\ubd80\\uc11c\\ubcc4 \\uc9c1\\ud1b5 \\uc804\\ud654, \\uc9c1\\ud1b5 \\uc804\\ud654, \\uc804\\ud654 \\uad8c\\uc720 \\ud310\\ub9e4, \\uc804\\ud654 \\ubbfc\\uc6d0\\uc2e0\\uccad, \\uc804\\ud654 \\uad8c\\uc720\", \"<b>Topic 1</b><br>Words: \\uc138\\ubb34\\uc11c \\uc804\\ud654, \\uc804\\ud654 \\uc138\\ubb34\\uc11c, \\uc804\\ud654 \\uacfc\\uc678, \\uc5f0\\ub77d \\uc885\\ud569\\uc18c\\ub4dd\\uc138, \\ubbfc\\uc6d0 \\uc804\\ud654\", \"<b>Topic 1</b><br>Words: \\uc804\\ud654 \\uc6b0\\ud3b8 \\uc811\\uc218, \\uc804\\ud654 \\uc6b0\\ud3b8, \\ud734\\uc9c0 \\uc0c1\\ud0dc, \\uc678\\uad6d\\uc778 \\uacb0\\ud575 \\ud655\\uc778\\uc11c, \\uc804\\ud654 \\ucf5c\\uc13c\\ud130\", \"<b>Topic 1</b><br>Words: \\uc2a4\\ud0c0\\ub809\\uc2a4 \\ud0dd\\ubc30\\ucc28\\ub7c9 \\uc7a5\\uc560\\uc778\\ud0dd\\uc2dc, \\ud654\\ubb3c\\ucc28 \\uc9c0\\uac8c\\ucc28 \\uc624\\ud1a0\\ubc14\\uc774, \\uc2b9\\uc6a9\\ucc28 \\uc18c\\ud615 \\uc911\\ud615, \\ub300\\ud615\\ud2b8\\ub7ed \\uc18c\\ud615 \\uc911\\ud615, \\uc2b9\\uc6a9\\ucc28 \\uc18c\\ud615\", \"<b>Topic 1</b><br>Words: \\uc804\\ud654 \\ubb38\\uc790, \\ubcf8\\uc778\\uba85\\uc758 \\ub4f1\\ub85d\\uc774 \\ub9e4\\ucd9c, \\ubc29\\uc218 \\uc81c\\ub3c4 \\uc804\\ud654, \\ubcf8\\uc778 \\ud734\\ub300\\ud3f0 \\ubc88\\ud638, \\uc77c\\ud558\\uace0 \\uace0\\uac1d\", \"<b>Topic 1</b><br>Words: \\uc804\\ud654 \\uae30\\ubd84 \\uc6a9\\uc11c, \\uc758\\uc2ec \\uc804\\ud654, \\ub0b4\\uc5d0 \\ud578\\ub4dc\\ud3f0 \\ucda9\\uc804, \\uc598\\uae30 \\uc804\\ud654 \\uae30\\ubd84, \\ud1b5\\uc7a5 \\uc2e0\\uccad \\uc6d0\\ud569\\ub2c8\\ub2e4\"], \"marker\": {\"color\": \"#E69F00\"}, \"mode\": \"lines\", \"name\": \"1_\\uc694\\uae08\\uc81c \\ubcc0\\uacbd_\\uc778\\ud130\\ub137 \\uc804\\ud654_\\uc778\\ud130\\ub137 \\uc0ac\\uc6a9_\\uc778\\ud130\\ub137 \\uc694\\uae08\", \"type\": \"scatter\", \"x\": [\"2020-01-01T00:00:00\", \"2020-03-01T00:00:00\", \"2020-05-01T00:00:00\", \"2020-08-01T00:00:00\", \"2020-10-01T00:00:00\", \"2020-11-01T00:00:00\", \"2020-12-01T00:00:00\", \"2021-01-01T00:00:00\", \"2021-02-01T00:00:00\", \"2021-03-01T00:00:00\", \"2021-04-01T00:00:00\", \"2021-05-01T00:00:00\", \"2021-06-01T00:00:00\", \"2021-07-01T00:00:00\", \"2021-08-01T00:00:00\", \"2021-09-01T00:00:00\", \"2021-10-01T00:00:00\"], \"y\": [1, 4, 1, 1, 3, 4, 72, 98, 75, 52, 19, 25, 54, 51, 34, 20, 6]}, {\"hoverinfo\": \"text\", \"hovertext\": [\"<b>Topic 3</b><br>Words: \\uacbd\\uae30\\ub3c4 \\ucc38\\uc804\\uba85\\uc608\\uc218\\ub2f9 \\uc9c0\\uc6d0, \\uacbd\\uae30\\ub3c4 \\ucc38\\uc804\\uba85\\uc608\\uc218\\ub2f9, \\uc0ac\\ud56d \\uc9c0\\uc6d0\\ub300\\uc0c1, \\uc0ac\\ud56d \\uc9c0\\uc6d0\\ub300\\uc0c1 \\uc9c0\\uae09\\uae08\\uc561, \\uc9c0\\uc6d0 \\uc0ac\\ud56d \\uc9c0\\uc6d0\\ub300\\uc0c1\", \"<b>Topic 3</b><br>Words: \\ub300\\uad6c\\uad11\\uc5ed\\uc2dc \\uc2dc\\ub0b4\\ubc84\\uc2a4, \\ud55c\\uc758\\ub300 \\ud559\\uc0dd, \\ub300\\ud559 \\ub300\\uad6c\\uad11\\uc5ed\\uc2dc \\uc2dc\\ub0b4\\ubc84\\uc2a4, \\ub300\\uad6c\\uad11\\uc5ed\\uc2dc \\ub2f5\\ubcc0 \\uc774\\ub807\\uac8c, \\ud55c\\uc758\\ub300 \\ud559\\uc0dd \\ub300\\uad6c\\uad11\\uc5ed\\uc2dc\", \"<b>Topic 3</b><br>Words: \\uc18c\\uc8fc \\ubc31\\ud654 \\uc218\\ubcf5, \\ubb38\\uc81c\\uac00 \\uc5c6\\ub098\\uc694\\uc8fc\\ub958, \\uc54a\\uc74c \\uccad\\uc8fc \\uac00\\uc815\\uc6a9, \\uc601\\uc5c5 \\uc18c\\uc8fc \\uccad\\uc8fc, \\uc218\\ubcf5 \\uccad\\uc8fc \\uc870\\ub9ac\", \"<b>Topic 3</b><br>Words: \\uc2e0\\uaddc\\uc8fc\\ud0dd \\ucde8\\ub4dd\\uc77c \\uc591\\ub3c4, \\ub418\\uae30\\uc804 \\uc2e0\\uaddc\\uc8fc\\ud0dd, \\ub418\\uae30\\uc804 \\uc2e0\\uaddc\\uc8fc\\ud0dd \\ucde8\\ub4dd, \\uc2e0\\uaddc\\uc8fc\\ud0dd \\ucde8\\ub4dd \\uc885\\uc804\\uc8fc\\ud0dd, \\ucde8\\ub4dd \\uc885\\uc804\\uc8fc\\ud0dd \\uc2e0\\uaddc\\uc8fc\\ud0dd\", \"<b>Topic 3</b><br>Words: \\ud5e4\\uc5b4\\ub9ac\\ubca0\\uce58 \\ub77c\\uc774 \\uadf8\\ub77c\\uc2a4, \\ub77c\\uc774 \\uadf8\\ub77c\\uc2a4 \\uc885\\uc790, \\uc790\\uc6b4\\uc601 \\ud5e4\\uc5b4\\ub9ac\\ubca0\\uce58 \\ub77c\\uc774, \\ud5e4\\uc5b4\\ub9ac\\ubca0\\uce58 \\ub77c\\uc774, \\uc800\\uc628\\ucc3d\\uace0 \\ubcf4\\uad00\", \"<b>Topic 3</b><br>Words: \\uc720\\uc544 \\uad50\\uc721, \\uad50\\uc721 \\uacfc\\uc815 \\ud604\\uc7a5, \\uad50\\uc0ac \\uc720\\uc544, \\ub180\\uc774 \\uc911\\uc2ec \\uad50\\uc721, \\uc720\\uc544 \\ube44\\uc728 \\ub300\\ud3ed\", \"<b>Topic 3</b><br>Words: \\uacbd\\uae30\\ub3c4 \\uccad\\ub144 \\uba74\\uc811\\uc218\\ub2f9, \\uccad\\ub144 \\uba74\\uc811\\uc218\\ub2f9, \\uacbd\\uae30\\ub3c4 \\uccad\\ub144 \\ub178\\ub3d9\\uc790, \\uc9c0\\ubd88 \\uc5b4\\ucc98\\uad6c\\ub2c8, \\uc9c0\\ubd88 \\uc0ac\\ud68c\\uc801 \\uac70\\ub9ac\", \"<b>Topic 3</b><br>Words: \\ud734\\ub300\\ud3f0 \\uc784\\ub300, \\ud53c\\ud574 \\uad50\\uc6d0 \\ubcf4\\ud638\\uc870\\uce58, \\uc2e0\\uaddc \\uc784\\uc6a9\\uc2dc\\ud5d8 \\uc628\\ub77c\\uc778, \\uc721\\uc544\\uc2dc\\uac04 \\uc0ac\\uc6a9 \\uc218\\uc5c5, \\uc784\\uc6a9\\uc2dc\\ud5d8 \\uc628\\ub77c\\uc778\", \"<b>Topic 3</b><br>Words: \\uc8fc\\ubcc0 \\uc2dc\\uc138, \\ud604\\uc5ed \\ubcf5\\ubb34, \\uc6d0\\uc0c1\\ubcf5\\uad6c \\uc218\\uc2ed\\ub144 \\ub3d9\\uc548, \\uc608\\ube44\\uad70 \\ud6c8\\ub828\\uc7a5 \\uc0ac\\uc720\\uc9c0, \\uc608\\uc815\\uac00\\uaca9 \\uc774\\ud558\", \"<b>Topic 3</b><br>Words: \\ucc98\\ub9ac \\uc5f0\\ub839 \\ubd88\\uad6c\\ud558\\uace0, \\ucd9c\\uc6d0 \\uc785\\uc601\\uc77c\\uc790, \\ucd9c\\uc6d0 \\uc785\\uc601\\uc77c\\uc790 \\ucc98\\ub9ac, \\uc785\\uc601\\uc77c\\uc790 \\ucc98\\ub9ac, 15\\uc77c \\uc120\\uae09\\uae08 \\uc9c0\\uae09\", \"<b>Topic 3</b><br>Words: \\uc774\\uc720 \\ub300\\uad6c\\uad11\\uc5ed\\uc2dc, \\uc77c\\ubd80\\uac1c\\uc815 \\uc774\\uc720 \\ub300\\uad6c\\uad11\\uc5ed\\uc2dc, \\uad6d\\uacf5\\uc720\\uc9c0 \\ud5c8\\uac00 \\uac74\\ucd95\\ubb3c, \\ubb34\\ub2e8\\uc810\\uc720 \\ubcc0\\uc0c1\\uae08 \\ubd80\\uacfc, \\ubb34\\ub2e8\\uc810\\uc720 \\ubcc0\\uc0c1\\uae08\", \"<b>Topic 3</b><br>Words: \\uc644\\uce58 \\ud655\\uc778\\uc11c, \\uc785\\uc601\\uc77c\\uc790 \\uc5f0\\uae30, \\uc785\\uc601\\uc77c\\uc790 \\uc5f0\\uae30 \\uc785\\uc601, \\uac01\\uc885 \\uc5b4\\ud50c \\uac01\\uc885, \\ucd9c\\uc7a5\\uc9c0 \\uc18c\\uc7ac\", \"<b>Topic 3</b><br>Words: \\ud589\\uc815\\ucc98\\ubd84 \\uae30\\uc900, \\uc218\\uba74 \\uc124\\uce58 \\uc2dc\\uc124\\ubb3c, \\uc2dc\\uc124\\ubb3c \\uc591\\uc2dd \\ucca0\\uac70, \\uc2dc\\uc124\\ubb3c \\uad00\\ub9ac \\ub300\\uc7a5, \\uc2dc\\uc124\\ubb3c \\uc591\\uc2dd\", \"<b>Topic 3</b><br>Words: \\ubc29\\ubb38 \\uc804\\ud654 \\uad8c\\uc720, \\ubc29\\ubb38 \\uc804\\ud654, \\uc6d0\\uc815 \\ucd9c\\uc0b0 \\ud574\\ub2f9, \\uc124\\uce58 \\ud68c\\uc0ac, \\uc124\\uce58 \\ud68c\\uc0ac \\ub300\\ud45c\", \"<b>Topic 3</b><br>Words: \\ubb3c\\ud488 \\uad6c\\uc785\\ube44 \\ubb3c\\uac74, \\ud2b9\\ubcc4\\ubd84\\uc591 \\uc2e4\\uc81c \\ubd84\\uc591, \\uad6c\\uc785\\ube44 \\ubb3c\\uac74, \\ucde8\\uc5c5\\uc9c0\\uc6d0 \\ud61c\\ud0dd, \\uad6d\\ubbfc\\uc784\\ub300\\uc8fc\\ud0dd \\uc9c0\\uc6d0\", \"<b>Topic 3</b><br>Words: \\uc77c\\ubc18 \\uc815\\uae30 \\ud734\\uac00, \\ud734\\uac00 \\uc77c\\ubc18 \\uc815\\uae30, \\ubbf8\\ud3ec\\ud568 \\uc804\\uc5ed \\ud734\\uac00, \\uacbd\\uae30\\ub3c4 \\uc7ac\\ub09c\\uae30\\ubcf8\\uc18c\\ub4dd \\uc9c0\\uae09, \\uacbd\\uae30\\ub3c4 \\uc7ac\\ub09c\\uae30\\ubcf8\\uc18c\\ub4dd\"], \"marker\": {\"color\": \"#56B4E9\"}, \"mode\": \"lines\", \"name\": \"3_\\uc774\\uc720 \\ub300\\uad6c\\uad11\\uc5ed\\uc2dc_\\uc77c\\ubd80\\uac1c\\uc815 \\uc774\\uc720 \\ub300\\uad6c\\uad11\\uc5ed\\uc2dc_\\ud5c8\\uac00 \\uac74\\ucd95\\ubb3c \\uac70\\uc8fc_\\ud5e4\\uc5b4\\ub9ac\\ubca0\\uce58...\", \"type\": \"scatter\", \"x\": [\"2020-01-01T00:00:00\", \"2020-02-01T00:00:00\", \"2020-06-01T00:00:00\", \"2020-10-01T00:00:00\", \"2020-11-01T00:00:00\", \"2020-12-01T00:00:00\", \"2021-01-01T00:00:00\", \"2021-02-01T00:00:00\", \"2021-03-01T00:00:00\", \"2021-04-01T00:00:00\", \"2021-05-01T00:00:00\", \"2021-06-01T00:00:00\", \"2021-07-01T00:00:00\", \"2021-08-01T00:00:00\", \"2021-09-01T00:00:00\", \"2021-10-01T00:00:00\"], \"y\": [1, 1, 1, 1, 7, 24, 22, 12, 13, 9, 72, 82, 67, 39, 5, 7]}, {\"hoverinfo\": \"text\", \"hovertext\": [\"<b>Topic 9</b><br>Words: \\ubb3c\\uc18d \\ucc3d\\uc0b4, \\uc218\\uc0b0 \\ub3d9\\uc2dd\\ubb3c \\ud574\\uba74, \\ubb3c\\uc18d \\ucc3d\\uc0b4 \\uc774\\uc6a9, \\uc7a5\\uce58 \\ubb3c\\uc18d, \\uc5b4\\uc5c5\\uc778 \\uc0b0\\uc18c\", \"<b>Topic 9</b><br>Words: \\uc218\\uc0b0\\uc5c5\\ubc95 \\uaddc\\uc815 \\uc5b4\\uc5c5, \\uc704\\ubc18 \\uc218\\uc0b0\\uc5c5\\ubc95 \\uaddc\\uc815, \\uc704\\ubc18 \\uc218\\uc0b0\\uc5c5\\ubc95, \\uc6b4\\ubc18 \\uc704\\ubc18 \\uc218\\uc0b0\\uc5c5\\ubc95, \\uc218\\uc0b0\\uc5c5\\ubc95 \\uaddc\\uc815\", \"<b>Topic 9</b><br>Words: \\ubd84\\ud560 \\uc815\\ucc45, \\uc5b4\\ucd0c\\uacc4 \\ubd84\\ud560 \\uc815\\ucc45, \\ud589\\uc815\\ucc98\\ubd84 \\uae30\\uc900, \\uc5b4\\uc5c5 \\ud604\\ud669, \\uc5b4\\uc5c5 \\ud604\\ud669 \\ubb38\\uc81c\\uc810\", \"<b>Topic 9</b><br>Words: \\uc774\\ud558 \\ubcf4\\uc874, \\uaddc\\uc815 \\ud6c8\\uc81c \\uc5f0\\uc5b4, \\uc81c\\ud488 \\uc774\\ud558 \\ubcf4\\uc874, \\ud6c8\\uc81c \\uc5f0\\uc5b4 \\uc6d0\\ub8cc, \\ud6c8\\uc81c \\uc5f0\\uc5b4 \\uc774\\ud558\", \"<b>Topic 9</b><br>Words: \\uacb0\\uacfc \\ubb3c\\uace0\\uae30 \\uacfc\\uc790, \\uc5b4\\ucc3d\\uc218 \\ud3d0\\uc218, \\ubd84\\ub4e4 \\ubb3c\\uace0\\uae30, \\uacb0\\uacfc \\ubb3c\\uace0\\uae30, \\ubd10\\uc904 \\ubb3c\\uace0\\uae30 \\uc548\\uc804\", \"<b>Topic 9</b><br>Words: \\ub09a\\uc2dc\\uc5b4\\uc120\\uc5c5 \\uc2e0\\uace0 \\uc11c\\ub958, \\ub09a\\uc2dc\\uc5b4\\uc120\\uc5c5 \\uc2e0\\uace0, \\ud589\\uc815\\ucc98\\ubd84 \\uae30\\uc900, \\uc5b4\\uc5c5 \\ud604\\ud669, \\uc5b4\\uc5c5 \\ud604\\ud669 \\ubb38\\uc81c\\uc810\", \"<b>Topic 9</b><br>Words: \\uc6d0\\ubd80 \\uc5f4\\ub78c \\uad50\\ubd80, \\uc5f4\\ub78c \\uad50\\ubd80 \\uc808\\ucc28, \\uc5b4\\uc5c5\\uad8c \\uc6d0\\ubd80 \\uc5f4\\ub78c, \\uad50\\ubd80 \\uc808\\ucc28, \\ud589\\uc815\\ucc98\\ubd84 \\uae30\\uc900\", \"<b>Topic 9</b><br>Words: \\ud589\\uc815\\ucc98\\ubd84 \\uae30\\uc900, \\uc5b4\\uc5c5 \\ud604\\ud669, \\uc5b4\\uc5c5 \\ud604\\ud669 \\ubb38\\uc81c\\uc810, \\ud589\\uc815\\ucc98\\ubd84 \\uae30\\uc900 \\uc218\\uc0b0\\uc5c5\\ubc95, \\ud589\\uc815\\ucc98\\ubd84 \\uae30\\uc900 \\uc2dc\\uc7a5\", \"<b>Topic 9</b><br>Words: \\ud574\\uc591\\ud658\\uacbd\\uad00\\ub9ac\\ubc95 \\ud574\\uc591\\uc0b0\\ubd84 \\ubd88\\ubc95, \\ud574\\uc591\\ud658\\uacbd\\uad00\\ub9ac\\ubc95 \\ud574\\uc591\\uc0b0\\ubd84, \\ud574\\uc591\\uc0b0\\ubd84 \\ubd88\\ubc95, \\ud604\\ud589\\ubc95 \\ud574\\uc591\\ud658\\uacbd\\uad00\\ub9ac\\ubc95 \\ud574\\uc591\\uc0b0\\ubd84, \\ud604\\ud589\\ubc95 \\ud574\\uc591\\ud658\\uacbd\\uad00\\ub9ac\\ubc95\", \"<b>Topic 9</b><br>Words: \\ud589\\uc815\\ucc98\\ubd84 \\uae30\\uc900, \\uc5b4\\uc5c5 \\ud604\\ud669 \\ubb38\\uc81c\\uc810, \\ud589\\uc815\\ucc98\\ubd84 \\uae30\\uc900 \\uc218\\uc0b0\\uc5c5\\ubc95, \\uae30\\uc900 \\uc218\\uc0b0\\uc5c5\\ubc95, \\uc704\\ubc18 \\ud589\\uc815\\ucc98\\ubd84 \\uae30\\uc900\", \"<b>Topic 9</b><br>Words: \\uc5b4\\ub958 \\ub3c5\\uc131, \\uc544\\uc9c8\\uc0b0 \\uc5b4\\ub958, \\uc544\\uc9c8\\uc0b0 \\uc5b4\\ub958 \\ub3c5\\uc131, \\ub09a\\uc2dc \\uc5b4\\uc120, \\ub09a\\uc2dc\\ud130\\uc5c5 \\ud5c8\\uac00\", \"<b>Topic 9</b><br>Words: \\uc5b4\\uc5c5\\uc778 \\uc0ac\\ub78c \\uc790\\uc5f0\\uc0b0, \\ub09a\\uc2dc \\uc5b4\\uc5c5 \\ud3ec\\ud568, \\ub09a\\uc2dc \\uc5b4\\uc5c5, \\ucd1d\\ud5c8\\uc6a9\\uc5b4\\ud68d\\ub7c9 \\uc81c\\ub3c4 \\ub09a\\uc2dc, \\uc804\\ubb38 \\uad50\\uc721 \\ub09a\\uc2dc\\uc5b4\\uc120\", \"<b>Topic 9</b><br>Words: \\uae30\\uc900 \\uad6c\\uccb4 \\uad00\\ub9ac\\uc720\\ud615, \\uaddc\\uc81c \\ubc30\\uc81c \\uac1c\\ubc1c, \\uaddc\\uc81c\\uc0ac\\ud56d \\uc900\\uc218, \\uc0b0\\ub9bc \\uc801\\uc6a9 \\uaddc\\uc81c, \\ubb3c\\uace0\\uae30 \\ud3ec\\ud68d \\ucc98\\ubc8c\"], \"marker\": {\"color\": \"#009E73\"}, \"mode\": \"lines\", \"name\": \"9_\\ud589\\uc815\\ucc98\\ubd84 \\uae30\\uc900_\\uc5b4\\uc5c5 \\ud604\\ud669 \\ubb38\\uc81c\\uc810_\\uae30\\uc900 \\uc218\\uc0b0\\uc5c5\\ubc95_\\ud589\\uc815\\ucc98\\ubd84 \\uae30\\uc900 \\uc218\\uc0b0\\uc5c5\\ubc95\", \"type\": \"scatter\", \"x\": [\"2020-06-01T00:00:00\", \"2020-09-01T00:00:00\", \"2020-11-01T00:00:00\", \"2020-12-01T00:00:00\", \"2021-01-01T00:00:00\", \"2021-03-01T00:00:00\", \"2021-04-01T00:00:00\", \"2021-05-01T00:00:00\", \"2021-06-01T00:00:00\", \"2021-07-01T00:00:00\", \"2021-08-01T00:00:00\", \"2021-09-01T00:00:00\", \"2021-10-01T00:00:00\"], \"y\": [1, 3, 2, 3, 2, 2, 2, 1, 9, 116, 54, 9, 3]}, {\"hoverinfo\": \"text\", \"hovertext\": [\"<b>Topic 6</b><br>Words: \\uc678\\uad6d \\uc785\\uad6d \\ud558\\uc790, \\uc678\\uad6d \\uc785\\uad6d, \\uc678\\uad6d\\uc778\\uc120\\uc6d0 \\uace0\\uc6a9, \\uc678\\uad6d\\uc778 \\uadfc\\ub85c\\uc790, \\ucd9c\\uc785\\uad6d \\uc0ac\\uc2e4 \\uc99d\\uba85\\uc11c\", \"<b>Topic 6</b><br>Words: \\uc678\\uad6d\\uc778 \\uadfc\\ub85c\\uc7a5\\ub824\\uae08, \\uc678\\uad6d\\uc778 \\uadfc\\ub85c\\uc7a5\\ub824\\uae08 \\uc2e0\\uccad, \\uadfc\\ub85c\\uc7a5\\ub824\\uae08 \\uc2e0\\uccad, \\ucd9c\\uc785\\uad6d \\uc0ac\\uc2e4, \\ucd9c\\uc785\\uad6d \\uc0ac\\uc2e4 \\uc99d\\uba85\\uc11c\", \"<b>Topic 6</b><br>Words: \\uc785\\uad6d \\uba74\\uc81c \\ud574\\uc9c0, \\uac1c\\uc778 \\uc77c\\uc2e0 \\uc0ac\\uc720, \\uc678\\uad6d\\uc778\\ub4f1\\ub85d\\uc99d \\ubc1c\\ubd80, \\uc678\\uad6d\\uc778\\ub4f1\\ub85d\\uc99d \\uc785\\uad6d \\uba74\\uc81c, \\uc678\\uad6d\\uc778\\ub4f1\\ub85d\\uc99d \\uc785\\uad6d\", \"<b>Topic 6</b><br>Words: \\uae30\\uac04 \\ud574\\uc678, \\uae30\\uac04 \\ud574\\uc678 \\uc5f0\\uc218, \\uc9c0\\uc6d0 \\uae30\\uac04 \\ud574\\uc678, \\ud574\\uc678 \\uadfc\\ubb34 \\ud734\\uc9c1, \\uc2e0\\uace0\\ubc29\\ubc95 \\uac04\\ubcd1\\ud734\\uc9c1 \\uad6d\\uc678\\uc5ec\\ud589\", \"<b>Topic 6</b><br>Words: \\ud574\\uc678 \\uc9c1\\uad6c, \\ub178\\ub3d9\\uc790 \\uc77c\\ud558\\uace0 \\ub2e8\\uc18d\\ubd80\\ud0c1, \\ub9cc\\uc57d \\uad6d\\uac00\\uacf5\\ubb34\\uc6d0 \\ud574\\uc678, \\uad6d\\uc678 \\ucd9c\\uc7a5 \\uc5ec\\ube44, \\ud574\\uc678 \\uccb4\\ub958 \\ub3d9\\uc548\", \"<b>Topic 6</b><br>Words: \\ub0b4\\uc5d0 \\uc5ec\\uad8c\\uc2e0\\uccad \\ub2e4\\uc2dc, \\uac15\\uc0ac \\ucc44\\uc6a9 \\uad6c\\ube44\\uc11c\\ub958, \\uad6d\\uc678\\uc5ec\\ud589 \\ud5c8\\uac00\\uae30\\uac04 \\ub0b4\\uc5d0, \\uad6d\\uc678\\uc5ec\\ud589 \\uc678\\uad6d\\uc778 \\uac15\\uc0ac, \\uc5ec\\uad8c\\uc2e0\\uccad \\ub2e4\\uc2dc\", \"<b>Topic 6</b><br>Words: \\ubcc0\\uacbd \\uc704\\uc784 \\uc678\\uad6d\\uc778\\ub4f1\\ub85d, \\uc704\\uc784 \\uc678\\uad6d\\uc778\\ub4f1\\ub85d \\uc0ac\\uc2e4, \\uc0ac\\ud68c\\ubcf5\\ubb34\\uc694\\uc6d0 \\uad6d\\uc678\\uc5ec\\ud589 \\uc721\\uc544\\ud734\\uc9c1, \\uad6d\\uc678\\uc5ec\\ud589 \\uc721\\uc544\\ud734\\uc9c1, \\uad6d\\uc678\\uc5ec\\ud589 \\uc721\\uc544\\ud734\\uc9c1 \\uad6d\\uc678\\uc5ec\\ud589\", \"<b>Topic 6</b><br>Words: \\uad6d\\uc678\\uc5ec\\ud589 \\ud5c8\\uac00, \\uc2e0\\uccad \\uc678\\uad6d\\uc778, \\ubcc0\\uacbd \\uc2e0\\uccad\\ubc29\\ubc95 \\uad6d\\uc678\\uc5ec\\ud589, \\uc99d\\uba85\\uc11c \\ubc1c\\uae09 \\uc5ec\\ud589\\uc5c5, \\uc774\\ubbfc \\uc544\\ub2d9\\ub2c8\\ub2e4 \\uc815\\ub3c4\", \"<b>Topic 6</b><br>Words: \\uad6d\\uc678\\uc5ec\\ud589 \\ud5c8\\uac00, \\ud5c8\\uac00\\uc0ac\\ud56d \\ubcc0\\uacbd\\uc774, \\uad6d\\uc678\\uc5ec\\ud589 \\ud5c8\\uac00\\uc0ac\\ud56d \\ubcc0\\uacbd\\uc774, \\uad6d\\uc678\\uc5ec\\ud589 \\ud5c8\\uac00 \\uc0ac\\ub78c, \\ud5c8\\uac00 \\uc0ac\\ub78c\", \"<b>Topic 6</b><br>Words: \\uad6d\\uc678\\uc5ec\\ud589 \\ud5c8\\uac00, \\uc678\\uad6d\\uc778 \\uadfc\\ub85c\\uc7a5\\ub824\\uae08, \\uc678\\uad6d\\uc778 \\uadfc\\ub85c\\uc7a5\\ub824\\uae08 \\uc2e0\\uccad, \\uc678\\uad6d\\uc778\\uc120\\uc6d0 \\uace0\\uc6a9, \\uc0ac\\ud68c\\ubcf5\\ubb34\\uc694\\uc6d0 \\ud574\\uc678\\uc5ec\\ud589\", \"<b>Topic 6</b><br>Words: \\ucd9c\\uc785\\uad6d \\uae30\\ub85d, \\ucd9c\\uc785\\uad6d \\uc0ac\\uc2e4 \\uc99d\\uba85\\uc11c, \\uc678\\uad6d\\uc778 \\uc815\\ubcf4\\uacf5\\uac1c, \\uc678\\uad6d\\uc778 \\uc815\\ubcf4\\uacf5\\uac1c \\uccad\\uad6c, \\uc678\\uad6d\\uc778\\ub4f1\\ub85d \\uc0ac\\uc2e4 \\uc99d\\uba85\", \"<b>Topic 6</b><br>Words: \\uc678\\uad6d\\uc778\\uc120\\uc6d0 \\uace0\\uc6a9 \\uc2e0\\uccad, \\uc2e0\\uccad \\uc678\\uad6d\\uc778\\uc120\\uc6d0 \\uace0\\uc6a9, \\uc2e0\\uccad \\uc678\\uad6d\\uc778\\uc120\\uc6d0, \\ucd9c\\uc785\\uad6d \\uc0ac\\uc2e4, \\uc2e0\\uace0 \\uc678\\uad6d\\uc778\\uc120\\uc6d0\", \"<b>Topic 6</b><br>Words: \\uace0\\uc6a9 \\ucd94\\ucc9c \\ucca8\\ubd80\\uc11c\\ub958, \\ucd9c\\uc785\\uad6d \\uc0ac\\uc2e4, \\uad6d\\uc678\\uc5ec\\ud589 \\ud5c8\\uac00, \\ucd9c\\uc785\\uad6d \\uc0ac\\uc2e4 \\uc99d\\uba85\\uc11c, \\uc678\\uad6d\\uc778\\ub4f1\\ub85d \\uc0ac\\uc2e4 \\uc99d\\uba85\"], \"marker\": {\"color\": \"#F0E442\"}, \"mode\": \"lines\", \"name\": \"6_\\ucd9c\\uc785\\uad6d \\uc0ac\\uc2e4_\\ud574\\uc678 \\uccb4\\ub958_\\uc678\\uad6d\\uc778\\ub4f1\\ub85d \\uc0ac\\uc2e4 \\uc99d\\uba85_\\uc678\\uad6d\\uc778\\ub4f1\\ub85d \\uc0ac\\uc2e4\", \"type\": \"scatter\", \"x\": [\"2020-08-01T00:00:00\", \"2020-10-01T00:00:00\", \"2020-11-01T00:00:00\", \"2020-12-01T00:00:00\", \"2021-01-01T00:00:00\", \"2021-02-01T00:00:00\", \"2021-03-01T00:00:00\", \"2021-04-01T00:00:00\", \"2021-05-01T00:00:00\", \"2021-06-01T00:00:00\", \"2021-07-01T00:00:00\", \"2021-08-01T00:00:00\", \"2021-09-01T00:00:00\"], \"y\": [1, 2, 3, 4, 15, 4, 6, 14, 35, 36, 73, 39, 2]}, {\"hoverinfo\": \"text\", \"hovertext\": [\"<b>Topic 0</b><br>Words: \\ubaa8\\uc9d1 \\uc694\\uac15 \\uc870\\ud68c, \\uac00\\ud574\\uc790 \\uc804\\ud559 \\ucc98\\ubd84, \\uac00\\ud574\\uc790 \\uc804\\ud559, \\ub0a0\\uc778 \\ucc98\\uc74c\\ud559\\uad50\\ub85c, \\uc778\\uc7a5 \\ub0a0\\uc778 \\ucc98\\uc74c\\ud559\\uad50\\ub85c\", \"<b>Topic 0</b><br>Words: \\uc601\\uc544 \\uc720\\uce58\\ubd80\\ub85c \\uc9c4\\ud559, \\uc720\\uce58\\ubd80\\ub85c \\uc9c4\\ud559, \\ud14d\\uc2a4\\ud2b8 \\ubb38\\uc790 \\uac15\\uc758, \\uc785\\ud559 \\ubc30\\uc815 \\uc6b0\\uc120\\ubc30\\uc815, \\uc74c\\uc131 \\uac15\\uc758\", \"<b>Topic 0</b><br>Words: \\uc218\\uac15 \\ud6c4\\uae30, \\uc81c\\uc8fc\\ud2b9\\ubcc4\\uc790\\uce58\\ub3c4\\uad50\\uc721\\uccad \\uad00\\ud560 \\ud559\\uad50, \\uc81c\\uc8fc\\ud2b9\\ubcc4\\uc790\\uce58\\ub3c4\\uad50\\uc721\\uccad \\uad00\\ud560, \\uad00\\ud560 \\ud559\\uad50, \\ub300\\uc0c1 \\ud559\\uc0dd\", \"<b>Topic 0</b><br>Words: 10\\uba85 \\uac83\\uc778\\uc9c0, 10\\uba85 \\ubbf8\\ub9cc, \\ub9d0\\uc774 \\uc55e\\uc11c \\uc5b8\\uae09, \\uc804\\uc785\\uc2e0\\uace0 \\uc778\\uadfc \\ud559\\uad50, \\ucc38\\uc11d \\uadfc\\ubb34 \\uac1c\\uc778\", \"<b>Topic 0</b><br>Words: \\uc9c0\\uc6d0 \\ud559\\uc6d0, \\ud559\\uad50 \\uc9c4\\ud559 \\ubaa9\\uc801, \\uc9c0\\uc6d0 \\ud559\\uc6d0 \\ub2e4\\ub2c8\\uace0, \\uc0c1\\uae09 \\ud559\\uad50 \\uc9c4\\ud559, \\uc0c1\\uae09 \\ud559\\uad50\", \"<b>Topic 0</b><br>Words: \\ud559\\uc0dd\\uc120\\uc218 \\uad50\\uc0ac, \\uc804\\uadfc \\ud559\\uad50, \\ud559\\uad50 \\ucd9c\\uc785\\ubb38 50m, \\uc9d1\\ud604 \\uc911\\ud559\\uad50 \\uac1c\\uad50, \\uad50\\uc0ac \\uc804\\ucd9c\", \"<b>Topic 0</b><br>Words: \\ucd08\\ub4f1\\ud559\\uad50 \\ubd84\\uad50\\uc7a5 \\ud559\\uc801, \\ud3d0\\uad50 \\uc601\\ub0a8 \\ucd08\\ub4f1\\ud559\\uad50, \\ud559\\uad50 \\ud3d0\\uad50 \\ucd08\\ub4f1\\ud559\\uad50, \\uc601\\ub0a8 \\ucd08\\ub4f1\\ud559\\uad50, \\ud559\\uad50 \\ud3d0\\uad50 \\uc601\\ub0a8\", \"<b>Topic 0</b><br>Words: \\ud559\\uad50 \\ud3d0\\uad50, \\uc878\\uc5c5 \\ud559\\uad50 \\ud3d0\\uad50, \\ud559\\uc801 \\uc878\\uc5c5 \\ud559\\uad50, \\ud3c9\\uac00 \\ud559\\ub144, \\ud68c\\uc758\\ub85d \\uc5f4\\ub78c \\uac00\\ud574\\ud559\\uc0dd\", \"<b>Topic 0</b><br>Words: \\uc911\\ud559\\uad50 \\ubc30\\uc815, \\ucd08\\uc911\\ub4f1\\ud559\\uad50 \\uc815\\ubcf4\\uacf5\\uc2dc, \\ucd08\\uc911\\ub4f1\\ud559\\uad50 \\uc815\\ubcf4\\uacf5\\uc2dc \\uc785\\ub825, \\ud559\\uad50 \\uc11d\\uba74, \\uad00\\ub0b4 \\ucd08\\ub4f1\\ud559\\uad50\", \"<b>Topic 0</b><br>Words: \\uce74\\ub124\\uc774\\uc158 \\ud559\\uc0dd, \\uc120\\uc0dd\\ub2d8 \\uce74\\ub124\\uc774\\uc158, \\ucd9c\\uc11d \\uc815\\uc9c0, \\uac70\\uc8fc\\uc9c0 \\uc774\\uc804, \\ub300\\uc804 \\uc774\\uc0ac \\uc790\\ub140\", \"<b>Topic 0</b><br>Words: \\uc548\\ub0b4 \\uad00\\ub0b4, \\uc6a9\\ub3c4\\ubcc0\\uacbd \\uc2dc\\uc815\\uba85\\ub839, \\uc5b4\\ub9b0\\uc774\\uc9d1 \\uc6d0\\uc7a5 \\uad50\\uc721, \\uad00\\ub0b4 \\uc911\\ud559\\uad50 \\uc548\\ub0b4, \\uad00\\ub0b4 \\ucd08\\ub4f1\\ud559\\uad50 \\uc548\\ub0b4\", \"<b>Topic 0</b><br>Words: \\ud559\\uc0dd \\uc878\\uc5c5, \\ud0c0\\uc2dc\\ub3c4 \\uc774\\uc0ac \\uc911\\ud559\\uad50, \\ud559\\uae09 \\ud604\\ud669 \\uad50\\uc6d0, \\ud0c0\\uc2dc\\ub3c4 \\uc804\\ucd9c \\uc911\\ud559\\uad50, \\uc878\\uc5c5 \\ud559\\uad50\\uc6b4\\uc601\\uc704\\uc6d0\\ud68c \\ud559\\ubd80\\ubaa8\\uc704\\uc6d0\"], \"marker\": {\"color\": \"#D55E00\"}, \"mode\": \"lines\", \"name\": \"0_\\ud559\\uad50 \\ud3d0\\uad50_\\ucd08\\ub4f1\\ud559\\uad50 \\ubd84\\uad50\\uc7a5 \\ud559\\uc801_\\ucd08\\ub4f1\\ud559\\uad50 \\uc785\\ud559_\\uc911\\ud559\\uad50 \\ubc30\\uc815\", \"type\": \"scatter\", \"x\": [\"2020-10-01T00:00:00\", \"2020-11-01T00:00:00\", \"2020-12-01T00:00:00\", \"2021-01-01T00:00:00\", \"2021-02-01T00:00:00\", \"2021-03-01T00:00:00\", \"2021-04-01T00:00:00\", \"2021-05-01T00:00:00\", \"2021-06-01T00:00:00\", \"2021-07-01T00:00:00\", \"2021-08-01T00:00:00\", \"2021-09-01T00:00:00\"], \"y\": [3, 9, 37, 14, 12, 11, 89, 72, 230, 85, 19, 9]}, {\"hoverinfo\": \"text\", \"hovertext\": [\"<b>Topic 4</b><br>Words: \\uc778\\uc9c0\\uc138 \\ubd80\\ub2f4 \\uc548\\ub0b4, \\uac1c\\ubcc4\\uacf5\\uc2dc\\uc9c0\\uac00 \\uc758\\uacac\\uc81c\\ucd9c, \\ub2e8\\uc18d \\uc0dd\\uac01 \\uc2e0\\uccad, \\uac1c\\ubcc4\\uacf5\\uc2dc\\uc9c0\\uac00 \\uc758\\uacac\\uc81c\\ucd9c \\uac1c\\ubcc4\\uacf5\\uc2dc\\uc9c0\\uac00, \\uc758\\uacac\\uc81c\\ucd9c \\uac1c\\ubcc4\\uacf5\\uc2dc\\uc9c0\\uac00\", \"<b>Topic 4</b><br>Words: \\ud30c\\uc5c5 \\ubcf5\\ubb34, \\uac1c\\ubcc4\\uacf5\\uc2dc\\uc9c0\\uac00 \\uc758\\uacac\\uc81c\\ucd9c, \\uac1c\\ubcc4\\uacf5\\uc2dc\\uc9c0\\uac00 \\uc758\\uacac\\uc81c\\ucd9c \\uac1c\\ubcc4\\uacf5\\uc2dc\\uc9c0\\uac00, \\uc758\\uacac\\uc81c\\ucd9c \\uac1c\\ubcc4\\uacf5\\uc2dc\\uc9c0\\uac00 \\uc758\\uacac\\uc81c\\ucd9c, \\uc758\\uacac\\uc81c\\ucd9c \\uac1c\\ubcc4\\uacf5\\uc2dc\\uc9c0\\uac00\", \"<b>Topic 4</b><br>Words: ee\\uc13c\\ud130 \\uc57c\\uc601, ee\\uc13c\\ud130 \\uc57c\\uc601 \\uc218\\ub828, \\uc989\\uacb0 \\uc2ec\\ud310, \\uac1c\\ubcc4\\uacf5\\uc2dc\\uc9c0\\uac00 \\uc758\\uacac\\uc81c\\ucd9c, \\uc11c\\ud574 \\ud669\\ud574\", \"<b>Topic 4</b><br>Words: \\ubaa9\\ub85d \\ud1b5\\uad00, \\uac1c\\ubcc4\\uacf5\\uc2dc\\uc9c0\\uac00 \\uc758\\uacac\\uc81c\\ucd9c, \\uc758\\uacac\\uc81c\\ucd9c \\uac1c\\ubcc4\\uacf5\\uc2dc\\uc9c0\\uac00, \\uc758\\uacac\\uc81c\\ucd9c \\uac1c\\ubcc4\\uacf5\\uc2dc\\uc9c0\\uac00 \\uc758\\uacac\\uc81c\\ucd9c, \\uac1c\\ubcc4\\uacf5\\uc2dc\\uc9c0\\uac00 \\uc758\\uacac\\uc81c\\ucd9c \\uac1c\\ubcc4\\uacf5\\uc2dc\\uc9c0\\uac00\", \"<b>Topic 4</b><br>Words: \\uc218\\ub3d7\\ubb3c \\uc548\\uc2ec, \\uc218\\ub3d7\\ubb3c \\uc548\\uc2ec \\uc218\\ub3d7\\ubb3c, \\uc548\\uc2ec \\uc218\\ub3d7\\ubb3c \\uc548\\uc2ec, \\uac1c\\ubcc4\\uacf5\\uc2dc\\uc9c0\\uac00 \\uc758\\uacac\\uc81c\\ucd9c, \\ub2e8\\uc18d \\uc0dd\\uac01 \\uc2e0\\uccad\", \"<b>Topic 4</b><br>Words: \\uc5ed\\ud560 \\uc124\\uba85, \\ubc1c\\uc0dd \\ud558\\uad6c \\uac1c\\ub150, \\ud558\\uad6c \\uac1c\\ub150 \\uc5ed\\ud560, \\uacbd\\uad00 \\uc2ec\\uc758, \\uac1c\\ub150 \\uc5ed\\ud560 \\uc124\\uba85\", \"<b>Topic 4</b><br>Words: \\ub355\\uc219\\uad81 \\uc11d\\uc5b4\\ub2f9 \\uc11d\\uc5b4\\ub2f9, \\uc11d\\uc5b4\\ub2f9 \\ub355\\uc218\\uad81 \\ub355\\ud64d\\uc804, \\uc11d\\uc5b4\\ub2f9 \\ub355\\uc218\\uad81, \\uc0c1\\uc218 \\ud640\\uc218, \\uc0c1\\uc218 \\ud640\\uc218 \\uc911\\ud654\", \"<b>Topic 4</b><br>Words: \\ud310\\ub2e8\\uae30\\uc900 \\ub300\\ud45c\\uc801 \\uacf5\\uc775\\uc2e0\\uace0, \\uacb8\\ucd08\\ube59 \\uad50\\uc6d0, \\uacb8\\ucd08\\ube59 \\uad50\\uc6d0 \\uc885\\ub958, \\ub355\\uc218\\uad81 \\uc11d\\uc870\\uc804 \\ub355\\uc218\\uad81, \\ub300\\ud45c\\uc801 \\uacf5\\uc775\\uc2e0\\uace0 \\ub300\\uc0c1\", \"<b>Topic 4</b><br>Words: \\ud574\\uacb0 \\uc7ac\\uc774\\uc6d4, \\ud574\\uacb0 \\uc7ac\\uc774\\uc6d4 \\uc804\\uc6a9, \\ud0d1\\ub3d9 \\uacfc\\ubc00 \\ud574\\uacb0, \\uc7ac\\uc774\\uc6d4 \\uc804\\uc6a9 \\ucd94\\uac00, \\ucde8\\ub4dd\\uc138 \\ub3c5\\ucd09 \\ub3c5\\ucd09\", \"<b>Topic 4</b><br>Words: \\uad00\\ub9ac \\uc5b4\\ud56d \\uc5b4\\ud56d, \\uc0b0\\uccad \\uad00\\ub9ac \\uc5b4\\ud56d, \\uc0b0\\uccad \\uad00\\ub9ac, \\uc11c\\ud574 \\ud669\\ud574, \\uac1c\\ubcc4\\uacf5\\uc2dc\\uc9c0\\uac00 \\uc758\\uacac\\uc81c\\ucd9c\", \"<b>Topic 4</b><br>Words: \\ud669\\uc0c9 \\ub2e8\\uc18d \\uc0dd\\uac01, \\ud669\\uc0c9 \\ub2e8\\uc18d, \\ub2e8\\uc18d \\uc0dd\\uac01 \\uc2e0\\uccad, \\uac1c\\ubcc4\\uacf5\\uc2dc\\uc9c0\\uac00 \\uc758\\uacac\\uc81c\\ucd9c, \\uc591\\uc7ac\\ucc9c \\uc18c\\uac1c\", \"<b>Topic 4</b><br>Words: \\ud56d\\ub9cc \\ub2e8\\uc5b4, \\uc5b4\\ud56d \\uc885\\ub958, \\uac1c\\ubcc4\\uacf5\\uc2dc\\uc9c0\\uac00 \\uc758\\uacac\\uc81c\\ucd9c, \\uc5b4\\ud56d \\uc5b4\\ud56d, \\uacf5\\uc775\\uc2e0\\uace0 \\ub300\\uc0c1\"], \"marker\": {\"color\": \"#0072B2\"}, \"mode\": \"lines\", \"name\": \"4_\\uac1c\\ubcc4\\uacf5\\uc2dc\\uc9c0\\uac00 \\uc758\\uacac\\uc81c\\ucd9c_\\uc758\\uacac\\uc81c\\ucd9c \\uac1c\\ubcc4\\uacf5\\uc2dc\\uc9c0\\uac00 \\uc758\\uacac\\uc81c\\ucd9c_\\uc0b0\\uccad \\uad00\\ub9ac \\uc5b4\\ud56d_...\", \"type\": \"scatter\", \"x\": [\"2020-10-01T00:00:00\", \"2020-11-01T00:00:00\", \"2020-12-01T00:00:00\", \"2021-01-01T00:00:00\", \"2021-02-01T00:00:00\", \"2021-03-01T00:00:00\", \"2021-04-01T00:00:00\", \"2021-05-01T00:00:00\", \"2021-06-01T00:00:00\", \"2021-07-01T00:00:00\", \"2021-08-01T00:00:00\", \"2021-09-01T00:00:00\"], \"y\": [1, 1, 4, 5, 2, 15, 25, 24, 40, 138, 54, 13]}, {\"hoverinfo\": \"text\", \"hovertext\": [\"<b>Topic 7</b><br>Words: \\ud559\\uc6d0 \\uc124\\ub9bd, \\ud559\\uad50 \\uc2dc\\uc124, \\ud601\\uc2e0 \\ud559\\uad50, \\ud559\\uad50\\uc2dc\\uc124 \\ub0b4\\uc9c4 \\ubcf4\\uac15, \\ud559\\uad50 \\uc124\\ub9bd\", \"<b>Topic 7</b><br>Words: \\uc9c0\\uc6d0 \\ud559\\uad50, \\uad50\\uc721\\uc5f0\\uad6c\\uc2dc\\uc124 3\\uc885, \\ud559\\uad50\\uc2dc\\uc124 \\uc0ac\\uc5c5 \\ucd09\\uc9c4\\ubc95, \\uad50\\uc721\\ud65c\\ub3d9 \\ud589\\uc0ac \\uc778\\ub825, \\ud559\\uad50 \\uad50\\uc721\\ud65c\\ub3d9 \\ud589\\uc0ac\", \"<b>Topic 7</b><br>Words: \\ud559\\uad50\\uc9c0\\uc6d0\\uc13c\\ud130 \\uc9c0\\uc6d0, \\uc2e0\\uccad \\ud559\\uad50\\uc9c0\\uc6d0\\uc13c\\ud130, \\ud559\\uad50\\uc9c0\\uc6d0\\uc13c\\ud130 \\uc9c0\\uc6d0 \\uc5c5\\ubb34, \\ud559\\uad50 \\uc0dd\\ud0dc \\uc870\\uc131\\uc0ac\\uc5c5, \\uc5c5\\ubb34 \\ud559\\uad50\\uc9c0\\uc6d0\\uc13c\\ud130\", \"<b>Topic 7</b><br>Words: \\uc608\\ube44\\ube44 \\ud3b8\\uc131 \\ud559\\uad50\\uc2dc\\uc124\\ubb3c, \\ud3b8\\uc131 \\ud559\\uad50\\uc2dc\\uc124\\ubb3c, \\ud3b8\\uc131 \\ud559\\uad50\\uc2dc\\uc124\\ubb3c \\uc790\\uc720, \\uc774\\uc720 \\ud559\\uad50\\uc2dc\\uc124\\ubb3c \\uc774\\uc6a9, \\ud559\\uad50\\uc2dc\\uc124\\ubb3c \\uc790\\uc720 \\uc774\\uc6a9\", \"<b>Topic 7</b><br>Words: \\ud559\\uad50 \\uc784\\ub300 \\uc0ac\\uc6a9, \\ud559\\uad50\\uc2dc\\uc124\\ubb3c \\uc0ac\\uc6a9\\ub8cc, \\ud559\\uad50\\uc2dc\\uc124\\ubb3c \\uc0ac\\uc6a9\\ub8cc \\ud3d0\\uad50, \\uc18c\\uaddc\\ubaa8 \\ud559\\uad50\\uc2dc\\uc124 \\ud604\\uc7a5, \\ud559\\uad50\\uc7a5 \\uc790\\uccb4\\ud574\\uacb0 \\uc808\\ucc28\", \"<b>Topic 7</b><br>Words: \\uc18c\\uaddc\\ubaa8 \\ud559\\uad50\\uc2dc\\uc124, \\uc18c\\uaddc\\ubaa8 \\ud559\\uad50\\uc2dc\\uc124 \\uad00\\ub9ac, \\ud559\\uad50\\uc2dc\\uc124 \\uad00\\ub9ac \\uc9c0\\uc6d0, \\ud559\\uad50\\uc2dc\\uc124 \\uad00\\ub9ac, \\ud559\\uad50\\uc2dc\\uc124 \\uc720\\uc9c0\\uad00\\ub9ac\", \"<b>Topic 7</b><br>Words: \\uad50\\uc721\\uc9c0\\uc6d0\\uccad \\uc5c5\\ubb34\\ucd94\\uc9c4\\ube44 \\uc0ac\\uc6a9, \\uc9c0\\uc5ed \\uad50\\uc721\\uc9c0\\uc6d0\\uccad \\uc5c5\\ubb34\\ucd94\\uc9c4\\ube44, \\ud504\\ub85c\\uadf8\\ub7a8 \\uc9c0\\uc6d0\\uc0ac\\uc5c5, \\uc5f0\\uacc4 \\ud504\\ub85c\\uadf8\\ub7a8 \\uc9c0\\uc6d0\\uc0ac\\uc5c5, \\ud574\\ub2f9 \\ubc95\\ub960 \\ud559\\uad50\", \"<b>Topic 7</b><br>Words: \\ud559\\uc6d0 \\uc124\\ub9bd, \\ud559\\uc6d0 \\uc124\\ub9bd \\uc808\\ucc28, \\uc790\\uccb4\\ud574\\uacb0 \\ud559\\uad50\\uc7a5, \\ud559\\uad50\\uc7a5 \\uc790\\uccb4\\ud574\\uacb0 \\ud559\\uad50\\uc7a5, \\ud559\\uc6d0 \\uc124\\ub9bd \\ud559\\uc6d0\", \"<b>Topic 7</b><br>Words: \\ud559\\uad50 \\uc2dc\\uc124, \\ud601\\uc2e0 \\ud559\\uad50, \\ud559\\uad50 \\uc2dc\\uc124 \\uac1c\\uc120, \\uc2dc\\uc124 \\uac1c\\uc120 \\uad50\\uc721\\uccad, \\ud559\\uad50\\uc2dc\\uc124 \\ub0b4\\uc9c4 \\ubcf4\\uac15\", \"<b>Topic 7</b><br>Words: \\ud559\\uad50\\uc2dc\\uc124 \\uac1c\\ubc29 \\uc2e0\\uccad, \\uc0ac\\uc6a9\\uc2e0\\uccad \\ud559\\uad50 \\ubc29\\ubb38, \\ud559\\uad50\\uc2dc\\uc124 \\uc0ac\\uc6a9\\uc2e0\\uccad \\ud559\\uad50, \\ud559\\uad50\\uc2dc\\uc124 \\uc0ac\\uc6a9\\uc2e0\\uccad, \\uc0ac\\uc6a9\\uc2e0\\uccad \\ud559\\uad50\", \"<b>Topic 7</b><br>Words: \\ud559\\uad50 \\ud504\\ub85c\\uadf8\\ub7a8 \\uad00\\ub9ac, \\uc774\\uc6a9 \\ubc29\\uacfc\\ud6c4 \\ud559\\uad50, \\ud559\\uad50 \\ud504\\ub85c\\uadf8\\ub7a8, \\ubc29\\uacfc\\ud6c4 \\ud559\\uad50 \\ud504\\ub85c\\uadf8\\ub7a8, \\ub9c8\\uc744 \\ubc29\\uacfc\\ud6c4 \\ud559\\uad50\", \"<b>Topic 7</b><br>Words: \\ud559\\uc6d0 \\uc124\\ub9bd, \\ud559\\uad50\\uc2dc\\uc124 \\ub0b4\\uc9c4 \\ubcf4\\uac15, \\ud559\\uad50 \\uc124\\ub9bd, \\ud559\\uad50\\uc7a5 \\uc790\\uccb4\\ud574\\uacb0, \\ud559\\uad50\\uc2dc\\uc124 \\ub0b4\\uc9c4\"], \"marker\": {\"color\": \"#CC79A7\"}, \"mode\": \"lines\", \"name\": \"7_\\ud559\\uc6d0 \\uc124\\ub9bd_\\ud559\\uad50 \\uc2dc\\uc124_\\ud559\\uad50\\uc2dc\\uc124 \\ub0b4\\uc9c4 \\ubcf4\\uac15_\\ud559\\uad50 \\uc124\\ub9bd\", \"type\": \"scatter\", \"x\": [\"2020-10-01T00:00:00\", \"2020-11-01T00:00:00\", \"2020-12-01T00:00:00\", \"2021-01-01T00:00:00\", \"2021-02-01T00:00:00\", \"2021-03-01T00:00:00\", \"2021-04-01T00:00:00\", \"2021-05-01T00:00:00\", \"2021-06-01T00:00:00\", \"2021-07-01T00:00:00\", \"2021-08-01T00:00:00\", \"2021-09-01T00:00:00\"], \"y\": [1, 6, 21, 5, 5, 7, 13, 23, 112, 26, 9, 1]}, {\"hoverinfo\": \"text\", \"hovertext\": [\"<b>Topic 8</b><br>Words: \\uc2e0\\uace0 \\ubd80\\uac00\\uac00\\uce58\\uc138 \\uacfc\\uc138\\ud45c\\uc900, \\uae08\\ub9ac \\uc5f0\\ub3d9, \\uae08\\ub9ac \\uc5f0\\ub3d9 \\ubc29\\uc2dd, \\uc218\\uc218\\ub8cc \\uae08\\ub9ac \\uc5f0\\ub3d9, \\ubd80\\uac00\\uac00\\uce58\\uc138 \\uacfc\\uc138\\ud45c\\uc900 \\uc99d\\uba85\", \"<b>Topic 8</b><br>Words: \\uccb4\\ub0a9 \\uac00\\uc0b0\\uae08, \\ub9e4\\uc785 \\ube44\\uc6a9 \\uc778\\uc815\\ubc94\\uc704, \\ub0a9\\ubd80 \\uc774\\uc775 \\uc591\\ub3c4, \\ud55c\\ud6c4 \\ub0a9\\ubd80 \\uae30\\uac04, \\uae30\\ud55c \\uc2e0\\uace0 \\ud658\\uae09\\uae08\", \"<b>Topic 8</b><br>Words: \\uadf8\\ub7f0\\ub370 \\uc138\\uae08 \\uacfc\\uc138, \\uc18c\\uc561 \\uba74\\uc138 \\uc81c\\ub3c4, \\uc138\\uae08 \\uacfc\\uc138 \\ud558\\uc9c0, \\uadf8\\ub7f0\\ub370 \\uc138\\uae08, \\uc138\\uae08 \\uacfc\\uc138\", \"<b>Topic 8</b><br>Words: \\uacf5\\uacf5\\uc7ac\\uc815\\ud658\\uc218\\ubc95 \\ubd80\\uc815 \\uccad\\uad6c, \\uacf5\\uacf5\\uc7ac\\uc815\\ud658\\uc218\\ubc95 \\ubd80\\uc815, \\uc138\\uae08\\uacc4\\uc0b0\\uc11c \\ubc1c\\uae09, \\uc138\\uae08 \\ub0a9\\ubd80, \\uc9c0\\ubc29\\uc138 \\ub0a9\\uc138\\uc790\\ubcf4\\ud638\\uad00\", \"<b>Topic 8</b><br>Words: \\uc9c0\\ubc29\\uc18c\\ub4dd\\uc138 \\ud2b9\\ubcc4\\uc9d5\\uc218\\ubd84, \\ud658\\uae09 \\uc11c\\ub958 \\uc9c0\\ubc29\\uc18c\\ub4dd\\uc138, \\ub0a9\\uc138\\uc758\\ubb34\\uc790 \\ub204\\uad6c \\uc9c0\\ubc29\\uc18c\\ub4dd\\uc138, \\uc138\\uae08 \\uc9c0\\ubc29\\uc138 \\ub0a9\\ubd80, \\uc11c\\ub958 \\uc9c0\\ubc29\\uc18c\\ub4dd\\uc138 \\ud2b9\\ubcc4\\uc9d5\\uc218\\ubd84\", \"<b>Topic 8</b><br>Words: \\uccb4\\ub0a9 30 \\uacf5\\uc81c, \\uc9c0\\ubc29\\uc138 \\uace0\\uc561\\uccb4\\ub0a9\\uc790 \\uba85\\ub2e8\\uacf5\\uac1c, \\uad6d\\uc138 \\uccb4\\ub0a9 30, \\uadc0\\uc18d \\uc5f0\\ub9d0\\uc815\\uc0b0 \\uc18c\\ub4dd\\uacf5\\uc81c, \\uc911\\uac04\\uc608\\ub0a9 \\uc0ac\\uc5c5\\uc18c\\ub4dd \\uc18c\\ub4dd\\uc138\", \"<b>Topic 8</b><br>Words: \\uc138\\uae08\\uacc4\\uc0b0\\uc11c \\ubc1c\\uae09, \\uc9c0\\ubc29\\uc18c\\ub4dd\\uc138 \\uc2e0\\uace0, \\ub0a9\\ubd80 \\uac00\\uc0b0\\uc138, \\uc138\\uae08 \\ub0a9\\ubd80, \\uc9c0\\ubc29\\uc18c\\ub4dd\\uc138 \\ud2b9\\ubcc4\\uc9d5\\uc218\", \"<b>Topic 8</b><br>Words: \\uc138\\uae08 \\ub0a9\\ubd80, \\uc9c0\\ubc29\\uc138 \\ub0a9\\uc138\\uc790\\ubcf4\\ud638\\uad00, \\ub0a9\\ubd80 \\uac00\\uc0b0\\uc138, \\ub0a9\\uc138\\uc790\\ubcf4\\ud638\\uad00 \\uc81c\\ub3c4, \\uc9c0\\ubc29\\uc138 \\ub0a9\\uc138\\uc790\\ubcf4\\ud638\\uad00 \\uc81c\\ub3c4\", \"<b>Topic 8</b><br>Words: \\uc9c0\\ubc29\\uc138 \\ub0a9\\ubd80, \\uc99d\\uba85 \\ubc1c\\uae09 \\ud589\\uc815\\ubcf5\\uc9c0\\uc13c\\ud130, \\ubc1c\\uae09 \\ud589\\uc815\\ubcf5\\uc9c0\\uc13c\\ud130, \\ubc1c\\uae09 \\ud589\\uc815\\ubcf5\\uc9c0\\uc13c\\ud130 \\ubc1c\\uae09, \\uc9c0\\ubc29\\uc138 \\ub0a9\\uc138\\uc790\\ubcf4\\ud638\\uad00\", \"<b>Topic 8</b><br>Words: \\uac1c\\uc778\\uc9c0\\ubc29\\uc18c\\ub4dd\\uc138 \\uc2e0\\uace0 \\ub0a9\\ubd80, \\uc9c0\\ubc29\\uc138 \\ub0a9\\ubd80, \\ud2b9\\ubcc4\\uc9d5\\uc218 \\uc138\\uc561 \\ub0a9\\uc138, \\uc8fc\\ubbfc\\uc138 \\uc790\\uce58\\ub2e8\\uccb4 \\ub0a9\\ubd80, \\ud2b9\\ubcc4\\uc9d5\\uc218\\ubd84 \\ub0a9\\uc138\\uc758\\ubb34\\uc790 \\ub204\\uad6c\", \"<b>Topic 8</b><br>Words: \\uc138\\uae08\\uacc4\\uc0b0\\uc11c \\ubc1c\\uae09, \\uc138\\uae08\\uacc4\\uc0b0\\uc11c \\uc601\\uc218\\uc99d \\uc120\\ud0dd, \\uc138\\uae08\\uacc4\\uc0b0\\uc11c \\uc601\\uc218\\uc99d, \\uc601\\uc218\\uc99d \\ubc1c\\uae09 \\uc138\\uae08\\uacc4\\uc0b0\\uc11c, \\uacf5\\uacf5\\uc7ac\\uc815\\ud658\\uc218\\ubc95 \\uc801\\uc6a9\", \"<b>Topic 8</b><br>Words: \\ub9e4\\uc785 \\ubc1c\\ud589 \\uc138\\uae08\\uacc4\\uc0b0\\uc11c, \\ub9e4\\ucd9c \\uc138\\uc561, \\ubc1c\\ud589 \\uc138\\uae08\\uacc4\\uc0b0\\uc11c, \\uc774\\uc81c \\uc138\\uae08\\uacc4\\uc0b0\\uc11c, \\uac00\\uc0b0\\uc138 \\uc801\\uc6a9 \\uc591\\ub3c4\"], \"marker\": {\"color\": \"#E69F00\"}, \"mode\": \"lines\", \"name\": \"8_\\uc138\\uae08\\uacc4\\uc0b0\\uc11c \\ubc1c\\uae09_\\uc138\\uae08 \\ub0a9\\ubd80_\\uc9c0\\ubc29\\uc138 \\ub0a9\\uc138\\uc790\\ubcf4\\ud638\\uad00_\\ub0a9\\ubd80 \\uac00\\uc0b0\\uc138\", \"type\": \"scatter\", \"x\": [\"2020-10-01T00:00:00\", \"2020-11-01T00:00:00\", \"2021-01-01T00:00:00\", \"2021-02-01T00:00:00\", \"2021-03-01T00:00:00\", \"2021-04-01T00:00:00\", \"2021-05-01T00:00:00\", \"2021-06-01T00:00:00\", \"2021-07-01T00:00:00\", \"2021-08-01T00:00:00\", \"2021-09-01T00:00:00\", \"2021-10-01T00:00:00\"], \"y\": [3, 8, 2, 1, 3, 15, 30, 86, 26, 21, 7, 7]}, {\"hoverinfo\": \"text\", \"hovertext\": [\"<b>Topic 2</b><br>Words: \\uae40\\ud574 \\uacf5\\uad70 \\ubd80\\ub300, \\ud574\\uc591\\uc2ec\\uce35\\uc218 \\ucc98\\ub9ac, \\ud574\\uc591\\uc2dc\\uc124 \\uc2e0\\uace0, \\uad6c\\ube44\\uc11c\\ub958 \\ud574\\uc591\\uc2dc\\uc124, \\uc2e0\\uace0 \\uad6c\\ube44\\uc11c\\ub958 \\ud574\\uc591\\uc2dc\\uc124\", \"<b>Topic 2</b><br>Words: \\ud574\\uc591 \\uc548\\uc804, \\uc548\\uc804 \\uc2ec\\ud310\\uc6d0, \\ud574\\uc591 \\uc548\\uc804 \\uc2ec\\ud310\\uc6d0, \\ud574\\uc591 \\ubc15\\ubb3c\\uad00 \\uac74\\ub9bd, \\ud574\\uc591 \\uc218\\uc0b0\\uc5c5\", \"<b>Topic 2</b><br>Words: \\ud574\\uc591\\ud658\\uacbd \\uce21\\uc815, \\ud574\\uc591\\ud658\\uacbd \\uc815\\ub3c4 \\uad00\\ub9ac, \\ud574\\uc591\\ud658\\uacbd \\uce21\\uc815 \\ubd84\\uc11d, \\ud574\\uc591\\ud658\\uacbd \\uce21\\uc815 \\uc6b4\\uc601, \\ud574\\uc591\\ud658\\uacbd\\uad00\\ub9ac\\ubc95 \\uc704\\ubc18\", \"<b>Topic 2</b><br>Words: \\ud574\\uc591\\ud658\\uacbd \\uc774\\ub3d9 \\uad50\\uc2e4, \\ud574\\uc591\\ud658\\uacbd \\uad50\\uc721\\uae30\\uad00 \\ud611\\ub825, \\ud574\\uc591\\ud658\\uacbd \\uad50\\uc721\\uae30\\uad00, \\ud574\\uc591\\ud658\\uacbd \\uad50\\uc721, \\uad50\\uc2e4 \\uad50\\uc721 \\uc2e0\\uccad\", \"<b>Topic 2</b><br>Words: \\uad6c\\uc5ed \\ud574\\uc591 \\ub808\\ud3ec\\uce20, \\ud574\\uc591\\uc2dc\\uc124 \\uc2e0\\uace0, \\uad6c\\ube44\\uc11c\\ub958 \\ud574\\uc591\\uc2dc\\uc124, \\ud574\\uc591 \\uc218\\uc0b0, \\ud574\\uc591\\uc2dc\\uc124 \\uc2e0\\uace0 \\uad6c\\ube44\\uc11c\\ub958\", \"<b>Topic 2</b><br>Words: \\ud574\\uc548 \\ub3c4\\ub85c \\uc815\\ube44, \\ud574\\uc218\\uc695\\uc7a5 \\uc778\\uadfc \\ud574\\uc548, \\ud574\\uc591\\uc2dc\\uc124 \\uc2e0\\uace0, \\uad6c\\ube44\\uc11c\\ub958 \\ud574\\uc591\\uc2dc\\uc124, \\uacfc\\uc815 \\ud574\\uc591\\uc218\\uc0b0\\uc778\\uc7ac\\uac1c\\ubc1c\\uc6d0\", \"<b>Topic 2</b><br>Words: \\uc815\\ubcf4 \\uc81c\\uacf5, \\uc2e4\\uc2dc\\uac04 \\uc815\\ubcf4 \\uc81c\\uacf5, \\uc2e4\\uc2dc\\uac04 \\uc815\\ubcf4, \\ud574\\uc0c1 \\uac15\\uc218\\ub7c9, \\uc815\\ubcf4 \\uc81c\\uacf5 \\ub9cc\\uc57d\", \"<b>Topic 2</b><br>Words: \\ud574\\uc591\\ud658\\uacbd \\uc601\\ud5a5, \\ud574\\uc591\\uc2ec\\uce35\\uc218 \\ud574\\uc591\\ud658\\uacbd, \\uc6b4\\uc6a9 \\ud658\\uacbd\\uc601\\ud5a5\\ud3c9\\uac00 \\uc81c\\ub3c4, \\ub300\\ud45c \\ud658\\uacbd \\ud3c9\\uac00, \\ud574\\uc591\\uc0b0\\ubd84 \\ud574\\uc591\\ud658\\uacbd \\uc601\\ud5a5\", \"<b>Topic 2</b><br>Words: \\ud574\\uc591\\uc2dc\\uc124 \\uc2e0\\uace0, \\uad6d\\ub9bd\\ud574\\uc591\\uc870\\uc0ac\\uc6d0 \\uc81c\\uacf5, \\ud574\\uc591\\uc2dc\\uc124 \\uc2e0\\uace0\\ub300\\uc0c1 \\uc2e0\\uace0, \\ud574\\uc591\\uc2dc\\uc124 \\uc2e0\\uace0\\ub300\\uc0c1, \\uc774\\uc5b4\\ub3c4 \\ud574\\uc591\\uacfc\\ud559\\uae30\\uc9c0\", \"<b>Topic 2</b><br>Words: \\ud574\\uc591\\uc2dc\\uc124 \\ud574\\uc591\\uc2dc\\uc124, \\ud574\\uc591\\uc2dc\\uc124 \\uc124\\uce58, \\ud574\\uc591 \\uc5d0\\ub108\\uc9c0 \\uc815\\ucc45, \\uc5d0\\ub108\\uc9c0 \\uc815\\ucc45 \\ucd94\\uc9c4\\ud604\\ud669, \\uc5d0\\ub108\\uc9c0 \\uc815\\ucc45\", \"<b>Topic 2</b><br>Words: \\ubd80\\uc0b0\\uc9c0\\ubc29\\ud574\\uc591\\uc218\\uc0b0\\uccad \\uc124\\uce58, \\ud574\\uc591 \\uc548\\uc804, \\ud574\\uc591\\uc218\\uc0b0\\uc0dd\\uba85\\uc790\\uc6d0 \\uae30\\ud0c1 \\ub4f1\\ub85d, \\uc5ec\\ub984\\ucca0 \\uc218\\uc0b0\\ubb3c \\uc548\\uc804\\uad00\\ub9ac, \\ud574\\uc591\\uc218\\uc0b0\\ubd80 \\uc5ec\\ub984\\ucca0 \\uc218\\uc0b0\\ubb3c\", \"<b>Topic 2</b><br>Words: \\ud574\\uc591 \\uacf5\\uac04, \\uacf5\\uac04 \\uad00\\ub9ac \\uacc4\\ud68d, \\ud574\\uc591 \\uacf5\\uac04 \\uad00\\ub9ac, \\ud574\\uc591 \\uacf5\\uc0ac, \\uc9c0\\uc815 \\ud574\\uc591 \\uc6a9\\ub3c4\"], \"marker\": {\"color\": \"#56B4E9\"}, \"mode\": \"lines\", \"name\": \"2_\\ud574\\uc591\\uc2dc\\uc124 \\uc2e0\\uace0_\\uc2e0\\uace0 \\uad6c\\ube44\\uc11c\\ub958 \\ud574\\uc591\\uc2dc\\uc124_\\ud574\\uc591\\uc2dc\\uc124 \\uc2e0\\uace0 \\uad6c\\ube44\\uc11c\\ub958_\\uad6d\\ub9bd\\ud574\\uc591...\", \"type\": \"scatter\", \"x\": [\"2020-11-01T00:00:00\", \"2020-12-01T00:00:00\", \"2021-01-01T00:00:00\", \"2021-02-01T00:00:00\", \"2021-03-01T00:00:00\", \"2021-04-01T00:00:00\", \"2021-05-01T00:00:00\", \"2021-06-01T00:00:00\", \"2021-07-01T00:00:00\", \"2021-08-01T00:00:00\", \"2021-09-01T00:00:00\", \"2021-10-01T00:00:00\"], \"y\": [2, 9, 8, 7, 1, 1, 6, 38, 212, 89, 44, 5]}, {\"hoverinfo\": \"text\", \"hovertext\": [\"<b>Topic 5</b><br>Words: \\ud559\\uad50\\ud3ed\\ub825 \\ubc1c\\uc0dd \\uc774\\ud6c4, \\uc885\\uacb0 \\uc0ac\\uc548 \\ud559\\uad50\\ud3ed\\ub825, \\ud559\\uad50\\ud3ed\\ub825 \\uacbd\\uc911, \\ud559\\uad50 \\ud3ed\\ub825 \\ud53c\\ud574, \\ud559\\uad50\\ud3ed\\ub825 \\ub300\\ucc45 \\uc758\\uc6d0\", \"<b>Topic 5</b><br>Words: \\ud559\\uad50\\ud3ed\\ub825 \\uc608\\ubc29, \\ud559\\uad50\\ud3ed\\ub825 \\uc608\\ubc29 \\uc790\\uce58\\uc704\\uc6d0\\ud68c, \\ud559\\uad50\\ud3ed\\ub825 \\uc608\\ubc29 \\ubcf4\\ud638\\uc870\\uce58, \\ud559\\uad50\\ud3ed\\ub825 \\uc608\\ubc29 \\uc0ac\\uc548, \\ud559\\uad50\\ud3ed\\ub825 \\uc608\\ubc29 \\uc120\\ub3c4\", \"<b>Topic 5</b><br>Words: \\ud559\\uad50\\ud3ed\\ub825 \\uc608\\ubc29, \\ud559\\uad50\\ud3ed\\ub825 \\uc608\\ubc29 \\uac1c\\uc778, \\ud559\\uad50\\ud3ed\\ub825 \\ub300\\ucc45, \\ud559\\uad50\\ud3ed\\ub825 \\ub300\\ucc45 \\uc2ec\\uc758\\uc704\\uc6d0\\ud68c, \\ud559\\uad50\\ud3ed\\ub825 \\uc608\\ubc29 \\uc0ac\\ud6c4\", \"<b>Topic 5</b><br>Words: \\ud559\\uad50\\ud3ed\\ub825 \\ub300\\ucc45 \\uc2ec\\uc758\\uc704\\uc6d0\\ud68c, \\ud53c\\ud574\\ud559\\uc0dd \\ubcf4\\ud638\\uc870\\uce58 \\ud559\\uad50\\ud3ed\\ub825, \\ud559\\uad50\\ud3ed\\ub825 \\uc870\\uce58 \\ubd88\\ubcf5, \\ubcf4\\ud638\\uc870\\uce58 \\ud559\\uad50\\ud3ed\\ub825 \\ub300\\ucc45, \\ubc1c\\uc0dd \\uc0ac\\uc548\\ucc98\\ub9ac \\ud559\\uad50\\ud3ed\\ub825\", \"<b>Topic 5</b><br>Words: \\uc608\\ubc29 \\ud559\\ubd80\\ubaa8 \\uad50\\uc721, \\ud559\\uad50\\ud3ed\\ub825 \\uc0ac\\uc548 \\ud559\\uad50, \\ub2f4\\uc784 \\uad50\\uc0ac \\ucc98\\ub9ac, \\uc544\\ub3d9\\ud559\\ub300 \\uc608\\ubc29 \\ud559\\ubd80\\ubaa8, \\ucc98\\ub9ac \\ud559\\uad50\\ud3ed\\ub825 \\uc0ac\\uc548\", \"<b>Topic 5</b><br>Words: \\ud559\\uad50\\ud3ed\\ub825 \\ub300\\ucc45, \\ud559\\uad50\\ud3ed\\ub825 \\ub300\\ucc45 \\uc2ec\\uc758\\uc704\\uc6d0\\ud68c, \\ud559\\uad50\\ud3ed\\ub825 \\ud559\\uad50\\uc7a5, \\ud559\\uad50\\ud3ed\\ub825 \\ud559\\uad50\\uc7a5 \\uc790\\uccb4\\ud574\\uacb0, \\ud559\\uad50\\ud3ed\\ub825 \\uc2e0\\uace0\", \"<b>Topic 5</b><br>Words: \\ud559\\uad50\\ud3ed\\ub825 \\ub300\\ucc45, \\ud559\\uad50\\ud3ed\\ub825 \\ub300\\ucc45 \\uc2ec\\uc758\\uc704\\uc6d0\\ud68c, \\uc808\\ucc28 \\ud559\\uad50\\ud3ed\\ub825, \\ud559\\uad50\\ud3ed\\ub825 \\uc0ac\\uc548\\ucc98\\ub9ac, \\uc0ac\\uc548\\ucc98\\ub9ac \\uc808\\ucc28 \\ud559\\uad50\\ud3ed\\ub825\", \"<b>Topic 5</b><br>Words: \\ud559\\uad50\\ud3ed\\ub825 \\ub300\\ucc45, \\ud559\\uad50\\ud3ed\\ub825 \\ub300\\ucc45 \\uc2ec\\uc758\\uc704\\uc6d0\\ud68c, \\ud559\\uad50\\ud3ed\\ub825 \\uc0ac\\uc548, \\uc808\\ucc28 \\ud559\\uad50\\ud3ed\\ub825 \\ub300\\ucc45, \\ud559\\uad50\\ud3ed\\ub825 \\uac00\\ud574\\ud559\\uc0dd\", \"<b>Topic 5</b><br>Words: \\ud559\\uad50\\ud3ed\\ub825 \\ub300\\ucc45, \\ud559\\uad50\\ud3ed\\ub825 \\ub300\\ucc45 \\uc2ec\\uc758\\uc704\\uc6d0\\ud68c, \\ud559\\uad50\\ud3ed\\ub825 \\ud3ec\\ud568, \\uc774\\uac83 \\ud559\\uad50\\ud3ed\\ub825, \\ub530\\ub3cc\\ub9bc \\uc774\\uac83 \\ud559\\uad50\\ud3ed\\ub825\", \"<b>Topic 5</b><br>Words: \\ud559\\uad50\\ud3ed\\ub825 \\ub300\\ucc45 \\uc2ec\\uc758\\uc704\\uc6d0\\ud68c, \\uc870\\uc0ac \\uc544\\ub3d9 \\ud589\\uc815, \\ud53c\\ud574 \\uc544\\ub3d9, \\uc544\\ub3d9 \\uc870\\uc0ac \\uc544\\ub3d9, \\uc544\\ub3d9 \\uacbd\\ucc30\\uc870\\uc0ac \\uc9c4\\uc220\", \"<b>Topic 5</b><br>Words: \\uc131\\ud3ed\\ub825 \\ud559\\uad50\\ud3ed\\ub825 \\uc0ac\\uc548, \\uc218\\uc0ac \\uc0ac\\uc548 \\ud559\\uad50\\ud3ed\\ub825, \\ud559\\uad50\\ud3ed\\ub825\\uc608\\ubc29\\ubc95 \\uc81c5\\uc870 \\uc81c2\\ud56d, \\uc131\\ud3ed\\ub825 \\ud559\\uad50\\ud3ed\\ub825, \\uaddc\\uc815 \\uc131\\ud3ed\\ub825 \\ud559\\uad50\\ud3ed\\ub825\"], \"marker\": {\"color\": \"#009E73\"}, \"mode\": \"lines\", \"name\": \"5_\\ud559\\uad50\\ud3ed\\ub825 \\ub300\\ucc45_\\ud559\\uad50\\ud3ed\\ub825 \\ub300\\ucc45 \\uc2ec\\uc758\\uc704\\uc6d0\\ud68c_\\uc808\\ucc28 \\ud559\\uad50\\ud3ed\\ub825_\\ud559\\uad50\\ud3ed\\ub825 \\uac00\\ud574\\ud559...\", \"type\": \"scatter\", \"x\": [\"2020-11-01T00:00:00\", \"2020-12-01T00:00:00\", \"2021-01-01T00:00:00\", \"2021-02-01T00:00:00\", \"2021-03-01T00:00:00\", \"2021-04-01T00:00:00\", \"2021-05-01T00:00:00\", \"2021-06-01T00:00:00\", \"2021-07-01T00:00:00\", \"2021-08-01T00:00:00\", \"2021-09-01T00:00:00\"], \"y\": [4, 40, 21, 9, 3, 16, 44, 100, 19, 10, 6]}],                        {\"height\": 450, \"hoverlabel\": {\"bgcolor\": \"white\", \"font\": {\"family\": \"Rockwell\", \"size\": 16}}, \"legend\": {\"title\": {\"text\": \"<b>Global Topic Representation\"}}, \"template\": {\"data\": {\"bar\": [{\"error_x\": {\"color\": \"rgb(36,36,36)\"}, \"error_y\": {\"color\": \"rgb(36,36,36)\"}, \"marker\": {\"line\": {\"color\": \"white\", \"width\": 0.5}}, \"type\": \"bar\"}], \"barpolar\": [{\"marker\": {\"line\": {\"color\": \"white\", \"width\": 0.5}}, \"type\": \"barpolar\"}], \"carpet\": [{\"aaxis\": {\"endlinecolor\": \"rgb(36,36,36)\", \"gridcolor\": \"white\", \"linecolor\": \"white\", \"minorgridcolor\": \"white\", \"startlinecolor\": \"rgb(36,36,36)\"}, \"baxis\": {\"endlinecolor\": \"rgb(36,36,36)\", \"gridcolor\": \"white\", \"linecolor\": \"white\", \"minorgridcolor\": \"white\", \"startlinecolor\": \"rgb(36,36,36)\"}, \"type\": \"carpet\"}], \"choropleth\": [{\"colorbar\": {\"outlinewidth\": 1, \"tickcolor\": \"rgb(36,36,36)\", \"ticks\": \"outside\"}, \"type\": \"choropleth\"}], \"contour\": [{\"colorbar\": {\"outlinewidth\": 1, \"tickcolor\": \"rgb(36,36,36)\", \"ticks\": \"outside\"}, \"colorscale\": [[0.0, \"#440154\"], [0.1111111111111111, \"#482878\"], [0.2222222222222222, \"#3e4989\"], [0.3333333333333333, \"#31688e\"], [0.4444444444444444, \"#26828e\"], [0.5555555555555556, \"#1f9e89\"], [0.6666666666666666, \"#35b779\"], [0.7777777777777778, \"#6ece58\"], [0.8888888888888888, \"#b5de2b\"], [1.0, \"#fde725\"]], \"type\": \"contour\"}], \"contourcarpet\": [{\"colorbar\": {\"outlinewidth\": 1, \"tickcolor\": \"rgb(36,36,36)\", \"ticks\": \"outside\"}, \"type\": \"contourcarpet\"}], \"heatmap\": [{\"colorbar\": {\"outlinewidth\": 1, \"tickcolor\": \"rgb(36,36,36)\", \"ticks\": \"outside\"}, \"colorscale\": [[0.0, \"#440154\"], [0.1111111111111111, \"#482878\"], [0.2222222222222222, \"#3e4989\"], [0.3333333333333333, \"#31688e\"], [0.4444444444444444, \"#26828e\"], [0.5555555555555556, \"#1f9e89\"], [0.6666666666666666, \"#35b779\"], [0.7777777777777778, \"#6ece58\"], [0.8888888888888888, \"#b5de2b\"], [1.0, \"#fde725\"]], \"type\": \"heatmap\"}], \"heatmapgl\": [{\"colorbar\": {\"outlinewidth\": 1, \"tickcolor\": \"rgb(36,36,36)\", \"ticks\": \"outside\"}, \"colorscale\": [[0.0, \"#440154\"], [0.1111111111111111, \"#482878\"], [0.2222222222222222, \"#3e4989\"], [0.3333333333333333, \"#31688e\"], [0.4444444444444444, \"#26828e\"], [0.5555555555555556, \"#1f9e89\"], [0.6666666666666666, \"#35b779\"], [0.7777777777777778, \"#6ece58\"], [0.8888888888888888, \"#b5de2b\"], [1.0, \"#fde725\"]], \"type\": \"heatmapgl\"}], \"histogram\": [{\"marker\": {\"line\": {\"color\": \"white\", \"width\": 0.6}}, \"type\": \"histogram\"}], \"histogram2d\": [{\"colorbar\": {\"outlinewidth\": 1, \"tickcolor\": \"rgb(36,36,36)\", \"ticks\": \"outside\"}, \"colorscale\": [[0.0, \"#440154\"], [0.1111111111111111, \"#482878\"], [0.2222222222222222, \"#3e4989\"], [0.3333333333333333, \"#31688e\"], [0.4444444444444444, \"#26828e\"], [0.5555555555555556, \"#1f9e89\"], [0.6666666666666666, \"#35b779\"], [0.7777777777777778, \"#6ece58\"], [0.8888888888888888, \"#b5de2b\"], [1.0, \"#fde725\"]], \"type\": \"histogram2d\"}], \"histogram2dcontour\": [{\"colorbar\": {\"outlinewidth\": 1, \"tickcolor\": \"rgb(36,36,36)\", \"ticks\": \"outside\"}, \"colorscale\": [[0.0, \"#440154\"], [0.1111111111111111, \"#482878\"], [0.2222222222222222, \"#3e4989\"], [0.3333333333333333, \"#31688e\"], [0.4444444444444444, \"#26828e\"], [0.5555555555555556, \"#1f9e89\"], [0.6666666666666666, \"#35b779\"], [0.7777777777777778, \"#6ece58\"], [0.8888888888888888, \"#b5de2b\"], [1.0, \"#fde725\"]], \"type\": \"histogram2dcontour\"}], \"mesh3d\": [{\"colorbar\": {\"outlinewidth\": 1, \"tickcolor\": \"rgb(36,36,36)\", \"ticks\": \"outside\"}, \"type\": \"mesh3d\"}], \"parcoords\": [{\"line\": {\"colorbar\": {\"outlinewidth\": 1, \"tickcolor\": \"rgb(36,36,36)\", \"ticks\": \"outside\"}}, \"type\": \"parcoords\"}], \"pie\": [{\"automargin\": true, \"type\": \"pie\"}], \"scatter\": [{\"marker\": {\"colorbar\": {\"outlinewidth\": 1, \"tickcolor\": \"rgb(36,36,36)\", \"ticks\": \"outside\"}}, \"type\": \"scatter\"}], \"scatter3d\": [{\"line\": {\"colorbar\": {\"outlinewidth\": 1, \"tickcolor\": \"rgb(36,36,36)\", \"ticks\": \"outside\"}}, \"marker\": {\"colorbar\": {\"outlinewidth\": 1, \"tickcolor\": \"rgb(36,36,36)\", \"ticks\": \"outside\"}}, \"type\": \"scatter3d\"}], \"scattercarpet\": [{\"marker\": {\"colorbar\": {\"outlinewidth\": 1, \"tickcolor\": \"rgb(36,36,36)\", \"ticks\": \"outside\"}}, \"type\": \"scattercarpet\"}], \"scattergeo\": [{\"marker\": {\"colorbar\": {\"outlinewidth\": 1, \"tickcolor\": \"rgb(36,36,36)\", \"ticks\": \"outside\"}}, \"type\": \"scattergeo\"}], \"scattergl\": [{\"marker\": {\"colorbar\": {\"outlinewidth\": 1, \"tickcolor\": \"rgb(36,36,36)\", \"ticks\": \"outside\"}}, \"type\": \"scattergl\"}], \"scattermapbox\": [{\"marker\": {\"colorbar\": {\"outlinewidth\": 1, \"tickcolor\": \"rgb(36,36,36)\", \"ticks\": \"outside\"}}, \"type\": \"scattermapbox\"}], \"scatterpolar\": [{\"marker\": {\"colorbar\": {\"outlinewidth\": 1, \"tickcolor\": \"rgb(36,36,36)\", \"ticks\": \"outside\"}}, \"type\": \"scatterpolar\"}], \"scatterpolargl\": [{\"marker\": {\"colorbar\": {\"outlinewidth\": 1, \"tickcolor\": \"rgb(36,36,36)\", \"ticks\": \"outside\"}}, \"type\": \"scatterpolargl\"}], \"scatterternary\": [{\"marker\": {\"colorbar\": {\"outlinewidth\": 1, \"tickcolor\": \"rgb(36,36,36)\", \"ticks\": \"outside\"}}, \"type\": \"scatterternary\"}], \"surface\": [{\"colorbar\": {\"outlinewidth\": 1, \"tickcolor\": \"rgb(36,36,36)\", \"ticks\": \"outside\"}, \"colorscale\": [[0.0, \"#440154\"], [0.1111111111111111, \"#482878\"], [0.2222222222222222, \"#3e4989\"], [0.3333333333333333, \"#31688e\"], [0.4444444444444444, \"#26828e\"], [0.5555555555555556, \"#1f9e89\"], [0.6666666666666666, \"#35b779\"], [0.7777777777777778, \"#6ece58\"], [0.8888888888888888, \"#b5de2b\"], [1.0, \"#fde725\"]], \"type\": \"surface\"}], \"table\": [{\"cells\": {\"fill\": {\"color\": \"rgb(237,237,237)\"}, \"line\": {\"color\": \"white\"}}, \"header\": {\"fill\": {\"color\": \"rgb(217,217,217)\"}, \"line\": {\"color\": \"white\"}}, \"type\": \"table\"}]}, \"layout\": {\"annotationdefaults\": {\"arrowhead\": 0, \"arrowwidth\": 1}, \"autotypenumbers\": \"strict\", \"coloraxis\": {\"colorbar\": {\"outlinewidth\": 1, \"tickcolor\": \"rgb(36,36,36)\", \"ticks\": \"outside\"}}, \"colorscale\": {\"diverging\": [[0.0, \"rgb(103,0,31)\"], [0.1, \"rgb(178,24,43)\"], [0.2, \"rgb(214,96,77)\"], [0.3, \"rgb(244,165,130)\"], [0.4, \"rgb(253,219,199)\"], [0.5, \"rgb(247,247,247)\"], [0.6, \"rgb(209,229,240)\"], [0.7, \"rgb(146,197,222)\"], [0.8, \"rgb(67,147,195)\"], [0.9, \"rgb(33,102,172)\"], [1.0, \"rgb(5,48,97)\"]], \"sequential\": [[0.0, \"#440154\"], [0.1111111111111111, \"#482878\"], [0.2222222222222222, \"#3e4989\"], [0.3333333333333333, \"#31688e\"], [0.4444444444444444, \"#26828e\"], [0.5555555555555556, \"#1f9e89\"], [0.6666666666666666, \"#35b779\"], [0.7777777777777778, \"#6ece58\"], [0.8888888888888888, \"#b5de2b\"], [1.0, \"#fde725\"]], \"sequentialminus\": [[0.0, \"#440154\"], [0.1111111111111111, \"#482878\"], [0.2222222222222222, \"#3e4989\"], [0.3333333333333333, \"#31688e\"], [0.4444444444444444, \"#26828e\"], [0.5555555555555556, \"#1f9e89\"], [0.6666666666666666, \"#35b779\"], [0.7777777777777778, \"#6ece58\"], [0.8888888888888888, \"#b5de2b\"], [1.0, \"#fde725\"]]}, \"colorway\": [\"#1F77B4\", \"#FF7F0E\", \"#2CA02C\", \"#D62728\", \"#9467BD\", \"#8C564B\", \"#E377C2\", \"#7F7F7F\", \"#BCBD22\", \"#17BECF\"], \"font\": {\"color\": \"rgb(36,36,36)\"}, \"geo\": {\"bgcolor\": \"white\", \"lakecolor\": \"white\", \"landcolor\": \"white\", \"showlakes\": true, \"showland\": true, \"subunitcolor\": \"white\"}, \"hoverlabel\": {\"align\": \"left\"}, \"hovermode\": \"closest\", \"mapbox\": {\"style\": \"light\"}, \"paper_bgcolor\": \"white\", \"plot_bgcolor\": \"white\", \"polar\": {\"angularaxis\": {\"gridcolor\": \"rgb(232,232,232)\", \"linecolor\": \"rgb(36,36,36)\", \"showgrid\": false, \"showline\": true, \"ticks\": \"outside\"}, \"bgcolor\": \"white\", \"radialaxis\": {\"gridcolor\": \"rgb(232,232,232)\", \"linecolor\": \"rgb(36,36,36)\", \"showgrid\": false, \"showline\": true, \"ticks\": \"outside\"}}, \"scene\": {\"xaxis\": {\"backgroundcolor\": \"white\", \"gridcolor\": \"rgb(232,232,232)\", \"gridwidth\": 2, \"linecolor\": \"rgb(36,36,36)\", \"showbackground\": true, \"showgrid\": false, \"showline\": true, \"ticks\": \"outside\", \"zeroline\": false, \"zerolinecolor\": \"rgb(36,36,36)\"}, \"yaxis\": {\"backgroundcolor\": \"white\", \"gridcolor\": \"rgb(232,232,232)\", \"gridwidth\": 2, \"linecolor\": \"rgb(36,36,36)\", \"showbackground\": true, \"showgrid\": false, \"showline\": true, \"ticks\": \"outside\", \"zeroline\": false, \"zerolinecolor\": \"rgb(36,36,36)\"}, \"zaxis\": {\"backgroundcolor\": \"white\", \"gridcolor\": \"rgb(232,232,232)\", \"gridwidth\": 2, \"linecolor\": \"rgb(36,36,36)\", \"showbackground\": true, \"showgrid\": false, \"showline\": true, \"ticks\": \"outside\", \"zeroline\": false, \"zerolinecolor\": \"rgb(36,36,36)\"}}, \"shapedefaults\": {\"fillcolor\": \"black\", \"line\": {\"width\": 0}, \"opacity\": 0.3}, \"ternary\": {\"aaxis\": {\"gridcolor\": \"rgb(232,232,232)\", \"linecolor\": \"rgb(36,36,36)\", \"showgrid\": false, \"showline\": true, \"ticks\": \"outside\"}, \"baxis\": {\"gridcolor\": \"rgb(232,232,232)\", \"linecolor\": \"rgb(36,36,36)\", \"showgrid\": false, \"showline\": true, \"ticks\": \"outside\"}, \"bgcolor\": \"white\", \"caxis\": {\"gridcolor\": \"rgb(232,232,232)\", \"linecolor\": \"rgb(36,36,36)\", \"showgrid\": false, \"showline\": true, \"ticks\": \"outside\"}}, \"title\": {\"x\": 0.05}, \"xaxis\": {\"automargin\": true, \"gridcolor\": \"rgb(232,232,232)\", \"linecolor\": \"rgb(36,36,36)\", \"showgrid\": false, \"showline\": true, \"ticks\": \"outside\", \"title\": {\"standoff\": 15}, \"zeroline\": false, \"zerolinecolor\": \"rgb(36,36,36)\"}, \"yaxis\": {\"automargin\": true, \"gridcolor\": \"rgb(232,232,232)\", \"linecolor\": \"rgb(36,36,36)\", \"showgrid\": false, \"showline\": true, \"ticks\": \"outside\", \"title\": {\"standoff\": 15}, \"zeroline\": false, \"zerolinecolor\": \"rgb(36,36,36)\"}}}, \"title\": {\"font\": {\"color\": \"Black\", \"size\": 22}, \"text\": \"<b>Topics over Time\", \"x\": 0.4, \"xanchor\": \"center\", \"y\": 0.95, \"yanchor\": \"top\"}, \"width\": 1250, \"xaxis\": {\"showgrid\": true}, \"yaxis\": {\"showgrid\": true, \"title\": {\"text\": \"Frequency\"}}},                        {\"responsive\": true}                    ).then(function(){\n",
              "                            \n",
              "var gd = document.getElementById('a2235442-20e7-4657-a631-fe0a5058a084');\n",
              "var x = new MutationObserver(function (mutations, observer) {{\n",
              "        var display = window.getComputedStyle(gd).display;\n",
              "        if (!display || display === 'none') {{\n",
              "            console.log([gd, 'removed!']);\n",
              "            Plotly.purge(gd);\n",
              "            observer.disconnect();\n",
              "        }}\n",
              "}});\n",
              "\n",
              "// Listen for the removal of the full notebook cells\n",
              "var notebookContainer = gd.closest('#notebook-container');\n",
              "if (notebookContainer) {{\n",
              "    x.observe(notebookContainer, {childList: true});\n",
              "}}\n",
              "\n",
              "// Listen for the clearing of the current output cell\n",
              "var outputEl = gd.closest('.output');\n",
              "if (outputEl) {{\n",
              "    x.observe(outputEl, {childList: true});\n",
              "}}\n",
              "\n",
              "                        })                };                            </script>        </div>\n",
              "</body>\n",
              "</html>"
            ]
          },
          "metadata": {}
        }
      ]
    },
    {
      "cell_type": "markdown",
      "metadata": {
        "id": "VKeTRn57o0bN"
      },
      "source": [
        "해양시설신고, 수산업법 관련 민원은 7월에 피크  \n",
        "학교폭력, 학교시설 및 학교배정, 학원설립 관련 민원은 6월에 피크  \n",
        "세금납부 관련 민원은 6월에 피크  \n",
        "국외여행, 외국인 관련 민원은 7월에 피크(4월부터 국외여행 관련 민원 증가추세) - 7월 백신접종완료자 해외여행 이슈  \n",
        "  \n",
        "상위 10개 토픽에 해당하지만 약간이나마 인사이트를 얻을 수 있었음.  \n",
        "위 내용처럼 특정 이슈는 특정 월에 피크가 있으므로 위 내용을 향후 민원 예보에 추가할 수 있다고 생각됨.  \n",
        "그러나 민원 데이터의 분포가 2021년에 치우쳐져있어 약 3년에서 5년간 비슷한 분포의 데이터를 확보한 뒤에 위 분석을 수행한 결과를 확인해야 할 것..  "
      ]
    },
    {
      "cell_type": "code",
      "metadata": {
        "id": "YEozx-Jmmbyz"
      },
      "source": [
        "topic_model.save(dir + '/Data/BERTopic')"
      ],
      "execution_count": null,
      "outputs": []
    }
  ]
}