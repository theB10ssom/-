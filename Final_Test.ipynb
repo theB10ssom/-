{
  "nbformat": 4,
  "nbformat_minor": 0,
  "metadata": {
    "colab": {
      "name": "Final_Test.ipynb",
      "provenance": [],
      "collapsed_sections": [],
      "authorship_tag": "ABX9TyOJEx+rTHxSYloj3E198Oiy"
    },
    "kernelspec": {
      "name": "python3",
      "display_name": "Python 3"
    },
    "language_info": {
      "name": "python"
    }
  },
  "cells": [
    {
      "cell_type": "markdown",
      "metadata": {
        "id": "eb_J4JwYePIy"
      },
      "source": [
        "# 민원 현황 세부 분석"
      ]
    },
    {
      "cell_type": "markdown",
      "metadata": {
        "id": "89Llg8MfW9mA"
      },
      "source": [
        "# 0. 들어가기 전"
      ]
    },
    {
      "cell_type": "markdown",
      "metadata": {
        "id": "kFtWVRWtsYnH"
      },
      "source": [
        "본 분석에서는 EDA 및 토픽모델링을 활용한 민원 현황 분석 및 시각화를 진행하였습니다.  \n",
        "EDA로 대략적인 분석 과정을 잡아가려고 했고, 토픽모델링을 통해 주어진 데이터로 확인하기 힘든 주요 민원 주제들을 확인하고자 하였습니다.    \n",
        "또한 기존의 워드클라우드나 단어 빈도수 기반의 키워드 분석을 지양하고자 하였습니다.\n",
        "\n"
      ]
    },
    {
      "cell_type": "markdown",
      "metadata": {
        "id": "5vrj7520Xk_g"
      },
      "source": [
        "> 드라이브 마운트"
      ]
    },
    {
      "cell_type": "code",
      "metadata": {
        "colab": {
          "base_uri": "https://localhost:8080/"
        },
        "id": "wqmKwaMzf2r1",
        "outputId": "b30b45f8-8662-4077-a402-4b62a7d4ff35"
      },
      "source": [
        "from google.colab import drive\n",
        "drive.mount('/gdrive')"
      ],
      "execution_count": 35,
      "outputs": [
        {
          "output_type": "stream",
          "name": "stdout",
          "text": [
            "Drive already mounted at /gdrive; to attempt to forcibly remount, call drive.mount(\"/gdrive\", force_remount=True).\n"
          ]
        }
      ]
    },
    {
      "cell_type": "markdown",
      "metadata": {
        "id": "0aAcOVxrYY0v"
      },
      "source": [
        "> 분석에 필요한 라이브러리 설치 및 업데이트"
      ]
    },
    {
      "cell_type": "code",
      "metadata": {
        "id": "-X2IADoAFC8H"
      },
      "source": [
        "!pip install --upgrade plotly --quiet #시각화 툴\n",
        "!pip install soynlp --quiet #단어사전 구축용\n",
        "!pip install kiwipiepy --quiet #형태소 분석기"
      ],
      "execution_count": 36,
      "outputs": []
    },
    {
      "cell_type": "markdown",
      "metadata": {
        "id": "dzce0o3bY2u8"
      },
      "source": [
        "> 라이브러리 불러오기"
      ]
    },
    {
      "cell_type": "code",
      "metadata": {
        "id": "8z0zG0VDf6Lf"
      },
      "source": [
        "import os\n",
        "import pandas as pd\n",
        "import numpy as np\n",
        "import warnings\n",
        "\n",
        "import plotly.express as px\n",
        "import matplotlib.pyplot as plt\n",
        "import seaborn as sns\n",
        "from IPython.display import HTML\n",
        "\n",
        "from soynlp.noun import LRNounExtractor_v2\n",
        "from kiwipiepy import Kiwi, Option\n",
        "from sklearn.feature_extraction.text import TfidfVectorizer\n",
        "\n",
        "warnings.filterwarnings(\"ignore\")\n",
        "\n",
        "os.chdir('/gdrive/MyDrive/민원분석/')\n",
        "dir = os.getcwd()"
      ],
      "execution_count": 37,
      "outputs": []
    },
    {
      "cell_type": "code",
      "metadata": {
        "id": "rpnr9Y3hgILt"
      },
      "source": [
        "class plot_type:\n",
        "    def __init__(self, data):\n",
        "        self.data = data\n",
        "        self.fig = None\n",
        "        self.update_layout = None\n",
        "    \n",
        "    def count_percentage(self):\n",
        "        if 'counts' in self.data.columns:\n",
        "            self.data['percentage'] = round(self.data['counts'] / self.data['counts'].sum() * 100, 2)\n",
        "    \n",
        "    def bar(self, x, y, **kwargs):\n",
        "        plot_type.count_percentage(self)\n",
        "\n",
        "        if 'percentage' in self.data.columns:\n",
        "            hover_data = ['percentage']\n",
        "        else:\n",
        "            hover_data = None\n",
        "\n",
        "        self.fig = px.bar(self.data, x=x, y=y, hover_data=hover_data, **kwargs)\n",
        "\n",
        "    def pie(self, values, names, **kwargs):\n",
        "        self.fig = px.pie(self.data, values=values, names=names, **kwargs)\n",
        "\n",
        "    def plot(self):\n",
        "        self.fig.show()"
      ],
      "execution_count": 38,
      "outputs": []
    },
    {
      "cell_type": "code",
      "metadata": {
        "colab": {
          "base_uri": "https://localhost:8080/"
        },
        "id": "dtNYNhuJgPul",
        "outputId": "ae18c195-4de7-4297-de3b-f02d3b57b2d3"
      },
      "source": [
        "%%time\n",
        "root = pd.read_parquet(dir + '/Data/minwon_data.parquet')"
      ],
      "execution_count": 106,
      "outputs": [
        {
          "output_type": "stream",
          "name": "stdout",
          "text": [
            "CPU times: user 630 ms, sys: 243 ms, total: 873 ms\n",
            "Wall time: 800 ms\n"
          ]
        }
      ]
    },
    {
      "cell_type": "markdown",
      "metadata": {
        "id": "v1rTog0fsmp8"
      },
      "source": [
        "# 1. EDA 및 시각화"
      ]
    },
    {
      "cell_type": "markdown",
      "metadata": {
        "id": "3HHRpl8jcAhv"
      },
      "source": [
        "> 모든 시각화 그래프들은 Interactive하게 만들었습니다.  \n",
        "마우스를 위에 올리면 자세한 값들을 확인할 수 있습니다."
      ]
    },
    {
      "cell_type": "markdown",
      "metadata": {
        "id": "of_H3R9JskIY"
      },
      "source": [
        "## 새로운 변수 생성"
      ]
    },
    {
      "cell_type": "code",
      "metadata": {
        "colab": {
          "base_uri": "https://localhost:8080/"
        },
        "id": "K4lLrdHzZOMe",
        "outputId": "95a8144b-42c6-4bb0-ca49-d79c450d0166"
      },
      "source": [
        "root.columns"
      ],
      "execution_count": 107,
      "outputs": [
        {
          "output_type": "execute_result",
          "data": {
            "text/plain": [
              "Index(['제목', '질문내용', '답변내용', '등록일시', '최상위기관명', '분야코드', '분야명', '담당부서명'], dtype='object')"
            ]
          },
          "metadata": {},
          "execution_count": 107
        }
      ]
    },
    {
      "cell_type": "markdown",
      "metadata": {
        "id": "yc50_hYBZMdH"
      },
      "source": [
        "제공받은 데이터의 Column은 `제목`, `질문내용`, `답변내용`, `등록일시`, `최상위기관명`, `분야코드`, `분야명`, `담당부서명`으로, 분석에 들어가기에 앞서 각 Column들의 내용을 확인하였다.  \n",
        "그리고 `등록일시`의 데이터를 연도, 월, 일 등으로 쪼개어 EDA를 수행해보고자 하였다.  "
      ]
    },
    {
      "cell_type": "code",
      "metadata": {
        "id": "gJ6pNW7LgRKX"
      },
      "source": [
        "root['등록일시'] = pd.to_datetime(root['등록일시'])\n",
        "\n",
        "root['등록년도'] = root['등록일시'].dt.year#.astype(int)\n",
        "root['등록월']   = root['등록일시'].dt.month#.astype(int)\n",
        "root['등록일']   = root['등록일시'].dt.day#.astype(int)\n",
        "root['등록요일'] = root['등록일시'].dt.day_name()\n",
        "root['등록시간'] = root['등록일시'].dt.hour#.astype(int)\n",
        "root['오전오후'] = pd.Series(np.where(root['등록시간'].to_numpy() > 12, 'PM', 'AM'))"
      ],
      "execution_count": 108,
      "outputs": []
    },
    {
      "cell_type": "code",
      "metadata": {
        "colab": {
          "base_uri": "https://localhost:8080/"
        },
        "id": "NB0SbdaYZ9pj",
        "outputId": "44ccb316-cc70-4b07-f2f2-cd88882257f3"
      },
      "source": [
        "root['최상위기관명'].unique()"
      ],
      "execution_count": 109,
      "outputs": [
        {
          "output_type": "execute_result",
          "data": {
            "text/plain": [
              "array(['경상북도 의성군', '전라북도 순창군', '전라남도 순천시', '경상북도 봉화군', '전라남도 광양시',\n",
              "       '전라북도 무주군', '전라남도 영광군', '서울특별시', '전라북도 정읍시', '강원도', '경상남도 고성군',\n",
              "       '충청북도 영동군', '충청북도 음성군', '서울특별시 동대문구', '경기도 의정부시', '경기도 가평군',\n",
              "       '경기도 의왕시', '서울특별시 강동구', '경기도 안양시', '인천광역시 미추홀구', '광주광역시 북구',\n",
              "       '대구광역시 북구', '경기도 이천시', '경기도 하남시', '광주광역시 남구', '충청남도 천안시', '해양경찰청',\n",
              "       '소방청', '전라남도 목포시', '경찰청', '부산광역시 사하구', '부산광역시 동래구', '경상남도 산청군',\n",
              "       '전라북도 전주시', '충청남도 공주시', '경상남도 사천시', '충청남도 서산시', '경상북도 경주시',\n",
              "       '충청남도 아산시', '경상남도 김해시', '전라북도 남원시', '경상남도 남해군', '부산광역시', '대구광역시',\n",
              "       '제주특별자치도', '대구광역시 동구', '서울특별시 은평구', '부산광역시 금정구', '부산광역시 남구',\n",
              "       '전라북도 김제시', '광주광역시', '경상남도 함안군', '서울특별시 성동구', '서울특별시 강서구',\n",
              "       '부산광역시 부산진구', '충청북도 옥천군', '경기도 안성시', '광주광역시 광산구', '충청북도 보은군',\n",
              "       '충청북도 괴산군', '충청남도 금산군', '서울특별시 강남구', '경상북도 영주시', '경상북도 경산시',\n",
              "       '서울특별시 종로구', '서울특별시 용산구', '서울특별시 서대문구', '충청북도', '전라남도 신안군',\n",
              "       '경상북도 예천군', '전라남도 구례군', '부산광역시 수영구', '서울특별시 관악구', '통계청',\n",
              "       '경상남도 의령군', '충청남도', '경상남도 거제시', '부산광역시 연제구', '부산광역시 영도구',\n",
              "       '서울특별시 송파구', '서울특별시 광진구', '충청북도 충주시', '서울특별시 양천구', '서울특별시 강북구',\n",
              "       '부산광역시 중구', '서울특별시 중구', '부산광역시 서구', '대구광역시 달서구', '대구광역시 달성군',\n",
              "       '대구광역시 중구', '부산광역시 북구', '서울특별시 마포구', '서울특별시 동작구', '서울특별시 성북구',\n",
              "       '인사혁신처', '경기도 포천시', '전라북도 진안군', '경상남도 양산시', '경상남도', '경기도',\n",
              "       '대구광역시 수성구', '경상북도 안동시', '충청남도 예산군', '경기도 과천시', '전라남도 여수시',\n",
              "       '강원도 동해시', '경상북도 영천시', '경상남도 진주시', '전라남도 해남군', '경상북도 영덕군',\n",
              "       '서울특별시 금천구', '인천광역시 연수구', '전라남도 강진군', '울산광역시 중구', '전라남도 담양군',\n",
              "       '경상남도 통영시', '경기도 시흥시', '경기도 양주시', '경상북도 포항시', '전라북도 부안군', '법무부',\n",
              "       '대검찰청', '금융위원회', '기획재정부', '공정거래위원회', '서울특별시교육청', '강원도교육청', '교육부',\n",
              "       '광주광역시교육청', '대전광역시교육청', '문화재청', '문화체육관광부', '경상북도교육청', '대구광역시교육청',\n",
              "       '전라남도교육청', '경상남도교육청', '부산광역시교육청', '관세청', '국세청', '울산광역시교육청',\n",
              "       '세종특별자치시교육청', '제주특별자치도교육청', '충청북도교육청', '인천광역시교육청', '충청남도교육청',\n",
              "       '경기도교육청', '행정중심복합도시건설청', '해양수산부', '농림축산식품부', '국토교통부', '산림청',\n",
              "       '농촌진흥청', '새만금개발청', '방위사업청', '외교부', '국가보훈처', '통일부', '병무청', '국방부',\n",
              "       '방송통신위원회', '과학기술정보통신부', '산업통상자원부', '환경부', '고용노동부', '기상청', '한국환경공단',\n",
              "       '국민권익위원회', '한국산업인력공단', '식품의약품안전처', '전라북도 군산시', '경상북도 상주시', '전라남도',\n",
              "       '서울특별시 영등포구', '전라남도 나주시'], dtype=object)"
            ]
          },
          "metadata": {},
          "execution_count": 109
        }
      ]
    },
    {
      "cell_type": "markdown",
      "metadata": {
        "id": "lhlwyZlzaArl"
      },
      "source": [
        "`최상위기관명`은 `등록일시`와 반대로 여러개로 통합하여 EDA를 수행하고자 하였다.  \n",
        "최상위기관명을 확인해보니 크게 서울특별시 ~구, 경상북도 ~군 등의 지방청사와 국세청, 국방부 등의 중앙행정기관 그리고 한국산업인력공단과 같은 공공기관으로 분류할 수 있을 것 같았다.   "
      ]
    },
    {
      "cell_type": "code",
      "metadata": {
        "colab": {
          "base_uri": "https://localhost:8080/"
        },
        "id": "r_P_CvNLgTyv",
        "outputId": "42002f2f-6a68-4102-c53d-e7c32e23d3e2"
      },
      "source": [
        "%%time\n",
        "\n",
        "conditions = {\n",
        "    '중앙행정기관' : root['최상위기관명'].str.endswith(('부', '처', '청', '회')),\n",
        "    '광역자치단체' : root['최상위기관명'].str.endswith(('특별시', '도', '자치시')),\n",
        "    '기초자치단체' : root['최상위기관명'].str.endswith(('시', '군', '구'))\n",
        "}\n",
        "\n",
        "root['기관구분'] = (\n",
        "    np.select(condlist=conditions.values(), choicelist=conditions.keys(), default='공공기관')\n",
        "    )"
      ],
      "execution_count": 110,
      "outputs": [
        {
          "output_type": "stream",
          "name": "stdout",
          "text": [
            "CPU times: user 70.9 ms, sys: 0 ns, total: 70.9 ms\n",
            "Wall time: 74.2 ms\n"
          ]
        }
      ]
    },
    {
      "cell_type": "markdown",
      "metadata": {
        "id": "8B9latOGa4pg"
      },
      "source": [
        "그리고 추가로 각 지방청사들은 지역명으로 분류하여 새로운 column을 만들어주었다.  "
      ]
    },
    {
      "cell_type": "code",
      "metadata": {
        "colab": {
          "base_uri": "https://localhost:8080/"
        },
        "id": "st6vRd7kz2bn",
        "outputId": "40ac9ab0-fc65-4736-d1bf-5c9e28fe180a"
      },
      "source": [
        "%%time\n",
        "\n",
        "conditions = {\n",
        "    '경상도' : (root['기관구분'].isin(['광역자치단체', '기초자치단체'])) & (root['최상위기관명'].str.contains('경상')),\n",
        "    '전라도' : (root['기관구분'].isin(['광역자치단체', '기초자치단체'])) & (root['최상위기관명'].str.contains('전라')),\n",
        "    '충청도' : (root['기관구분'].isin(['광역자치단체', '기초자치단체'])) & (root['최상위기관명'].str.contains('충청')),\n",
        "    '강원도' : (root['기관구분'].isin(['광역자치단체', '기초자치단체'])) & (root['최상위기관명'].str.contains('강원')),\n",
        "    '경기도' : (root['기관구분'].isin(['광역자치단체', '기초자치단체'])) & (root['최상위기관명'].str.contains('경기')),\n",
        "    '서울특별시' : (root['기관구분'].isin(['광역자치단체', '기초자치단체'])) & (root['최상위기관명'].str.contains('서울')),\n",
        "    '인천광역시' : (root['기관구분'].isin(['광역자치단체', '기초자치단체'])) & (root['최상위기관명'].str.contains('인천')),\n",
        "    '부산광역시' : (root['기관구분'].isin(['광역자치단체', '기초자치단체'])) & (root['최상위기관명'].str.contains('부산')),\n",
        "    '광주광역시' :(root['기관구분'].isin(['광역자치단체', '기초자치단체'])) & (root['최상위기관명'].str.contains('광주')),\n",
        "    '대구광역시' : (root['기관구분'].isin(['광역자치단체', '기초자치단체'])) & (root['최상위기관명'].str.contains('대구')),\n",
        "    '울산광역시' : (root['기관구분'].isin(['광역자치단체', '기초자치단체'])) & (root['최상위기관명'].str.contains('울산')),\n",
        "    '대전광역시' :(root['기관구분'].isin(['광역자치단체', '기초자치단체'])) & (root['최상위기관명'].str.contains('대전')),\n",
        "}\n",
        "\n",
        "root['지역'] = (\n",
        "    np.select(condlist=conditions.values(), choicelist=conditions.keys(), default='중앙행정기관')\n",
        "    )"
      ],
      "execution_count": 111,
      "outputs": [
        {
          "output_type": "stream",
          "name": "stdout",
          "text": [
            "CPU times: user 290 ms, sys: 0 ns, total: 290 ms\n",
            "Wall time: 292 ms\n"
          ]
        }
      ]
    },
    {
      "cell_type": "markdown",
      "metadata": {
        "id": "5iuIA9hwtF4U"
      },
      "source": [
        "## 연도별 민원 수"
      ]
    },
    {
      "cell_type": "code",
      "metadata": {
        "colab": {
          "base_uri": "https://localhost:8080/",
          "height": 542
        },
        "id": "p53C-Y8qkdyq",
        "outputId": "92e5af79-26a2-4829-f105-262c7a911e09"
      },
      "source": [
        "years = root.groupby(by=[\"등록년도\"]).size().reset_index(name=\"counts\").dropna().sort_values('등록년도', ascending=False)\n",
        "years['등록년도'] = years['등록년도'].astype(int)\n",
        "\n",
        "bar_years = plot_type(years)\n",
        "bar_years.bar(x='등록년도', y='counts')\n",
        "bar_years.fig.update_layout(\n",
        "    title = '연도별 민원 수',\n",
        "    font = {'size' : 15,\n",
        "            'family' : 'NanumGothic ExtraBold'}\n",
        ")\n",
        "\n",
        "bar_years.plot()"
      ],
      "execution_count": 112,
      "outputs": [
        {
          "output_type": "display_data",
          "data": {
            "text/html": [
              "<html>\n",
              "<head><meta charset=\"utf-8\" /></head>\n",
              "<body>\n",
              "    <div>            <script src=\"https://cdnjs.cloudflare.com/ajax/libs/mathjax/2.7.5/MathJax.js?config=TeX-AMS-MML_SVG\"></script><script type=\"text/javascript\">if (window.MathJax) {MathJax.Hub.Config({SVG: {font: \"STIX-Web\"}});}</script>                <script type=\"text/javascript\">window.PlotlyConfig = {MathJaxConfig: 'local'};</script>\n",
              "        <script src=\"https://cdn.plot.ly/plotly-2.6.3.min.js\"></script>                <div id=\"9b29cb12-9570-44ea-8b59-4df8b8f621f4\" class=\"plotly-graph-div\" style=\"height:525px; width:100%;\"></div>            <script type=\"text/javascript\">                                    window.PLOTLYENV=window.PLOTLYENV || {};                                    if (document.getElementById(\"9b29cb12-9570-44ea-8b59-4df8b8f621f4\")) {                    Plotly.newPlot(                        \"9b29cb12-9570-44ea-8b59-4df8b8f621f4\",                        [{\"alignmentgroup\":\"True\",\"customdata\":[[85.34],[8.06],[1.7],[1.22],[1.64],[1.01],[0.23],[0.28],[0.08],[0.06],[0.02],[0.25],[0.12]],\"hovertemplate\":\"\\ub4f1\\ub85d\\ub144\\ub3c4=%{x}<br>counts=%{y}<br>percentage=%{customdata[0]}<extra></extra>\",\"legendgroup\":\"\",\"marker\":{\"color\":\"#636efa\",\"pattern\":{\"shape\":\"\"}},\"name\":\"\",\"offsetgroup\":\"\",\"orientation\":\"v\",\"showlegend\":false,\"textposition\":\"auto\",\"x\":[2021,2020,2019,2018,2017,2016,2015,2014,2013,2012,2011,2010,2009],\"xaxis\":\"x\",\"y\":[43243,4085,859,617,833,514,119,140,39,29,10,127,59],\"yaxis\":\"y\",\"type\":\"bar\"}],                        {\"template\":{\"data\":{\"bar\":[{\"error_x\":{\"color\":\"#2a3f5f\"},\"error_y\":{\"color\":\"#2a3f5f\"},\"marker\":{\"line\":{\"color\":\"#E5ECF6\",\"width\":0.5},\"pattern\":{\"fillmode\":\"overlay\",\"size\":10,\"solidity\":0.2}},\"type\":\"bar\"}],\"barpolar\":[{\"marker\":{\"line\":{\"color\":\"#E5ECF6\",\"width\":0.5},\"pattern\":{\"fillmode\":\"overlay\",\"size\":10,\"solidity\":0.2}},\"type\":\"barpolar\"}],\"carpet\":[{\"aaxis\":{\"endlinecolor\":\"#2a3f5f\",\"gridcolor\":\"white\",\"linecolor\":\"white\",\"minorgridcolor\":\"white\",\"startlinecolor\":\"#2a3f5f\"},\"baxis\":{\"endlinecolor\":\"#2a3f5f\",\"gridcolor\":\"white\",\"linecolor\":\"white\",\"minorgridcolor\":\"white\",\"startlinecolor\":\"#2a3f5f\"},\"type\":\"carpet\"}],\"choropleth\":[{\"colorbar\":{\"outlinewidth\":0,\"ticks\":\"\"},\"type\":\"choropleth\"}],\"contour\":[{\"colorbar\":{\"outlinewidth\":0,\"ticks\":\"\"},\"colorscale\":[[0.0,\"#0d0887\"],[0.1111111111111111,\"#46039f\"],[0.2222222222222222,\"#7201a8\"],[0.3333333333333333,\"#9c179e\"],[0.4444444444444444,\"#bd3786\"],[0.5555555555555556,\"#d8576b\"],[0.6666666666666666,\"#ed7953\"],[0.7777777777777778,\"#fb9f3a\"],[0.8888888888888888,\"#fdca26\"],[1.0,\"#f0f921\"]],\"type\":\"contour\"}],\"contourcarpet\":[{\"colorbar\":{\"outlinewidth\":0,\"ticks\":\"\"},\"type\":\"contourcarpet\"}],\"heatmap\":[{\"colorbar\":{\"outlinewidth\":0,\"ticks\":\"\"},\"colorscale\":[[0.0,\"#0d0887\"],[0.1111111111111111,\"#46039f\"],[0.2222222222222222,\"#7201a8\"],[0.3333333333333333,\"#9c179e\"],[0.4444444444444444,\"#bd3786\"],[0.5555555555555556,\"#d8576b\"],[0.6666666666666666,\"#ed7953\"],[0.7777777777777778,\"#fb9f3a\"],[0.8888888888888888,\"#fdca26\"],[1.0,\"#f0f921\"]],\"type\":\"heatmap\"}],\"heatmapgl\":[{\"colorbar\":{\"outlinewidth\":0,\"ticks\":\"\"},\"colorscale\":[[0.0,\"#0d0887\"],[0.1111111111111111,\"#46039f\"],[0.2222222222222222,\"#7201a8\"],[0.3333333333333333,\"#9c179e\"],[0.4444444444444444,\"#bd3786\"],[0.5555555555555556,\"#d8576b\"],[0.6666666666666666,\"#ed7953\"],[0.7777777777777778,\"#fb9f3a\"],[0.8888888888888888,\"#fdca26\"],[1.0,\"#f0f921\"]],\"type\":\"heatmapgl\"}],\"histogram\":[{\"marker\":{\"pattern\":{\"fillmode\":\"overlay\",\"size\":10,\"solidity\":0.2}},\"type\":\"histogram\"}],\"histogram2d\":[{\"colorbar\":{\"outlinewidth\":0,\"ticks\":\"\"},\"colorscale\":[[0.0,\"#0d0887\"],[0.1111111111111111,\"#46039f\"],[0.2222222222222222,\"#7201a8\"],[0.3333333333333333,\"#9c179e\"],[0.4444444444444444,\"#bd3786\"],[0.5555555555555556,\"#d8576b\"],[0.6666666666666666,\"#ed7953\"],[0.7777777777777778,\"#fb9f3a\"],[0.8888888888888888,\"#fdca26\"],[1.0,\"#f0f921\"]],\"type\":\"histogram2d\"}],\"histogram2dcontour\":[{\"colorbar\":{\"outlinewidth\":0,\"ticks\":\"\"},\"colorscale\":[[0.0,\"#0d0887\"],[0.1111111111111111,\"#46039f\"],[0.2222222222222222,\"#7201a8\"],[0.3333333333333333,\"#9c179e\"],[0.4444444444444444,\"#bd3786\"],[0.5555555555555556,\"#d8576b\"],[0.6666666666666666,\"#ed7953\"],[0.7777777777777778,\"#fb9f3a\"],[0.8888888888888888,\"#fdca26\"],[1.0,\"#f0f921\"]],\"type\":\"histogram2dcontour\"}],\"mesh3d\":[{\"colorbar\":{\"outlinewidth\":0,\"ticks\":\"\"},\"type\":\"mesh3d\"}],\"parcoords\":[{\"line\":{\"colorbar\":{\"outlinewidth\":0,\"ticks\":\"\"}},\"type\":\"parcoords\"}],\"pie\":[{\"automargin\":true,\"type\":\"pie\"}],\"scatter\":[{\"marker\":{\"colorbar\":{\"outlinewidth\":0,\"ticks\":\"\"}},\"type\":\"scatter\"}],\"scatter3d\":[{\"line\":{\"colorbar\":{\"outlinewidth\":0,\"ticks\":\"\"}},\"marker\":{\"colorbar\":{\"outlinewidth\":0,\"ticks\":\"\"}},\"type\":\"scatter3d\"}],\"scattercarpet\":[{\"marker\":{\"colorbar\":{\"outlinewidth\":0,\"ticks\":\"\"}},\"type\":\"scattercarpet\"}],\"scattergeo\":[{\"marker\":{\"colorbar\":{\"outlinewidth\":0,\"ticks\":\"\"}},\"type\":\"scattergeo\"}],\"scattergl\":[{\"marker\":{\"colorbar\":{\"outlinewidth\":0,\"ticks\":\"\"}},\"type\":\"scattergl\"}],\"scattermapbox\":[{\"marker\":{\"colorbar\":{\"outlinewidth\":0,\"ticks\":\"\"}},\"type\":\"scattermapbox\"}],\"scatterpolar\":[{\"marker\":{\"colorbar\":{\"outlinewidth\":0,\"ticks\":\"\"}},\"type\":\"scatterpolar\"}],\"scatterpolargl\":[{\"marker\":{\"colorbar\":{\"outlinewidth\":0,\"ticks\":\"\"}},\"type\":\"scatterpolargl\"}],\"scatterternary\":[{\"marker\":{\"colorbar\":{\"outlinewidth\":0,\"ticks\":\"\"}},\"type\":\"scatterternary\"}],\"surface\":[{\"colorbar\":{\"outlinewidth\":0,\"ticks\":\"\"},\"colorscale\":[[0.0,\"#0d0887\"],[0.1111111111111111,\"#46039f\"],[0.2222222222222222,\"#7201a8\"],[0.3333333333333333,\"#9c179e\"],[0.4444444444444444,\"#bd3786\"],[0.5555555555555556,\"#d8576b\"],[0.6666666666666666,\"#ed7953\"],[0.7777777777777778,\"#fb9f3a\"],[0.8888888888888888,\"#fdca26\"],[1.0,\"#f0f921\"]],\"type\":\"surface\"}],\"table\":[{\"cells\":{\"fill\":{\"color\":\"#EBF0F8\"},\"line\":{\"color\":\"white\"}},\"header\":{\"fill\":{\"color\":\"#C8D4E3\"},\"line\":{\"color\":\"white\"}},\"type\":\"table\"}]},\"layout\":{\"annotationdefaults\":{\"arrowcolor\":\"#2a3f5f\",\"arrowhead\":0,\"arrowwidth\":1},\"autotypenumbers\":\"strict\",\"coloraxis\":{\"colorbar\":{\"outlinewidth\":0,\"ticks\":\"\"}},\"colorscale\":{\"diverging\":[[0,\"#8e0152\"],[0.1,\"#c51b7d\"],[0.2,\"#de77ae\"],[0.3,\"#f1b6da\"],[0.4,\"#fde0ef\"],[0.5,\"#f7f7f7\"],[0.6,\"#e6f5d0\"],[0.7,\"#b8e186\"],[0.8,\"#7fbc41\"],[0.9,\"#4d9221\"],[1,\"#276419\"]],\"sequential\":[[0.0,\"#0d0887\"],[0.1111111111111111,\"#46039f\"],[0.2222222222222222,\"#7201a8\"],[0.3333333333333333,\"#9c179e\"],[0.4444444444444444,\"#bd3786\"],[0.5555555555555556,\"#d8576b\"],[0.6666666666666666,\"#ed7953\"],[0.7777777777777778,\"#fb9f3a\"],[0.8888888888888888,\"#fdca26\"],[1.0,\"#f0f921\"]],\"sequentialminus\":[[0.0,\"#0d0887\"],[0.1111111111111111,\"#46039f\"],[0.2222222222222222,\"#7201a8\"],[0.3333333333333333,\"#9c179e\"],[0.4444444444444444,\"#bd3786\"],[0.5555555555555556,\"#d8576b\"],[0.6666666666666666,\"#ed7953\"],[0.7777777777777778,\"#fb9f3a\"],[0.8888888888888888,\"#fdca26\"],[1.0,\"#f0f921\"]]},\"colorway\":[\"#636efa\",\"#EF553B\",\"#00cc96\",\"#ab63fa\",\"#FFA15A\",\"#19d3f3\",\"#FF6692\",\"#B6E880\",\"#FF97FF\",\"#FECB52\"],\"font\":{\"color\":\"#2a3f5f\"},\"geo\":{\"bgcolor\":\"white\",\"lakecolor\":\"white\",\"landcolor\":\"#E5ECF6\",\"showlakes\":true,\"showland\":true,\"subunitcolor\":\"white\"},\"hoverlabel\":{\"align\":\"left\"},\"hovermode\":\"closest\",\"mapbox\":{\"style\":\"light\"},\"paper_bgcolor\":\"white\",\"plot_bgcolor\":\"#E5ECF6\",\"polar\":{\"angularaxis\":{\"gridcolor\":\"white\",\"linecolor\":\"white\",\"ticks\":\"\"},\"bgcolor\":\"#E5ECF6\",\"radialaxis\":{\"gridcolor\":\"white\",\"linecolor\":\"white\",\"ticks\":\"\"}},\"scene\":{\"xaxis\":{\"backgroundcolor\":\"#E5ECF6\",\"gridcolor\":\"white\",\"gridwidth\":2,\"linecolor\":\"white\",\"showbackground\":true,\"ticks\":\"\",\"zerolinecolor\":\"white\"},\"yaxis\":{\"backgroundcolor\":\"#E5ECF6\",\"gridcolor\":\"white\",\"gridwidth\":2,\"linecolor\":\"white\",\"showbackground\":true,\"ticks\":\"\",\"zerolinecolor\":\"white\"},\"zaxis\":{\"backgroundcolor\":\"#E5ECF6\",\"gridcolor\":\"white\",\"gridwidth\":2,\"linecolor\":\"white\",\"showbackground\":true,\"ticks\":\"\",\"zerolinecolor\":\"white\"}},\"shapedefaults\":{\"line\":{\"color\":\"#2a3f5f\"}},\"ternary\":{\"aaxis\":{\"gridcolor\":\"white\",\"linecolor\":\"white\",\"ticks\":\"\"},\"baxis\":{\"gridcolor\":\"white\",\"linecolor\":\"white\",\"ticks\":\"\"},\"bgcolor\":\"#E5ECF6\",\"caxis\":{\"gridcolor\":\"white\",\"linecolor\":\"white\",\"ticks\":\"\"}},\"title\":{\"x\":0.05},\"xaxis\":{\"automargin\":true,\"gridcolor\":\"white\",\"linecolor\":\"white\",\"ticks\":\"\",\"title\":{\"standoff\":15},\"zerolinecolor\":\"white\",\"zerolinewidth\":2},\"yaxis\":{\"automargin\":true,\"gridcolor\":\"white\",\"linecolor\":\"white\",\"ticks\":\"\",\"title\":{\"standoff\":15},\"zerolinecolor\":\"white\",\"zerolinewidth\":2}}},\"xaxis\":{\"anchor\":\"y\",\"domain\":[0.0,1.0],\"title\":{\"text\":\"\\ub4f1\\ub85d\\ub144\\ub3c4\"}},\"yaxis\":{\"anchor\":\"x\",\"domain\":[0.0,1.0],\"title\":{\"text\":\"counts\"}},\"legend\":{\"tracegroupgap\":0},\"margin\":{\"t\":60},\"barmode\":\"relative\",\"font\":{\"size\":15,\"family\":\"NanumGothic ExtraBold\"},\"title\":{\"text\":\"\\uc5f0\\ub3c4\\ubcc4 \\ubbfc\\uc6d0 \\uc218\"}},                        {\"responsive\": true}                    ).then(function(){\n",
              "                            \n",
              "var gd = document.getElementById('9b29cb12-9570-44ea-8b59-4df8b8f621f4');\n",
              "var x = new MutationObserver(function (mutations, observer) {{\n",
              "        var display = window.getComputedStyle(gd).display;\n",
              "        if (!display || display === 'none') {{\n",
              "            console.log([gd, 'removed!']);\n",
              "            Plotly.purge(gd);\n",
              "            observer.disconnect();\n",
              "        }}\n",
              "}});\n",
              "\n",
              "// Listen for the removal of the full notebook cells\n",
              "var notebookContainer = gd.closest('#notebook-container');\n",
              "if (notebookContainer) {{\n",
              "    x.observe(notebookContainer, {childList: true});\n",
              "}}\n",
              "\n",
              "// Listen for the clearing of the current output cell\n",
              "var outputEl = gd.closest('.output');\n",
              "if (outputEl) {{\n",
              "    x.observe(outputEl, {childList: true});\n",
              "}}\n",
              "\n",
              "                        })                };                            </script>        </div>\n",
              "</body>\n",
              "</html>"
            ]
          },
          "metadata": {}
        }
      ]
    },
    {
      "cell_type": "markdown",
      "metadata": {
        "id": "QKOwkuUUkhxs"
      },
      "source": [
        "**민원데이터는 2020년과 2021년의 데이터가 약 93%정도를 차지하였습니다**  \n",
        "**이 민원 데이터는 2021년의 내용이 압도적으로 많기 때문에 이후 분석 내용은 2021년을 타겟으로 해야겠다고 생각했습니다. 그러나 아직 2021년이 마무리되지 않았기 때문에 월별 비교 등을 수행하기 위해 2020년 역시 데이터 양은 2021년에 비해 작지만 포함하였습니다.**\n",
        "\n",
        "**또한 나머지를 제거해도 약 7%정도이기 때문에 분석에 영향이 거의 없을것이라 판단하였고 이후 진행되는 분석에서는 2020년 이전 데이터들은 모두 제거하고 사용하였습니다.**  "
      ]
    },
    {
      "cell_type": "code",
      "metadata": {
        "colab": {
          "base_uri": "https://localhost:8080/"
        },
        "id": "gvhn08TRpZ-W",
        "outputId": "9f6f7412-69b6-4fd2-b19a-3ca2467ebecc"
      },
      "source": [
        "print(f'Before remove : {root.shape}')\n",
        "root = root.loc[root['등록년도'] >= 2020]\n",
        "print(f'After remove : {root.shape}') #등록년도가 NaN값인것까지 함께 제거됨"
      ],
      "execution_count": 113,
      "outputs": [
        {
          "output_type": "stream",
          "name": "stdout",
          "text": [
            "Before remove : (57249, 16)\n",
            "After remove : (47328, 16)\n"
          ]
        }
      ]
    },
    {
      "cell_type": "markdown",
      "metadata": {
        "id": "5l-NYzpxtKv_"
      },
      "source": [
        "## 기관별 민원 수"
      ]
    },
    {
      "cell_type": "code",
      "metadata": {
        "colab": {
          "base_uri": "https://localhost:8080/",
          "height": 542
        },
        "id": "ZbvOLKIpZG4y",
        "outputId": "bbe82db6-0cc1-46db-ebf2-edfd0e1bd77e"
      },
      "source": [
        "dep_cat = root.groupby(by=[\"기관구분\"]).size().reset_index(name=\"counts\")\n",
        "bar_dep_cat = plot_type(dep_cat)\n",
        "bar_dep_cat.pie('counts', '기관구분', hole=0.3)\n",
        "bar_dep_cat.fig.update_traces(textposition='inside', textinfo='percent+label')\n",
        "bar_dep_cat.fig.update_layout(\n",
        "    title = '기관별 민원 수',\n",
        "    font = {'size' : 15,\n",
        "            'family' : 'NanumGothic ExtraBold'}\n",
        ")\n",
        "bar_dep_cat.plot()"
      ],
      "execution_count": 114,
      "outputs": [
        {
          "output_type": "display_data",
          "data": {
            "text/html": [
              "<html>\n",
              "<head><meta charset=\"utf-8\" /></head>\n",
              "<body>\n",
              "    <div>            <script src=\"https://cdnjs.cloudflare.com/ajax/libs/mathjax/2.7.5/MathJax.js?config=TeX-AMS-MML_SVG\"></script><script type=\"text/javascript\">if (window.MathJax) {MathJax.Hub.Config({SVG: {font: \"STIX-Web\"}});}</script>                <script type=\"text/javascript\">window.PlotlyConfig = {MathJaxConfig: 'local'};</script>\n",
              "        <script src=\"https://cdn.plot.ly/plotly-2.6.3.min.js\"></script>                <div id=\"6b129de0-b467-4969-89e9-07809190ff60\" class=\"plotly-graph-div\" style=\"height:525px; width:100%;\"></div>            <script type=\"text/javascript\">                                    window.PLOTLYENV=window.PLOTLYENV || {};                                    if (document.getElementById(\"6b129de0-b467-4969-89e9-07809190ff60\")) {                    Plotly.newPlot(                        \"6b129de0-b467-4969-89e9-07809190ff60\",                        [{\"domain\":{\"x\":[0.0,1.0],\"y\":[0.0,1.0]},\"hole\":0.3,\"hovertemplate\":\"\\uae30\\uad00\\uad6c\\ubd84=%{label}<br>counts=%{value}<extra></extra>\",\"labels\":[\"\\uacf5\\uacf5\\uae30\\uad00\",\"\\uad11\\uc5ed\\uc790\\uce58\\ub2e8\\uccb4\",\"\\uae30\\ucd08\\uc790\\uce58\\ub2e8\\uccb4\",\"\\uc911\\uc559\\ud589\\uc815\\uae30\\uad00\"],\"legendgroup\":\"\",\"name\":\"\",\"showlegend\":true,\"values\":[108,970,14918,31332],\"type\":\"pie\",\"textinfo\":\"percent+label\",\"textposition\":\"inside\"}],                        {\"template\":{\"data\":{\"bar\":[{\"error_x\":{\"color\":\"#2a3f5f\"},\"error_y\":{\"color\":\"#2a3f5f\"},\"marker\":{\"line\":{\"color\":\"#E5ECF6\",\"width\":0.5},\"pattern\":{\"fillmode\":\"overlay\",\"size\":10,\"solidity\":0.2}},\"type\":\"bar\"}],\"barpolar\":[{\"marker\":{\"line\":{\"color\":\"#E5ECF6\",\"width\":0.5},\"pattern\":{\"fillmode\":\"overlay\",\"size\":10,\"solidity\":0.2}},\"type\":\"barpolar\"}],\"carpet\":[{\"aaxis\":{\"endlinecolor\":\"#2a3f5f\",\"gridcolor\":\"white\",\"linecolor\":\"white\",\"minorgridcolor\":\"white\",\"startlinecolor\":\"#2a3f5f\"},\"baxis\":{\"endlinecolor\":\"#2a3f5f\",\"gridcolor\":\"white\",\"linecolor\":\"white\",\"minorgridcolor\":\"white\",\"startlinecolor\":\"#2a3f5f\"},\"type\":\"carpet\"}],\"choropleth\":[{\"colorbar\":{\"outlinewidth\":0,\"ticks\":\"\"},\"type\":\"choropleth\"}],\"contour\":[{\"colorbar\":{\"outlinewidth\":0,\"ticks\":\"\"},\"colorscale\":[[0.0,\"#0d0887\"],[0.1111111111111111,\"#46039f\"],[0.2222222222222222,\"#7201a8\"],[0.3333333333333333,\"#9c179e\"],[0.4444444444444444,\"#bd3786\"],[0.5555555555555556,\"#d8576b\"],[0.6666666666666666,\"#ed7953\"],[0.7777777777777778,\"#fb9f3a\"],[0.8888888888888888,\"#fdca26\"],[1.0,\"#f0f921\"]],\"type\":\"contour\"}],\"contourcarpet\":[{\"colorbar\":{\"outlinewidth\":0,\"ticks\":\"\"},\"type\":\"contourcarpet\"}],\"heatmap\":[{\"colorbar\":{\"outlinewidth\":0,\"ticks\":\"\"},\"colorscale\":[[0.0,\"#0d0887\"],[0.1111111111111111,\"#46039f\"],[0.2222222222222222,\"#7201a8\"],[0.3333333333333333,\"#9c179e\"],[0.4444444444444444,\"#bd3786\"],[0.5555555555555556,\"#d8576b\"],[0.6666666666666666,\"#ed7953\"],[0.7777777777777778,\"#fb9f3a\"],[0.8888888888888888,\"#fdca26\"],[1.0,\"#f0f921\"]],\"type\":\"heatmap\"}],\"heatmapgl\":[{\"colorbar\":{\"outlinewidth\":0,\"ticks\":\"\"},\"colorscale\":[[0.0,\"#0d0887\"],[0.1111111111111111,\"#46039f\"],[0.2222222222222222,\"#7201a8\"],[0.3333333333333333,\"#9c179e\"],[0.4444444444444444,\"#bd3786\"],[0.5555555555555556,\"#d8576b\"],[0.6666666666666666,\"#ed7953\"],[0.7777777777777778,\"#fb9f3a\"],[0.8888888888888888,\"#fdca26\"],[1.0,\"#f0f921\"]],\"type\":\"heatmapgl\"}],\"histogram\":[{\"marker\":{\"pattern\":{\"fillmode\":\"overlay\",\"size\":10,\"solidity\":0.2}},\"type\":\"histogram\"}],\"histogram2d\":[{\"colorbar\":{\"outlinewidth\":0,\"ticks\":\"\"},\"colorscale\":[[0.0,\"#0d0887\"],[0.1111111111111111,\"#46039f\"],[0.2222222222222222,\"#7201a8\"],[0.3333333333333333,\"#9c179e\"],[0.4444444444444444,\"#bd3786\"],[0.5555555555555556,\"#d8576b\"],[0.6666666666666666,\"#ed7953\"],[0.7777777777777778,\"#fb9f3a\"],[0.8888888888888888,\"#fdca26\"],[1.0,\"#f0f921\"]],\"type\":\"histogram2d\"}],\"histogram2dcontour\":[{\"colorbar\":{\"outlinewidth\":0,\"ticks\":\"\"},\"colorscale\":[[0.0,\"#0d0887\"],[0.1111111111111111,\"#46039f\"],[0.2222222222222222,\"#7201a8\"],[0.3333333333333333,\"#9c179e\"],[0.4444444444444444,\"#bd3786\"],[0.5555555555555556,\"#d8576b\"],[0.6666666666666666,\"#ed7953\"],[0.7777777777777778,\"#fb9f3a\"],[0.8888888888888888,\"#fdca26\"],[1.0,\"#f0f921\"]],\"type\":\"histogram2dcontour\"}],\"mesh3d\":[{\"colorbar\":{\"outlinewidth\":0,\"ticks\":\"\"},\"type\":\"mesh3d\"}],\"parcoords\":[{\"line\":{\"colorbar\":{\"outlinewidth\":0,\"ticks\":\"\"}},\"type\":\"parcoords\"}],\"pie\":[{\"automargin\":true,\"type\":\"pie\"}],\"scatter\":[{\"marker\":{\"colorbar\":{\"outlinewidth\":0,\"ticks\":\"\"}},\"type\":\"scatter\"}],\"scatter3d\":[{\"line\":{\"colorbar\":{\"outlinewidth\":0,\"ticks\":\"\"}},\"marker\":{\"colorbar\":{\"outlinewidth\":0,\"ticks\":\"\"}},\"type\":\"scatter3d\"}],\"scattercarpet\":[{\"marker\":{\"colorbar\":{\"outlinewidth\":0,\"ticks\":\"\"}},\"type\":\"scattercarpet\"}],\"scattergeo\":[{\"marker\":{\"colorbar\":{\"outlinewidth\":0,\"ticks\":\"\"}},\"type\":\"scattergeo\"}],\"scattergl\":[{\"marker\":{\"colorbar\":{\"outlinewidth\":0,\"ticks\":\"\"}},\"type\":\"scattergl\"}],\"scattermapbox\":[{\"marker\":{\"colorbar\":{\"outlinewidth\":0,\"ticks\":\"\"}},\"type\":\"scattermapbox\"}],\"scatterpolar\":[{\"marker\":{\"colorbar\":{\"outlinewidth\":0,\"ticks\":\"\"}},\"type\":\"scatterpolar\"}],\"scatterpolargl\":[{\"marker\":{\"colorbar\":{\"outlinewidth\":0,\"ticks\":\"\"}},\"type\":\"scatterpolargl\"}],\"scatterternary\":[{\"marker\":{\"colorbar\":{\"outlinewidth\":0,\"ticks\":\"\"}},\"type\":\"scatterternary\"}],\"surface\":[{\"colorbar\":{\"outlinewidth\":0,\"ticks\":\"\"},\"colorscale\":[[0.0,\"#0d0887\"],[0.1111111111111111,\"#46039f\"],[0.2222222222222222,\"#7201a8\"],[0.3333333333333333,\"#9c179e\"],[0.4444444444444444,\"#bd3786\"],[0.5555555555555556,\"#d8576b\"],[0.6666666666666666,\"#ed7953\"],[0.7777777777777778,\"#fb9f3a\"],[0.8888888888888888,\"#fdca26\"],[1.0,\"#f0f921\"]],\"type\":\"surface\"}],\"table\":[{\"cells\":{\"fill\":{\"color\":\"#EBF0F8\"},\"line\":{\"color\":\"white\"}},\"header\":{\"fill\":{\"color\":\"#C8D4E3\"},\"line\":{\"color\":\"white\"}},\"type\":\"table\"}]},\"layout\":{\"annotationdefaults\":{\"arrowcolor\":\"#2a3f5f\",\"arrowhead\":0,\"arrowwidth\":1},\"autotypenumbers\":\"strict\",\"coloraxis\":{\"colorbar\":{\"outlinewidth\":0,\"ticks\":\"\"}},\"colorscale\":{\"diverging\":[[0,\"#8e0152\"],[0.1,\"#c51b7d\"],[0.2,\"#de77ae\"],[0.3,\"#f1b6da\"],[0.4,\"#fde0ef\"],[0.5,\"#f7f7f7\"],[0.6,\"#e6f5d0\"],[0.7,\"#b8e186\"],[0.8,\"#7fbc41\"],[0.9,\"#4d9221\"],[1,\"#276419\"]],\"sequential\":[[0.0,\"#0d0887\"],[0.1111111111111111,\"#46039f\"],[0.2222222222222222,\"#7201a8\"],[0.3333333333333333,\"#9c179e\"],[0.4444444444444444,\"#bd3786\"],[0.5555555555555556,\"#d8576b\"],[0.6666666666666666,\"#ed7953\"],[0.7777777777777778,\"#fb9f3a\"],[0.8888888888888888,\"#fdca26\"],[1.0,\"#f0f921\"]],\"sequentialminus\":[[0.0,\"#0d0887\"],[0.1111111111111111,\"#46039f\"],[0.2222222222222222,\"#7201a8\"],[0.3333333333333333,\"#9c179e\"],[0.4444444444444444,\"#bd3786\"],[0.5555555555555556,\"#d8576b\"],[0.6666666666666666,\"#ed7953\"],[0.7777777777777778,\"#fb9f3a\"],[0.8888888888888888,\"#fdca26\"],[1.0,\"#f0f921\"]]},\"colorway\":[\"#636efa\",\"#EF553B\",\"#00cc96\",\"#ab63fa\",\"#FFA15A\",\"#19d3f3\",\"#FF6692\",\"#B6E880\",\"#FF97FF\",\"#FECB52\"],\"font\":{\"color\":\"#2a3f5f\"},\"geo\":{\"bgcolor\":\"white\",\"lakecolor\":\"white\",\"landcolor\":\"#E5ECF6\",\"showlakes\":true,\"showland\":true,\"subunitcolor\":\"white\"},\"hoverlabel\":{\"align\":\"left\"},\"hovermode\":\"closest\",\"mapbox\":{\"style\":\"light\"},\"paper_bgcolor\":\"white\",\"plot_bgcolor\":\"#E5ECF6\",\"polar\":{\"angularaxis\":{\"gridcolor\":\"white\",\"linecolor\":\"white\",\"ticks\":\"\"},\"bgcolor\":\"#E5ECF6\",\"radialaxis\":{\"gridcolor\":\"white\",\"linecolor\":\"white\",\"ticks\":\"\"}},\"scene\":{\"xaxis\":{\"backgroundcolor\":\"#E5ECF6\",\"gridcolor\":\"white\",\"gridwidth\":2,\"linecolor\":\"white\",\"showbackground\":true,\"ticks\":\"\",\"zerolinecolor\":\"white\"},\"yaxis\":{\"backgroundcolor\":\"#E5ECF6\",\"gridcolor\":\"white\",\"gridwidth\":2,\"linecolor\":\"white\",\"showbackground\":true,\"ticks\":\"\",\"zerolinecolor\":\"white\"},\"zaxis\":{\"backgroundcolor\":\"#E5ECF6\",\"gridcolor\":\"white\",\"gridwidth\":2,\"linecolor\":\"white\",\"showbackground\":true,\"ticks\":\"\",\"zerolinecolor\":\"white\"}},\"shapedefaults\":{\"line\":{\"color\":\"#2a3f5f\"}},\"ternary\":{\"aaxis\":{\"gridcolor\":\"white\",\"linecolor\":\"white\",\"ticks\":\"\"},\"baxis\":{\"gridcolor\":\"white\",\"linecolor\":\"white\",\"ticks\":\"\"},\"bgcolor\":\"#E5ECF6\",\"caxis\":{\"gridcolor\":\"white\",\"linecolor\":\"white\",\"ticks\":\"\"}},\"title\":{\"x\":0.05},\"xaxis\":{\"automargin\":true,\"gridcolor\":\"white\",\"linecolor\":\"white\",\"ticks\":\"\",\"title\":{\"standoff\":15},\"zerolinecolor\":\"white\",\"zerolinewidth\":2},\"yaxis\":{\"automargin\":true,\"gridcolor\":\"white\",\"linecolor\":\"white\",\"ticks\":\"\",\"title\":{\"standoff\":15},\"zerolinecolor\":\"white\",\"zerolinewidth\":2}}},\"legend\":{\"tracegroupgap\":0},\"margin\":{\"t\":60},\"font\":{\"size\":15,\"family\":\"NanumGothic ExtraBold\"},\"title\":{\"text\":\"\\uae30\\uad00\\ubcc4 \\ubbfc\\uc6d0 \\uc218\"}},                        {\"responsive\": true}                    ).then(function(){\n",
              "                            \n",
              "var gd = document.getElementById('6b129de0-b467-4969-89e9-07809190ff60');\n",
              "var x = new MutationObserver(function (mutations, observer) {{\n",
              "        var display = window.getComputedStyle(gd).display;\n",
              "        if (!display || display === 'none') {{\n",
              "            console.log([gd, 'removed!']);\n",
              "            Plotly.purge(gd);\n",
              "            observer.disconnect();\n",
              "        }}\n",
              "}});\n",
              "\n",
              "// Listen for the removal of the full notebook cells\n",
              "var notebookContainer = gd.closest('#notebook-container');\n",
              "if (notebookContainer) {{\n",
              "    x.observe(notebookContainer, {childList: true});\n",
              "}}\n",
              "\n",
              "// Listen for the clearing of the current output cell\n",
              "var outputEl = gd.closest('.output');\n",
              "if (outputEl) {{\n",
              "    x.observe(outputEl, {childList: true});\n",
              "}}\n",
              "\n",
              "                        })                };                            </script>        </div>\n",
              "</body>\n",
              "</html>"
            ]
          },
          "metadata": {}
        }
      ]
    },
    {
      "cell_type": "markdown",
      "metadata": {
        "id": "WdiHZhIUilrw"
      },
      "source": [
        "**중앙행정기관으로 접수된 민원들이 약 66%로 가장 많았고 그 다음으로 기초자치단체 약 31%, 광역자치단체 2%, 공공기관 0.2% 를 차지하였다는것을 확인할 수 있습니다.**  \n",
        "\n",
        "**수집된 2021년,2020년의 민원은 약 97%가 중앙행정기관 및 기초자치단체에 접수되었고, 절반이 넘는 민원이 중앙행정기관에 접수되었기 때문에 이 민원은 기존 구청, 시청 등에 접수되는 민원과 내용이 다를 것이라는 생각이 들었습니다.**  \n",
        "\n",
        "**그래서 우선 최상위기관에 접수된 민원 수 상위 10개를 파악하고자 하였습니다.**"
      ]
    },
    {
      "cell_type": "markdown",
      "metadata": {
        "id": "27MN4A5Ut0b9"
      },
      "source": [
        "## 최상위기관별 민원 수"
      ]
    },
    {
      "cell_type": "code",
      "metadata": {
        "colab": {
          "base_uri": "https://localhost:8080/",
          "height": 542
        },
        "id": "_qVRx2krgbam",
        "outputId": "ea5950b3-ff35-46ad-f52b-762c25263cd0"
      },
      "source": [
        "dep_name = root.groupby(by=[\"최상위기관명\"]).size().reset_index(name=\"counts\").sort_values('counts', ascending=False).head(10)\n",
        "\n",
        "bar_dep_name = plot_type(dep_name)\n",
        "bar_dep_name.bar(x='최상위기관명', y='counts')\n",
        "bar_dep_name.fig.update_layout(\n",
        "    title = '최상위기관별 민원 수',\n",
        "    font = {'size' : 15,\n",
        "            'family' : 'NanumGothic ExtraBold'}\n",
        ")\n",
        "bar_dep_name.plot()"
      ],
      "execution_count": 121,
      "outputs": [
        {
          "output_type": "display_data",
          "data": {
            "text/html": [
              "<html>\n",
              "<head><meta charset=\"utf-8\" /></head>\n",
              "<body>\n",
              "    <div>            <script src=\"https://cdnjs.cloudflare.com/ajax/libs/mathjax/2.7.5/MathJax.js?config=TeX-AMS-MML_SVG\"></script><script type=\"text/javascript\">if (window.MathJax) {MathJax.Hub.Config({SVG: {font: \"STIX-Web\"}});}</script>                <script type=\"text/javascript\">window.PlotlyConfig = {MathJaxConfig: 'local'};</script>\n",
              "        <script src=\"https://cdn.plot.ly/plotly-2.6.3.min.js\"></script>                <div id=\"852b5607-6839-4bfa-9c06-a50a7c04e781\" class=\"plotly-graph-div\" style=\"height:525px; width:100%;\"></div>            <script type=\"text/javascript\">                                    window.PLOTLYENV=window.PLOTLYENV || {};                                    if (document.getElementById(\"852b5607-6839-4bfa-9c06-a50a7c04e781\")) {                    Plotly.newPlot(                        \"852b5607-6839-4bfa-9c06-a50a7c04e781\",                        [{\"alignmentgroup\":\"True\",\"customdata\":[[31.13],[13.05],[12.05],[9.53],[9.4],[7.37],[4.51],[4.42],[4.4],[4.14]],\"hovertemplate\":\"\\ucd5c\\uc0c1\\uc704\\uae30\\uad00\\uba85=%{x}<br>counts=%{y}<br>percentage=%{customdata[0]}<extra></extra>\",\"legendgroup\":\"\",\"marker\":{\"color\":\"#636efa\",\"pattern\":{\"shape\":\"\"}},\"name\":\"\",\"offsetgroup\":\"\",\"orientation\":\"v\",\"showlegend\":false,\"textposition\":\"auto\",\"x\":[\"\\ud574\\uc591\\uc218\\uc0b0\\ubd80\",\"\\uad6d\\uc138\\uccad\",\"\\uc11c\\uc6b8\\ud2b9\\ubcc4\\uc2dc\\uad50\\uc721\\uccad\",\"\\ubd80\\uc0b0\\uad11\\uc5ed\\uc2dc\\uad50\\uc721\\uccad\",\"\\uad50\\uc721\\ubd80\",\"\\uacbd\\ucc30\\uccad\",\"\\uae30\\ud68d\\uc7ac\\uc815\\ubd80\",\"\\ubc95\\ubb34\\ubd80\",\"\\ubcd1\\ubb34\\uccad\",\"\\ud658\\uacbd\\ubd80\"],\"xaxis\":\"x\",\"y\":[6215,2606,2405,1903,1877,1471,900,882,878,827],\"yaxis\":\"y\",\"type\":\"bar\"}],                        {\"template\":{\"data\":{\"bar\":[{\"error_x\":{\"color\":\"#2a3f5f\"},\"error_y\":{\"color\":\"#2a3f5f\"},\"marker\":{\"line\":{\"color\":\"#E5ECF6\",\"width\":0.5},\"pattern\":{\"fillmode\":\"overlay\",\"size\":10,\"solidity\":0.2}},\"type\":\"bar\"}],\"barpolar\":[{\"marker\":{\"line\":{\"color\":\"#E5ECF6\",\"width\":0.5},\"pattern\":{\"fillmode\":\"overlay\",\"size\":10,\"solidity\":0.2}},\"type\":\"barpolar\"}],\"carpet\":[{\"aaxis\":{\"endlinecolor\":\"#2a3f5f\",\"gridcolor\":\"white\",\"linecolor\":\"white\",\"minorgridcolor\":\"white\",\"startlinecolor\":\"#2a3f5f\"},\"baxis\":{\"endlinecolor\":\"#2a3f5f\",\"gridcolor\":\"white\",\"linecolor\":\"white\",\"minorgridcolor\":\"white\",\"startlinecolor\":\"#2a3f5f\"},\"type\":\"carpet\"}],\"choropleth\":[{\"colorbar\":{\"outlinewidth\":0,\"ticks\":\"\"},\"type\":\"choropleth\"}],\"contour\":[{\"colorbar\":{\"outlinewidth\":0,\"ticks\":\"\"},\"colorscale\":[[0.0,\"#0d0887\"],[0.1111111111111111,\"#46039f\"],[0.2222222222222222,\"#7201a8\"],[0.3333333333333333,\"#9c179e\"],[0.4444444444444444,\"#bd3786\"],[0.5555555555555556,\"#d8576b\"],[0.6666666666666666,\"#ed7953\"],[0.7777777777777778,\"#fb9f3a\"],[0.8888888888888888,\"#fdca26\"],[1.0,\"#f0f921\"]],\"type\":\"contour\"}],\"contourcarpet\":[{\"colorbar\":{\"outlinewidth\":0,\"ticks\":\"\"},\"type\":\"contourcarpet\"}],\"heatmap\":[{\"colorbar\":{\"outlinewidth\":0,\"ticks\":\"\"},\"colorscale\":[[0.0,\"#0d0887\"],[0.1111111111111111,\"#46039f\"],[0.2222222222222222,\"#7201a8\"],[0.3333333333333333,\"#9c179e\"],[0.4444444444444444,\"#bd3786\"],[0.5555555555555556,\"#d8576b\"],[0.6666666666666666,\"#ed7953\"],[0.7777777777777778,\"#fb9f3a\"],[0.8888888888888888,\"#fdca26\"],[1.0,\"#f0f921\"]],\"type\":\"heatmap\"}],\"heatmapgl\":[{\"colorbar\":{\"outlinewidth\":0,\"ticks\":\"\"},\"colorscale\":[[0.0,\"#0d0887\"],[0.1111111111111111,\"#46039f\"],[0.2222222222222222,\"#7201a8\"],[0.3333333333333333,\"#9c179e\"],[0.4444444444444444,\"#bd3786\"],[0.5555555555555556,\"#d8576b\"],[0.6666666666666666,\"#ed7953\"],[0.7777777777777778,\"#fb9f3a\"],[0.8888888888888888,\"#fdca26\"],[1.0,\"#f0f921\"]],\"type\":\"heatmapgl\"}],\"histogram\":[{\"marker\":{\"pattern\":{\"fillmode\":\"overlay\",\"size\":10,\"solidity\":0.2}},\"type\":\"histogram\"}],\"histogram2d\":[{\"colorbar\":{\"outlinewidth\":0,\"ticks\":\"\"},\"colorscale\":[[0.0,\"#0d0887\"],[0.1111111111111111,\"#46039f\"],[0.2222222222222222,\"#7201a8\"],[0.3333333333333333,\"#9c179e\"],[0.4444444444444444,\"#bd3786\"],[0.5555555555555556,\"#d8576b\"],[0.6666666666666666,\"#ed7953\"],[0.7777777777777778,\"#fb9f3a\"],[0.8888888888888888,\"#fdca26\"],[1.0,\"#f0f921\"]],\"type\":\"histogram2d\"}],\"histogram2dcontour\":[{\"colorbar\":{\"outlinewidth\":0,\"ticks\":\"\"},\"colorscale\":[[0.0,\"#0d0887\"],[0.1111111111111111,\"#46039f\"],[0.2222222222222222,\"#7201a8\"],[0.3333333333333333,\"#9c179e\"],[0.4444444444444444,\"#bd3786\"],[0.5555555555555556,\"#d8576b\"],[0.6666666666666666,\"#ed7953\"],[0.7777777777777778,\"#fb9f3a\"],[0.8888888888888888,\"#fdca26\"],[1.0,\"#f0f921\"]],\"type\":\"histogram2dcontour\"}],\"mesh3d\":[{\"colorbar\":{\"outlinewidth\":0,\"ticks\":\"\"},\"type\":\"mesh3d\"}],\"parcoords\":[{\"line\":{\"colorbar\":{\"outlinewidth\":0,\"ticks\":\"\"}},\"type\":\"parcoords\"}],\"pie\":[{\"automargin\":true,\"type\":\"pie\"}],\"scatter\":[{\"marker\":{\"colorbar\":{\"outlinewidth\":0,\"ticks\":\"\"}},\"type\":\"scatter\"}],\"scatter3d\":[{\"line\":{\"colorbar\":{\"outlinewidth\":0,\"ticks\":\"\"}},\"marker\":{\"colorbar\":{\"outlinewidth\":0,\"ticks\":\"\"}},\"type\":\"scatter3d\"}],\"scattercarpet\":[{\"marker\":{\"colorbar\":{\"outlinewidth\":0,\"ticks\":\"\"}},\"type\":\"scattercarpet\"}],\"scattergeo\":[{\"marker\":{\"colorbar\":{\"outlinewidth\":0,\"ticks\":\"\"}},\"type\":\"scattergeo\"}],\"scattergl\":[{\"marker\":{\"colorbar\":{\"outlinewidth\":0,\"ticks\":\"\"}},\"type\":\"scattergl\"}],\"scattermapbox\":[{\"marker\":{\"colorbar\":{\"outlinewidth\":0,\"ticks\":\"\"}},\"type\":\"scattermapbox\"}],\"scatterpolar\":[{\"marker\":{\"colorbar\":{\"outlinewidth\":0,\"ticks\":\"\"}},\"type\":\"scatterpolar\"}],\"scatterpolargl\":[{\"marker\":{\"colorbar\":{\"outlinewidth\":0,\"ticks\":\"\"}},\"type\":\"scatterpolargl\"}],\"scatterternary\":[{\"marker\":{\"colorbar\":{\"outlinewidth\":0,\"ticks\":\"\"}},\"type\":\"scatterternary\"}],\"surface\":[{\"colorbar\":{\"outlinewidth\":0,\"ticks\":\"\"},\"colorscale\":[[0.0,\"#0d0887\"],[0.1111111111111111,\"#46039f\"],[0.2222222222222222,\"#7201a8\"],[0.3333333333333333,\"#9c179e\"],[0.4444444444444444,\"#bd3786\"],[0.5555555555555556,\"#d8576b\"],[0.6666666666666666,\"#ed7953\"],[0.7777777777777778,\"#fb9f3a\"],[0.8888888888888888,\"#fdca26\"],[1.0,\"#f0f921\"]],\"type\":\"surface\"}],\"table\":[{\"cells\":{\"fill\":{\"color\":\"#EBF0F8\"},\"line\":{\"color\":\"white\"}},\"header\":{\"fill\":{\"color\":\"#C8D4E3\"},\"line\":{\"color\":\"white\"}},\"type\":\"table\"}]},\"layout\":{\"annotationdefaults\":{\"arrowcolor\":\"#2a3f5f\",\"arrowhead\":0,\"arrowwidth\":1},\"autotypenumbers\":\"strict\",\"coloraxis\":{\"colorbar\":{\"outlinewidth\":0,\"ticks\":\"\"}},\"colorscale\":{\"diverging\":[[0,\"#8e0152\"],[0.1,\"#c51b7d\"],[0.2,\"#de77ae\"],[0.3,\"#f1b6da\"],[0.4,\"#fde0ef\"],[0.5,\"#f7f7f7\"],[0.6,\"#e6f5d0\"],[0.7,\"#b8e186\"],[0.8,\"#7fbc41\"],[0.9,\"#4d9221\"],[1,\"#276419\"]],\"sequential\":[[0.0,\"#0d0887\"],[0.1111111111111111,\"#46039f\"],[0.2222222222222222,\"#7201a8\"],[0.3333333333333333,\"#9c179e\"],[0.4444444444444444,\"#bd3786\"],[0.5555555555555556,\"#d8576b\"],[0.6666666666666666,\"#ed7953\"],[0.7777777777777778,\"#fb9f3a\"],[0.8888888888888888,\"#fdca26\"],[1.0,\"#f0f921\"]],\"sequentialminus\":[[0.0,\"#0d0887\"],[0.1111111111111111,\"#46039f\"],[0.2222222222222222,\"#7201a8\"],[0.3333333333333333,\"#9c179e\"],[0.4444444444444444,\"#bd3786\"],[0.5555555555555556,\"#d8576b\"],[0.6666666666666666,\"#ed7953\"],[0.7777777777777778,\"#fb9f3a\"],[0.8888888888888888,\"#fdca26\"],[1.0,\"#f0f921\"]]},\"colorway\":[\"#636efa\",\"#EF553B\",\"#00cc96\",\"#ab63fa\",\"#FFA15A\",\"#19d3f3\",\"#FF6692\",\"#B6E880\",\"#FF97FF\",\"#FECB52\"],\"font\":{\"color\":\"#2a3f5f\"},\"geo\":{\"bgcolor\":\"white\",\"lakecolor\":\"white\",\"landcolor\":\"#E5ECF6\",\"showlakes\":true,\"showland\":true,\"subunitcolor\":\"white\"},\"hoverlabel\":{\"align\":\"left\"},\"hovermode\":\"closest\",\"mapbox\":{\"style\":\"light\"},\"paper_bgcolor\":\"white\",\"plot_bgcolor\":\"#E5ECF6\",\"polar\":{\"angularaxis\":{\"gridcolor\":\"white\",\"linecolor\":\"white\",\"ticks\":\"\"},\"bgcolor\":\"#E5ECF6\",\"radialaxis\":{\"gridcolor\":\"white\",\"linecolor\":\"white\",\"ticks\":\"\"}},\"scene\":{\"xaxis\":{\"backgroundcolor\":\"#E5ECF6\",\"gridcolor\":\"white\",\"gridwidth\":2,\"linecolor\":\"white\",\"showbackground\":true,\"ticks\":\"\",\"zerolinecolor\":\"white\"},\"yaxis\":{\"backgroundcolor\":\"#E5ECF6\",\"gridcolor\":\"white\",\"gridwidth\":2,\"linecolor\":\"white\",\"showbackground\":true,\"ticks\":\"\",\"zerolinecolor\":\"white\"},\"zaxis\":{\"backgroundcolor\":\"#E5ECF6\",\"gridcolor\":\"white\",\"gridwidth\":2,\"linecolor\":\"white\",\"showbackground\":true,\"ticks\":\"\",\"zerolinecolor\":\"white\"}},\"shapedefaults\":{\"line\":{\"color\":\"#2a3f5f\"}},\"ternary\":{\"aaxis\":{\"gridcolor\":\"white\",\"linecolor\":\"white\",\"ticks\":\"\"},\"baxis\":{\"gridcolor\":\"white\",\"linecolor\":\"white\",\"ticks\":\"\"},\"bgcolor\":\"#E5ECF6\",\"caxis\":{\"gridcolor\":\"white\",\"linecolor\":\"white\",\"ticks\":\"\"}},\"title\":{\"x\":0.05},\"xaxis\":{\"automargin\":true,\"gridcolor\":\"white\",\"linecolor\":\"white\",\"ticks\":\"\",\"title\":{\"standoff\":15},\"zerolinecolor\":\"white\",\"zerolinewidth\":2},\"yaxis\":{\"automargin\":true,\"gridcolor\":\"white\",\"linecolor\":\"white\",\"ticks\":\"\",\"title\":{\"standoff\":15},\"zerolinecolor\":\"white\",\"zerolinewidth\":2}}},\"xaxis\":{\"anchor\":\"y\",\"domain\":[0.0,1.0],\"title\":{\"text\":\"\\ucd5c\\uc0c1\\uc704\\uae30\\uad00\\uba85\"}},\"yaxis\":{\"anchor\":\"x\",\"domain\":[0.0,1.0],\"title\":{\"text\":\"counts\"}},\"legend\":{\"tracegroupgap\":0},\"margin\":{\"t\":60},\"barmode\":\"relative\",\"font\":{\"size\":15,\"family\":\"NanumGothic ExtraBold\"},\"title\":{\"text\":\"\\ucd5c\\uc0c1\\uc704\\uae30\\uad00\\ubcc4 \\ubbfc\\uc6d0 \\uc218\"}},                        {\"responsive\": true}                    ).then(function(){\n",
              "                            \n",
              "var gd = document.getElementById('852b5607-6839-4bfa-9c06-a50a7c04e781');\n",
              "var x = new MutationObserver(function (mutations, observer) {{\n",
              "        var display = window.getComputedStyle(gd).display;\n",
              "        if (!display || display === 'none') {{\n",
              "            console.log([gd, 'removed!']);\n",
              "            Plotly.purge(gd);\n",
              "            observer.disconnect();\n",
              "        }}\n",
              "}});\n",
              "\n",
              "// Listen for the removal of the full notebook cells\n",
              "var notebookContainer = gd.closest('#notebook-container');\n",
              "if (notebookContainer) {{\n",
              "    x.observe(notebookContainer, {childList: true});\n",
              "}}\n",
              "\n",
              "// Listen for the clearing of the current output cell\n",
              "var outputEl = gd.closest('.output');\n",
              "if (outputEl) {{\n",
              "    x.observe(outputEl, {childList: true});\n",
              "}}\n",
              "\n",
              "                        })                };                            </script>        </div>\n",
              "</body>\n",
              "</html>"
            ]
          },
          "metadata": {}
        }
      ]
    },
    {
      "cell_type": "markdown",
      "metadata": {
        "id": "Mn2FCIPJiyCr"
      },
      "source": [
        "**접수된 민원 수가 가장 많은 부서는 해양수산부-국세청-서울특별시교육청-부산광역시교육청-교육부 순으로 특이하게 해양수산부가 다른 기관들에 비해 접수된 민원이 많은 것을 확인할 수 있었습니다.**  \n",
        "\n",
        "**그래서 각 기관별로 어떤 민원이 접수되었는지 궁금증이 생겼습니다.**\n",
        "\n",
        ">교욱청에 접수된 민원은 교육관련, 국세청은 세금납부관련 문의가 많을까?  \n",
        ">해양수산부에 접수되는 해양관련문의는 무슨 문의일까?"
      ]
    },
    {
      "cell_type": "markdown",
      "metadata": {
        "id": "y5_bxRpeuCfX"
      },
      "source": [
        "## 분야별 민원 수"
      ]
    },
    {
      "cell_type": "code",
      "metadata": {
        "id": "LzNyeUe0iYHc"
      },
      "source": [
        "cat_name = root.groupby(by=[\"분야명\"]).size().reset_index(name=\"counts\")\n",
        "\n",
        "bar_cat_name = plot_type(cat_name)\n",
        "# bar_cat_name.bar(x='분야명', y='counts', color='분야명')\n",
        "# bar_cat_name.fig.update_layout(xaxis_categoryorder='total descending')\n",
        "# #bar_cat_name.fig.for_each_trace(lambda t: t.update(name=t.name.split(\"=\")[1]))\n",
        "# bar_cat_name.plot()"
      ],
      "execution_count": 122,
      "outputs": []
    },
    {
      "cell_type": "code",
      "metadata": {
        "colab": {
          "base_uri": "https://localhost:8080/",
          "height": 542
        },
        "id": "5sUCHm_-kHDj",
        "outputId": "eaffb62a-7d85-4b6d-9304-d0730c00edf9"
      },
      "source": [
        "bar_cat_name.pie('counts', '분야명', hole=0.3)\n",
        "bar_cat_name.fig.update_traces(textposition='inside', textinfo='percent+label')\n",
        "bar_cat_name.fig.update_layout(\n",
        "    title = '기관별 민원 수',\n",
        "    font = {'size' : 13,\n",
        "            'family' : 'NanumGothic ExtraBold'}\n",
        ")\n",
        "bar_cat_name.plot()"
      ],
      "execution_count": 126,
      "outputs": [
        {
          "output_type": "display_data",
          "data": {
            "text/html": [
              "<html>\n",
              "<head><meta charset=\"utf-8\" /></head>\n",
              "<body>\n",
              "    <div>            <script src=\"https://cdnjs.cloudflare.com/ajax/libs/mathjax/2.7.5/MathJax.js?config=TeX-AMS-MML_SVG\"></script><script type=\"text/javascript\">if (window.MathJax) {MathJax.Hub.Config({SVG: {font: \"STIX-Web\"}});}</script>                <script type=\"text/javascript\">window.PlotlyConfig = {MathJaxConfig: 'local'};</script>\n",
              "        <script src=\"https://cdn.plot.ly/plotly-2.6.3.min.js\"></script>                <div id=\"d6282d8c-a567-40ae-8cb1-2a3c0afb4af4\" class=\"plotly-graph-div\" style=\"height:525px; width:100%;\"></div>            <script type=\"text/javascript\">                                    window.PLOTLYENV=window.PLOTLYENV || {};                                    if (document.getElementById(\"d6282d8c-a567-40ae-8cb1-2a3c0afb4af4\")) {                    Plotly.newPlot(                        \"d6282d8c-a567-40ae-8cb1-2a3c0afb4af4\",                        [{\"domain\":{\"x\":[0.0,1.0],\"y\":[0.0,1.0]},\"hole\":0.3,\"hovertemplate\":\"\\ubd84\\uc57c\\uba85=%{label}<br>counts=%{value}<extra></extra>\",\"labels\":[\"\\uad50\\uc721/\\ubb38\\ud654/\\uccb4\\uc721/\\uad00\\uad11\",\"\\uad6d\\ubc29/\\ubcf4\\ud6c8/\\uc678\\uad50/\\ud1b5\\uc77c\",\"\\uad6d\\ud1a0/\\uad50\\ud1b5/\\ub18d\\ub9bc/\\ud574\\uc591\",\"\\uae30\\ud0c0\",\"\\ub178\\ub3d9/\\ud658\\uacbd\",\"\\ubc95\\uc81c/\\uc0ac\\ubc95\",\"\\uc0b0\\uc5c5/\\ubc29\\uc1a1/\\ud1b5\\uc2e0/\\uacfc\\ud559\",\"\\uc2dd\\ud488\\uc758\\uc57d\\ud488\",\"\\uc7ac\\uc815/\\uae08\\uc735/\\uc18c\\ube44\\uc790\",\"\\ud589\\uc815/\\uc790\\uce58/\\uc548\\uc804\"],\"legendgroup\":\"\",\"name\":\"\",\"showlegend\":true,\"values\":[10926,2006,6993,583,1017,889,1408,783,4596,18127],\"type\":\"pie\",\"textinfo\":\"percent+label\",\"textposition\":\"inside\"}],                        {\"template\":{\"data\":{\"bar\":[{\"error_x\":{\"color\":\"#2a3f5f\"},\"error_y\":{\"color\":\"#2a3f5f\"},\"marker\":{\"line\":{\"color\":\"#E5ECF6\",\"width\":0.5},\"pattern\":{\"fillmode\":\"overlay\",\"size\":10,\"solidity\":0.2}},\"type\":\"bar\"}],\"barpolar\":[{\"marker\":{\"line\":{\"color\":\"#E5ECF6\",\"width\":0.5},\"pattern\":{\"fillmode\":\"overlay\",\"size\":10,\"solidity\":0.2}},\"type\":\"barpolar\"}],\"carpet\":[{\"aaxis\":{\"endlinecolor\":\"#2a3f5f\",\"gridcolor\":\"white\",\"linecolor\":\"white\",\"minorgridcolor\":\"white\",\"startlinecolor\":\"#2a3f5f\"},\"baxis\":{\"endlinecolor\":\"#2a3f5f\",\"gridcolor\":\"white\",\"linecolor\":\"white\",\"minorgridcolor\":\"white\",\"startlinecolor\":\"#2a3f5f\"},\"type\":\"carpet\"}],\"choropleth\":[{\"colorbar\":{\"outlinewidth\":0,\"ticks\":\"\"},\"type\":\"choropleth\"}],\"contour\":[{\"colorbar\":{\"outlinewidth\":0,\"ticks\":\"\"},\"colorscale\":[[0.0,\"#0d0887\"],[0.1111111111111111,\"#46039f\"],[0.2222222222222222,\"#7201a8\"],[0.3333333333333333,\"#9c179e\"],[0.4444444444444444,\"#bd3786\"],[0.5555555555555556,\"#d8576b\"],[0.6666666666666666,\"#ed7953\"],[0.7777777777777778,\"#fb9f3a\"],[0.8888888888888888,\"#fdca26\"],[1.0,\"#f0f921\"]],\"type\":\"contour\"}],\"contourcarpet\":[{\"colorbar\":{\"outlinewidth\":0,\"ticks\":\"\"},\"type\":\"contourcarpet\"}],\"heatmap\":[{\"colorbar\":{\"outlinewidth\":0,\"ticks\":\"\"},\"colorscale\":[[0.0,\"#0d0887\"],[0.1111111111111111,\"#46039f\"],[0.2222222222222222,\"#7201a8\"],[0.3333333333333333,\"#9c179e\"],[0.4444444444444444,\"#bd3786\"],[0.5555555555555556,\"#d8576b\"],[0.6666666666666666,\"#ed7953\"],[0.7777777777777778,\"#fb9f3a\"],[0.8888888888888888,\"#fdca26\"],[1.0,\"#f0f921\"]],\"type\":\"heatmap\"}],\"heatmapgl\":[{\"colorbar\":{\"outlinewidth\":0,\"ticks\":\"\"},\"colorscale\":[[0.0,\"#0d0887\"],[0.1111111111111111,\"#46039f\"],[0.2222222222222222,\"#7201a8\"],[0.3333333333333333,\"#9c179e\"],[0.4444444444444444,\"#bd3786\"],[0.5555555555555556,\"#d8576b\"],[0.6666666666666666,\"#ed7953\"],[0.7777777777777778,\"#fb9f3a\"],[0.8888888888888888,\"#fdca26\"],[1.0,\"#f0f921\"]],\"type\":\"heatmapgl\"}],\"histogram\":[{\"marker\":{\"pattern\":{\"fillmode\":\"overlay\",\"size\":10,\"solidity\":0.2}},\"type\":\"histogram\"}],\"histogram2d\":[{\"colorbar\":{\"outlinewidth\":0,\"ticks\":\"\"},\"colorscale\":[[0.0,\"#0d0887\"],[0.1111111111111111,\"#46039f\"],[0.2222222222222222,\"#7201a8\"],[0.3333333333333333,\"#9c179e\"],[0.4444444444444444,\"#bd3786\"],[0.5555555555555556,\"#d8576b\"],[0.6666666666666666,\"#ed7953\"],[0.7777777777777778,\"#fb9f3a\"],[0.8888888888888888,\"#fdca26\"],[1.0,\"#f0f921\"]],\"type\":\"histogram2d\"}],\"histogram2dcontour\":[{\"colorbar\":{\"outlinewidth\":0,\"ticks\":\"\"},\"colorscale\":[[0.0,\"#0d0887\"],[0.1111111111111111,\"#46039f\"],[0.2222222222222222,\"#7201a8\"],[0.3333333333333333,\"#9c179e\"],[0.4444444444444444,\"#bd3786\"],[0.5555555555555556,\"#d8576b\"],[0.6666666666666666,\"#ed7953\"],[0.7777777777777778,\"#fb9f3a\"],[0.8888888888888888,\"#fdca26\"],[1.0,\"#f0f921\"]],\"type\":\"histogram2dcontour\"}],\"mesh3d\":[{\"colorbar\":{\"outlinewidth\":0,\"ticks\":\"\"},\"type\":\"mesh3d\"}],\"parcoords\":[{\"line\":{\"colorbar\":{\"outlinewidth\":0,\"ticks\":\"\"}},\"type\":\"parcoords\"}],\"pie\":[{\"automargin\":true,\"type\":\"pie\"}],\"scatter\":[{\"marker\":{\"colorbar\":{\"outlinewidth\":0,\"ticks\":\"\"}},\"type\":\"scatter\"}],\"scatter3d\":[{\"line\":{\"colorbar\":{\"outlinewidth\":0,\"ticks\":\"\"}},\"marker\":{\"colorbar\":{\"outlinewidth\":0,\"ticks\":\"\"}},\"type\":\"scatter3d\"}],\"scattercarpet\":[{\"marker\":{\"colorbar\":{\"outlinewidth\":0,\"ticks\":\"\"}},\"type\":\"scattercarpet\"}],\"scattergeo\":[{\"marker\":{\"colorbar\":{\"outlinewidth\":0,\"ticks\":\"\"}},\"type\":\"scattergeo\"}],\"scattergl\":[{\"marker\":{\"colorbar\":{\"outlinewidth\":0,\"ticks\":\"\"}},\"type\":\"scattergl\"}],\"scattermapbox\":[{\"marker\":{\"colorbar\":{\"outlinewidth\":0,\"ticks\":\"\"}},\"type\":\"scattermapbox\"}],\"scatterpolar\":[{\"marker\":{\"colorbar\":{\"outlinewidth\":0,\"ticks\":\"\"}},\"type\":\"scatterpolar\"}],\"scatterpolargl\":[{\"marker\":{\"colorbar\":{\"outlinewidth\":0,\"ticks\":\"\"}},\"type\":\"scatterpolargl\"}],\"scatterternary\":[{\"marker\":{\"colorbar\":{\"outlinewidth\":0,\"ticks\":\"\"}},\"type\":\"scatterternary\"}],\"surface\":[{\"colorbar\":{\"outlinewidth\":0,\"ticks\":\"\"},\"colorscale\":[[0.0,\"#0d0887\"],[0.1111111111111111,\"#46039f\"],[0.2222222222222222,\"#7201a8\"],[0.3333333333333333,\"#9c179e\"],[0.4444444444444444,\"#bd3786\"],[0.5555555555555556,\"#d8576b\"],[0.6666666666666666,\"#ed7953\"],[0.7777777777777778,\"#fb9f3a\"],[0.8888888888888888,\"#fdca26\"],[1.0,\"#f0f921\"]],\"type\":\"surface\"}],\"table\":[{\"cells\":{\"fill\":{\"color\":\"#EBF0F8\"},\"line\":{\"color\":\"white\"}},\"header\":{\"fill\":{\"color\":\"#C8D4E3\"},\"line\":{\"color\":\"white\"}},\"type\":\"table\"}]},\"layout\":{\"annotationdefaults\":{\"arrowcolor\":\"#2a3f5f\",\"arrowhead\":0,\"arrowwidth\":1},\"autotypenumbers\":\"strict\",\"coloraxis\":{\"colorbar\":{\"outlinewidth\":0,\"ticks\":\"\"}},\"colorscale\":{\"diverging\":[[0,\"#8e0152\"],[0.1,\"#c51b7d\"],[0.2,\"#de77ae\"],[0.3,\"#f1b6da\"],[0.4,\"#fde0ef\"],[0.5,\"#f7f7f7\"],[0.6,\"#e6f5d0\"],[0.7,\"#b8e186\"],[0.8,\"#7fbc41\"],[0.9,\"#4d9221\"],[1,\"#276419\"]],\"sequential\":[[0.0,\"#0d0887\"],[0.1111111111111111,\"#46039f\"],[0.2222222222222222,\"#7201a8\"],[0.3333333333333333,\"#9c179e\"],[0.4444444444444444,\"#bd3786\"],[0.5555555555555556,\"#d8576b\"],[0.6666666666666666,\"#ed7953\"],[0.7777777777777778,\"#fb9f3a\"],[0.8888888888888888,\"#fdca26\"],[1.0,\"#f0f921\"]],\"sequentialminus\":[[0.0,\"#0d0887\"],[0.1111111111111111,\"#46039f\"],[0.2222222222222222,\"#7201a8\"],[0.3333333333333333,\"#9c179e\"],[0.4444444444444444,\"#bd3786\"],[0.5555555555555556,\"#d8576b\"],[0.6666666666666666,\"#ed7953\"],[0.7777777777777778,\"#fb9f3a\"],[0.8888888888888888,\"#fdca26\"],[1.0,\"#f0f921\"]]},\"colorway\":[\"#636efa\",\"#EF553B\",\"#00cc96\",\"#ab63fa\",\"#FFA15A\",\"#19d3f3\",\"#FF6692\",\"#B6E880\",\"#FF97FF\",\"#FECB52\"],\"font\":{\"color\":\"#2a3f5f\"},\"geo\":{\"bgcolor\":\"white\",\"lakecolor\":\"white\",\"landcolor\":\"#E5ECF6\",\"showlakes\":true,\"showland\":true,\"subunitcolor\":\"white\"},\"hoverlabel\":{\"align\":\"left\"},\"hovermode\":\"closest\",\"mapbox\":{\"style\":\"light\"},\"paper_bgcolor\":\"white\",\"plot_bgcolor\":\"#E5ECF6\",\"polar\":{\"angularaxis\":{\"gridcolor\":\"white\",\"linecolor\":\"white\",\"ticks\":\"\"},\"bgcolor\":\"#E5ECF6\",\"radialaxis\":{\"gridcolor\":\"white\",\"linecolor\":\"white\",\"ticks\":\"\"}},\"scene\":{\"xaxis\":{\"backgroundcolor\":\"#E5ECF6\",\"gridcolor\":\"white\",\"gridwidth\":2,\"linecolor\":\"white\",\"showbackground\":true,\"ticks\":\"\",\"zerolinecolor\":\"white\"},\"yaxis\":{\"backgroundcolor\":\"#E5ECF6\",\"gridcolor\":\"white\",\"gridwidth\":2,\"linecolor\":\"white\",\"showbackground\":true,\"ticks\":\"\",\"zerolinecolor\":\"white\"},\"zaxis\":{\"backgroundcolor\":\"#E5ECF6\",\"gridcolor\":\"white\",\"gridwidth\":2,\"linecolor\":\"white\",\"showbackground\":true,\"ticks\":\"\",\"zerolinecolor\":\"white\"}},\"shapedefaults\":{\"line\":{\"color\":\"#2a3f5f\"}},\"ternary\":{\"aaxis\":{\"gridcolor\":\"white\",\"linecolor\":\"white\",\"ticks\":\"\"},\"baxis\":{\"gridcolor\":\"white\",\"linecolor\":\"white\",\"ticks\":\"\"},\"bgcolor\":\"#E5ECF6\",\"caxis\":{\"gridcolor\":\"white\",\"linecolor\":\"white\",\"ticks\":\"\"}},\"title\":{\"x\":0.05},\"xaxis\":{\"automargin\":true,\"gridcolor\":\"white\",\"linecolor\":\"white\",\"ticks\":\"\",\"title\":{\"standoff\":15},\"zerolinecolor\":\"white\",\"zerolinewidth\":2},\"yaxis\":{\"automargin\":true,\"gridcolor\":\"white\",\"linecolor\":\"white\",\"ticks\":\"\",\"title\":{\"standoff\":15},\"zerolinecolor\":\"white\",\"zerolinewidth\":2}}},\"legend\":{\"tracegroupgap\":0},\"margin\":{\"t\":60},\"font\":{\"size\":13,\"family\":\"NanumGothic ExtraBold\"},\"title\":{\"text\":\"\\uae30\\uad00\\ubcc4 \\ubbfc\\uc6d0 \\uc218\"}},                        {\"responsive\": true}                    ).then(function(){\n",
              "                            \n",
              "var gd = document.getElementById('d6282d8c-a567-40ae-8cb1-2a3c0afb4af4');\n",
              "var x = new MutationObserver(function (mutations, observer) {{\n",
              "        var display = window.getComputedStyle(gd).display;\n",
              "        if (!display || display === 'none') {{\n",
              "            console.log([gd, 'removed!']);\n",
              "            Plotly.purge(gd);\n",
              "            observer.disconnect();\n",
              "        }}\n",
              "}});\n",
              "\n",
              "// Listen for the removal of the full notebook cells\n",
              "var notebookContainer = gd.closest('#notebook-container');\n",
              "if (notebookContainer) {{\n",
              "    x.observe(notebookContainer, {childList: true});\n",
              "}}\n",
              "\n",
              "// Listen for the clearing of the current output cell\n",
              "var outputEl = gd.closest('.output');\n",
              "if (outputEl) {{\n",
              "    x.observe(outputEl, {childList: true});\n",
              "}}\n",
              "\n",
              "                        })                };                            </script>        </div>\n",
              "</body>\n",
              "</html>"
            ]
          },
          "metadata": {}
        }
      ]
    },
    {
      "cell_type": "markdown",
      "metadata": {
        "id": "qjy73go7jDTi"
      },
      "source": [
        "**접수 분야는 행정/자치/안전(38.3%) - 교육/문화/체육/관광(23.1%) - 국토/교통/농림/해양(14.8%) - 재정/금융/소비자(9.71%) 순이었습니다.**    "
      ]
    },
    {
      "cell_type": "markdown",
      "metadata": {
        "id": "9UiZWa5PfAKe"
      },
      "source": [
        "**중앙행정기관보다는 자치단체의 행정/자치/안전 분야의 민원이 비중이 클 것이고 다른 분야들은 중앙행정기관에 접수되지 않았을까 하는 가설을 세웠습니다.**  \n",
        "**그래서 위 내용을 조금 더 자세히 보기 위해 위에서 분류했던 중앙행정기관, 자치단체 별로 분야에 차이가 있는지 확인하고자 하였습니다.**  \n"
      ]
    },
    {
      "cell_type": "markdown",
      "metadata": {
        "id": "SjhOyA8UvAfT"
      },
      "source": [
        "## 기관별로 집계된 분야별 민원 수"
      ]
    },
    {
      "cell_type": "code",
      "metadata": {
        "id": "h6-BmL2Rs_fs"
      },
      "source": [
        "#dep_category = root.groupby(['기관구분','분야명']).size().reset_index(name='counts')"
      ],
      "execution_count": 55,
      "outputs": []
    },
    {
      "cell_type": "code",
      "metadata": {
        "colab": {
          "base_uri": "https://localhost:8080/",
          "height": 542
        },
        "id": "Ao5Oo7ggtwo7",
        "outputId": "5cf0f114-a393-4147-8deb-aeb48e204f59"
      },
      "source": [
        "dep_category = root.groupby(['기관구분','분야명']).size().reset_index(name='counts')\n",
        "bar1 = plot_type(dep_category)\n",
        "bar1.bar(x='분야명', y='counts', \n",
        "         color='기관구분', facet_col='기관구분', color_discrete_sequence=px.colors.qualitative.Plotly)\n",
        "\n",
        "bar1.fig.for_each_annotation(lambda a: a.update(text=a.text.split(\"=\")[1]))\n",
        "#bar1.fig.for_each_trace(lambda t: t.update(name=t.name.split(\"=\")[1]))\n",
        "bar1.plot()"
      ],
      "execution_count": 56,
      "outputs": [
        {
          "output_type": "display_data",
          "data": {
            "text/html": [
              "<html>\n",
              "<head><meta charset=\"utf-8\" /></head>\n",
              "<body>\n",
              "    <div>            <script src=\"https://cdnjs.cloudflare.com/ajax/libs/mathjax/2.7.5/MathJax.js?config=TeX-AMS-MML_SVG\"></script><script type=\"text/javascript\">if (window.MathJax) {MathJax.Hub.Config({SVG: {font: \"STIX-Web\"}});}</script>                <script type=\"text/javascript\">window.PlotlyConfig = {MathJaxConfig: 'local'};</script>\n",
              "        <script src=\"https://cdn.plot.ly/plotly-2.6.3.min.js\"></script>                <div id=\"b78c4927-0de4-478c-9bba-8a1c8eeb47e7\" class=\"plotly-graph-div\" style=\"height:525px; width:100%;\"></div>            <script type=\"text/javascript\">                                    window.PLOTLYENV=window.PLOTLYENV || {};                                    if (document.getElementById(\"b78c4927-0de4-478c-9bba-8a1c8eeb47e7\")) {                    Plotly.newPlot(                        \"b78c4927-0de4-478c-9bba-8a1c8eeb47e7\",                        [{\"alignmentgroup\":\"True\",\"customdata\":[[0.23]],\"hovertemplate\":\"\\uae30\\uad00\\uad6c\\ubd84=\\uacf5\\uacf5\\uae30\\uad00<br>\\ubd84\\uc57c\\uba85=%{x}<br>counts=%{y}<br>percentage=%{customdata[0]}<extra></extra>\",\"legendgroup\":\"\\uacf5\\uacf5\\uae30\\uad00\",\"marker\":{\"color\":\"#636EFA\",\"pattern\":{\"shape\":\"\"}},\"name\":\"\\uacf5\\uacf5\\uae30\\uad00\",\"offsetgroup\":\"\\uacf5\\uacf5\\uae30\\uad00\",\"orientation\":\"v\",\"showlegend\":true,\"textposition\":\"auto\",\"x\":[\"\\uae30\\ud0c0\"],\"xaxis\":\"x\",\"y\":[108],\"yaxis\":\"y\",\"type\":\"bar\"},{\"alignmentgroup\":\"True\",\"customdata\":[[2.05]],\"hovertemplate\":\"\\uae30\\uad00\\uad6c\\ubd84=\\uad11\\uc5ed\\uc790\\uce58\\ub2e8\\uccb4<br>\\ubd84\\uc57c\\uba85=%{x}<br>counts=%{y}<br>percentage=%{customdata[0]}<extra></extra>\",\"legendgroup\":\"\\uad11\\uc5ed\\uc790\\uce58\\ub2e8\\uccb4\",\"marker\":{\"color\":\"#EF553B\",\"pattern\":{\"shape\":\"\"}},\"name\":\"\\uad11\\uc5ed\\uc790\\uce58\\ub2e8\\uccb4\",\"offsetgroup\":\"\\uad11\\uc5ed\\uc790\\uce58\\ub2e8\\uccb4\",\"orientation\":\"v\",\"showlegend\":true,\"textposition\":\"auto\",\"x\":[\"\\ud589\\uc815/\\uc790\\uce58/\\uc548\\uc804\"],\"xaxis\":\"x2\",\"y\":[970],\"yaxis\":\"y2\",\"type\":\"bar\"},{\"alignmentgroup\":\"True\",\"customdata\":[[31.52]],\"hovertemplate\":\"\\uae30\\uad00\\uad6c\\ubd84=\\uae30\\ucd08\\uc790\\uce58\\ub2e8\\uccb4<br>\\ubd84\\uc57c\\uba85=%{x}<br>counts=%{y}<br>percentage=%{customdata[0]}<extra></extra>\",\"legendgroup\":\"\\uae30\\ucd08\\uc790\\uce58\\ub2e8\\uccb4\",\"marker\":{\"color\":\"#00CC96\",\"pattern\":{\"shape\":\"\"}},\"name\":\"\\uae30\\ucd08\\uc790\\uce58\\ub2e8\\uccb4\",\"offsetgroup\":\"\\uae30\\ucd08\\uc790\\uce58\\ub2e8\\uccb4\",\"orientation\":\"v\",\"showlegend\":true,\"textposition\":\"auto\",\"x\":[\"\\ud589\\uc815/\\uc790\\uce58/\\uc548\\uc804\"],\"xaxis\":\"x3\",\"y\":[14918],\"yaxis\":\"y3\",\"type\":\"bar\"},{\"alignmentgroup\":\"True\",\"customdata\":[[23.09],[4.24],[14.78],[1.0],[2.15],[1.88],[2.97],[1.65],[9.71],[4.73]],\"hovertemplate\":\"\\uae30\\uad00\\uad6c\\ubd84=\\uc911\\uc559\\ud589\\uc815\\uae30\\uad00<br>\\ubd84\\uc57c\\uba85=%{x}<br>counts=%{y}<br>percentage=%{customdata[0]}<extra></extra>\",\"legendgroup\":\"\\uc911\\uc559\\ud589\\uc815\\uae30\\uad00\",\"marker\":{\"color\":\"#AB63FA\",\"pattern\":{\"shape\":\"\"}},\"name\":\"\\uc911\\uc559\\ud589\\uc815\\uae30\\uad00\",\"offsetgroup\":\"\\uc911\\uc559\\ud589\\uc815\\uae30\\uad00\",\"orientation\":\"v\",\"showlegend\":true,\"textposition\":\"auto\",\"x\":[\"\\uad50\\uc721/\\ubb38\\ud654/\\uccb4\\uc721/\\uad00\\uad11\",\"\\uad6d\\ubc29/\\ubcf4\\ud6c8/\\uc678\\uad50/\\ud1b5\\uc77c\",\"\\uad6d\\ud1a0/\\uad50\\ud1b5/\\ub18d\\ub9bc/\\ud574\\uc591\",\"\\uae30\\ud0c0\",\"\\ub178\\ub3d9/\\ud658\\uacbd\",\"\\ubc95\\uc81c/\\uc0ac\\ubc95\",\"\\uc0b0\\uc5c5/\\ubc29\\uc1a1/\\ud1b5\\uc2e0/\\uacfc\\ud559\",\"\\uc2dd\\ud488\\uc758\\uc57d\\ud488\",\"\\uc7ac\\uc815/\\uae08\\uc735/\\uc18c\\ube44\\uc790\",\"\\ud589\\uc815/\\uc790\\uce58/\\uc548\\uc804\"],\"xaxis\":\"x4\",\"y\":[10926,2006,6993,475,1017,889,1408,783,4596,2239],\"yaxis\":\"y4\",\"type\":\"bar\"}],                        {\"template\":{\"data\":{\"bar\":[{\"error_x\":{\"color\":\"#2a3f5f\"},\"error_y\":{\"color\":\"#2a3f5f\"},\"marker\":{\"line\":{\"color\":\"#E5ECF6\",\"width\":0.5},\"pattern\":{\"fillmode\":\"overlay\",\"size\":10,\"solidity\":0.2}},\"type\":\"bar\"}],\"barpolar\":[{\"marker\":{\"line\":{\"color\":\"#E5ECF6\",\"width\":0.5},\"pattern\":{\"fillmode\":\"overlay\",\"size\":10,\"solidity\":0.2}},\"type\":\"barpolar\"}],\"carpet\":[{\"aaxis\":{\"endlinecolor\":\"#2a3f5f\",\"gridcolor\":\"white\",\"linecolor\":\"white\",\"minorgridcolor\":\"white\",\"startlinecolor\":\"#2a3f5f\"},\"baxis\":{\"endlinecolor\":\"#2a3f5f\",\"gridcolor\":\"white\",\"linecolor\":\"white\",\"minorgridcolor\":\"white\",\"startlinecolor\":\"#2a3f5f\"},\"type\":\"carpet\"}],\"choropleth\":[{\"colorbar\":{\"outlinewidth\":0,\"ticks\":\"\"},\"type\":\"choropleth\"}],\"contour\":[{\"colorbar\":{\"outlinewidth\":0,\"ticks\":\"\"},\"colorscale\":[[0.0,\"#0d0887\"],[0.1111111111111111,\"#46039f\"],[0.2222222222222222,\"#7201a8\"],[0.3333333333333333,\"#9c179e\"],[0.4444444444444444,\"#bd3786\"],[0.5555555555555556,\"#d8576b\"],[0.6666666666666666,\"#ed7953\"],[0.7777777777777778,\"#fb9f3a\"],[0.8888888888888888,\"#fdca26\"],[1.0,\"#f0f921\"]],\"type\":\"contour\"}],\"contourcarpet\":[{\"colorbar\":{\"outlinewidth\":0,\"ticks\":\"\"},\"type\":\"contourcarpet\"}],\"heatmap\":[{\"colorbar\":{\"outlinewidth\":0,\"ticks\":\"\"},\"colorscale\":[[0.0,\"#0d0887\"],[0.1111111111111111,\"#46039f\"],[0.2222222222222222,\"#7201a8\"],[0.3333333333333333,\"#9c179e\"],[0.4444444444444444,\"#bd3786\"],[0.5555555555555556,\"#d8576b\"],[0.6666666666666666,\"#ed7953\"],[0.7777777777777778,\"#fb9f3a\"],[0.8888888888888888,\"#fdca26\"],[1.0,\"#f0f921\"]],\"type\":\"heatmap\"}],\"heatmapgl\":[{\"colorbar\":{\"outlinewidth\":0,\"ticks\":\"\"},\"colorscale\":[[0.0,\"#0d0887\"],[0.1111111111111111,\"#46039f\"],[0.2222222222222222,\"#7201a8\"],[0.3333333333333333,\"#9c179e\"],[0.4444444444444444,\"#bd3786\"],[0.5555555555555556,\"#d8576b\"],[0.6666666666666666,\"#ed7953\"],[0.7777777777777778,\"#fb9f3a\"],[0.8888888888888888,\"#fdca26\"],[1.0,\"#f0f921\"]],\"type\":\"heatmapgl\"}],\"histogram\":[{\"marker\":{\"pattern\":{\"fillmode\":\"overlay\",\"size\":10,\"solidity\":0.2}},\"type\":\"histogram\"}],\"histogram2d\":[{\"colorbar\":{\"outlinewidth\":0,\"ticks\":\"\"},\"colorscale\":[[0.0,\"#0d0887\"],[0.1111111111111111,\"#46039f\"],[0.2222222222222222,\"#7201a8\"],[0.3333333333333333,\"#9c179e\"],[0.4444444444444444,\"#bd3786\"],[0.5555555555555556,\"#d8576b\"],[0.6666666666666666,\"#ed7953\"],[0.7777777777777778,\"#fb9f3a\"],[0.8888888888888888,\"#fdca26\"],[1.0,\"#f0f921\"]],\"type\":\"histogram2d\"}],\"histogram2dcontour\":[{\"colorbar\":{\"outlinewidth\":0,\"ticks\":\"\"},\"colorscale\":[[0.0,\"#0d0887\"],[0.1111111111111111,\"#46039f\"],[0.2222222222222222,\"#7201a8\"],[0.3333333333333333,\"#9c179e\"],[0.4444444444444444,\"#bd3786\"],[0.5555555555555556,\"#d8576b\"],[0.6666666666666666,\"#ed7953\"],[0.7777777777777778,\"#fb9f3a\"],[0.8888888888888888,\"#fdca26\"],[1.0,\"#f0f921\"]],\"type\":\"histogram2dcontour\"}],\"mesh3d\":[{\"colorbar\":{\"outlinewidth\":0,\"ticks\":\"\"},\"type\":\"mesh3d\"}],\"parcoords\":[{\"line\":{\"colorbar\":{\"outlinewidth\":0,\"ticks\":\"\"}},\"type\":\"parcoords\"}],\"pie\":[{\"automargin\":true,\"type\":\"pie\"}],\"scatter\":[{\"marker\":{\"colorbar\":{\"outlinewidth\":0,\"ticks\":\"\"}},\"type\":\"scatter\"}],\"scatter3d\":[{\"line\":{\"colorbar\":{\"outlinewidth\":0,\"ticks\":\"\"}},\"marker\":{\"colorbar\":{\"outlinewidth\":0,\"ticks\":\"\"}},\"type\":\"scatter3d\"}],\"scattercarpet\":[{\"marker\":{\"colorbar\":{\"outlinewidth\":0,\"ticks\":\"\"}},\"type\":\"scattercarpet\"}],\"scattergeo\":[{\"marker\":{\"colorbar\":{\"outlinewidth\":0,\"ticks\":\"\"}},\"type\":\"scattergeo\"}],\"scattergl\":[{\"marker\":{\"colorbar\":{\"outlinewidth\":0,\"ticks\":\"\"}},\"type\":\"scattergl\"}],\"scattermapbox\":[{\"marker\":{\"colorbar\":{\"outlinewidth\":0,\"ticks\":\"\"}},\"type\":\"scattermapbox\"}],\"scatterpolar\":[{\"marker\":{\"colorbar\":{\"outlinewidth\":0,\"ticks\":\"\"}},\"type\":\"scatterpolar\"}],\"scatterpolargl\":[{\"marker\":{\"colorbar\":{\"outlinewidth\":0,\"ticks\":\"\"}},\"type\":\"scatterpolargl\"}],\"scatterternary\":[{\"marker\":{\"colorbar\":{\"outlinewidth\":0,\"ticks\":\"\"}},\"type\":\"scatterternary\"}],\"surface\":[{\"colorbar\":{\"outlinewidth\":0,\"ticks\":\"\"},\"colorscale\":[[0.0,\"#0d0887\"],[0.1111111111111111,\"#46039f\"],[0.2222222222222222,\"#7201a8\"],[0.3333333333333333,\"#9c179e\"],[0.4444444444444444,\"#bd3786\"],[0.5555555555555556,\"#d8576b\"],[0.6666666666666666,\"#ed7953\"],[0.7777777777777778,\"#fb9f3a\"],[0.8888888888888888,\"#fdca26\"],[1.0,\"#f0f921\"]],\"type\":\"surface\"}],\"table\":[{\"cells\":{\"fill\":{\"color\":\"#EBF0F8\"},\"line\":{\"color\":\"white\"}},\"header\":{\"fill\":{\"color\":\"#C8D4E3\"},\"line\":{\"color\":\"white\"}},\"type\":\"table\"}]},\"layout\":{\"annotationdefaults\":{\"arrowcolor\":\"#2a3f5f\",\"arrowhead\":0,\"arrowwidth\":1},\"autotypenumbers\":\"strict\",\"coloraxis\":{\"colorbar\":{\"outlinewidth\":0,\"ticks\":\"\"}},\"colorscale\":{\"diverging\":[[0,\"#8e0152\"],[0.1,\"#c51b7d\"],[0.2,\"#de77ae\"],[0.3,\"#f1b6da\"],[0.4,\"#fde0ef\"],[0.5,\"#f7f7f7\"],[0.6,\"#e6f5d0\"],[0.7,\"#b8e186\"],[0.8,\"#7fbc41\"],[0.9,\"#4d9221\"],[1,\"#276419\"]],\"sequential\":[[0.0,\"#0d0887\"],[0.1111111111111111,\"#46039f\"],[0.2222222222222222,\"#7201a8\"],[0.3333333333333333,\"#9c179e\"],[0.4444444444444444,\"#bd3786\"],[0.5555555555555556,\"#d8576b\"],[0.6666666666666666,\"#ed7953\"],[0.7777777777777778,\"#fb9f3a\"],[0.8888888888888888,\"#fdca26\"],[1.0,\"#f0f921\"]],\"sequentialminus\":[[0.0,\"#0d0887\"],[0.1111111111111111,\"#46039f\"],[0.2222222222222222,\"#7201a8\"],[0.3333333333333333,\"#9c179e\"],[0.4444444444444444,\"#bd3786\"],[0.5555555555555556,\"#d8576b\"],[0.6666666666666666,\"#ed7953\"],[0.7777777777777778,\"#fb9f3a\"],[0.8888888888888888,\"#fdca26\"],[1.0,\"#f0f921\"]]},\"colorway\":[\"#636efa\",\"#EF553B\",\"#00cc96\",\"#ab63fa\",\"#FFA15A\",\"#19d3f3\",\"#FF6692\",\"#B6E880\",\"#FF97FF\",\"#FECB52\"],\"font\":{\"color\":\"#2a3f5f\"},\"geo\":{\"bgcolor\":\"white\",\"lakecolor\":\"white\",\"landcolor\":\"#E5ECF6\",\"showlakes\":true,\"showland\":true,\"subunitcolor\":\"white\"},\"hoverlabel\":{\"align\":\"left\"},\"hovermode\":\"closest\",\"mapbox\":{\"style\":\"light\"},\"paper_bgcolor\":\"white\",\"plot_bgcolor\":\"#E5ECF6\",\"polar\":{\"angularaxis\":{\"gridcolor\":\"white\",\"linecolor\":\"white\",\"ticks\":\"\"},\"bgcolor\":\"#E5ECF6\",\"radialaxis\":{\"gridcolor\":\"white\",\"linecolor\":\"white\",\"ticks\":\"\"}},\"scene\":{\"xaxis\":{\"backgroundcolor\":\"#E5ECF6\",\"gridcolor\":\"white\",\"gridwidth\":2,\"linecolor\":\"white\",\"showbackground\":true,\"ticks\":\"\",\"zerolinecolor\":\"white\"},\"yaxis\":{\"backgroundcolor\":\"#E5ECF6\",\"gridcolor\":\"white\",\"gridwidth\":2,\"linecolor\":\"white\",\"showbackground\":true,\"ticks\":\"\",\"zerolinecolor\":\"white\"},\"zaxis\":{\"backgroundcolor\":\"#E5ECF6\",\"gridcolor\":\"white\",\"gridwidth\":2,\"linecolor\":\"white\",\"showbackground\":true,\"ticks\":\"\",\"zerolinecolor\":\"white\"}},\"shapedefaults\":{\"line\":{\"color\":\"#2a3f5f\"}},\"ternary\":{\"aaxis\":{\"gridcolor\":\"white\",\"linecolor\":\"white\",\"ticks\":\"\"},\"baxis\":{\"gridcolor\":\"white\",\"linecolor\":\"white\",\"ticks\":\"\"},\"bgcolor\":\"#E5ECF6\",\"caxis\":{\"gridcolor\":\"white\",\"linecolor\":\"white\",\"ticks\":\"\"}},\"title\":{\"x\":0.05},\"xaxis\":{\"automargin\":true,\"gridcolor\":\"white\",\"linecolor\":\"white\",\"ticks\":\"\",\"title\":{\"standoff\":15},\"zerolinecolor\":\"white\",\"zerolinewidth\":2},\"yaxis\":{\"automargin\":true,\"gridcolor\":\"white\",\"linecolor\":\"white\",\"ticks\":\"\",\"title\":{\"standoff\":15},\"zerolinecolor\":\"white\",\"zerolinewidth\":2}}},\"xaxis\":{\"anchor\":\"y\",\"domain\":[0.0,0.235],\"title\":{\"text\":\"\\ubd84\\uc57c\\uba85\"}},\"yaxis\":{\"anchor\":\"x\",\"domain\":[0.0,1.0],\"title\":{\"text\":\"counts\"}},\"xaxis2\":{\"anchor\":\"y2\",\"domain\":[0.255,0.49],\"matches\":\"x\",\"title\":{\"text\":\"\\ubd84\\uc57c\\uba85\"}},\"yaxis2\":{\"anchor\":\"x2\",\"domain\":[0.0,1.0],\"matches\":\"y\",\"showticklabels\":false},\"xaxis3\":{\"anchor\":\"y3\",\"domain\":[0.51,0.745],\"matches\":\"x\",\"title\":{\"text\":\"\\ubd84\\uc57c\\uba85\"}},\"yaxis3\":{\"anchor\":\"x3\",\"domain\":[0.0,1.0],\"matches\":\"y\",\"showticklabels\":false},\"xaxis4\":{\"anchor\":\"y4\",\"domain\":[0.7649999999999999,0.9999999999999999],\"matches\":\"x\",\"title\":{\"text\":\"\\ubd84\\uc57c\\uba85\"}},\"yaxis4\":{\"anchor\":\"x4\",\"domain\":[0.0,1.0],\"matches\":\"y\",\"showticklabels\":false},\"annotations\":[{\"font\":{},\"showarrow\":false,\"text\":\"\\uacf5\\uacf5\\uae30\\uad00\",\"x\":0.1175,\"xanchor\":\"center\",\"xref\":\"paper\",\"y\":1.0,\"yanchor\":\"bottom\",\"yref\":\"paper\"},{\"font\":{},\"showarrow\":false,\"text\":\"\\uad11\\uc5ed\\uc790\\uce58\\ub2e8\\uccb4\",\"x\":0.3725,\"xanchor\":\"center\",\"xref\":\"paper\",\"y\":1.0,\"yanchor\":\"bottom\",\"yref\":\"paper\"},{\"font\":{},\"showarrow\":false,\"text\":\"\\uae30\\ucd08\\uc790\\uce58\\ub2e8\\uccb4\",\"x\":0.6275,\"xanchor\":\"center\",\"xref\":\"paper\",\"y\":1.0,\"yanchor\":\"bottom\",\"yref\":\"paper\"},{\"font\":{},\"showarrow\":false,\"text\":\"\\uc911\\uc559\\ud589\\uc815\\uae30\\uad00\",\"x\":0.8824999999999998,\"xanchor\":\"center\",\"xref\":\"paper\",\"y\":1.0,\"yanchor\":\"bottom\",\"yref\":\"paper\"}],\"legend\":{\"title\":{\"text\":\"\\uae30\\uad00\\uad6c\\ubd84\"},\"tracegroupgap\":0},\"margin\":{\"t\":60},\"barmode\":\"relative\"},                        {\"responsive\": true}                    ).then(function(){\n",
              "                            \n",
              "var gd = document.getElementById('b78c4927-0de4-478c-9bba-8a1c8eeb47e7');\n",
              "var x = new MutationObserver(function (mutations, observer) {{\n",
              "        var display = window.getComputedStyle(gd).display;\n",
              "        if (!display || display === 'none') {{\n",
              "            console.log([gd, 'removed!']);\n",
              "            Plotly.purge(gd);\n",
              "            observer.disconnect();\n",
              "        }}\n",
              "}});\n",
              "\n",
              "// Listen for the removal of the full notebook cells\n",
              "var notebookContainer = gd.closest('#notebook-container');\n",
              "if (notebookContainer) {{\n",
              "    x.observe(notebookContainer, {childList: true});\n",
              "}}\n",
              "\n",
              "// Listen for the clearing of the current output cell\n",
              "var outputEl = gd.closest('.output');\n",
              "if (outputEl) {{\n",
              "    x.observe(outputEl, {childList: true});\n",
              "}}\n",
              "\n",
              "                        })                };                            </script>        </div>\n",
              "</body>\n",
              "</html>"
            ]
          },
          "metadata": {}
        }
      ]
    },
    {
      "cell_type": "markdown",
      "metadata": {
        "id": "GciTJ_oCt_xX"
      },
      "source": [
        "**기관마다 분야별 민원 수를 확인해보니 자치단체에서는 행정/자치/안전뿐이었고, 중앙행정기관은 교육/문화/체육/관광, 국토/교통/농림/해양, 재정/금융/소비자가 많다는 것을 알 수 있었습니다.**  \n",
        "**위의 가설이 맞다는 것을 확인할 수 있었고, 분야별 민원수에서 1위를 차지했던 행정/자치/안전은 사실 자치단체에 약 90%정도 집중되어있었음을 알 수 있었습니다.**  \n",
        "\n",
        "**그리고 이후 분석시 행정/자치/안전은 기초자치단체의 행정/자치/안전 분야를 분석하고, 그 외 다른 분야는 중앙행정기관을 분석하는 것으로 진행방향을 잡을 수 있었습니다.**   \n",
        "> 자치단체의 행정/자치/안전 민원과 중앙기관의 행정/자치/안전의 내용이 다를것이라 생각하였습니다."
      ]
    },
    {
      "cell_type": "markdown",
      "metadata": {
        "id": "AWLa7ZeJuYl0"
      },
      "source": [
        "## 월별 민원 수"
      ]
    },
    {
      "cell_type": "markdown",
      "metadata": {
        "id": "aAdLR4-DipCM"
      },
      "source": [
        "**앞선 연도별 민원 수 분석에서 2021년의 민원 수 비중이 매우 컸던 것을 확인할 수 있었습니다.**  \n",
        "**단순히 합계로 월별 민원을 분석한다면, 예를 들어 12월은 2021년에는 포함되지 않았기 때문에 당연히 민원 수가 적게 나올것입니다.**  \n",
        "**따라서 월별 민원수를 분석할때는 비중을 비슷하게 맞춰주기 위해서 연도별 총계값을 나눠주는 간단한 정규화를 수행하였습니다.**"
      ]
    },
    {
      "cell_type": "code",
      "metadata": {
        "id": "eYTaPvNs86GF"
      },
      "source": [
        "from plotly.subplots import make_subplots"
      ],
      "execution_count": 57,
      "outputs": []
    },
    {
      "cell_type": "code",
      "metadata": {
        "id": "TumZDdJ_SycJ"
      },
      "source": [
        "months = root.groupby(by=['등록년도','등록월', '분야명']).size().reset_index(name='counts').dropna().sort_values('등록월', ascending=False)\n",
        "test   = root.groupby(by=['등록월']).size().reset_index(name='counts').sort_values('등록월')\n",
        "# tmp_ = months.loc[months['등록월']==12]\n",
        "# months = months.append(tmp_).reset_index(drop=True) # 그림그릴떄 시작점 끝점 맞춰주는 용도"
      ],
      "execution_count": 58,
      "outputs": []
    },
    {
      "cell_type": "code",
      "metadata": {
        "id": "6gcRxEtz9jx4"
      },
      "source": [
        "# data_ = test\n",
        "# r = 'counts'\n",
        "# theta = data_['등록월'].to_numpy() * 30 # degree\n",
        "\n",
        "# lines_test = Polar(data_)\n",
        "# lines_test.line(r='counts', theta=theta)\n",
        "# lines_test.fig.update_traces(fill='toself')\n",
        "# lines_test.fig.update_traces(mode='markers+lines')\n",
        "# lines_test.fig.update_layout(\n",
        "#         polar_angularaxis_tickvals = [hr * 30 % 360  for hr in range(1,13)],\n",
        "#         polar_angularaxis_ticktext = [hr for hr in range(1, 13)],\n",
        "#         #polar=dict(radialaxis=dict(showticklabels=False, ticks='', linewidth=0)),\n",
        "#         title='정규화를 수행하지 않은 월별 등록민원 수',\n",
        "#         title_x=0.5,\n",
        "#         title_font_size=20\n",
        "#     )\n",
        "\n",
        "\n",
        "# data_ = months\n",
        "# r = 'counts'\n",
        "# theta = data_['등록월'].to_numpy() * 30 # degree\n",
        "\n",
        "# lines = Polar(data_)\n",
        "# lines.line(r='counts', theta=theta)\n",
        "# lines.fig.update_traces(fill='toself')\n",
        "# lines.fig.update_traces(mode='markers+lines')\n",
        "# lines.fig.update_layout(\n",
        "#         polar_angularaxis_tickvals = [hr * 30 % 360  for hr in range(1,13)],\n",
        "#         polar_angularaxis_ticktext = [hr for hr in range(1, 13)],\n",
        "#         #polar=dict(radialaxis=dict(showticklabels=False, ticks='', linewidth=0)),\n",
        "#         title='정규화를 수행하지 않은 월별 등록민원 수',\n",
        "#         title_x=0.5,\n",
        "#         title_font_size=20\n",
        "#     );"
      ],
      "execution_count": 59,
      "outputs": []
    },
    {
      "cell_type": "code",
      "metadata": {
        "id": "tZeqduz78PHX"
      },
      "source": [
        "# sub = make_subplots(rows=1, cols=2)\n",
        "\n",
        "# sub.add_trace(\n",
        "#     lines_test.fig,\n",
        "#     row=1, col=1\n",
        "# )\n",
        "\n",
        "# sub.add_trace(\n",
        "#     lines.fig,\n",
        "#     row=1, col=2\n",
        "# )\n",
        "\n",
        "# sub.update_layout(height=600, width=800, title_text=\"Side By Side Subplots\")\n",
        "# sub.show()\n",
        "\n",
        "# # data_ = test\n",
        "# # r = 'counts'\n",
        "# # theta = data_['등록월'].to_numpy() * 30 # degree\n",
        "\n",
        "# # lines_test = Polar(data_)\n",
        "# # lines_test.line(r='counts', theta=theta)\n",
        "# # lines_test.fig.update_traces(fill='toself')\n",
        "# # lines_test.fig.update_traces(mode='markers+lines')\n",
        "# # lines_test.fig.update_layout(\n",
        "# #         polar_angularaxis_tickvals = [hr * 30 % 360  for hr in range(1,13)],\n",
        "# #         polar_angularaxis_ticktext = [hr for hr in range(1, 13)],\n",
        "# #         #polar=dict(radialaxis=dict(showticklabels=False, ticks='', linewidth=0)),\n",
        "# #         title='정규화를 수행하지 않은 월별 등록민원 수',\n",
        "# #         title_x=0.5,\n",
        "# #         title_font_size=20\n",
        "# #     )"
      ],
      "execution_count": 60,
      "outputs": []
    },
    {
      "cell_type": "code",
      "metadata": {
        "id": "nG_cN9R5guOR"
      },
      "source": [
        "year_20 = months.loc[months['등록년도']==2020]\n",
        "year_20['counts'] = year_20['counts'] / sum(year_20['counts'])\n",
        "\n",
        "year_21 = months.loc[months['등록년도']==2021]\n",
        "year_21['counts'] = year_21['counts'] / sum(year_21['counts'])"
      ],
      "execution_count": 61,
      "outputs": []
    },
    {
      "cell_type": "code",
      "metadata": {
        "id": "CUUF1jjxhst_"
      },
      "source": [
        "months_tmp = pd.concat([year_20, year_21], axis = 0).reset_index(drop=True).sort_values(['등록년도', '등록월'])\n",
        "months_tmp = months_tmp.groupby(['등록월', '분야명'], as_index=False).sum().drop(columns={'등록년도'})"
      ],
      "execution_count": 62,
      "outputs": []
    },
    {
      "cell_type": "code",
      "metadata": {
        "id": "wGqQZoM45HXA"
      },
      "source": [
        "class Polar:\n",
        "    def __init__(self, data):\n",
        "        self.data = data\n",
        "        self.fig = None\n",
        "\n",
        "    def line(self, r, theta, **kwargs):\n",
        "        self.fig = px.line_polar(self.data, r=r, theta=theta, **kwargs)\n",
        "\n",
        "    def bar(self, r, theta, **kwargs):\n",
        "        self.fig = px.bar_polar(self.data, r=r, theta=theta, **kwargs)\n",
        "\n",
        "    def scatter(self, r, theta, **kwargs):\n",
        "        self.fig = px.scatter_polar(self.data, r=r, theta=theta, **kwargs)\n",
        "\n",
        "    def plot(self):\n",
        "        self.fig.show()"
      ],
      "execution_count": 127,
      "outputs": []
    },
    {
      "cell_type": "code",
      "metadata": {
        "id": "K14KrvH35yzh"
      },
      "source": [
        "# data_ = months_tmp\n",
        "# r = 'counts'\n",
        "# theta = data_['등록월'].to_numpy() * 30 # degree\n",
        "\n",
        "# lines = Polar(data_)\n",
        "# lines.line(r='counts', theta=theta, color='분야명')\n",
        "# lines.fig.update_traces(fill='toself')\n",
        "# lines.fig.update_traces(mode='markers+lines')\n",
        "# lines.fig.update_layout(\n",
        "#         polar_angularaxis_tickvals = [hr * 30 % 360  for hr in range(1,13)],\n",
        "#         polar_angularaxis_ticktext = [hr for hr in range(1, 13)],\n",
        "#         #polar=dict(radialaxis=dict(showticklabels=False, ticks='', linewidth=0)),\n",
        "#         title='월별 등록민원 수',\n",
        "#         title_x=0.5,\n",
        "#         title_font_size=20\n",
        "#     )\n",
        "\n",
        "# lines.plot()"
      ],
      "execution_count": 128,
      "outputs": []
    },
    {
      "cell_type": "code",
      "metadata": {
        "id": "qJWyqZEbSjKG"
      },
      "source": [
        "#months = root.groupby(by=[\"등록월\"]).size().reset_index(name=\"counts\").dropna().sort_values('등록월', ascending=False)\n",
        "\n",
        "# fig = px.line_polar(months_tmp, r='counts', theta=months_tmp['등록월'].to_numpy() * 30, color='분야명')\n",
        "# fig.update_traces(fill='toself')\n",
        "# fig.update_traces(mode='markers+lines')\n",
        "\n",
        "# fig.update_layout(\n",
        "#     polar_angularaxis_tickvals = [hr * 30 % 360  for hr in range(1,13)],\n",
        "#     polar_angularaxis_ticktext = [hr for hr in range(1, 13)],\n",
        "#     polar=dict(radialaxis=dict(showticklabels=False, ticks='', linewidth=0)),\n",
        "#     title='월별 등록민원 수',\n",
        "#     title_x=0.5,\n",
        "#     title_font_size=20,\n",
        "# )\n",
        "\n",
        "# fig.show()"
      ],
      "execution_count": 129,
      "outputs": []
    },
    {
      "cell_type": "markdown",
      "metadata": {
        "id": "fLJ32l-hubFZ"
      },
      "source": [
        "**분야별로 집계된 월별 등록민원 수는 주로 7월, 6월 방향을 향해 뾰족하게 뻗어있는 모양으로 여름에 집중되어있다는 것을 알 수 있음**  "
      ]
    },
    {
      "cell_type": "code",
      "metadata": {
        "id": "0vPhr6a1oVDc"
      },
      "source": [
        "# months = root.groupby(by=[\"등록월\"]).size().reset_index(name=\"counts\").dropna().sort_values('등록월', ascending=False)\n",
        "# months['percentage'] = round(months['counts'] / sum(months['counts']) * 100, 2)\n",
        "\n",
        "# fig = px.bar_polar(months, r='counts', theta=months['등록월'].to_numpy() * 30, \n",
        "#                        hover_data=['percentage'])\n",
        "\n",
        "# fig.update_layout(\n",
        "#     polar_angularaxis_tickvals = [hr * 30 % 360  for hr in range(1,13)],\n",
        "#     polar_angularaxis_ticktext = [hr for hr in range(1, 13)],\n",
        "#     polar=dict(radialaxis=dict(showticklabels=False, ticks='', linewidth=0)),\n",
        "#     title='월별 등록민원 수',\n",
        "#     title_x=0.5,\n",
        "#     title_font_size=20,\n",
        "# )\n",
        "\n",
        "# fig.show()"
      ],
      "execution_count": 66,
      "outputs": []
    },
    {
      "cell_type": "code",
      "metadata": {
        "id": "Tf53FVywjytV"
      },
      "source": [
        "months_ = months_tmp.groupby(['등록월'], as_index=False).sum()"
      ],
      "execution_count": 67,
      "outputs": []
    },
    {
      "cell_type": "code",
      "metadata": {
        "id": "omcrRL9bkIaz"
      },
      "source": [
        ""
      ],
      "execution_count": 67,
      "outputs": []
    },
    {
      "cell_type": "code",
      "metadata": {
        "colab": {
          "base_uri": "https://localhost:8080/",
          "height": 542
        },
        "id": "W9US7b6hlxIf",
        "outputId": "ebd25e73-4888-41cf-c84a-a9d6773f5393"
      },
      "source": [
        "fig = px.scatter_polar(months_, r='counts', theta=months_['등록월'].to_numpy() * 30,) \n",
        "                       #hover_data=['percentage'])\n",
        "\n",
        "fig.update_traces(fill='toself')\n",
        "fig.update_traces(mode='markers+lines')\n",
        "fig.update_layout(\n",
        "    polar_angularaxis_tickvals = [hr * 30 % 360  for hr in range(1,13)],\n",
        "    polar_angularaxis_ticktext = [hr for hr in range(1, 13)],\n",
        "    polar=dict(radialaxis=dict(showticklabels=False, ticks='', linewidth=0)),\n",
        "    title='월별 등록민원 수',\n",
        "    title_x=0.5,\n",
        "    title_font_size=20,\n",
        ")\n",
        "\n",
        "fig.show()"
      ],
      "execution_count": 68,
      "outputs": [
        {
          "output_type": "display_data",
          "data": {
            "text/html": [
              "<html>\n",
              "<head><meta charset=\"utf-8\" /></head>\n",
              "<body>\n",
              "    <div>            <script src=\"https://cdnjs.cloudflare.com/ajax/libs/mathjax/2.7.5/MathJax.js?config=TeX-AMS-MML_SVG\"></script><script type=\"text/javascript\">if (window.MathJax) {MathJax.Hub.Config({SVG: {font: \"STIX-Web\"}});}</script>                <script type=\"text/javascript\">window.PlotlyConfig = {MathJaxConfig: 'local'};</script>\n",
              "        <script src=\"https://cdn.plot.ly/plotly-2.6.3.min.js\"></script>                <div id=\"a1aad88d-1e66-4f23-bd2e-9dce11cd124e\" class=\"plotly-graph-div\" style=\"height:525px; width:100%;\"></div>            <script type=\"text/javascript\">                                    window.PLOTLYENV=window.PLOTLYENV || {};                                    if (document.getElementById(\"a1aad88d-1e66-4f23-bd2e-9dce11cd124e\")) {                    Plotly.newPlot(                        \"a1aad88d-1e66-4f23-bd2e-9dce11cd124e\",                        [{\"hovertemplate\":\"counts=%{r}<br>theta=%{theta}<extra></extra>\",\"legendgroup\":\"\",\"marker\":{\"color\":\"#636efa\",\"symbol\":\"circle\"},\"mode\":\"markers+lines\",\"name\":\"\",\"r\":[0.0502879927842801,0.04251931903653066,0.08068454687383197,0.08028224320328509,0.14209010586639262,0.23648196178998243,0.282450067055801,0.1440309751069155,0.03579838634144336,0.11100475689869758,0.17552019583843328,0.6188494492044064],\"showlegend\":false,\"subplot\":\"polar\",\"theta\":[30.0,60.0,90.0,120.0,150.0,180.0,210.0,240.0,270.0,300.0,330.0,360.0],\"type\":\"scatterpolar\",\"fill\":\"toself\"}],                        {\"template\":{\"data\":{\"bar\":[{\"error_x\":{\"color\":\"#2a3f5f\"},\"error_y\":{\"color\":\"#2a3f5f\"},\"marker\":{\"line\":{\"color\":\"#E5ECF6\",\"width\":0.5},\"pattern\":{\"fillmode\":\"overlay\",\"size\":10,\"solidity\":0.2}},\"type\":\"bar\"}],\"barpolar\":[{\"marker\":{\"line\":{\"color\":\"#E5ECF6\",\"width\":0.5},\"pattern\":{\"fillmode\":\"overlay\",\"size\":10,\"solidity\":0.2}},\"type\":\"barpolar\"}],\"carpet\":[{\"aaxis\":{\"endlinecolor\":\"#2a3f5f\",\"gridcolor\":\"white\",\"linecolor\":\"white\",\"minorgridcolor\":\"white\",\"startlinecolor\":\"#2a3f5f\"},\"baxis\":{\"endlinecolor\":\"#2a3f5f\",\"gridcolor\":\"white\",\"linecolor\":\"white\",\"minorgridcolor\":\"white\",\"startlinecolor\":\"#2a3f5f\"},\"type\":\"carpet\"}],\"choropleth\":[{\"colorbar\":{\"outlinewidth\":0,\"ticks\":\"\"},\"type\":\"choropleth\"}],\"contour\":[{\"colorbar\":{\"outlinewidth\":0,\"ticks\":\"\"},\"colorscale\":[[0.0,\"#0d0887\"],[0.1111111111111111,\"#46039f\"],[0.2222222222222222,\"#7201a8\"],[0.3333333333333333,\"#9c179e\"],[0.4444444444444444,\"#bd3786\"],[0.5555555555555556,\"#d8576b\"],[0.6666666666666666,\"#ed7953\"],[0.7777777777777778,\"#fb9f3a\"],[0.8888888888888888,\"#fdca26\"],[1.0,\"#f0f921\"]],\"type\":\"contour\"}],\"contourcarpet\":[{\"colorbar\":{\"outlinewidth\":0,\"ticks\":\"\"},\"type\":\"contourcarpet\"}],\"heatmap\":[{\"colorbar\":{\"outlinewidth\":0,\"ticks\":\"\"},\"colorscale\":[[0.0,\"#0d0887\"],[0.1111111111111111,\"#46039f\"],[0.2222222222222222,\"#7201a8\"],[0.3333333333333333,\"#9c179e\"],[0.4444444444444444,\"#bd3786\"],[0.5555555555555556,\"#d8576b\"],[0.6666666666666666,\"#ed7953\"],[0.7777777777777778,\"#fb9f3a\"],[0.8888888888888888,\"#fdca26\"],[1.0,\"#f0f921\"]],\"type\":\"heatmap\"}],\"heatmapgl\":[{\"colorbar\":{\"outlinewidth\":0,\"ticks\":\"\"},\"colorscale\":[[0.0,\"#0d0887\"],[0.1111111111111111,\"#46039f\"],[0.2222222222222222,\"#7201a8\"],[0.3333333333333333,\"#9c179e\"],[0.4444444444444444,\"#bd3786\"],[0.5555555555555556,\"#d8576b\"],[0.6666666666666666,\"#ed7953\"],[0.7777777777777778,\"#fb9f3a\"],[0.8888888888888888,\"#fdca26\"],[1.0,\"#f0f921\"]],\"type\":\"heatmapgl\"}],\"histogram\":[{\"marker\":{\"pattern\":{\"fillmode\":\"overlay\",\"size\":10,\"solidity\":0.2}},\"type\":\"histogram\"}],\"histogram2d\":[{\"colorbar\":{\"outlinewidth\":0,\"ticks\":\"\"},\"colorscale\":[[0.0,\"#0d0887\"],[0.1111111111111111,\"#46039f\"],[0.2222222222222222,\"#7201a8\"],[0.3333333333333333,\"#9c179e\"],[0.4444444444444444,\"#bd3786\"],[0.5555555555555556,\"#d8576b\"],[0.6666666666666666,\"#ed7953\"],[0.7777777777777778,\"#fb9f3a\"],[0.8888888888888888,\"#fdca26\"],[1.0,\"#f0f921\"]],\"type\":\"histogram2d\"}],\"histogram2dcontour\":[{\"colorbar\":{\"outlinewidth\":0,\"ticks\":\"\"},\"colorscale\":[[0.0,\"#0d0887\"],[0.1111111111111111,\"#46039f\"],[0.2222222222222222,\"#7201a8\"],[0.3333333333333333,\"#9c179e\"],[0.4444444444444444,\"#bd3786\"],[0.5555555555555556,\"#d8576b\"],[0.6666666666666666,\"#ed7953\"],[0.7777777777777778,\"#fb9f3a\"],[0.8888888888888888,\"#fdca26\"],[1.0,\"#f0f921\"]],\"type\":\"histogram2dcontour\"}],\"mesh3d\":[{\"colorbar\":{\"outlinewidth\":0,\"ticks\":\"\"},\"type\":\"mesh3d\"}],\"parcoords\":[{\"line\":{\"colorbar\":{\"outlinewidth\":0,\"ticks\":\"\"}},\"type\":\"parcoords\"}],\"pie\":[{\"automargin\":true,\"type\":\"pie\"}],\"scatter\":[{\"marker\":{\"colorbar\":{\"outlinewidth\":0,\"ticks\":\"\"}},\"type\":\"scatter\"}],\"scatter3d\":[{\"line\":{\"colorbar\":{\"outlinewidth\":0,\"ticks\":\"\"}},\"marker\":{\"colorbar\":{\"outlinewidth\":0,\"ticks\":\"\"}},\"type\":\"scatter3d\"}],\"scattercarpet\":[{\"marker\":{\"colorbar\":{\"outlinewidth\":0,\"ticks\":\"\"}},\"type\":\"scattercarpet\"}],\"scattergeo\":[{\"marker\":{\"colorbar\":{\"outlinewidth\":0,\"ticks\":\"\"}},\"type\":\"scattergeo\"}],\"scattergl\":[{\"marker\":{\"colorbar\":{\"outlinewidth\":0,\"ticks\":\"\"}},\"type\":\"scattergl\"}],\"scattermapbox\":[{\"marker\":{\"colorbar\":{\"outlinewidth\":0,\"ticks\":\"\"}},\"type\":\"scattermapbox\"}],\"scatterpolar\":[{\"marker\":{\"colorbar\":{\"outlinewidth\":0,\"ticks\":\"\"}},\"type\":\"scatterpolar\"}],\"scatterpolargl\":[{\"marker\":{\"colorbar\":{\"outlinewidth\":0,\"ticks\":\"\"}},\"type\":\"scatterpolargl\"}],\"scatterternary\":[{\"marker\":{\"colorbar\":{\"outlinewidth\":0,\"ticks\":\"\"}},\"type\":\"scatterternary\"}],\"surface\":[{\"colorbar\":{\"outlinewidth\":0,\"ticks\":\"\"},\"colorscale\":[[0.0,\"#0d0887\"],[0.1111111111111111,\"#46039f\"],[0.2222222222222222,\"#7201a8\"],[0.3333333333333333,\"#9c179e\"],[0.4444444444444444,\"#bd3786\"],[0.5555555555555556,\"#d8576b\"],[0.6666666666666666,\"#ed7953\"],[0.7777777777777778,\"#fb9f3a\"],[0.8888888888888888,\"#fdca26\"],[1.0,\"#f0f921\"]],\"type\":\"surface\"}],\"table\":[{\"cells\":{\"fill\":{\"color\":\"#EBF0F8\"},\"line\":{\"color\":\"white\"}},\"header\":{\"fill\":{\"color\":\"#C8D4E3\"},\"line\":{\"color\":\"white\"}},\"type\":\"table\"}]},\"layout\":{\"annotationdefaults\":{\"arrowcolor\":\"#2a3f5f\",\"arrowhead\":0,\"arrowwidth\":1},\"autotypenumbers\":\"strict\",\"coloraxis\":{\"colorbar\":{\"outlinewidth\":0,\"ticks\":\"\"}},\"colorscale\":{\"diverging\":[[0,\"#8e0152\"],[0.1,\"#c51b7d\"],[0.2,\"#de77ae\"],[0.3,\"#f1b6da\"],[0.4,\"#fde0ef\"],[0.5,\"#f7f7f7\"],[0.6,\"#e6f5d0\"],[0.7,\"#b8e186\"],[0.8,\"#7fbc41\"],[0.9,\"#4d9221\"],[1,\"#276419\"]],\"sequential\":[[0.0,\"#0d0887\"],[0.1111111111111111,\"#46039f\"],[0.2222222222222222,\"#7201a8\"],[0.3333333333333333,\"#9c179e\"],[0.4444444444444444,\"#bd3786\"],[0.5555555555555556,\"#d8576b\"],[0.6666666666666666,\"#ed7953\"],[0.7777777777777778,\"#fb9f3a\"],[0.8888888888888888,\"#fdca26\"],[1.0,\"#f0f921\"]],\"sequentialminus\":[[0.0,\"#0d0887\"],[0.1111111111111111,\"#46039f\"],[0.2222222222222222,\"#7201a8\"],[0.3333333333333333,\"#9c179e\"],[0.4444444444444444,\"#bd3786\"],[0.5555555555555556,\"#d8576b\"],[0.6666666666666666,\"#ed7953\"],[0.7777777777777778,\"#fb9f3a\"],[0.8888888888888888,\"#fdca26\"],[1.0,\"#f0f921\"]]},\"colorway\":[\"#636efa\",\"#EF553B\",\"#00cc96\",\"#ab63fa\",\"#FFA15A\",\"#19d3f3\",\"#FF6692\",\"#B6E880\",\"#FF97FF\",\"#FECB52\"],\"font\":{\"color\":\"#2a3f5f\"},\"geo\":{\"bgcolor\":\"white\",\"lakecolor\":\"white\",\"landcolor\":\"#E5ECF6\",\"showlakes\":true,\"showland\":true,\"subunitcolor\":\"white\"},\"hoverlabel\":{\"align\":\"left\"},\"hovermode\":\"closest\",\"mapbox\":{\"style\":\"light\"},\"paper_bgcolor\":\"white\",\"plot_bgcolor\":\"#E5ECF6\",\"polar\":{\"angularaxis\":{\"gridcolor\":\"white\",\"linecolor\":\"white\",\"ticks\":\"\"},\"bgcolor\":\"#E5ECF6\",\"radialaxis\":{\"gridcolor\":\"white\",\"linecolor\":\"white\",\"ticks\":\"\"}},\"scene\":{\"xaxis\":{\"backgroundcolor\":\"#E5ECF6\",\"gridcolor\":\"white\",\"gridwidth\":2,\"linecolor\":\"white\",\"showbackground\":true,\"ticks\":\"\",\"zerolinecolor\":\"white\"},\"yaxis\":{\"backgroundcolor\":\"#E5ECF6\",\"gridcolor\":\"white\",\"gridwidth\":2,\"linecolor\":\"white\",\"showbackground\":true,\"ticks\":\"\",\"zerolinecolor\":\"white\"},\"zaxis\":{\"backgroundcolor\":\"#E5ECF6\",\"gridcolor\":\"white\",\"gridwidth\":2,\"linecolor\":\"white\",\"showbackground\":true,\"ticks\":\"\",\"zerolinecolor\":\"white\"}},\"shapedefaults\":{\"line\":{\"color\":\"#2a3f5f\"}},\"ternary\":{\"aaxis\":{\"gridcolor\":\"white\",\"linecolor\":\"white\",\"ticks\":\"\"},\"baxis\":{\"gridcolor\":\"white\",\"linecolor\":\"white\",\"ticks\":\"\"},\"bgcolor\":\"#E5ECF6\",\"caxis\":{\"gridcolor\":\"white\",\"linecolor\":\"white\",\"ticks\":\"\"}},\"title\":{\"x\":0.05},\"xaxis\":{\"automargin\":true,\"gridcolor\":\"white\",\"linecolor\":\"white\",\"ticks\":\"\",\"title\":{\"standoff\":15},\"zerolinecolor\":\"white\",\"zerolinewidth\":2},\"yaxis\":{\"automargin\":true,\"gridcolor\":\"white\",\"linecolor\":\"white\",\"ticks\":\"\",\"title\":{\"standoff\":15},\"zerolinecolor\":\"white\",\"zerolinewidth\":2}}},\"polar\":{\"domain\":{\"x\":[0.0,1.0],\"y\":[0.0,1.0]},\"angularaxis\":{\"direction\":\"clockwise\",\"rotation\":90,\"tickvals\":[30,60,90,120,150,180,210,240,270,300,330,0],\"ticktext\":[1,2,3,4,5,6,7,8,9,10,11,12]},\"radialaxis\":{\"showticklabels\":false,\"ticks\":\"\",\"linewidth\":0}},\"legend\":{\"tracegroupgap\":0},\"margin\":{\"t\":60},\"title\":{\"text\":\"\\uc6d4\\ubcc4 \\ub4f1\\ub85d\\ubbfc\\uc6d0 \\uc218\",\"x\":0.5,\"font\":{\"size\":20}}},                        {\"responsive\": true}                    ).then(function(){\n",
              "                            \n",
              "var gd = document.getElementById('a1aad88d-1e66-4f23-bd2e-9dce11cd124e');\n",
              "var x = new MutationObserver(function (mutations, observer) {{\n",
              "        var display = window.getComputedStyle(gd).display;\n",
              "        if (!display || display === 'none') {{\n",
              "            console.log([gd, 'removed!']);\n",
              "            Plotly.purge(gd);\n",
              "            observer.disconnect();\n",
              "        }}\n",
              "}});\n",
              "\n",
              "// Listen for the removal of the full notebook cells\n",
              "var notebookContainer = gd.closest('#notebook-container');\n",
              "if (notebookContainer) {{\n",
              "    x.observe(notebookContainer, {childList: true});\n",
              "}}\n",
              "\n",
              "// Listen for the clearing of the current output cell\n",
              "var outputEl = gd.closest('.output');\n",
              "if (outputEl) {{\n",
              "    x.observe(outputEl, {childList: true});\n",
              "}}\n",
              "\n",
              "                        })                };                            </script>        </div>\n",
              "</body>\n",
              "</html>"
            ]
          },
          "metadata": {}
        }
      ]
    },
    {
      "cell_type": "markdown",
      "metadata": {
        "id": "oedbzY4IlNBv"
      },
      "source": [
        "**월별 총 민원 수는 여름에 약 55%정도가 집중되어있음**  "
      ]
    },
    {
      "cell_type": "markdown",
      "metadata": {
        "id": "Jx2VZQgGuqDd"
      },
      "source": [
        "### 6. 시간별 민원 수"
      ]
    },
    {
      "cell_type": "code",
      "metadata": {
        "id": "F2OH9mHBkd3b"
      },
      "source": [
        "time = root.groupby(by=[\"등록시간\", \"오전오후\"]).size().reset_index(name=\"counts\")\n",
        "time['등록시간_12'] = time['등록시간'].where(time['등록시간'] < 12, time['등록시간'] - 12)\n",
        "time = time.sort_values('등록시간').dropna().reset_index(drop=True)\n",
        "time['등록시간'] = time['등록시간'].astype(int)\n",
        "time['percentage'] = round(time['counts'] / time['counts'].sum() * 100, 2)"
      ],
      "execution_count": 69,
      "outputs": []
    },
    {
      "cell_type": "code",
      "metadata": {
        "colab": {
          "base_uri": "https://localhost:8080/",
          "height": 542
        },
        "id": "iELQHKXiUDb8",
        "outputId": "6ea81bbc-d9a4-4657-ca6f-df7562d842b0"
      },
      "source": [
        "fig = (px.line_polar(time, r='counts', theta=time['등록시간_12'].to_numpy() * 30, \n",
        "                    color='오전오후', title='시간별 등록민원 수', hover_data=['percentage'])\n",
        "        )#.for_each_trace(lambda t: t.update(name=t.name.split(\"=\")[1])))\n",
        "\n",
        "fig.update_traces(fill='toself')\n",
        "fig.update_traces(mode='markers+lines')\n",
        "\n",
        "fig.update_layout(\n",
        "    polar_angularaxis_tickvals = [hr * 30 % 360  for hr in range(1,13)],\n",
        "    polar_angularaxis_ticktext = [hr for hr in range(1, 13)],\n",
        "    polar=dict(radialaxis=dict(showticklabels=False, ticks='', linewidth=0)),\n",
        "    title='시간별 등록민원 수',\n",
        "    title_x=0.5,\n",
        "    title_font_size=20\n",
        ")\n",
        "\n",
        "fig.show()"
      ],
      "execution_count": 70,
      "outputs": [
        {
          "output_type": "display_data",
          "data": {
            "text/html": [
              "<html>\n",
              "<head><meta charset=\"utf-8\" /></head>\n",
              "<body>\n",
              "    <div>            <script src=\"https://cdnjs.cloudflare.com/ajax/libs/mathjax/2.7.5/MathJax.js?config=TeX-AMS-MML_SVG\"></script><script type=\"text/javascript\">if (window.MathJax) {MathJax.Hub.Config({SVG: {font: \"STIX-Web\"}});}</script>                <script type=\"text/javascript\">window.PlotlyConfig = {MathJaxConfig: 'local'};</script>\n",
              "        <script src=\"https://cdn.plot.ly/plotly-2.6.3.min.js\"></script>                <div id=\"ad3dd0d0-f34c-43cc-beb9-200f89d782bb\" class=\"plotly-graph-div\" style=\"height:525px; width:100%;\"></div>            <script type=\"text/javascript\">                                    window.PLOTLYENV=window.PLOTLYENV || {};                                    if (document.getElementById(\"ad3dd0d0-f34c-43cc-beb9-200f89d782bb\")) {                    Plotly.newPlot(                        \"ad3dd0d0-f34c-43cc-beb9-200f89d782bb\",                        [{\"customdata\":[[0.11],[0.05],[0.01],[0.0],[0.0],[0.02],[0.13],[1.58],[5.76],[10.88],[9.88],[2.48]],\"hovertemplate\":\"\\uc624\\uc804\\uc624\\ud6c4=AM<br>counts=%{r}<br>theta=%{theta}<br>percentage=%{customdata[0]}<extra></extra>\",\"legendgroup\":\"AM\",\"line\":{\"color\":\"#636efa\",\"dash\":\"solid\"},\"marker\":{\"symbol\":\"circle\"},\"mode\":\"markers+lines\",\"name\":\"AM\",\"r\":[53,22,6,2,2,10,61,746,2725,5150,4676,1172],\"showlegend\":true,\"subplot\":\"polar\",\"theta\":[0.0,30.0,60.0,120.0,150.0,180.0,210.0,240.0,270.0,300.0,330.0,0.0],\"type\":\"scatterpolar\",\"fill\":\"toself\"},{\"customdata\":[[9.4],[12.6],[13.24],[12.34],[9.89],[3.47],[2.62],[2.89],[1.6],[0.62],[0.42]],\"hovertemplate\":\"\\uc624\\uc804\\uc624\\ud6c4=PM<br>counts=%{r}<br>theta=%{theta}<br>percentage=%{customdata[0]}<extra></extra>\",\"legendgroup\":\"PM\",\"line\":{\"color\":\"#EF553B\",\"dash\":\"solid\"},\"marker\":{\"symbol\":\"circle\"},\"mode\":\"markers+lines\",\"name\":\"PM\",\"r\":[4450,5965,6265,5840,4682,1642,1239,1370,757,293,200],\"showlegend\":true,\"subplot\":\"polar\",\"theta\":[30.0,60.0,90.0,120.0,150.0,180.0,210.0,240.0,270.0,300.0,330.0],\"type\":\"scatterpolar\",\"fill\":\"toself\"}],                        {\"template\":{\"data\":{\"bar\":[{\"error_x\":{\"color\":\"#2a3f5f\"},\"error_y\":{\"color\":\"#2a3f5f\"},\"marker\":{\"line\":{\"color\":\"#E5ECF6\",\"width\":0.5},\"pattern\":{\"fillmode\":\"overlay\",\"size\":10,\"solidity\":0.2}},\"type\":\"bar\"}],\"barpolar\":[{\"marker\":{\"line\":{\"color\":\"#E5ECF6\",\"width\":0.5},\"pattern\":{\"fillmode\":\"overlay\",\"size\":10,\"solidity\":0.2}},\"type\":\"barpolar\"}],\"carpet\":[{\"aaxis\":{\"endlinecolor\":\"#2a3f5f\",\"gridcolor\":\"white\",\"linecolor\":\"white\",\"minorgridcolor\":\"white\",\"startlinecolor\":\"#2a3f5f\"},\"baxis\":{\"endlinecolor\":\"#2a3f5f\",\"gridcolor\":\"white\",\"linecolor\":\"white\",\"minorgridcolor\":\"white\",\"startlinecolor\":\"#2a3f5f\"},\"type\":\"carpet\"}],\"choropleth\":[{\"colorbar\":{\"outlinewidth\":0,\"ticks\":\"\"},\"type\":\"choropleth\"}],\"contour\":[{\"colorbar\":{\"outlinewidth\":0,\"ticks\":\"\"},\"colorscale\":[[0.0,\"#0d0887\"],[0.1111111111111111,\"#46039f\"],[0.2222222222222222,\"#7201a8\"],[0.3333333333333333,\"#9c179e\"],[0.4444444444444444,\"#bd3786\"],[0.5555555555555556,\"#d8576b\"],[0.6666666666666666,\"#ed7953\"],[0.7777777777777778,\"#fb9f3a\"],[0.8888888888888888,\"#fdca26\"],[1.0,\"#f0f921\"]],\"type\":\"contour\"}],\"contourcarpet\":[{\"colorbar\":{\"outlinewidth\":0,\"ticks\":\"\"},\"type\":\"contourcarpet\"}],\"heatmap\":[{\"colorbar\":{\"outlinewidth\":0,\"ticks\":\"\"},\"colorscale\":[[0.0,\"#0d0887\"],[0.1111111111111111,\"#46039f\"],[0.2222222222222222,\"#7201a8\"],[0.3333333333333333,\"#9c179e\"],[0.4444444444444444,\"#bd3786\"],[0.5555555555555556,\"#d8576b\"],[0.6666666666666666,\"#ed7953\"],[0.7777777777777778,\"#fb9f3a\"],[0.8888888888888888,\"#fdca26\"],[1.0,\"#f0f921\"]],\"type\":\"heatmap\"}],\"heatmapgl\":[{\"colorbar\":{\"outlinewidth\":0,\"ticks\":\"\"},\"colorscale\":[[0.0,\"#0d0887\"],[0.1111111111111111,\"#46039f\"],[0.2222222222222222,\"#7201a8\"],[0.3333333333333333,\"#9c179e\"],[0.4444444444444444,\"#bd3786\"],[0.5555555555555556,\"#d8576b\"],[0.6666666666666666,\"#ed7953\"],[0.7777777777777778,\"#fb9f3a\"],[0.8888888888888888,\"#fdca26\"],[1.0,\"#f0f921\"]],\"type\":\"heatmapgl\"}],\"histogram\":[{\"marker\":{\"pattern\":{\"fillmode\":\"overlay\",\"size\":10,\"solidity\":0.2}},\"type\":\"histogram\"}],\"histogram2d\":[{\"colorbar\":{\"outlinewidth\":0,\"ticks\":\"\"},\"colorscale\":[[0.0,\"#0d0887\"],[0.1111111111111111,\"#46039f\"],[0.2222222222222222,\"#7201a8\"],[0.3333333333333333,\"#9c179e\"],[0.4444444444444444,\"#bd3786\"],[0.5555555555555556,\"#d8576b\"],[0.6666666666666666,\"#ed7953\"],[0.7777777777777778,\"#fb9f3a\"],[0.8888888888888888,\"#fdca26\"],[1.0,\"#f0f921\"]],\"type\":\"histogram2d\"}],\"histogram2dcontour\":[{\"colorbar\":{\"outlinewidth\":0,\"ticks\":\"\"},\"colorscale\":[[0.0,\"#0d0887\"],[0.1111111111111111,\"#46039f\"],[0.2222222222222222,\"#7201a8\"],[0.3333333333333333,\"#9c179e\"],[0.4444444444444444,\"#bd3786\"],[0.5555555555555556,\"#d8576b\"],[0.6666666666666666,\"#ed7953\"],[0.7777777777777778,\"#fb9f3a\"],[0.8888888888888888,\"#fdca26\"],[1.0,\"#f0f921\"]],\"type\":\"histogram2dcontour\"}],\"mesh3d\":[{\"colorbar\":{\"outlinewidth\":0,\"ticks\":\"\"},\"type\":\"mesh3d\"}],\"parcoords\":[{\"line\":{\"colorbar\":{\"outlinewidth\":0,\"ticks\":\"\"}},\"type\":\"parcoords\"}],\"pie\":[{\"automargin\":true,\"type\":\"pie\"}],\"scatter\":[{\"marker\":{\"colorbar\":{\"outlinewidth\":0,\"ticks\":\"\"}},\"type\":\"scatter\"}],\"scatter3d\":[{\"line\":{\"colorbar\":{\"outlinewidth\":0,\"ticks\":\"\"}},\"marker\":{\"colorbar\":{\"outlinewidth\":0,\"ticks\":\"\"}},\"type\":\"scatter3d\"}],\"scattercarpet\":[{\"marker\":{\"colorbar\":{\"outlinewidth\":0,\"ticks\":\"\"}},\"type\":\"scattercarpet\"}],\"scattergeo\":[{\"marker\":{\"colorbar\":{\"outlinewidth\":0,\"ticks\":\"\"}},\"type\":\"scattergeo\"}],\"scattergl\":[{\"marker\":{\"colorbar\":{\"outlinewidth\":0,\"ticks\":\"\"}},\"type\":\"scattergl\"}],\"scattermapbox\":[{\"marker\":{\"colorbar\":{\"outlinewidth\":0,\"ticks\":\"\"}},\"type\":\"scattermapbox\"}],\"scatterpolar\":[{\"marker\":{\"colorbar\":{\"outlinewidth\":0,\"ticks\":\"\"}},\"type\":\"scatterpolar\"}],\"scatterpolargl\":[{\"marker\":{\"colorbar\":{\"outlinewidth\":0,\"ticks\":\"\"}},\"type\":\"scatterpolargl\"}],\"scatterternary\":[{\"marker\":{\"colorbar\":{\"outlinewidth\":0,\"ticks\":\"\"}},\"type\":\"scatterternary\"}],\"surface\":[{\"colorbar\":{\"outlinewidth\":0,\"ticks\":\"\"},\"colorscale\":[[0.0,\"#0d0887\"],[0.1111111111111111,\"#46039f\"],[0.2222222222222222,\"#7201a8\"],[0.3333333333333333,\"#9c179e\"],[0.4444444444444444,\"#bd3786\"],[0.5555555555555556,\"#d8576b\"],[0.6666666666666666,\"#ed7953\"],[0.7777777777777778,\"#fb9f3a\"],[0.8888888888888888,\"#fdca26\"],[1.0,\"#f0f921\"]],\"type\":\"surface\"}],\"table\":[{\"cells\":{\"fill\":{\"color\":\"#EBF0F8\"},\"line\":{\"color\":\"white\"}},\"header\":{\"fill\":{\"color\":\"#C8D4E3\"},\"line\":{\"color\":\"white\"}},\"type\":\"table\"}]},\"layout\":{\"annotationdefaults\":{\"arrowcolor\":\"#2a3f5f\",\"arrowhead\":0,\"arrowwidth\":1},\"autotypenumbers\":\"strict\",\"coloraxis\":{\"colorbar\":{\"outlinewidth\":0,\"ticks\":\"\"}},\"colorscale\":{\"diverging\":[[0,\"#8e0152\"],[0.1,\"#c51b7d\"],[0.2,\"#de77ae\"],[0.3,\"#f1b6da\"],[0.4,\"#fde0ef\"],[0.5,\"#f7f7f7\"],[0.6,\"#e6f5d0\"],[0.7,\"#b8e186\"],[0.8,\"#7fbc41\"],[0.9,\"#4d9221\"],[1,\"#276419\"]],\"sequential\":[[0.0,\"#0d0887\"],[0.1111111111111111,\"#46039f\"],[0.2222222222222222,\"#7201a8\"],[0.3333333333333333,\"#9c179e\"],[0.4444444444444444,\"#bd3786\"],[0.5555555555555556,\"#d8576b\"],[0.6666666666666666,\"#ed7953\"],[0.7777777777777778,\"#fb9f3a\"],[0.8888888888888888,\"#fdca26\"],[1.0,\"#f0f921\"]],\"sequentialminus\":[[0.0,\"#0d0887\"],[0.1111111111111111,\"#46039f\"],[0.2222222222222222,\"#7201a8\"],[0.3333333333333333,\"#9c179e\"],[0.4444444444444444,\"#bd3786\"],[0.5555555555555556,\"#d8576b\"],[0.6666666666666666,\"#ed7953\"],[0.7777777777777778,\"#fb9f3a\"],[0.8888888888888888,\"#fdca26\"],[1.0,\"#f0f921\"]]},\"colorway\":[\"#636efa\",\"#EF553B\",\"#00cc96\",\"#ab63fa\",\"#FFA15A\",\"#19d3f3\",\"#FF6692\",\"#B6E880\",\"#FF97FF\",\"#FECB52\"],\"font\":{\"color\":\"#2a3f5f\"},\"geo\":{\"bgcolor\":\"white\",\"lakecolor\":\"white\",\"landcolor\":\"#E5ECF6\",\"showlakes\":true,\"showland\":true,\"subunitcolor\":\"white\"},\"hoverlabel\":{\"align\":\"left\"},\"hovermode\":\"closest\",\"mapbox\":{\"style\":\"light\"},\"paper_bgcolor\":\"white\",\"plot_bgcolor\":\"#E5ECF6\",\"polar\":{\"angularaxis\":{\"gridcolor\":\"white\",\"linecolor\":\"white\",\"ticks\":\"\"},\"bgcolor\":\"#E5ECF6\",\"radialaxis\":{\"gridcolor\":\"white\",\"linecolor\":\"white\",\"ticks\":\"\"}},\"scene\":{\"xaxis\":{\"backgroundcolor\":\"#E5ECF6\",\"gridcolor\":\"white\",\"gridwidth\":2,\"linecolor\":\"white\",\"showbackground\":true,\"ticks\":\"\",\"zerolinecolor\":\"white\"},\"yaxis\":{\"backgroundcolor\":\"#E5ECF6\",\"gridcolor\":\"white\",\"gridwidth\":2,\"linecolor\":\"white\",\"showbackground\":true,\"ticks\":\"\",\"zerolinecolor\":\"white\"},\"zaxis\":{\"backgroundcolor\":\"#E5ECF6\",\"gridcolor\":\"white\",\"gridwidth\":2,\"linecolor\":\"white\",\"showbackground\":true,\"ticks\":\"\",\"zerolinecolor\":\"white\"}},\"shapedefaults\":{\"line\":{\"color\":\"#2a3f5f\"}},\"ternary\":{\"aaxis\":{\"gridcolor\":\"white\",\"linecolor\":\"white\",\"ticks\":\"\"},\"baxis\":{\"gridcolor\":\"white\",\"linecolor\":\"white\",\"ticks\":\"\"},\"bgcolor\":\"#E5ECF6\",\"caxis\":{\"gridcolor\":\"white\",\"linecolor\":\"white\",\"ticks\":\"\"}},\"title\":{\"x\":0.05},\"xaxis\":{\"automargin\":true,\"gridcolor\":\"white\",\"linecolor\":\"white\",\"ticks\":\"\",\"title\":{\"standoff\":15},\"zerolinecolor\":\"white\",\"zerolinewidth\":2},\"yaxis\":{\"automargin\":true,\"gridcolor\":\"white\",\"linecolor\":\"white\",\"ticks\":\"\",\"title\":{\"standoff\":15},\"zerolinecolor\":\"white\",\"zerolinewidth\":2}}},\"polar\":{\"domain\":{\"x\":[0.0,1.0],\"y\":[0.0,1.0]},\"angularaxis\":{\"direction\":\"clockwise\",\"rotation\":90,\"tickvals\":[30,60,90,120,150,180,210,240,270,300,330,0],\"ticktext\":[1,2,3,4,5,6,7,8,9,10,11,12]},\"radialaxis\":{\"showticklabels\":false,\"ticks\":\"\",\"linewidth\":0}},\"legend\":{\"title\":{\"text\":\"\\uc624\\uc804\\uc624\\ud6c4\"},\"tracegroupgap\":0},\"title\":{\"text\":\"\\uc2dc\\uac04\\ubcc4 \\ub4f1\\ub85d\\ubbfc\\uc6d0 \\uc218\",\"font\":{\"size\":20},\"x\":0.5}},                        {\"responsive\": true}                    ).then(function(){\n",
              "                            \n",
              "var gd = document.getElementById('ad3dd0d0-f34c-43cc-beb9-200f89d782bb');\n",
              "var x = new MutationObserver(function (mutations, observer) {{\n",
              "        var display = window.getComputedStyle(gd).display;\n",
              "        if (!display || display === 'none') {{\n",
              "            console.log([gd, 'removed!']);\n",
              "            Plotly.purge(gd);\n",
              "            observer.disconnect();\n",
              "        }}\n",
              "}});\n",
              "\n",
              "// Listen for the removal of the full notebook cells\n",
              "var notebookContainer = gd.closest('#notebook-container');\n",
              "if (notebookContainer) {{\n",
              "    x.observe(notebookContainer, {childList: true});\n",
              "}}\n",
              "\n",
              "// Listen for the clearing of the current output cell\n",
              "var outputEl = gd.closest('.output');\n",
              "if (outputEl) {{\n",
              "    x.observe(outputEl, {childList: true});\n",
              "}}\n",
              "\n",
              "                        })                };                            </script>        </div>\n",
              "</body>\n",
              "</html>"
            ]
          },
          "metadata": {}
        }
      ]
    },
    {
      "cell_type": "markdown",
      "metadata": {
        "id": "Llj6ztDXutvf"
      },
      "source": [
        "**오전보다 오후에 접수되는 민원 양이 더 많으며**  \n",
        "**오전은 10시, 11시 오후는 1시 에서 5시 사이에 주로 민원이 접수되는 것을 알 수 있음**"
      ]
    },
    {
      "cell_type": "code",
      "metadata": {
        "colab": {
          "base_uri": "https://localhost:8080/",
          "height": 542
        },
        "id": "z2QLwDfdkd5w",
        "outputId": "50300faa-a963-4e54-d8c6-d35fc202ed41"
      },
      "source": [
        "fig = (px.bar_polar(time, r='counts', theta=time['등록시간_12'].to_numpy() * 30, \n",
        "                    color='오전오후', title='시간별 등록민원 수', hover_data=['percentage'], barmode='overlay')\n",
        "        )#.for_each_trace(lambda t: t.update(name=t.name.split(\"=\")[1])))\n",
        "\n",
        "fig.update_layout(\n",
        "    polar_angularaxis_tickvals = [hr * 30 % 360  for hr in range(1,13)],\n",
        "    polar_angularaxis_ticktext = [hr for hr in range(1, 13)],\n",
        "    polar=dict(radialaxis=dict(showticklabels=False, ticks='', linewidth=0)),\n",
        "    title='시간별 등록민원 수',\n",
        "    title_x=0.5,\n",
        "    title_font_size=20\n",
        ")\n",
        "\n",
        "fig.show()"
      ],
      "execution_count": 71,
      "outputs": [
        {
          "output_type": "display_data",
          "data": {
            "text/html": [
              "<html>\n",
              "<head><meta charset=\"utf-8\" /></head>\n",
              "<body>\n",
              "    <div>            <script src=\"https://cdnjs.cloudflare.com/ajax/libs/mathjax/2.7.5/MathJax.js?config=TeX-AMS-MML_SVG\"></script><script type=\"text/javascript\">if (window.MathJax) {MathJax.Hub.Config({SVG: {font: \"STIX-Web\"}});}</script>                <script type=\"text/javascript\">window.PlotlyConfig = {MathJaxConfig: 'local'};</script>\n",
              "        <script src=\"https://cdn.plot.ly/plotly-2.6.3.min.js\"></script>                <div id=\"08924090-f59b-454c-9efd-cfec464594ae\" class=\"plotly-graph-div\" style=\"height:525px; width:100%;\"></div>            <script type=\"text/javascript\">                                    window.PLOTLYENV=window.PLOTLYENV || {};                                    if (document.getElementById(\"08924090-f59b-454c-9efd-cfec464594ae\")) {                    Plotly.newPlot(                        \"08924090-f59b-454c-9efd-cfec464594ae\",                        [{\"customdata\":[[0.11],[0.05],[0.01],[0.0],[0.0],[0.02],[0.13],[1.58],[5.76],[10.88],[9.88],[2.48]],\"hovertemplate\":\"\\uc624\\uc804\\uc624\\ud6c4=AM<br>counts=%{r}<br>theta=%{theta}<br>percentage=%{customdata[0]}<extra></extra>\",\"legendgroup\":\"AM\",\"marker\":{\"color\":\"#636efa\",\"pattern\":{\"shape\":\"\"}},\"name\":\"AM\",\"r\":[53,22,6,2,2,10,61,746,2725,5150,4676,1172],\"showlegend\":true,\"subplot\":\"polar\",\"theta\":[0.0,30.0,60.0,120.0,150.0,180.0,210.0,240.0,270.0,300.0,330.0,0.0],\"type\":\"barpolar\"},{\"customdata\":[[9.4],[12.6],[13.24],[12.34],[9.89],[3.47],[2.62],[2.89],[1.6],[0.62],[0.42]],\"hovertemplate\":\"\\uc624\\uc804\\uc624\\ud6c4=PM<br>counts=%{r}<br>theta=%{theta}<br>percentage=%{customdata[0]}<extra></extra>\",\"legendgroup\":\"PM\",\"marker\":{\"color\":\"#EF553B\",\"pattern\":{\"shape\":\"\"}},\"name\":\"PM\",\"r\":[4450,5965,6265,5840,4682,1642,1239,1370,757,293,200],\"showlegend\":true,\"subplot\":\"polar\",\"theta\":[30.0,60.0,90.0,120.0,150.0,180.0,210.0,240.0,270.0,300.0,330.0],\"type\":\"barpolar\"}],                        {\"template\":{\"data\":{\"bar\":[{\"error_x\":{\"color\":\"#2a3f5f\"},\"error_y\":{\"color\":\"#2a3f5f\"},\"marker\":{\"line\":{\"color\":\"#E5ECF6\",\"width\":0.5},\"pattern\":{\"fillmode\":\"overlay\",\"size\":10,\"solidity\":0.2}},\"type\":\"bar\"}],\"barpolar\":[{\"marker\":{\"line\":{\"color\":\"#E5ECF6\",\"width\":0.5},\"pattern\":{\"fillmode\":\"overlay\",\"size\":10,\"solidity\":0.2}},\"type\":\"barpolar\"}],\"carpet\":[{\"aaxis\":{\"endlinecolor\":\"#2a3f5f\",\"gridcolor\":\"white\",\"linecolor\":\"white\",\"minorgridcolor\":\"white\",\"startlinecolor\":\"#2a3f5f\"},\"baxis\":{\"endlinecolor\":\"#2a3f5f\",\"gridcolor\":\"white\",\"linecolor\":\"white\",\"minorgridcolor\":\"white\",\"startlinecolor\":\"#2a3f5f\"},\"type\":\"carpet\"}],\"choropleth\":[{\"colorbar\":{\"outlinewidth\":0,\"ticks\":\"\"},\"type\":\"choropleth\"}],\"contour\":[{\"colorbar\":{\"outlinewidth\":0,\"ticks\":\"\"},\"colorscale\":[[0.0,\"#0d0887\"],[0.1111111111111111,\"#46039f\"],[0.2222222222222222,\"#7201a8\"],[0.3333333333333333,\"#9c179e\"],[0.4444444444444444,\"#bd3786\"],[0.5555555555555556,\"#d8576b\"],[0.6666666666666666,\"#ed7953\"],[0.7777777777777778,\"#fb9f3a\"],[0.8888888888888888,\"#fdca26\"],[1.0,\"#f0f921\"]],\"type\":\"contour\"}],\"contourcarpet\":[{\"colorbar\":{\"outlinewidth\":0,\"ticks\":\"\"},\"type\":\"contourcarpet\"}],\"heatmap\":[{\"colorbar\":{\"outlinewidth\":0,\"ticks\":\"\"},\"colorscale\":[[0.0,\"#0d0887\"],[0.1111111111111111,\"#46039f\"],[0.2222222222222222,\"#7201a8\"],[0.3333333333333333,\"#9c179e\"],[0.4444444444444444,\"#bd3786\"],[0.5555555555555556,\"#d8576b\"],[0.6666666666666666,\"#ed7953\"],[0.7777777777777778,\"#fb9f3a\"],[0.8888888888888888,\"#fdca26\"],[1.0,\"#f0f921\"]],\"type\":\"heatmap\"}],\"heatmapgl\":[{\"colorbar\":{\"outlinewidth\":0,\"ticks\":\"\"},\"colorscale\":[[0.0,\"#0d0887\"],[0.1111111111111111,\"#46039f\"],[0.2222222222222222,\"#7201a8\"],[0.3333333333333333,\"#9c179e\"],[0.4444444444444444,\"#bd3786\"],[0.5555555555555556,\"#d8576b\"],[0.6666666666666666,\"#ed7953\"],[0.7777777777777778,\"#fb9f3a\"],[0.8888888888888888,\"#fdca26\"],[1.0,\"#f0f921\"]],\"type\":\"heatmapgl\"}],\"histogram\":[{\"marker\":{\"pattern\":{\"fillmode\":\"overlay\",\"size\":10,\"solidity\":0.2}},\"type\":\"histogram\"}],\"histogram2d\":[{\"colorbar\":{\"outlinewidth\":0,\"ticks\":\"\"},\"colorscale\":[[0.0,\"#0d0887\"],[0.1111111111111111,\"#46039f\"],[0.2222222222222222,\"#7201a8\"],[0.3333333333333333,\"#9c179e\"],[0.4444444444444444,\"#bd3786\"],[0.5555555555555556,\"#d8576b\"],[0.6666666666666666,\"#ed7953\"],[0.7777777777777778,\"#fb9f3a\"],[0.8888888888888888,\"#fdca26\"],[1.0,\"#f0f921\"]],\"type\":\"histogram2d\"}],\"histogram2dcontour\":[{\"colorbar\":{\"outlinewidth\":0,\"ticks\":\"\"},\"colorscale\":[[0.0,\"#0d0887\"],[0.1111111111111111,\"#46039f\"],[0.2222222222222222,\"#7201a8\"],[0.3333333333333333,\"#9c179e\"],[0.4444444444444444,\"#bd3786\"],[0.5555555555555556,\"#d8576b\"],[0.6666666666666666,\"#ed7953\"],[0.7777777777777778,\"#fb9f3a\"],[0.8888888888888888,\"#fdca26\"],[1.0,\"#f0f921\"]],\"type\":\"histogram2dcontour\"}],\"mesh3d\":[{\"colorbar\":{\"outlinewidth\":0,\"ticks\":\"\"},\"type\":\"mesh3d\"}],\"parcoords\":[{\"line\":{\"colorbar\":{\"outlinewidth\":0,\"ticks\":\"\"}},\"type\":\"parcoords\"}],\"pie\":[{\"automargin\":true,\"type\":\"pie\"}],\"scatter\":[{\"marker\":{\"colorbar\":{\"outlinewidth\":0,\"ticks\":\"\"}},\"type\":\"scatter\"}],\"scatter3d\":[{\"line\":{\"colorbar\":{\"outlinewidth\":0,\"ticks\":\"\"}},\"marker\":{\"colorbar\":{\"outlinewidth\":0,\"ticks\":\"\"}},\"type\":\"scatter3d\"}],\"scattercarpet\":[{\"marker\":{\"colorbar\":{\"outlinewidth\":0,\"ticks\":\"\"}},\"type\":\"scattercarpet\"}],\"scattergeo\":[{\"marker\":{\"colorbar\":{\"outlinewidth\":0,\"ticks\":\"\"}},\"type\":\"scattergeo\"}],\"scattergl\":[{\"marker\":{\"colorbar\":{\"outlinewidth\":0,\"ticks\":\"\"}},\"type\":\"scattergl\"}],\"scattermapbox\":[{\"marker\":{\"colorbar\":{\"outlinewidth\":0,\"ticks\":\"\"}},\"type\":\"scattermapbox\"}],\"scatterpolar\":[{\"marker\":{\"colorbar\":{\"outlinewidth\":0,\"ticks\":\"\"}},\"type\":\"scatterpolar\"}],\"scatterpolargl\":[{\"marker\":{\"colorbar\":{\"outlinewidth\":0,\"ticks\":\"\"}},\"type\":\"scatterpolargl\"}],\"scatterternary\":[{\"marker\":{\"colorbar\":{\"outlinewidth\":0,\"ticks\":\"\"}},\"type\":\"scatterternary\"}],\"surface\":[{\"colorbar\":{\"outlinewidth\":0,\"ticks\":\"\"},\"colorscale\":[[0.0,\"#0d0887\"],[0.1111111111111111,\"#46039f\"],[0.2222222222222222,\"#7201a8\"],[0.3333333333333333,\"#9c179e\"],[0.4444444444444444,\"#bd3786\"],[0.5555555555555556,\"#d8576b\"],[0.6666666666666666,\"#ed7953\"],[0.7777777777777778,\"#fb9f3a\"],[0.8888888888888888,\"#fdca26\"],[1.0,\"#f0f921\"]],\"type\":\"surface\"}],\"table\":[{\"cells\":{\"fill\":{\"color\":\"#EBF0F8\"},\"line\":{\"color\":\"white\"}},\"header\":{\"fill\":{\"color\":\"#C8D4E3\"},\"line\":{\"color\":\"white\"}},\"type\":\"table\"}]},\"layout\":{\"annotationdefaults\":{\"arrowcolor\":\"#2a3f5f\",\"arrowhead\":0,\"arrowwidth\":1},\"autotypenumbers\":\"strict\",\"coloraxis\":{\"colorbar\":{\"outlinewidth\":0,\"ticks\":\"\"}},\"colorscale\":{\"diverging\":[[0,\"#8e0152\"],[0.1,\"#c51b7d\"],[0.2,\"#de77ae\"],[0.3,\"#f1b6da\"],[0.4,\"#fde0ef\"],[0.5,\"#f7f7f7\"],[0.6,\"#e6f5d0\"],[0.7,\"#b8e186\"],[0.8,\"#7fbc41\"],[0.9,\"#4d9221\"],[1,\"#276419\"]],\"sequential\":[[0.0,\"#0d0887\"],[0.1111111111111111,\"#46039f\"],[0.2222222222222222,\"#7201a8\"],[0.3333333333333333,\"#9c179e\"],[0.4444444444444444,\"#bd3786\"],[0.5555555555555556,\"#d8576b\"],[0.6666666666666666,\"#ed7953\"],[0.7777777777777778,\"#fb9f3a\"],[0.8888888888888888,\"#fdca26\"],[1.0,\"#f0f921\"]],\"sequentialminus\":[[0.0,\"#0d0887\"],[0.1111111111111111,\"#46039f\"],[0.2222222222222222,\"#7201a8\"],[0.3333333333333333,\"#9c179e\"],[0.4444444444444444,\"#bd3786\"],[0.5555555555555556,\"#d8576b\"],[0.6666666666666666,\"#ed7953\"],[0.7777777777777778,\"#fb9f3a\"],[0.8888888888888888,\"#fdca26\"],[1.0,\"#f0f921\"]]},\"colorway\":[\"#636efa\",\"#EF553B\",\"#00cc96\",\"#ab63fa\",\"#FFA15A\",\"#19d3f3\",\"#FF6692\",\"#B6E880\",\"#FF97FF\",\"#FECB52\"],\"font\":{\"color\":\"#2a3f5f\"},\"geo\":{\"bgcolor\":\"white\",\"lakecolor\":\"white\",\"landcolor\":\"#E5ECF6\",\"showlakes\":true,\"showland\":true,\"subunitcolor\":\"white\"},\"hoverlabel\":{\"align\":\"left\"},\"hovermode\":\"closest\",\"mapbox\":{\"style\":\"light\"},\"paper_bgcolor\":\"white\",\"plot_bgcolor\":\"#E5ECF6\",\"polar\":{\"angularaxis\":{\"gridcolor\":\"white\",\"linecolor\":\"white\",\"ticks\":\"\"},\"bgcolor\":\"#E5ECF6\",\"radialaxis\":{\"gridcolor\":\"white\",\"linecolor\":\"white\",\"ticks\":\"\"}},\"scene\":{\"xaxis\":{\"backgroundcolor\":\"#E5ECF6\",\"gridcolor\":\"white\",\"gridwidth\":2,\"linecolor\":\"white\",\"showbackground\":true,\"ticks\":\"\",\"zerolinecolor\":\"white\"},\"yaxis\":{\"backgroundcolor\":\"#E5ECF6\",\"gridcolor\":\"white\",\"gridwidth\":2,\"linecolor\":\"white\",\"showbackground\":true,\"ticks\":\"\",\"zerolinecolor\":\"white\"},\"zaxis\":{\"backgroundcolor\":\"#E5ECF6\",\"gridcolor\":\"white\",\"gridwidth\":2,\"linecolor\":\"white\",\"showbackground\":true,\"ticks\":\"\",\"zerolinecolor\":\"white\"}},\"shapedefaults\":{\"line\":{\"color\":\"#2a3f5f\"}},\"ternary\":{\"aaxis\":{\"gridcolor\":\"white\",\"linecolor\":\"white\",\"ticks\":\"\"},\"baxis\":{\"gridcolor\":\"white\",\"linecolor\":\"white\",\"ticks\":\"\"},\"bgcolor\":\"#E5ECF6\",\"caxis\":{\"gridcolor\":\"white\",\"linecolor\":\"white\",\"ticks\":\"\"}},\"title\":{\"x\":0.05},\"xaxis\":{\"automargin\":true,\"gridcolor\":\"white\",\"linecolor\":\"white\",\"ticks\":\"\",\"title\":{\"standoff\":15},\"zerolinecolor\":\"white\",\"zerolinewidth\":2},\"yaxis\":{\"automargin\":true,\"gridcolor\":\"white\",\"linecolor\":\"white\",\"ticks\":\"\",\"title\":{\"standoff\":15},\"zerolinecolor\":\"white\",\"zerolinewidth\":2}}},\"polar\":{\"domain\":{\"x\":[0.0,1.0],\"y\":[0.0,1.0]},\"angularaxis\":{\"direction\":\"clockwise\",\"rotation\":90,\"tickvals\":[30,60,90,120,150,180,210,240,270,300,330,0],\"ticktext\":[1,2,3,4,5,6,7,8,9,10,11,12]},\"radialaxis\":{\"showticklabels\":false,\"ticks\":\"\",\"linewidth\":0}},\"legend\":{\"title\":{\"text\":\"\\uc624\\uc804\\uc624\\ud6c4\"},\"tracegroupgap\":0},\"title\":{\"text\":\"\\uc2dc\\uac04\\ubcc4 \\ub4f1\\ub85d\\ubbfc\\uc6d0 \\uc218\",\"font\":{\"size\":20},\"x\":0.5},\"barmode\":\"overlay\"},                        {\"responsive\": true}                    ).then(function(){\n",
              "                            \n",
              "var gd = document.getElementById('08924090-f59b-454c-9efd-cfec464594ae');\n",
              "var x = new MutationObserver(function (mutations, observer) {{\n",
              "        var display = window.getComputedStyle(gd).display;\n",
              "        if (!display || display === 'none') {{\n",
              "            console.log([gd, 'removed!']);\n",
              "            Plotly.purge(gd);\n",
              "            observer.disconnect();\n",
              "        }}\n",
              "}});\n",
              "\n",
              "// Listen for the removal of the full notebook cells\n",
              "var notebookContainer = gd.closest('#notebook-container');\n",
              "if (notebookContainer) {{\n",
              "    x.observe(notebookContainer, {childList: true});\n",
              "}}\n",
              "\n",
              "// Listen for the clearing of the current output cell\n",
              "var outputEl = gd.closest('.output');\n",
              "if (outputEl) {{\n",
              "    x.observe(outputEl, {childList: true});\n",
              "}}\n",
              "\n",
              "                        })                };                            </script>        </div>\n",
              "</body>\n",
              "</html>"
            ]
          },
          "metadata": {}
        }
      ]
    },
    {
      "cell_type": "markdown",
      "metadata": {
        "id": "rEx8FFxellZQ"
      },
      "source": [
        "**민원이 가장 많이 접수되는 시간은 오전 10시, 11시와 오후 2시, 3시, 4시**  "
      ]
    },
    {
      "cell_type": "markdown",
      "metadata": {
        "id": "Zv2Eptg1u8Hy"
      },
      "source": [
        "### 시계열로 본 월별 민원수"
      ]
    },
    {
      "cell_type": "code",
      "metadata": {
        "id": "lHsur6XtqrrT"
      },
      "source": [
        "root['등록일시_월단위'] = root['등록일시'].dt.strftime(\"%Y-%m\")\n",
        "df = root.groupby(['등록일시_월단위', '분야명']).size().reset_index(name='counts')"
      ],
      "execution_count": 72,
      "outputs": []
    },
    {
      "cell_type": "code",
      "metadata": {
        "colab": {
          "base_uri": "https://localhost:8080/",
          "height": 542
        },
        "id": "UyU5YKDYsXOJ",
        "outputId": "e949d711-7e31-44cf-ced2-46d6e39ef9c7"
      },
      "source": [
        "fig = px.line(data_frame=df, x='등록일시_월단위', y='counts',\n",
        "              color='분야명')\n",
        "#fig.for_each_trace(lambda t: t.update(name=t.name.split(\"=\")[1]))\n",
        "fig.update_traces(mode='markers+lines')"
      ],
      "execution_count": 73,
      "outputs": [
        {
          "output_type": "display_data",
          "data": {
            "text/html": [
              "<html>\n",
              "<head><meta charset=\"utf-8\" /></head>\n",
              "<body>\n",
              "    <div>            <script src=\"https://cdnjs.cloudflare.com/ajax/libs/mathjax/2.7.5/MathJax.js?config=TeX-AMS-MML_SVG\"></script><script type=\"text/javascript\">if (window.MathJax) {MathJax.Hub.Config({SVG: {font: \"STIX-Web\"}});}</script>                <script type=\"text/javascript\">window.PlotlyConfig = {MathJaxConfig: 'local'};</script>\n",
              "        <script src=\"https://cdn.plot.ly/plotly-2.6.3.min.js\"></script>                <div id=\"4fc43bd5-ba7c-4c4e-a65e-82cc0d994e51\" class=\"plotly-graph-div\" style=\"height:525px; width:100%;\"></div>            <script type=\"text/javascript\">                                    window.PLOTLYENV=window.PLOTLYENV || {};                                    if (document.getElementById(\"4fc43bd5-ba7c-4c4e-a65e-82cc0d994e51\")) {                    Plotly.newPlot(                        \"4fc43bd5-ba7c-4c4e-a65e-82cc0d994e51\",                        [{\"hovertemplate\":\"\\ubd84\\uc57c\\uba85=\\uad6d\\ubc29/\\ubcf4\\ud6c8/\\uc678\\uad50/\\ud1b5\\uc77c<br>\\ub4f1\\ub85d\\uc77c\\uc2dc_\\uc6d4\\ub2e8\\uc704=%{x}<br>counts=%{y}<extra></extra>\",\"legendgroup\":\"\\uad6d\\ubc29/\\ubcf4\\ud6c8/\\uc678\\uad50/\\ud1b5\\uc77c\",\"line\":{\"color\":\"#636efa\",\"dash\":\"solid\"},\"marker\":{\"symbol\":\"circle\"},\"mode\":\"markers+lines\",\"name\":\"\\uad6d\\ubc29/\\ubcf4\\ud6c8/\\uc678\\uad50/\\ud1b5\\uc77c\",\"orientation\":\"v\",\"showlegend\":true,\"x\":[\"2020-01\",\"2020-03\",\"2020-04\",\"2020-05\",\"2020-06\",\"2020-07\",\"2020-09\",\"2020-10\",\"2020-11\",\"2020-12\",\"2021-01\",\"2021-02\",\"2021-03\",\"2021-04\",\"2021-05\",\"2021-06\",\"2021-07\",\"2021-08\",\"2021-09\",\"2021-10\"],\"xaxis\":\"x\",\"y\":[2,1,1,7,3,1,1,45,38,76,32,105,42,65,788,484,129,61,93,32],\"yaxis\":\"y\",\"type\":\"scatter\"},{\"hovertemplate\":\"\\ubd84\\uc57c\\uba85=\\uc0b0\\uc5c5/\\ubc29\\uc1a1/\\ud1b5\\uc2e0/\\uacfc\\ud559<br>\\ub4f1\\ub85d\\uc77c\\uc2dc_\\uc6d4\\ub2e8\\uc704=%{x}<br>counts=%{y}<extra></extra>\",\"legendgroup\":\"\\uc0b0\\uc5c5/\\ubc29\\uc1a1/\\ud1b5\\uc2e0/\\uacfc\\ud559\",\"line\":{\"color\":\"#EF553B\",\"dash\":\"solid\"},\"marker\":{\"symbol\":\"circle\"},\"mode\":\"markers+lines\",\"name\":\"\\uc0b0\\uc5c5/\\ubc29\\uc1a1/\\ud1b5\\uc2e0/\\uacfc\\ud559\",\"orientation\":\"v\",\"showlegend\":true,\"x\":[\"2020-01\",\"2020-02\",\"2020-03\",\"2020-04\",\"2020-05\",\"2020-06\",\"2020-07\",\"2020-08\",\"2020-10\",\"2020-11\",\"2020-12\",\"2021-01\",\"2021-02\",\"2021-03\",\"2021-04\",\"2021-05\",\"2021-06\",\"2021-07\",\"2021-08\",\"2021-09\",\"2021-10\"],\"xaxis\":\"x\",\"y\":[30,26,143,24,20,22,20,17,3,18,158,169,146,210,31,26,98,151,43,38,15],\"yaxis\":\"y\",\"type\":\"scatter\"},{\"hovertemplate\":\"\\ubd84\\uc57c\\uba85=\\ud589\\uc815/\\uc790\\uce58/\\uc548\\uc804<br>\\ub4f1\\ub85d\\uc77c\\uc2dc_\\uc6d4\\ub2e8\\uc704=%{x}<br>counts=%{y}<extra></extra>\",\"legendgroup\":\"\\ud589\\uc815/\\uc790\\uce58/\\uc548\\uc804\",\"line\":{\"color\":\"#00cc96\",\"dash\":\"solid\"},\"marker\":{\"symbol\":\"circle\"},\"mode\":\"markers+lines\",\"name\":\"\\ud589\\uc815/\\uc790\\uce58/\\uc548\\uc804\",\"orientation\":\"v\",\"showlegend\":true,\"x\":[\"2020-01\",\"2020-02\",\"2020-03\",\"2020-06\",\"2020-07\",\"2020-08\",\"2020-10\",\"2020-11\",\"2020-12\",\"2021-01\",\"2021-02\",\"2021-03\",\"2021-04\",\"2021-05\",\"2021-06\",\"2021-07\",\"2021-08\",\"2021-09\",\"2021-10\"],\"xaxis\":\"x\",\"y\":[10,31,5,3,7,14,41,88,591,1041,487,894,1430,1273,1887,6174,3533,504,114],\"yaxis\":\"y\",\"type\":\"scatter\"},{\"hovertemplate\":\"\\ubd84\\uc57c\\uba85=\\uc7ac\\uc815/\\uae08\\uc735/\\uc18c\\ube44\\uc790<br>\\ub4f1\\ub85d\\uc77c\\uc2dc_\\uc6d4\\ub2e8\\uc704=%{x}<br>counts=%{y}<extra></extra>\",\"legendgroup\":\"\\uc7ac\\uc815/\\uae08\\uc735/\\uc18c\\ube44\\uc790\",\"line\":{\"color\":\"#ab63fa\",\"dash\":\"solid\"},\"marker\":{\"symbol\":\"circle\"},\"mode\":\"markers+lines\",\"name\":\"\\uc7ac\\uc815/\\uae08\\uc735/\\uc18c\\ube44\\uc790\",\"orientation\":\"v\",\"showlegend\":true,\"x\":[\"2020-02\",\"2020-06\",\"2020-10\",\"2020-11\",\"2020-12\",\"2021-01\",\"2021-02\",\"2021-03\",\"2021-04\",\"2021-05\",\"2021-06\",\"2021-07\",\"2021-08\",\"2021-09\",\"2021-10\"],\"xaxis\":\"x\",\"y\":[9,7,173,195,25,130,32,55,322,1375,1595,349,24,127,178],\"yaxis\":\"y\",\"type\":\"scatter\"},{\"hovertemplate\":\"\\ubd84\\uc57c\\uba85=\\uad6d\\ud1a0/\\uad50\\ud1b5/\\ub18d\\ub9bc/\\ud574\\uc591<br>\\ub4f1\\ub85d\\uc77c\\uc2dc_\\uc6d4\\ub2e8\\uc704=%{x}<br>counts=%{y}<extra></extra>\",\"legendgroup\":\"\\uad6d\\ud1a0/\\uad50\\ud1b5/\\ub18d\\ub9bc/\\ud574\\uc591\",\"line\":{\"color\":\"#FFA15A\",\"dash\":\"solid\"},\"marker\":{\"symbol\":\"circle\"},\"mode\":\"markers+lines\",\"name\":\"\\uad6d\\ud1a0/\\uad50\\ud1b5/\\ub18d\\ub9bc/\\ud574\\uc591\",\"orientation\":\"v\",\"showlegend\":true,\"x\":[\"2020-03\",\"2020-06\",\"2020-08\",\"2020-09\",\"2020-10\",\"2020-11\",\"2020-12\",\"2021-01\",\"2021-02\",\"2021-04\",\"2021-05\",\"2021-06\",\"2021-07\",\"2021-08\",\"2021-09\",\"2021-10\"],\"xaxis\":\"x\",\"y\":[1,8,2,11,20,61,162,40,26,3,107,1017,3133,1804,496,102],\"yaxis\":\"y\",\"type\":\"scatter\"},{\"hovertemplate\":\"\\ubd84\\uc57c\\uba85=\\ub178\\ub3d9/\\ud658\\uacbd<br>\\ub4f1\\ub85d\\uc77c\\uc2dc_\\uc6d4\\ub2e8\\uc704=%{x}<br>counts=%{y}<extra></extra>\",\"legendgroup\":\"\\ub178\\ub3d9/\\ud658\\uacbd\",\"line\":{\"color\":\"#19d3f3\",\"dash\":\"solid\"},\"marker\":{\"symbol\":\"circle\"},\"mode\":\"markers+lines\",\"name\":\"\\ub178\\ub3d9/\\ud658\\uacbd\",\"orientation\":\"v\",\"showlegend\":true,\"x\":[\"2020-03\",\"2020-05\",\"2020-10\",\"2020-11\",\"2020-12\",\"2021-03\",\"2021-04\",\"2021-05\",\"2021-07\",\"2021-08\",\"2021-09\",\"2021-10\"],\"xaxis\":\"x\",\"y\":[2,1,28,48,8,366,255,187,48,49,7,18],\"yaxis\":\"y\",\"type\":\"scatter\"},{\"hovertemplate\":\"\\ubd84\\uc57c\\uba85=\\ubc95\\uc81c/\\uc0ac\\ubc95<br>\\ub4f1\\ub85d\\uc77c\\uc2dc_\\uc6d4\\ub2e8\\uc704=%{x}<br>counts=%{y}<extra></extra>\",\"legendgroup\":\"\\ubc95\\uc81c/\\uc0ac\\ubc95\",\"line\":{\"color\":\"#FF6692\",\"dash\":\"solid\"},\"marker\":{\"symbol\":\"circle\"},\"mode\":\"markers+lines\",\"name\":\"\\ubc95\\uc81c/\\uc0ac\\ubc95\",\"orientation\":\"v\",\"showlegend\":true,\"x\":[\"2020-07\",\"2020-10\",\"2020-11\",\"2020-12\",\"2021-01\",\"2021-02\",\"2021-03\",\"2021-04\",\"2021-05\",\"2021-06\",\"2021-07\",\"2021-08\"],\"xaxis\":\"x\",\"y\":[1,16,7,12,9,10,13,5,100,92,495,129],\"yaxis\":\"y\",\"type\":\"scatter\"},{\"hovertemplate\":\"\\ubd84\\uc57c\\uba85=\\uad50\\uc721/\\ubb38\\ud654/\\uccb4\\uc721/\\uad00\\uad11<br>\\ub4f1\\ub85d\\uc77c\\uc2dc_\\uc6d4\\ub2e8\\uc704=%{x}<br>counts=%{y}<extra></extra>\",\"legendgroup\":\"\\uad50\\uc721/\\ubb38\\ud654/\\uccb4\\uc721/\\uad00\\uad11\",\"line\":{\"color\":\"#B6E880\",\"dash\":\"solid\"},\"marker\":{\"symbol\":\"circle\"},\"mode\":\"markers+lines\",\"name\":\"\\uad50\\uc721/\\ubb38\\ud654/\\uccb4\\uc721/\\uad00\\uad11\",\"orientation\":\"v\",\"showlegend\":true,\"x\":[\"2020-10\",\"2020-11\",\"2020-12\",\"2021-01\",\"2021-02\",\"2021-03\",\"2021-04\",\"2021-05\",\"2021-06\",\"2021-07\",\"2021-08\",\"2021-09\"],\"xaxis\":\"x\",\"y\":[84,262,790,309,272,252,1069,1528,4578,1390,236,156],\"yaxis\":\"y\",\"type\":\"scatter\"},{\"hovertemplate\":\"\\ubd84\\uc57c\\uba85=\\uc2dd\\ud488\\uc758\\uc57d\\ud488<br>\\ub4f1\\ub85d\\uc77c\\uc2dc_\\uc6d4\\ub2e8\\uc704=%{x}<br>counts=%{y}<extra></extra>\",\"legendgroup\":\"\\uc2dd\\ud488\\uc758\\uc57d\\ud488\",\"line\":{\"color\":\"#FF97FF\",\"dash\":\"solid\"},\"marker\":{\"symbol\":\"circle\"},\"mode\":\"markers+lines\",\"name\":\"\\uc2dd\\ud488\\uc758\\uc57d\\ud488\",\"orientation\":\"v\",\"showlegend\":true,\"x\":[\"2020-12\",\"2021-03\",\"2021-04\",\"2021-05\",\"2021-06\",\"2021-07\",\"2021-10\"],\"xaxis\":\"x\",\"y\":[706,1,8,12,17,38,1],\"yaxis\":\"y\",\"type\":\"scatter\"},{\"hovertemplate\":\"\\ubd84\\uc57c\\uba85=\\uae30\\ud0c0<br>\\ub4f1\\ub85d\\uc77c\\uc2dc_\\uc6d4\\ub2e8\\uc704=%{x}<br>counts=%{y}<extra></extra>\",\"legendgroup\":\"\\uae30\\ud0c0\",\"line\":{\"color\":\"#FECB52\",\"dash\":\"solid\"},\"marker\":{\"symbol\":\"circle\"},\"mode\":\"markers+lines\",\"name\":\"\\uae30\\ud0c0\",\"orientation\":\"v\",\"showlegend\":true,\"x\":[\"2021-02\",\"2021-03\",\"2021-04\",\"2021-05\",\"2021-06\"],\"xaxis\":\"x\",\"y\":[62,47,19,452,3],\"yaxis\":\"y\",\"type\":\"scatter\"}],                        {\"template\":{\"data\":{\"bar\":[{\"error_x\":{\"color\":\"#2a3f5f\"},\"error_y\":{\"color\":\"#2a3f5f\"},\"marker\":{\"line\":{\"color\":\"#E5ECF6\",\"width\":0.5},\"pattern\":{\"fillmode\":\"overlay\",\"size\":10,\"solidity\":0.2}},\"type\":\"bar\"}],\"barpolar\":[{\"marker\":{\"line\":{\"color\":\"#E5ECF6\",\"width\":0.5},\"pattern\":{\"fillmode\":\"overlay\",\"size\":10,\"solidity\":0.2}},\"type\":\"barpolar\"}],\"carpet\":[{\"aaxis\":{\"endlinecolor\":\"#2a3f5f\",\"gridcolor\":\"white\",\"linecolor\":\"white\",\"minorgridcolor\":\"white\",\"startlinecolor\":\"#2a3f5f\"},\"baxis\":{\"endlinecolor\":\"#2a3f5f\",\"gridcolor\":\"white\",\"linecolor\":\"white\",\"minorgridcolor\":\"white\",\"startlinecolor\":\"#2a3f5f\"},\"type\":\"carpet\"}],\"choropleth\":[{\"colorbar\":{\"outlinewidth\":0,\"ticks\":\"\"},\"type\":\"choropleth\"}],\"contour\":[{\"colorbar\":{\"outlinewidth\":0,\"ticks\":\"\"},\"colorscale\":[[0.0,\"#0d0887\"],[0.1111111111111111,\"#46039f\"],[0.2222222222222222,\"#7201a8\"],[0.3333333333333333,\"#9c179e\"],[0.4444444444444444,\"#bd3786\"],[0.5555555555555556,\"#d8576b\"],[0.6666666666666666,\"#ed7953\"],[0.7777777777777778,\"#fb9f3a\"],[0.8888888888888888,\"#fdca26\"],[1.0,\"#f0f921\"]],\"type\":\"contour\"}],\"contourcarpet\":[{\"colorbar\":{\"outlinewidth\":0,\"ticks\":\"\"},\"type\":\"contourcarpet\"}],\"heatmap\":[{\"colorbar\":{\"outlinewidth\":0,\"ticks\":\"\"},\"colorscale\":[[0.0,\"#0d0887\"],[0.1111111111111111,\"#46039f\"],[0.2222222222222222,\"#7201a8\"],[0.3333333333333333,\"#9c179e\"],[0.4444444444444444,\"#bd3786\"],[0.5555555555555556,\"#d8576b\"],[0.6666666666666666,\"#ed7953\"],[0.7777777777777778,\"#fb9f3a\"],[0.8888888888888888,\"#fdca26\"],[1.0,\"#f0f921\"]],\"type\":\"heatmap\"}],\"heatmapgl\":[{\"colorbar\":{\"outlinewidth\":0,\"ticks\":\"\"},\"colorscale\":[[0.0,\"#0d0887\"],[0.1111111111111111,\"#46039f\"],[0.2222222222222222,\"#7201a8\"],[0.3333333333333333,\"#9c179e\"],[0.4444444444444444,\"#bd3786\"],[0.5555555555555556,\"#d8576b\"],[0.6666666666666666,\"#ed7953\"],[0.7777777777777778,\"#fb9f3a\"],[0.8888888888888888,\"#fdca26\"],[1.0,\"#f0f921\"]],\"type\":\"heatmapgl\"}],\"histogram\":[{\"marker\":{\"pattern\":{\"fillmode\":\"overlay\",\"size\":10,\"solidity\":0.2}},\"type\":\"histogram\"}],\"histogram2d\":[{\"colorbar\":{\"outlinewidth\":0,\"ticks\":\"\"},\"colorscale\":[[0.0,\"#0d0887\"],[0.1111111111111111,\"#46039f\"],[0.2222222222222222,\"#7201a8\"],[0.3333333333333333,\"#9c179e\"],[0.4444444444444444,\"#bd3786\"],[0.5555555555555556,\"#d8576b\"],[0.6666666666666666,\"#ed7953\"],[0.7777777777777778,\"#fb9f3a\"],[0.8888888888888888,\"#fdca26\"],[1.0,\"#f0f921\"]],\"type\":\"histogram2d\"}],\"histogram2dcontour\":[{\"colorbar\":{\"outlinewidth\":0,\"ticks\":\"\"},\"colorscale\":[[0.0,\"#0d0887\"],[0.1111111111111111,\"#46039f\"],[0.2222222222222222,\"#7201a8\"],[0.3333333333333333,\"#9c179e\"],[0.4444444444444444,\"#bd3786\"],[0.5555555555555556,\"#d8576b\"],[0.6666666666666666,\"#ed7953\"],[0.7777777777777778,\"#fb9f3a\"],[0.8888888888888888,\"#fdca26\"],[1.0,\"#f0f921\"]],\"type\":\"histogram2dcontour\"}],\"mesh3d\":[{\"colorbar\":{\"outlinewidth\":0,\"ticks\":\"\"},\"type\":\"mesh3d\"}],\"parcoords\":[{\"line\":{\"colorbar\":{\"outlinewidth\":0,\"ticks\":\"\"}},\"type\":\"parcoords\"}],\"pie\":[{\"automargin\":true,\"type\":\"pie\"}],\"scatter\":[{\"marker\":{\"colorbar\":{\"outlinewidth\":0,\"ticks\":\"\"}},\"type\":\"scatter\"}],\"scatter3d\":[{\"line\":{\"colorbar\":{\"outlinewidth\":0,\"ticks\":\"\"}},\"marker\":{\"colorbar\":{\"outlinewidth\":0,\"ticks\":\"\"}},\"type\":\"scatter3d\"}],\"scattercarpet\":[{\"marker\":{\"colorbar\":{\"outlinewidth\":0,\"ticks\":\"\"}},\"type\":\"scattercarpet\"}],\"scattergeo\":[{\"marker\":{\"colorbar\":{\"outlinewidth\":0,\"ticks\":\"\"}},\"type\":\"scattergeo\"}],\"scattergl\":[{\"marker\":{\"colorbar\":{\"outlinewidth\":0,\"ticks\":\"\"}},\"type\":\"scattergl\"}],\"scattermapbox\":[{\"marker\":{\"colorbar\":{\"outlinewidth\":0,\"ticks\":\"\"}},\"type\":\"scattermapbox\"}],\"scatterpolar\":[{\"marker\":{\"colorbar\":{\"outlinewidth\":0,\"ticks\":\"\"}},\"type\":\"scatterpolar\"}],\"scatterpolargl\":[{\"marker\":{\"colorbar\":{\"outlinewidth\":0,\"ticks\":\"\"}},\"type\":\"scatterpolargl\"}],\"scatterternary\":[{\"marker\":{\"colorbar\":{\"outlinewidth\":0,\"ticks\":\"\"}},\"type\":\"scatterternary\"}],\"surface\":[{\"colorbar\":{\"outlinewidth\":0,\"ticks\":\"\"},\"colorscale\":[[0.0,\"#0d0887\"],[0.1111111111111111,\"#46039f\"],[0.2222222222222222,\"#7201a8\"],[0.3333333333333333,\"#9c179e\"],[0.4444444444444444,\"#bd3786\"],[0.5555555555555556,\"#d8576b\"],[0.6666666666666666,\"#ed7953\"],[0.7777777777777778,\"#fb9f3a\"],[0.8888888888888888,\"#fdca26\"],[1.0,\"#f0f921\"]],\"type\":\"surface\"}],\"table\":[{\"cells\":{\"fill\":{\"color\":\"#EBF0F8\"},\"line\":{\"color\":\"white\"}},\"header\":{\"fill\":{\"color\":\"#C8D4E3\"},\"line\":{\"color\":\"white\"}},\"type\":\"table\"}]},\"layout\":{\"annotationdefaults\":{\"arrowcolor\":\"#2a3f5f\",\"arrowhead\":0,\"arrowwidth\":1},\"autotypenumbers\":\"strict\",\"coloraxis\":{\"colorbar\":{\"outlinewidth\":0,\"ticks\":\"\"}},\"colorscale\":{\"diverging\":[[0,\"#8e0152\"],[0.1,\"#c51b7d\"],[0.2,\"#de77ae\"],[0.3,\"#f1b6da\"],[0.4,\"#fde0ef\"],[0.5,\"#f7f7f7\"],[0.6,\"#e6f5d0\"],[0.7,\"#b8e186\"],[0.8,\"#7fbc41\"],[0.9,\"#4d9221\"],[1,\"#276419\"]],\"sequential\":[[0.0,\"#0d0887\"],[0.1111111111111111,\"#46039f\"],[0.2222222222222222,\"#7201a8\"],[0.3333333333333333,\"#9c179e\"],[0.4444444444444444,\"#bd3786\"],[0.5555555555555556,\"#d8576b\"],[0.6666666666666666,\"#ed7953\"],[0.7777777777777778,\"#fb9f3a\"],[0.8888888888888888,\"#fdca26\"],[1.0,\"#f0f921\"]],\"sequentialminus\":[[0.0,\"#0d0887\"],[0.1111111111111111,\"#46039f\"],[0.2222222222222222,\"#7201a8\"],[0.3333333333333333,\"#9c179e\"],[0.4444444444444444,\"#bd3786\"],[0.5555555555555556,\"#d8576b\"],[0.6666666666666666,\"#ed7953\"],[0.7777777777777778,\"#fb9f3a\"],[0.8888888888888888,\"#fdca26\"],[1.0,\"#f0f921\"]]},\"colorway\":[\"#636efa\",\"#EF553B\",\"#00cc96\",\"#ab63fa\",\"#FFA15A\",\"#19d3f3\",\"#FF6692\",\"#B6E880\",\"#FF97FF\",\"#FECB52\"],\"font\":{\"color\":\"#2a3f5f\"},\"geo\":{\"bgcolor\":\"white\",\"lakecolor\":\"white\",\"landcolor\":\"#E5ECF6\",\"showlakes\":true,\"showland\":true,\"subunitcolor\":\"white\"},\"hoverlabel\":{\"align\":\"left\"},\"hovermode\":\"closest\",\"mapbox\":{\"style\":\"light\"},\"paper_bgcolor\":\"white\",\"plot_bgcolor\":\"#E5ECF6\",\"polar\":{\"angularaxis\":{\"gridcolor\":\"white\",\"linecolor\":\"white\",\"ticks\":\"\"},\"bgcolor\":\"#E5ECF6\",\"radialaxis\":{\"gridcolor\":\"white\",\"linecolor\":\"white\",\"ticks\":\"\"}},\"scene\":{\"xaxis\":{\"backgroundcolor\":\"#E5ECF6\",\"gridcolor\":\"white\",\"gridwidth\":2,\"linecolor\":\"white\",\"showbackground\":true,\"ticks\":\"\",\"zerolinecolor\":\"white\"},\"yaxis\":{\"backgroundcolor\":\"#E5ECF6\",\"gridcolor\":\"white\",\"gridwidth\":2,\"linecolor\":\"white\",\"showbackground\":true,\"ticks\":\"\",\"zerolinecolor\":\"white\"},\"zaxis\":{\"backgroundcolor\":\"#E5ECF6\",\"gridcolor\":\"white\",\"gridwidth\":2,\"linecolor\":\"white\",\"showbackground\":true,\"ticks\":\"\",\"zerolinecolor\":\"white\"}},\"shapedefaults\":{\"line\":{\"color\":\"#2a3f5f\"}},\"ternary\":{\"aaxis\":{\"gridcolor\":\"white\",\"linecolor\":\"white\",\"ticks\":\"\"},\"baxis\":{\"gridcolor\":\"white\",\"linecolor\":\"white\",\"ticks\":\"\"},\"bgcolor\":\"#E5ECF6\",\"caxis\":{\"gridcolor\":\"white\",\"linecolor\":\"white\",\"ticks\":\"\"}},\"title\":{\"x\":0.05},\"xaxis\":{\"automargin\":true,\"gridcolor\":\"white\",\"linecolor\":\"white\",\"ticks\":\"\",\"title\":{\"standoff\":15},\"zerolinecolor\":\"white\",\"zerolinewidth\":2},\"yaxis\":{\"automargin\":true,\"gridcolor\":\"white\",\"linecolor\":\"white\",\"ticks\":\"\",\"title\":{\"standoff\":15},\"zerolinecolor\":\"white\",\"zerolinewidth\":2}}},\"xaxis\":{\"anchor\":\"y\",\"domain\":[0.0,1.0],\"title\":{\"text\":\"\\ub4f1\\ub85d\\uc77c\\uc2dc_\\uc6d4\\ub2e8\\uc704\"}},\"yaxis\":{\"anchor\":\"x\",\"domain\":[0.0,1.0],\"title\":{\"text\":\"counts\"}},\"legend\":{\"title\":{\"text\":\"\\ubd84\\uc57c\\uba85\"},\"tracegroupgap\":0},\"margin\":{\"t\":60}},                        {\"responsive\": true}                    ).then(function(){\n",
              "                            \n",
              "var gd = document.getElementById('4fc43bd5-ba7c-4c4e-a65e-82cc0d994e51');\n",
              "var x = new MutationObserver(function (mutations, observer) {{\n",
              "        var display = window.getComputedStyle(gd).display;\n",
              "        if (!display || display === 'none') {{\n",
              "            console.log([gd, 'removed!']);\n",
              "            Plotly.purge(gd);\n",
              "            observer.disconnect();\n",
              "        }}\n",
              "}});\n",
              "\n",
              "// Listen for the removal of the full notebook cells\n",
              "var notebookContainer = gd.closest('#notebook-container');\n",
              "if (notebookContainer) {{\n",
              "    x.observe(notebookContainer, {childList: true});\n",
              "}}\n",
              "\n",
              "// Listen for the clearing of the current output cell\n",
              "var outputEl = gd.closest('.output');\n",
              "if (outputEl) {{\n",
              "    x.observe(outputEl, {childList: true});\n",
              "}}\n",
              "\n",
              "                        })                };                            </script>        </div>\n",
              "</body>\n",
              "</html>"
            ]
          },
          "metadata": {}
        }
      ]
    },
    {
      "cell_type": "markdown",
      "metadata": {
        "id": "k8vscZeUsdCT"
      },
      "source": [
        "**2021년 6월, 7월에 여러 분야에서 큰 폭으로 증가하는 것을 볼 수 있음**    "
      ]
    },
    {
      "cell_type": "code",
      "metadata": {
        "colab": {
          "base_uri": "https://localhost:8080/",
          "height": 542
        },
        "id": "nc9iOdvZtxQF",
        "outputId": "fc5b36a3-7854-4c3a-9968-638a61b5835c"
      },
      "source": [
        "week = root.groupby(['등록요일']).size().reset_index(name='counts')\n",
        "\n",
        "day_order = ['Monday','Tuesday','Wednesday','Thursday','Friday','Saturday','Sunday']\n",
        "\n",
        "bar3 = plot_type(week)\n",
        "bar3.bar(x='등록요일', y='counts', \n",
        "         color='등록요일', category_orders={'등록요일':day_order})\n",
        "bar3.fig.for_each_annotation(lambda a: a.update(text=a.text.split(\"=\")[1]))\n",
        "#bar3.fig.for_each_trace(lambda t: t.update(name=t.name.split(\"=\")[1]))\n",
        "bar3.plot()"
      ],
      "execution_count": 74,
      "outputs": [
        {
          "output_type": "display_data",
          "data": {
            "text/html": [
              "<html>\n",
              "<head><meta charset=\"utf-8\" /></head>\n",
              "<body>\n",
              "    <div>            <script src=\"https://cdnjs.cloudflare.com/ajax/libs/mathjax/2.7.5/MathJax.js?config=TeX-AMS-MML_SVG\"></script><script type=\"text/javascript\">if (window.MathJax) {MathJax.Hub.Config({SVG: {font: \"STIX-Web\"}});}</script>                <script type=\"text/javascript\">window.PlotlyConfig = {MathJaxConfig: 'local'};</script>\n",
              "        <script src=\"https://cdn.plot.ly/plotly-2.6.3.min.js\"></script>                <div id=\"e2d0d3c1-09f1-41ed-bde7-0a9354c5c8f8\" class=\"plotly-graph-div\" style=\"height:525px; width:100%;\"></div>            <script type=\"text/javascript\">                                    window.PLOTLYENV=window.PLOTLYENV || {};                                    if (document.getElementById(\"e2d0d3c1-09f1-41ed-bde7-0a9354c5c8f8\")) {                    Plotly.newPlot(                        \"e2d0d3c1-09f1-41ed-bde7-0a9354c5c8f8\",                        [{\"alignmentgroup\":\"True\",\"customdata\":[[16.85]],\"hovertemplate\":\"\\ub4f1\\ub85d\\uc694\\uc77c=%{x}<br>counts=%{y}<br>percentage=%{customdata[0]}<extra></extra>\",\"legendgroup\":\"Monday\",\"marker\":{\"color\":\"#636efa\",\"pattern\":{\"shape\":\"\"}},\"name\":\"Monday\",\"offsetgroup\":\"Monday\",\"orientation\":\"v\",\"showlegend\":true,\"textposition\":\"auto\",\"x\":[\"Monday\"],\"xaxis\":\"x\",\"y\":[7976],\"yaxis\":\"y\",\"type\":\"bar\"},{\"alignmentgroup\":\"True\",\"customdata\":[[19.31]],\"hovertemplate\":\"\\ub4f1\\ub85d\\uc694\\uc77c=%{x}<br>counts=%{y}<br>percentage=%{customdata[0]}<extra></extra>\",\"legendgroup\":\"Tuesday\",\"marker\":{\"color\":\"#EF553B\",\"pattern\":{\"shape\":\"\"}},\"name\":\"Tuesday\",\"offsetgroup\":\"Tuesday\",\"orientation\":\"v\",\"showlegend\":true,\"textposition\":\"auto\",\"x\":[\"Tuesday\"],\"xaxis\":\"x\",\"y\":[9140],\"yaxis\":\"y\",\"type\":\"bar\"},{\"alignmentgroup\":\"True\",\"customdata\":[[17.98]],\"hovertemplate\":\"\\ub4f1\\ub85d\\uc694\\uc77c=%{x}<br>counts=%{y}<br>percentage=%{customdata[0]}<extra></extra>\",\"legendgroup\":\"Wednesday\",\"marker\":{\"color\":\"#00cc96\",\"pattern\":{\"shape\":\"\"}},\"name\":\"Wednesday\",\"offsetgroup\":\"Wednesday\",\"orientation\":\"v\",\"showlegend\":true,\"textposition\":\"auto\",\"x\":[\"Wednesday\"],\"xaxis\":\"x\",\"y\":[8508],\"yaxis\":\"y\",\"type\":\"bar\"},{\"alignmentgroup\":\"True\",\"customdata\":[[20.25]],\"hovertemplate\":\"\\ub4f1\\ub85d\\uc694\\uc77c=%{x}<br>counts=%{y}<br>percentage=%{customdata[0]}<extra></extra>\",\"legendgroup\":\"Thursday\",\"marker\":{\"color\":\"#ab63fa\",\"pattern\":{\"shape\":\"\"}},\"name\":\"Thursday\",\"offsetgroup\":\"Thursday\",\"orientation\":\"v\",\"showlegend\":true,\"textposition\":\"auto\",\"x\":[\"Thursday\"],\"xaxis\":\"x\",\"y\":[9582],\"yaxis\":\"y\",\"type\":\"bar\"},{\"alignmentgroup\":\"True\",\"customdata\":[[19.12]],\"hovertemplate\":\"\\ub4f1\\ub85d\\uc694\\uc77c=%{x}<br>counts=%{y}<br>percentage=%{customdata[0]}<extra></extra>\",\"legendgroup\":\"Friday\",\"marker\":{\"color\":\"#FFA15A\",\"pattern\":{\"shape\":\"\"}},\"name\":\"Friday\",\"offsetgroup\":\"Friday\",\"orientation\":\"v\",\"showlegend\":true,\"textposition\":\"auto\",\"x\":[\"Friday\"],\"xaxis\":\"x\",\"y\":[9047],\"yaxis\":\"y\",\"type\":\"bar\"},{\"alignmentgroup\":\"True\",\"customdata\":[[3.82]],\"hovertemplate\":\"\\ub4f1\\ub85d\\uc694\\uc77c=%{x}<br>counts=%{y}<br>percentage=%{customdata[0]}<extra></extra>\",\"legendgroup\":\"Saturday\",\"marker\":{\"color\":\"#19d3f3\",\"pattern\":{\"shape\":\"\"}},\"name\":\"Saturday\",\"offsetgroup\":\"Saturday\",\"orientation\":\"v\",\"showlegend\":true,\"textposition\":\"auto\",\"x\":[\"Saturday\"],\"xaxis\":\"x\",\"y\":[1806],\"yaxis\":\"y\",\"type\":\"bar\"},{\"alignmentgroup\":\"True\",\"customdata\":[[2.68]],\"hovertemplate\":\"\\ub4f1\\ub85d\\uc694\\uc77c=%{x}<br>counts=%{y}<br>percentage=%{customdata[0]}<extra></extra>\",\"legendgroup\":\"Sunday\",\"marker\":{\"color\":\"#FF6692\",\"pattern\":{\"shape\":\"\"}},\"name\":\"Sunday\",\"offsetgroup\":\"Sunday\",\"orientation\":\"v\",\"showlegend\":true,\"textposition\":\"auto\",\"x\":[\"Sunday\"],\"xaxis\":\"x\",\"y\":[1269],\"yaxis\":\"y\",\"type\":\"bar\"}],                        {\"template\":{\"data\":{\"bar\":[{\"error_x\":{\"color\":\"#2a3f5f\"},\"error_y\":{\"color\":\"#2a3f5f\"},\"marker\":{\"line\":{\"color\":\"#E5ECF6\",\"width\":0.5},\"pattern\":{\"fillmode\":\"overlay\",\"size\":10,\"solidity\":0.2}},\"type\":\"bar\"}],\"barpolar\":[{\"marker\":{\"line\":{\"color\":\"#E5ECF6\",\"width\":0.5},\"pattern\":{\"fillmode\":\"overlay\",\"size\":10,\"solidity\":0.2}},\"type\":\"barpolar\"}],\"carpet\":[{\"aaxis\":{\"endlinecolor\":\"#2a3f5f\",\"gridcolor\":\"white\",\"linecolor\":\"white\",\"minorgridcolor\":\"white\",\"startlinecolor\":\"#2a3f5f\"},\"baxis\":{\"endlinecolor\":\"#2a3f5f\",\"gridcolor\":\"white\",\"linecolor\":\"white\",\"minorgridcolor\":\"white\",\"startlinecolor\":\"#2a3f5f\"},\"type\":\"carpet\"}],\"choropleth\":[{\"colorbar\":{\"outlinewidth\":0,\"ticks\":\"\"},\"type\":\"choropleth\"}],\"contour\":[{\"colorbar\":{\"outlinewidth\":0,\"ticks\":\"\"},\"colorscale\":[[0.0,\"#0d0887\"],[0.1111111111111111,\"#46039f\"],[0.2222222222222222,\"#7201a8\"],[0.3333333333333333,\"#9c179e\"],[0.4444444444444444,\"#bd3786\"],[0.5555555555555556,\"#d8576b\"],[0.6666666666666666,\"#ed7953\"],[0.7777777777777778,\"#fb9f3a\"],[0.8888888888888888,\"#fdca26\"],[1.0,\"#f0f921\"]],\"type\":\"contour\"}],\"contourcarpet\":[{\"colorbar\":{\"outlinewidth\":0,\"ticks\":\"\"},\"type\":\"contourcarpet\"}],\"heatmap\":[{\"colorbar\":{\"outlinewidth\":0,\"ticks\":\"\"},\"colorscale\":[[0.0,\"#0d0887\"],[0.1111111111111111,\"#46039f\"],[0.2222222222222222,\"#7201a8\"],[0.3333333333333333,\"#9c179e\"],[0.4444444444444444,\"#bd3786\"],[0.5555555555555556,\"#d8576b\"],[0.6666666666666666,\"#ed7953\"],[0.7777777777777778,\"#fb9f3a\"],[0.8888888888888888,\"#fdca26\"],[1.0,\"#f0f921\"]],\"type\":\"heatmap\"}],\"heatmapgl\":[{\"colorbar\":{\"outlinewidth\":0,\"ticks\":\"\"},\"colorscale\":[[0.0,\"#0d0887\"],[0.1111111111111111,\"#46039f\"],[0.2222222222222222,\"#7201a8\"],[0.3333333333333333,\"#9c179e\"],[0.4444444444444444,\"#bd3786\"],[0.5555555555555556,\"#d8576b\"],[0.6666666666666666,\"#ed7953\"],[0.7777777777777778,\"#fb9f3a\"],[0.8888888888888888,\"#fdca26\"],[1.0,\"#f0f921\"]],\"type\":\"heatmapgl\"}],\"histogram\":[{\"marker\":{\"pattern\":{\"fillmode\":\"overlay\",\"size\":10,\"solidity\":0.2}},\"type\":\"histogram\"}],\"histogram2d\":[{\"colorbar\":{\"outlinewidth\":0,\"ticks\":\"\"},\"colorscale\":[[0.0,\"#0d0887\"],[0.1111111111111111,\"#46039f\"],[0.2222222222222222,\"#7201a8\"],[0.3333333333333333,\"#9c179e\"],[0.4444444444444444,\"#bd3786\"],[0.5555555555555556,\"#d8576b\"],[0.6666666666666666,\"#ed7953\"],[0.7777777777777778,\"#fb9f3a\"],[0.8888888888888888,\"#fdca26\"],[1.0,\"#f0f921\"]],\"type\":\"histogram2d\"}],\"histogram2dcontour\":[{\"colorbar\":{\"outlinewidth\":0,\"ticks\":\"\"},\"colorscale\":[[0.0,\"#0d0887\"],[0.1111111111111111,\"#46039f\"],[0.2222222222222222,\"#7201a8\"],[0.3333333333333333,\"#9c179e\"],[0.4444444444444444,\"#bd3786\"],[0.5555555555555556,\"#d8576b\"],[0.6666666666666666,\"#ed7953\"],[0.7777777777777778,\"#fb9f3a\"],[0.8888888888888888,\"#fdca26\"],[1.0,\"#f0f921\"]],\"type\":\"histogram2dcontour\"}],\"mesh3d\":[{\"colorbar\":{\"outlinewidth\":0,\"ticks\":\"\"},\"type\":\"mesh3d\"}],\"parcoords\":[{\"line\":{\"colorbar\":{\"outlinewidth\":0,\"ticks\":\"\"}},\"type\":\"parcoords\"}],\"pie\":[{\"automargin\":true,\"type\":\"pie\"}],\"scatter\":[{\"marker\":{\"colorbar\":{\"outlinewidth\":0,\"ticks\":\"\"}},\"type\":\"scatter\"}],\"scatter3d\":[{\"line\":{\"colorbar\":{\"outlinewidth\":0,\"ticks\":\"\"}},\"marker\":{\"colorbar\":{\"outlinewidth\":0,\"ticks\":\"\"}},\"type\":\"scatter3d\"}],\"scattercarpet\":[{\"marker\":{\"colorbar\":{\"outlinewidth\":0,\"ticks\":\"\"}},\"type\":\"scattercarpet\"}],\"scattergeo\":[{\"marker\":{\"colorbar\":{\"outlinewidth\":0,\"ticks\":\"\"}},\"type\":\"scattergeo\"}],\"scattergl\":[{\"marker\":{\"colorbar\":{\"outlinewidth\":0,\"ticks\":\"\"}},\"type\":\"scattergl\"}],\"scattermapbox\":[{\"marker\":{\"colorbar\":{\"outlinewidth\":0,\"ticks\":\"\"}},\"type\":\"scattermapbox\"}],\"scatterpolar\":[{\"marker\":{\"colorbar\":{\"outlinewidth\":0,\"ticks\":\"\"}},\"type\":\"scatterpolar\"}],\"scatterpolargl\":[{\"marker\":{\"colorbar\":{\"outlinewidth\":0,\"ticks\":\"\"}},\"type\":\"scatterpolargl\"}],\"scatterternary\":[{\"marker\":{\"colorbar\":{\"outlinewidth\":0,\"ticks\":\"\"}},\"type\":\"scatterternary\"}],\"surface\":[{\"colorbar\":{\"outlinewidth\":0,\"ticks\":\"\"},\"colorscale\":[[0.0,\"#0d0887\"],[0.1111111111111111,\"#46039f\"],[0.2222222222222222,\"#7201a8\"],[0.3333333333333333,\"#9c179e\"],[0.4444444444444444,\"#bd3786\"],[0.5555555555555556,\"#d8576b\"],[0.6666666666666666,\"#ed7953\"],[0.7777777777777778,\"#fb9f3a\"],[0.8888888888888888,\"#fdca26\"],[1.0,\"#f0f921\"]],\"type\":\"surface\"}],\"table\":[{\"cells\":{\"fill\":{\"color\":\"#EBF0F8\"},\"line\":{\"color\":\"white\"}},\"header\":{\"fill\":{\"color\":\"#C8D4E3\"},\"line\":{\"color\":\"white\"}},\"type\":\"table\"}]},\"layout\":{\"annotationdefaults\":{\"arrowcolor\":\"#2a3f5f\",\"arrowhead\":0,\"arrowwidth\":1},\"autotypenumbers\":\"strict\",\"coloraxis\":{\"colorbar\":{\"outlinewidth\":0,\"ticks\":\"\"}},\"colorscale\":{\"diverging\":[[0,\"#8e0152\"],[0.1,\"#c51b7d\"],[0.2,\"#de77ae\"],[0.3,\"#f1b6da\"],[0.4,\"#fde0ef\"],[0.5,\"#f7f7f7\"],[0.6,\"#e6f5d0\"],[0.7,\"#b8e186\"],[0.8,\"#7fbc41\"],[0.9,\"#4d9221\"],[1,\"#276419\"]],\"sequential\":[[0.0,\"#0d0887\"],[0.1111111111111111,\"#46039f\"],[0.2222222222222222,\"#7201a8\"],[0.3333333333333333,\"#9c179e\"],[0.4444444444444444,\"#bd3786\"],[0.5555555555555556,\"#d8576b\"],[0.6666666666666666,\"#ed7953\"],[0.7777777777777778,\"#fb9f3a\"],[0.8888888888888888,\"#fdca26\"],[1.0,\"#f0f921\"]],\"sequentialminus\":[[0.0,\"#0d0887\"],[0.1111111111111111,\"#46039f\"],[0.2222222222222222,\"#7201a8\"],[0.3333333333333333,\"#9c179e\"],[0.4444444444444444,\"#bd3786\"],[0.5555555555555556,\"#d8576b\"],[0.6666666666666666,\"#ed7953\"],[0.7777777777777778,\"#fb9f3a\"],[0.8888888888888888,\"#fdca26\"],[1.0,\"#f0f921\"]]},\"colorway\":[\"#636efa\",\"#EF553B\",\"#00cc96\",\"#ab63fa\",\"#FFA15A\",\"#19d3f3\",\"#FF6692\",\"#B6E880\",\"#FF97FF\",\"#FECB52\"],\"font\":{\"color\":\"#2a3f5f\"},\"geo\":{\"bgcolor\":\"white\",\"lakecolor\":\"white\",\"landcolor\":\"#E5ECF6\",\"showlakes\":true,\"showland\":true,\"subunitcolor\":\"white\"},\"hoverlabel\":{\"align\":\"left\"},\"hovermode\":\"closest\",\"mapbox\":{\"style\":\"light\"},\"paper_bgcolor\":\"white\",\"plot_bgcolor\":\"#E5ECF6\",\"polar\":{\"angularaxis\":{\"gridcolor\":\"white\",\"linecolor\":\"white\",\"ticks\":\"\"},\"bgcolor\":\"#E5ECF6\",\"radialaxis\":{\"gridcolor\":\"white\",\"linecolor\":\"white\",\"ticks\":\"\"}},\"scene\":{\"xaxis\":{\"backgroundcolor\":\"#E5ECF6\",\"gridcolor\":\"white\",\"gridwidth\":2,\"linecolor\":\"white\",\"showbackground\":true,\"ticks\":\"\",\"zerolinecolor\":\"white\"},\"yaxis\":{\"backgroundcolor\":\"#E5ECF6\",\"gridcolor\":\"white\",\"gridwidth\":2,\"linecolor\":\"white\",\"showbackground\":true,\"ticks\":\"\",\"zerolinecolor\":\"white\"},\"zaxis\":{\"backgroundcolor\":\"#E5ECF6\",\"gridcolor\":\"white\",\"gridwidth\":2,\"linecolor\":\"white\",\"showbackground\":true,\"ticks\":\"\",\"zerolinecolor\":\"white\"}},\"shapedefaults\":{\"line\":{\"color\":\"#2a3f5f\"}},\"ternary\":{\"aaxis\":{\"gridcolor\":\"white\",\"linecolor\":\"white\",\"ticks\":\"\"},\"baxis\":{\"gridcolor\":\"white\",\"linecolor\":\"white\",\"ticks\":\"\"},\"bgcolor\":\"#E5ECF6\",\"caxis\":{\"gridcolor\":\"white\",\"linecolor\":\"white\",\"ticks\":\"\"}},\"title\":{\"x\":0.05},\"xaxis\":{\"automargin\":true,\"gridcolor\":\"white\",\"linecolor\":\"white\",\"ticks\":\"\",\"title\":{\"standoff\":15},\"zerolinecolor\":\"white\",\"zerolinewidth\":2},\"yaxis\":{\"automargin\":true,\"gridcolor\":\"white\",\"linecolor\":\"white\",\"ticks\":\"\",\"title\":{\"standoff\":15},\"zerolinecolor\":\"white\",\"zerolinewidth\":2}}},\"xaxis\":{\"anchor\":\"y\",\"domain\":[0.0,1.0],\"title\":{\"text\":\"\\ub4f1\\ub85d\\uc694\\uc77c\"},\"categoryorder\":\"array\",\"categoryarray\":[\"Monday\",\"Tuesday\",\"Wednesday\",\"Thursday\",\"Friday\",\"Saturday\",\"Sunday\"]},\"yaxis\":{\"anchor\":\"x\",\"domain\":[0.0,1.0],\"title\":{\"text\":\"counts\"}},\"legend\":{\"title\":{\"text\":\"\\ub4f1\\ub85d\\uc694\\uc77c\"},\"tracegroupgap\":0},\"margin\":{\"t\":60},\"barmode\":\"relative\"},                        {\"responsive\": true}                    ).then(function(){\n",
              "                            \n",
              "var gd = document.getElementById('e2d0d3c1-09f1-41ed-bde7-0a9354c5c8f8');\n",
              "var x = new MutationObserver(function (mutations, observer) {{\n",
              "        var display = window.getComputedStyle(gd).display;\n",
              "        if (!display || display === 'none') {{\n",
              "            console.log([gd, 'removed!']);\n",
              "            Plotly.purge(gd);\n",
              "            observer.disconnect();\n",
              "        }}\n",
              "}});\n",
              "\n",
              "// Listen for the removal of the full notebook cells\n",
              "var notebookContainer = gd.closest('#notebook-container');\n",
              "if (notebookContainer) {{\n",
              "    x.observe(notebookContainer, {childList: true});\n",
              "}}\n",
              "\n",
              "// Listen for the clearing of the current output cell\n",
              "var outputEl = gd.closest('.output');\n",
              "if (outputEl) {{\n",
              "    x.observe(outputEl, {childList: true});\n",
              "}}\n",
              "\n",
              "                        })                };                            </script>        </div>\n",
              "</body>\n",
              "</html>"
            ]
          },
          "metadata": {}
        }
      ]
    },
    {
      "cell_type": "markdown",
      "metadata": {
        "id": "qiDzubI1u0jB"
      },
      "source": [
        "**한편 민원 접수는 주말에 큰 폭으로 감소하며, 주중에 주로 접수하는것으로 보임**  \n",
        "**주말에 민원접수가 낮은 이유는 밖에 잘 나가지 않아서일까?**  "
      ]
    },
    {
      "cell_type": "code",
      "metadata": {
        "id": "ymzbFaLbzvqk"
      },
      "source": [
        "root.loc[:,['제목','질문내용','답변내용']] = root.loc[:,['제목','질문내용','답변내용']].apply(lambda x:x.str.replace(r'[(\\n)(\\t)(&quaot;)]', '', regex=True))\n",
        "root[['제목', '질문내용', '답변내용']] = root[['제목', '질문내용', '답변내용']].apply(lambda x: x.str.replace(r'[^a-z|가-힣|0-9| ]', '', regex=True))"
      ],
      "execution_count": 75,
      "outputs": []
    },
    {
      "cell_type": "code",
      "metadata": {
        "id": "FWkd2gvjEKHy",
        "colab": {
          "base_uri": "https://localhost:8080/",
          "height": 186
        },
        "outputId": "0901c27c-64f2-43c4-db65-bd47a8f35052"
      },
      "source": [
        "with open(dir + '/Data/minwon_ver3.pkl' , 'wb') as f:\n",
        "    pkl.dump(root, f)"
      ],
      "execution_count": 39,
      "outputs": [
        {
          "output_type": "error",
          "ename": "NameError",
          "evalue": "ignored",
          "traceback": [
            "\u001b[0;31m---------------------------------------------------------------------------\u001b[0m",
            "\u001b[0;31mNameError\u001b[0m                                 Traceback (most recent call last)",
            "\u001b[0;32m<ipython-input-39-70a364319a8b>\u001b[0m in \u001b[0;36m<module>\u001b[0;34m()\u001b[0m\n\u001b[1;32m      1\u001b[0m \u001b[0;32mwith\u001b[0m \u001b[0mopen\u001b[0m\u001b[0;34m(\u001b[0m\u001b[0mdir\u001b[0m \u001b[0;34m+\u001b[0m \u001b[0;34m'/Data/minwon_ver3.pkl'\u001b[0m \u001b[0;34m,\u001b[0m \u001b[0;34m'wb'\u001b[0m\u001b[0;34m)\u001b[0m \u001b[0;32mas\u001b[0m \u001b[0mf\u001b[0m\u001b[0;34m:\u001b[0m\u001b[0;34m\u001b[0m\u001b[0;34m\u001b[0m\u001b[0m\n\u001b[0;32m----> 2\u001b[0;31m     \u001b[0mpkl\u001b[0m\u001b[0;34m.\u001b[0m\u001b[0mdump\u001b[0m\u001b[0;34m(\u001b[0m\u001b[0mroot\u001b[0m\u001b[0;34m,\u001b[0m \u001b[0mf\u001b[0m\u001b[0;34m)\u001b[0m\u001b[0;34m\u001b[0m\u001b[0;34m\u001b[0m\u001b[0m\n\u001b[0m",
            "\u001b[0;31mNameError\u001b[0m: name 'pkl' is not defined"
          ]
        }
      ]
    },
    {
      "cell_type": "code",
      "metadata": {
        "id": "nh5JiWVn0KD8"
      },
      "source": [
        "class Dictionary:\n",
        "    def __init__(self, base, params=None):\n",
        "        self.base = base\n",
        "        self.model =  LRNounExtractor_v2(verbose=False)\n",
        "        self.output = None\n",
        "        self.noun = None\n",
        "        if params != None:\n",
        "            self.params = params\n",
        "        else:\n",
        "            self.params = {\n",
        "                'min_noun_score' : 0.7, # 최소 스코어\n",
        "                'min_noun_frequency' : 5 # 최수 빈도수\n",
        "            }\n",
        "\n",
        "    def construct(self):\n",
        "        self.output = self.model.train_extract(self.base,\n",
        "                                               **self.params)\n",
        "\n",
        "    def build(self):\n",
        "        Dictionary.construct(self)\n",
        "        # 1글자인 단어 제거\n",
        "        self.noun = [(k, v.score) for k, v in self.output.items() if (len(k) > 1)]\n",
        "        return self.noun"
      ],
      "execution_count": null,
      "outputs": []
    },
    {
      "cell_type": "code",
      "metadata": {
        "id": "ykmt7dEJ021V"
      },
      "source": [
        "title   = root['제목']\n",
        "content = root['질문내용']\n",
        "dic = Dictionary(content).build() #문서 기반 사전 생성"
      ],
      "execution_count": null,
      "outputs": []
    },
    {
      "cell_type": "code",
      "metadata": {
        "id": "w5lgnbc-1GY9"
      },
      "source": [
        "# 사용자 사전 추가\n",
        "# dic.extend([('생활불편신고', 1.0), ('장애인주차구역', 1.0), ('장애인전용구역', 1.0), ('장애인구역', 1.0), ('공동주택', 1.0),\n",
        "#             ('불법주차', 1.0), ('청탁금지법', 1.0), ('장애인전용주차구역', 1.0), ('중앙분리대', 1.0), ('아이스팩', 1.0),\n",
        "#             ('해양수산직', 1.0)])"
      ],
      "execution_count": null,
      "outputs": []
    },
    {
      "cell_type": "code",
      "metadata": {
        "id": "qntQOUuf1PHG"
      },
      "source": [
        "class Tokenizer:\n",
        "    def __init__(self, data):\n",
        "        self.data = data\n",
        "        self.kiwi = Kiwi()\n",
        "        self.output = []\n",
        "\n",
        "    def add_dictionary(self, dic):\n",
        "        for i in dic:\n",
        "            self.kiwi.add_user_word(i[0], 'NNP', i[1] + 1)\n",
        "    \n",
        "    def fit(self, passtag=None):\n",
        "        if passtag == 'Noun':\n",
        "            for result in self.kiwi.analyze(self.data):\n",
        "                tokens, score = result[0]\n",
        "                tmp = [word.form for word in tokens if ('NN' in word.tag) and (len(word.tag) > 1)]\n",
        "                self.output.append(tmp)\n",
        "        # else:\n",
        "        #     for result in self.kiwi.analyze(self.data):\n",
        "        #         tokens, score = result[0]\n",
        "        #         tmp = [word.form + '다' if word.tag in ['VV', 'VA'] else word.form for word in tokens if (word.tag in ['NNP', 'NNG', 'MAG', 'VA', 'VV', 'MM']) and (len(word.tag) > 1)]\n",
        "        #         self.output.append(tmp)\n",
        "\n",
        "        return self.output"
      ],
      "execution_count": null,
      "outputs": []
    },
    {
      "cell_type": "code",
      "metadata": {
        "id": "E7LnU8Xm3QUD"
      },
      "source": [
        "tokenizer = Tokenizer(content)\n",
        "tokenizer.add_dictionary(dic)\n",
        "tokens = tokenizer.fit(passtag='Noun')\n",
        "#tokens_all = tokenizer.fit()"
      ],
      "execution_count": null,
      "outputs": []
    },
    {
      "cell_type": "code",
      "metadata": {
        "id": "uvC8_4Ho7N0s"
      },
      "source": [
        "stopwords = ['안녕하세요', '우선', '아니고', '어떻게', '요청', '요망', '가요', '있나요', '어떠'\n",
        "             '문의', '여부', '가능', '관련', '질의', '방법', '건의', '요청', '필요', '질문',\n",
        "             '예정', '하여', '어느', '부탁', '궁금', '있는지', '무엇', '대하여', '알고', '궁금',\n",
        "             '바랍니다', '확인', '어디', '어디서', '충청북도', '충주시', '대구', '중구', '이해',\n",
        "             '요건']"
      ],
      "execution_count": null,
      "outputs": []
    },
    {
      "cell_type": "code",
      "metadata": {
        "id": "S17XFxmlASF3"
      },
      "source": [
        "tokens = pd.Series(tokens).map(lambda x:[w for w in x if (not w in stopwords) and (len(w) > 1)]).to_list()"
      ],
      "execution_count": null,
      "outputs": []
    },
    {
      "cell_type": "code",
      "metadata": {
        "id": "Ae1cE3vhAy9N"
      },
      "source": [
        "root['tokens'] = tokens"
      ],
      "execution_count": null,
      "outputs": []
    },
    {
      "cell_type": "code",
      "metadata": {
        "id": "Q0_CkTb_4uKv"
      },
      "source": [
        "from sklearn.feature_extraction.text import TfidfVectorizer"
      ],
      "execution_count": null,
      "outputs": []
    },
    {
      "cell_type": "code",
      "metadata": {
        "id": "7RnbnmZ25QuG"
      },
      "source": [
        "vectorizer = TfidfVectorizer(analyzer='word',\n",
        "                             lowercase=False,\n",
        "                             tokenizer=None,\n",
        "                             preprocessor=None,\n",
        "                             min_df=5,\n",
        "                             max_df=0.8,\n",
        "                             ngram_range=(2,4),\n",
        "                             stop_words=stopwords\n",
        "                             )"
      ],
      "execution_count": null,
      "outputs": []
    },
    {
      "cell_type": "code",
      "metadata": {
        "id": "kXcsw7TWBFyW"
      },
      "source": [
        "dep = {\n",
        "    '교육/문화/체육/관광' : root.loc[root['분야명'] == '교육/문화/체육/관광', 'tokens'],\n",
        "    '국토/교통/농림/해양' : root.loc[root['분야명'] == '국토/교통/농림/해양', 'tokens'],\n",
        "    '재정/금융/소비자' : root.loc[root['분야명'] == '재정/금융/소비자', 'tokens']\n",
        "}"
      ],
      "execution_count": null,
      "outputs": []
    },
    {
      "cell_type": "code",
      "metadata": {
        "id": "WMHE-tHRBx7J"
      },
      "source": [
        "for key in dep.keys():\n",
        "    vector = vectorizer.fit_transform(pd.Series(dep[key]).astype(str))\n",
        "    scores = vector.toarray().sum(axis=0)\n",
        "    idx = np.argsort(-scores)\n",
        "    scores = scores[idx]\n",
        "    vocab = np.array(vectorizer.get_feature_names())[idx]\n",
        "    dep[key] = pd.DataFrame(list(zip(vocab, scores))[:30],\n",
        "                            columns=['단어', '빈도수기반점수'])"
      ],
      "execution_count": null,
      "outputs": []
    },
    {
      "cell_type": "code",
      "metadata": {
        "id": "sqVuQUs4IBkF"
      },
      "source": [
        "dep[key] = pd.DataFrame(list(zip(vocab, scores))[:20],\n",
        "                            columns=['단어', '빈도수기반점수'])"
      ],
      "execution_count": null,
      "outputs": []
    },
    {
      "cell_type": "code",
      "metadata": {
        "id": "w9gVdRvgCe__"
      },
      "source": [
        "dep['국토/교통/농림/해양']['분야명'] = '국토/교통/농림/해양'\n",
        "dep['교육/문화/체육/관광']['분야명'] = '교육/문화/체육/관광'\n",
        "dep['재정/금융/소비자']['분야명'] = '재정/금융/소비자'"
      ],
      "execution_count": null,
      "outputs": []
    },
    {
      "cell_type": "code",
      "metadata": {
        "id": "EvCUdUC2DRGr"
      },
      "source": [
        "df = pd.concat(dep.values(), ignore_index=True)"
      ],
      "execution_count": null,
      "outputs": []
    },
    {
      "cell_type": "code",
      "metadata": {
        "colab": {
          "base_uri": "https://localhost:8080/",
          "height": 542
        },
        "id": "rQDEqIuVFvZw",
        "outputId": "7b941f1b-6878-42fe-8c3b-5c4f10dd77e6"
      },
      "source": [
        "fig = px.bar(dep['재정/금융/소비자'], x='빈도수기반점수', y='단어', facet_col='분야명', color='분야명')\n",
        "fig.update_layout(yaxis_categoryorder='total descending')\n",
        "fig.show()"
      ],
      "execution_count": null,
      "outputs": [
        {
          "output_type": "display_data",
          "data": {
            "text/html": [
              "<html>\n",
              "<head><meta charset=\"utf-8\" /></head>\n",
              "<body>\n",
              "    <div>            <script src=\"https://cdnjs.cloudflare.com/ajax/libs/mathjax/2.7.5/MathJax.js?config=TeX-AMS-MML_SVG\"></script><script type=\"text/javascript\">if (window.MathJax) {MathJax.Hub.Config({SVG: {font: \"STIX-Web\"}});}</script>                <script type=\"text/javascript\">window.PlotlyConfig = {MathJaxConfig: 'local'};</script>\n",
              "        <script src=\"https://cdn.plot.ly/plotly-2.4.2.min.js\"></script>                <div id=\"775d431a-a9c6-4cf1-a24a-4e2bd5eeec02\" class=\"plotly-graph-div\" style=\"height:525px; width:100%;\"></div>            <script type=\"text/javascript\">                                    window.PLOTLYENV=window.PLOTLYENV || {};                                    if (document.getElementById(\"775d431a-a9c6-4cf1-a24a-4e2bd5eeec02\")) {                    Plotly.newPlot(                        \"775d431a-a9c6-4cf1-a24a-4e2bd5eeec02\",                        [{\"alignmentgroup\":\"True\",\"hovertemplate\":\"\\ubd84\\uc57c\\uba85=\\uc7ac\\uc815/\\uae08\\uc735/\\uc18c\\ube44\\uc790<br>\\ube48\\ub3c4\\uc218\\uae30\\ubc18\\uc810\\uc218=%{x}<br>\\ub2e8\\uc5b4=%{y}<extra></extra>\",\"legendgroup\":\"\\uc7ac\\uc815/\\uae08\\uc735/\\uc18c\\ube44\\uc790\",\"marker\":{\"color\":\"#636efa\",\"pattern\":{\"shape\":\"\"}},\"name\":\"\\uc7ac\\uc815/\\uae08\\uc735/\\uc18c\\ube44\\uc790\",\"offsetgroup\":\"\\uc7ac\\uc815/\\uae08\\uc735/\\uc18c\\ube44\\uc790\",\"orientation\":\"h\",\"showlegend\":true,\"textposition\":\"auto\",\"type\":\"bar\",\"x\":[85.36476121134608,72.50092873477094,46.22333452835057,37.28322253496768,35.40375797882974,33.52692495077548,31.733138940417664,28.953443787872555,26.57888443916538,23.832862673199816,22.967471744040168,19.170716168269124,18.64072309101158,18.535352070015957,18.223771243111035,17.87870300727001,17.671703223162854,16.118067022591912,15.68774131271318,15.629748746430579],\"xaxis\":\"x\",\"y\":[\"\\uc5f0\\ub9d0 \\uc815\\uc0b0\",\"\\ud604\\uae08 \\uc601\\uc218\\uc99d\",\"\\uc885\\ud569\\uc18c\\ub4dd\\uc138 \\uc2e0\\uace0\",\"\\uadfc\\ub85c\\uc7a5\\ub824\\uae08 \\uc2e0\\uccad\",\"\\uc591\\ub3c4 \\uc18c\\ub4dd\\uc138\",\"\\uadfc\\ub85c\\uc7a5\\ub824\\uae08 \\uc790\\ub140\\uc7a5\\ub824\\uae08\",\"\\uc0ac\\uc5c5\\uc790\\ub4f1\\ub85d \\uc2e0\\uccad\",\"\\uc18c\\ub4dd\\uc138 \\uc2e0\\uace0\",\"\\uc601\\uc218\\uc99d \\ubc1c\\uae09\",\"\\uc0ac\\uc5c5\\uc790 \\ub4f1\\ub85d\",\"\\ud604\\uae08 \\uc601\\uc218\\uc99d \\ubc1c\\uae09\",\"\\uc2e0\\uc6a9 \\uce74\\ub4dc\",\"\\uc138\\uae08\\uacc4\\uc0b0\\uc11c \\ubc1c\\uae09\",\"\\ubd80\\uac00\\uac00\\uce58\\uc138 \\uc2e0\\uace0\",\"\\uc7a5\\ub824\\uae08 \\uc2e0\\uccad\",\"\\uc18c\\ub4dd\\uc138 \\uac10\\uba74\",\"\\ud655\\uc815 \\uc77c\\uc790\",\"\\uc138\\ubb34\\uc11c \\ubc29\\ubb38\",\"\\uce74\\ub4dc \\uacb0\\uc81c\",\"\\uc2e0\\uace0 \\ub0a9\\ubd80\"],\"yaxis\":\"y\"}],                        {\"annotations\":[{\"font\":{},\"showarrow\":false,\"text\":\"\\ubd84\\uc57c\\uba85=\\uc7ac\\uc815/\\uae08\\uc735/\\uc18c\\ube44\\uc790\",\"x\":0.5,\"xanchor\":\"center\",\"xref\":\"paper\",\"y\":1.0,\"yanchor\":\"bottom\",\"yref\":\"paper\"}],\"barmode\":\"relative\",\"legend\":{\"title\":{\"text\":\"\\ubd84\\uc57c\\uba85\"},\"tracegroupgap\":0},\"margin\":{\"t\":60},\"template\":{\"data\":{\"bar\":[{\"error_x\":{\"color\":\"#2a3f5f\"},\"error_y\":{\"color\":\"#2a3f5f\"},\"marker\":{\"line\":{\"color\":\"#E5ECF6\",\"width\":0.5},\"pattern\":{\"fillmode\":\"overlay\",\"size\":10,\"solidity\":0.2}},\"type\":\"bar\"}],\"barpolar\":[{\"marker\":{\"line\":{\"color\":\"#E5ECF6\",\"width\":0.5},\"pattern\":{\"fillmode\":\"overlay\",\"size\":10,\"solidity\":0.2}},\"type\":\"barpolar\"}],\"carpet\":[{\"aaxis\":{\"endlinecolor\":\"#2a3f5f\",\"gridcolor\":\"white\",\"linecolor\":\"white\",\"minorgridcolor\":\"white\",\"startlinecolor\":\"#2a3f5f\"},\"baxis\":{\"endlinecolor\":\"#2a3f5f\",\"gridcolor\":\"white\",\"linecolor\":\"white\",\"minorgridcolor\":\"white\",\"startlinecolor\":\"#2a3f5f\"},\"type\":\"carpet\"}],\"choropleth\":[{\"colorbar\":{\"outlinewidth\":0,\"ticks\":\"\"},\"type\":\"choropleth\"}],\"contour\":[{\"colorbar\":{\"outlinewidth\":0,\"ticks\":\"\"},\"colorscale\":[[0.0,\"#0d0887\"],[0.1111111111111111,\"#46039f\"],[0.2222222222222222,\"#7201a8\"],[0.3333333333333333,\"#9c179e\"],[0.4444444444444444,\"#bd3786\"],[0.5555555555555556,\"#d8576b\"],[0.6666666666666666,\"#ed7953\"],[0.7777777777777778,\"#fb9f3a\"],[0.8888888888888888,\"#fdca26\"],[1.0,\"#f0f921\"]],\"type\":\"contour\"}],\"contourcarpet\":[{\"colorbar\":{\"outlinewidth\":0,\"ticks\":\"\"},\"type\":\"contourcarpet\"}],\"heatmap\":[{\"colorbar\":{\"outlinewidth\":0,\"ticks\":\"\"},\"colorscale\":[[0.0,\"#0d0887\"],[0.1111111111111111,\"#46039f\"],[0.2222222222222222,\"#7201a8\"],[0.3333333333333333,\"#9c179e\"],[0.4444444444444444,\"#bd3786\"],[0.5555555555555556,\"#d8576b\"],[0.6666666666666666,\"#ed7953\"],[0.7777777777777778,\"#fb9f3a\"],[0.8888888888888888,\"#fdca26\"],[1.0,\"#f0f921\"]],\"type\":\"heatmap\"}],\"heatmapgl\":[{\"colorbar\":{\"outlinewidth\":0,\"ticks\":\"\"},\"colorscale\":[[0.0,\"#0d0887\"],[0.1111111111111111,\"#46039f\"],[0.2222222222222222,\"#7201a8\"],[0.3333333333333333,\"#9c179e\"],[0.4444444444444444,\"#bd3786\"],[0.5555555555555556,\"#d8576b\"],[0.6666666666666666,\"#ed7953\"],[0.7777777777777778,\"#fb9f3a\"],[0.8888888888888888,\"#fdca26\"],[1.0,\"#f0f921\"]],\"type\":\"heatmapgl\"}],\"histogram\":[{\"marker\":{\"pattern\":{\"fillmode\":\"overlay\",\"size\":10,\"solidity\":0.2}},\"type\":\"histogram\"}],\"histogram2d\":[{\"colorbar\":{\"outlinewidth\":0,\"ticks\":\"\"},\"colorscale\":[[0.0,\"#0d0887\"],[0.1111111111111111,\"#46039f\"],[0.2222222222222222,\"#7201a8\"],[0.3333333333333333,\"#9c179e\"],[0.4444444444444444,\"#bd3786\"],[0.5555555555555556,\"#d8576b\"],[0.6666666666666666,\"#ed7953\"],[0.7777777777777778,\"#fb9f3a\"],[0.8888888888888888,\"#fdca26\"],[1.0,\"#f0f921\"]],\"type\":\"histogram2d\"}],\"histogram2dcontour\":[{\"colorbar\":{\"outlinewidth\":0,\"ticks\":\"\"},\"colorscale\":[[0.0,\"#0d0887\"],[0.1111111111111111,\"#46039f\"],[0.2222222222222222,\"#7201a8\"],[0.3333333333333333,\"#9c179e\"],[0.4444444444444444,\"#bd3786\"],[0.5555555555555556,\"#d8576b\"],[0.6666666666666666,\"#ed7953\"],[0.7777777777777778,\"#fb9f3a\"],[0.8888888888888888,\"#fdca26\"],[1.0,\"#f0f921\"]],\"type\":\"histogram2dcontour\"}],\"mesh3d\":[{\"colorbar\":{\"outlinewidth\":0,\"ticks\":\"\"},\"type\":\"mesh3d\"}],\"parcoords\":[{\"line\":{\"colorbar\":{\"outlinewidth\":0,\"ticks\":\"\"}},\"type\":\"parcoords\"}],\"pie\":[{\"automargin\":true,\"type\":\"pie\"}],\"scatter\":[{\"marker\":{\"colorbar\":{\"outlinewidth\":0,\"ticks\":\"\"}},\"type\":\"scatter\"}],\"scatter3d\":[{\"line\":{\"colorbar\":{\"outlinewidth\":0,\"ticks\":\"\"}},\"marker\":{\"colorbar\":{\"outlinewidth\":0,\"ticks\":\"\"}},\"type\":\"scatter3d\"}],\"scattercarpet\":[{\"marker\":{\"colorbar\":{\"outlinewidth\":0,\"ticks\":\"\"}},\"type\":\"scattercarpet\"}],\"scattergeo\":[{\"marker\":{\"colorbar\":{\"outlinewidth\":0,\"ticks\":\"\"}},\"type\":\"scattergeo\"}],\"scattergl\":[{\"marker\":{\"colorbar\":{\"outlinewidth\":0,\"ticks\":\"\"}},\"type\":\"scattergl\"}],\"scattermapbox\":[{\"marker\":{\"colorbar\":{\"outlinewidth\":0,\"ticks\":\"\"}},\"type\":\"scattermapbox\"}],\"scatterpolar\":[{\"marker\":{\"colorbar\":{\"outlinewidth\":0,\"ticks\":\"\"}},\"type\":\"scatterpolar\"}],\"scatterpolargl\":[{\"marker\":{\"colorbar\":{\"outlinewidth\":0,\"ticks\":\"\"}},\"type\":\"scatterpolargl\"}],\"scatterternary\":[{\"marker\":{\"colorbar\":{\"outlinewidth\":0,\"ticks\":\"\"}},\"type\":\"scatterternary\"}],\"surface\":[{\"colorbar\":{\"outlinewidth\":0,\"ticks\":\"\"},\"colorscale\":[[0.0,\"#0d0887\"],[0.1111111111111111,\"#46039f\"],[0.2222222222222222,\"#7201a8\"],[0.3333333333333333,\"#9c179e\"],[0.4444444444444444,\"#bd3786\"],[0.5555555555555556,\"#d8576b\"],[0.6666666666666666,\"#ed7953\"],[0.7777777777777778,\"#fb9f3a\"],[0.8888888888888888,\"#fdca26\"],[1.0,\"#f0f921\"]],\"type\":\"surface\"}],\"table\":[{\"cells\":{\"fill\":{\"color\":\"#EBF0F8\"},\"line\":{\"color\":\"white\"}},\"header\":{\"fill\":{\"color\":\"#C8D4E3\"},\"line\":{\"color\":\"white\"}},\"type\":\"table\"}]},\"layout\":{\"annotationdefaults\":{\"arrowcolor\":\"#2a3f5f\",\"arrowhead\":0,\"arrowwidth\":1},\"autotypenumbers\":\"strict\",\"coloraxis\":{\"colorbar\":{\"outlinewidth\":0,\"ticks\":\"\"}},\"colorscale\":{\"diverging\":[[0,\"#8e0152\"],[0.1,\"#c51b7d\"],[0.2,\"#de77ae\"],[0.3,\"#f1b6da\"],[0.4,\"#fde0ef\"],[0.5,\"#f7f7f7\"],[0.6,\"#e6f5d0\"],[0.7,\"#b8e186\"],[0.8,\"#7fbc41\"],[0.9,\"#4d9221\"],[1,\"#276419\"]],\"sequential\":[[0.0,\"#0d0887\"],[0.1111111111111111,\"#46039f\"],[0.2222222222222222,\"#7201a8\"],[0.3333333333333333,\"#9c179e\"],[0.4444444444444444,\"#bd3786\"],[0.5555555555555556,\"#d8576b\"],[0.6666666666666666,\"#ed7953\"],[0.7777777777777778,\"#fb9f3a\"],[0.8888888888888888,\"#fdca26\"],[1.0,\"#f0f921\"]],\"sequentialminus\":[[0.0,\"#0d0887\"],[0.1111111111111111,\"#46039f\"],[0.2222222222222222,\"#7201a8\"],[0.3333333333333333,\"#9c179e\"],[0.4444444444444444,\"#bd3786\"],[0.5555555555555556,\"#d8576b\"],[0.6666666666666666,\"#ed7953\"],[0.7777777777777778,\"#fb9f3a\"],[0.8888888888888888,\"#fdca26\"],[1.0,\"#f0f921\"]]},\"colorway\":[\"#636efa\",\"#EF553B\",\"#00cc96\",\"#ab63fa\",\"#FFA15A\",\"#19d3f3\",\"#FF6692\",\"#B6E880\",\"#FF97FF\",\"#FECB52\"],\"font\":{\"color\":\"#2a3f5f\"},\"geo\":{\"bgcolor\":\"white\",\"lakecolor\":\"white\",\"landcolor\":\"#E5ECF6\",\"showlakes\":true,\"showland\":true,\"subunitcolor\":\"white\"},\"hoverlabel\":{\"align\":\"left\"},\"hovermode\":\"closest\",\"mapbox\":{\"style\":\"light\"},\"paper_bgcolor\":\"white\",\"plot_bgcolor\":\"#E5ECF6\",\"polar\":{\"angularaxis\":{\"gridcolor\":\"white\",\"linecolor\":\"white\",\"ticks\":\"\"},\"bgcolor\":\"#E5ECF6\",\"radialaxis\":{\"gridcolor\":\"white\",\"linecolor\":\"white\",\"ticks\":\"\"}},\"scene\":{\"xaxis\":{\"backgroundcolor\":\"#E5ECF6\",\"gridcolor\":\"white\",\"gridwidth\":2,\"linecolor\":\"white\",\"showbackground\":true,\"ticks\":\"\",\"zerolinecolor\":\"white\"},\"yaxis\":{\"backgroundcolor\":\"#E5ECF6\",\"gridcolor\":\"white\",\"gridwidth\":2,\"linecolor\":\"white\",\"showbackground\":true,\"ticks\":\"\",\"zerolinecolor\":\"white\"},\"zaxis\":{\"backgroundcolor\":\"#E5ECF6\",\"gridcolor\":\"white\",\"gridwidth\":2,\"linecolor\":\"white\",\"showbackground\":true,\"ticks\":\"\",\"zerolinecolor\":\"white\"}},\"shapedefaults\":{\"line\":{\"color\":\"#2a3f5f\"}},\"ternary\":{\"aaxis\":{\"gridcolor\":\"white\",\"linecolor\":\"white\",\"ticks\":\"\"},\"baxis\":{\"gridcolor\":\"white\",\"linecolor\":\"white\",\"ticks\":\"\"},\"bgcolor\":\"#E5ECF6\",\"caxis\":{\"gridcolor\":\"white\",\"linecolor\":\"white\",\"ticks\":\"\"}},\"title\":{\"x\":0.05},\"xaxis\":{\"automargin\":true,\"gridcolor\":\"white\",\"linecolor\":\"white\",\"ticks\":\"\",\"title\":{\"standoff\":15},\"zerolinecolor\":\"white\",\"zerolinewidth\":2},\"yaxis\":{\"automargin\":true,\"gridcolor\":\"white\",\"linecolor\":\"white\",\"ticks\":\"\",\"title\":{\"standoff\":15},\"zerolinecolor\":\"white\",\"zerolinewidth\":2}}},\"xaxis\":{\"anchor\":\"y\",\"domain\":[0.0,1.0],\"title\":{\"text\":\"\\ube48\\ub3c4\\uc218\\uae30\\ubc18\\uc810\\uc218\"}},\"yaxis\":{\"anchor\":\"x\",\"categoryorder\":\"total descending\",\"domain\":[0.0,1.0],\"title\":{\"text\":\"\\ub2e8\\uc5b4\"}}},                        {\"responsive\": true}                    ).then(function(){\n",
              "                            \n",
              "var gd = document.getElementById('775d431a-a9c6-4cf1-a24a-4e2bd5eeec02');\n",
              "var x = new MutationObserver(function (mutations, observer) {{\n",
              "        var display = window.getComputedStyle(gd).display;\n",
              "        if (!display || display === 'none') {{\n",
              "            console.log([gd, 'removed!']);\n",
              "            Plotly.purge(gd);\n",
              "            observer.disconnect();\n",
              "        }}\n",
              "}});\n",
              "\n",
              "// Listen for the removal of the full notebook cells\n",
              "var notebookContainer = gd.closest('#notebook-container');\n",
              "if (notebookContainer) {{\n",
              "    x.observe(notebookContainer, {childList: true});\n",
              "}}\n",
              "\n",
              "// Listen for the clearing of the current output cell\n",
              "var outputEl = gd.closest('.output');\n",
              "if (outputEl) {{\n",
              "    x.observe(outputEl, {childList: true});\n",
              "}}\n",
              "\n",
              "                        })                };                            </script>        </div>\n",
              "</body>\n",
              "</html>"
            ]
          },
          "metadata": {}
        }
      ]
    },
    {
      "cell_type": "code",
      "metadata": {
        "colab": {
          "base_uri": "https://localhost:8080/",
          "height": 542
        },
        "id": "rZ-V249tCVar",
        "outputId": "b9309aa4-52e4-4c0c-84ae-195f355f4196"
      },
      "source": [
        "fig = px.treemap(df, path=['분야명', '단어'], values='빈도수기반점수',\n",
        "                 color='분야명', title='분야별 민원 Treemap')\n",
        "fig.show()"
      ],
      "execution_count": null,
      "outputs": [
        {
          "output_type": "display_data",
          "data": {
            "text/html": [
              "<html>\n",
              "<head><meta charset=\"utf-8\" /></head>\n",
              "<body>\n",
              "    <div>            <script src=\"https://cdnjs.cloudflare.com/ajax/libs/mathjax/2.7.5/MathJax.js?config=TeX-AMS-MML_SVG\"></script><script type=\"text/javascript\">if (window.MathJax) {MathJax.Hub.Config({SVG: {font: \"STIX-Web\"}});}</script>                <script type=\"text/javascript\">window.PlotlyConfig = {MathJaxConfig: 'local'};</script>\n",
              "        <script src=\"https://cdn.plot.ly/plotly-2.4.2.min.js\"></script>                <div id=\"32fb90cc-0858-4574-9a16-6accb74f972b\" class=\"plotly-graph-div\" style=\"height:525px; width:100%;\"></div>            <script type=\"text/javascript\">                                    window.PLOTLYENV=window.PLOTLYENV || {};                                    if (document.getElementById(\"32fb90cc-0858-4574-9a16-6accb74f972b\")) {                    Plotly.newPlot(                        \"32fb90cc-0858-4574-9a16-6accb74f972b\",                        [{\"branchvalues\":\"total\",\"customdata\":[[\"\\uad50\\uc721/\\ubb38\\ud654/\\uccb4\\uc721/\\uad00\\uad11\"],[\"\\uad6d\\ud1a0/\\uad50\\ud1b5/\\ub18d\\ub9bc/\\ud574\\uc591\"],[\"\\uad6d\\ud1a0/\\uad50\\ud1b5/\\ub18d\\ub9bc/\\ud574\\uc591\"],[\"\\uad6d\\ud1a0/\\uad50\\ud1b5/\\ub18d\\ub9bc/\\ud574\\uc591\"],[\"\\uad6d\\ud1a0/\\uad50\\ud1b5/\\ub18d\\ub9bc/\\ud574\\uc591\"],[\"\\uad50\\uc721/\\ubb38\\ud654/\\uccb4\\uc721/\\uad00\\uad11\"],[\"\\uad50\\uc721/\\ubb38\\ud654/\\uccb4\\uc721/\\uad00\\uad11\"],[\"\\uad50\\uc721/\\ubb38\\ud654/\\uccb4\\uc721/\\uad00\\uad11\"],[\"\\uc7ac\\uc815/\\uae08\\uc735/\\uc18c\\ube44\\uc790\"],[\"\\uad6d\\ud1a0/\\uad50\\ud1b5/\\ub18d\\ub9bc/\\ud574\\uc591\"],[\"\\uad6d\\ud1a0/\\uad50\\ud1b5/\\ub18d\\ub9bc/\\ud574\\uc591\"],[\"\\uad50\\uc721/\\ubb38\\ud654/\\uccb4\\uc721/\\uad00\\uad11\"],[\"\\uc7ac\\uc815/\\uae08\\uc735/\\uc18c\\ube44\\uc790\"],[\"\\uad50\\uc721/\\ubb38\\ud654/\\uccb4\\uc721/\\uad00\\uad11\"],[\"\\uad50\\uc721/\\ubb38\\ud654/\\uccb4\\uc721/\\uad00\\uad11\"],[\"\\uc7ac\\uc815/\\uae08\\uc735/\\uc18c\\ube44\\uc790\"],[\"\\uad50\\uc721/\\ubb38\\ud654/\\uccb4\\uc721/\\uad00\\uad11\"],[\"\\uad6d\\ud1a0/\\uad50\\ud1b5/\\ub18d\\ub9bc/\\ud574\\uc591\"],[\"\\uad6d\\ud1a0/\\uad50\\ud1b5/\\ub18d\\ub9bc/\\ud574\\uc591\"],[\"\\uad6d\\ud1a0/\\uad50\\ud1b5/\\ub18d\\ub9bc/\\ud574\\uc591\"],[\"\\uad6d\\ud1a0/\\uad50\\ud1b5/\\ub18d\\ub9bc/\\ud574\\uc591\"],[\"\\uad6d\\ud1a0/\\uad50\\ud1b5/\\ub18d\\ub9bc/\\ud574\\uc591\"],[\"\\uad50\\uc721/\\ubb38\\ud654/\\uccb4\\uc721/\\uad00\\uad11\"],[\"\\uad50\\uc721/\\ubb38\\ud654/\\uccb4\\uc721/\\uad00\\uad11\"],[\"\\uad50\\uc721/\\ubb38\\ud654/\\uccb4\\uc721/\\uad00\\uad11\"],[\"\\uad6d\\ud1a0/\\uad50\\ud1b5/\\ub18d\\ub9bc/\\ud574\\uc591\"],[\"\\uc7ac\\uc815/\\uae08\\uc735/\\uc18c\\ube44\\uc790\"],[\"\\uc7ac\\uc815/\\uae08\\uc735/\\uc18c\\ube44\\uc790\"],[\"\\uad50\\uc721/\\ubb38\\ud654/\\uccb4\\uc721/\\uad00\\uad11\"],[\"\\uad50\\uc721/\\ubb38\\ud654/\\uccb4\\uc721/\\uad00\\uad11\"],[\"\\uc7ac\\uc815/\\uae08\\uc735/\\uc18c\\ube44\\uc790\"],[\"\\uad50\\uc721/\\ubb38\\ud654/\\uccb4\\uc721/\\uad00\\uad11\"],[\"\\uad50\\uc721/\\ubb38\\ud654/\\uccb4\\uc721/\\uad00\\uad11\"],[\"\\uc7ac\\uc815/\\uae08\\uc735/\\uc18c\\ube44\\uc790\"],[\"\\uad50\\uc721/\\ubb38\\ud654/\\uccb4\\uc721/\\uad00\\uad11\"],[\"\\uad50\\uc721/\\ubb38\\ud654/\\uccb4\\uc721/\\uad00\\uad11\"],[\"\\uad6d\\ud1a0/\\uad50\\ud1b5/\\ub18d\\ub9bc/\\ud574\\uc591\"],[\"\\uad50\\uc721/\\ubb38\\ud654/\\uccb4\\uc721/\\uad00\\uad11\"],[\"\\uad50\\uc721/\\ubb38\\ud654/\\uccb4\\uc721/\\uad00\\uad11\"],[\"\\uc7ac\\uc815/\\uae08\\uc735/\\uc18c\\ube44\\uc790\"],[\"\\uad50\\uc721/\\ubb38\\ud654/\\uccb4\\uc721/\\uad00\\uad11\"],[\"\\uad50\\uc721/\\ubb38\\ud654/\\uccb4\\uc721/\\uad00\\uad11\"],[\"\\uc7ac\\uc815/\\uae08\\uc735/\\uc18c\\ube44\\uc790\"],[\"\\uad50\\uc721/\\ubb38\\ud654/\\uccb4\\uc721/\\uad00\\uad11\"],[\"\\uad50\\uc721/\\ubb38\\ud654/\\uccb4\\uc721/\\uad00\\uad11\"],[\"\\uc7ac\\uc815/\\uae08\\uc735/\\uc18c\\ube44\\uc790\"],[\"\\uc7ac\\uc815/\\uae08\\uc735/\\uc18c\\ube44\\uc790\"],[\"\\uad6d\\ud1a0/\\uad50\\ud1b5/\\ub18d\\ub9bc/\\ud574\\uc591\"],[\"\\uc7ac\\uc815/\\uae08\\uc735/\\uc18c\\ube44\\uc790\"],[\"\\uc7ac\\uc815/\\uae08\\uc735/\\uc18c\\ube44\\uc790\"],[\"\\uc7ac\\uc815/\\uae08\\uc735/\\uc18c\\ube44\\uc790\"],[\"\\uad6d\\ud1a0/\\uad50\\ud1b5/\\ub18d\\ub9bc/\\ud574\\uc591\"],[\"\\uad6d\\ud1a0/\\uad50\\ud1b5/\\ub18d\\ub9bc/\\ud574\\uc591\"],[\"\\uc7ac\\uc815/\\uae08\\uc735/\\uc18c\\ube44\\uc790\"],[\"\\uad6d\\ud1a0/\\uad50\\ud1b5/\\ub18d\\ub9bc/\\ud574\\uc591\"],[\"\\uc7ac\\uc815/\\uae08\\uc735/\\uc18c\\ube44\\uc790\"],[\"\\uad6d\\ud1a0/\\uad50\\ud1b5/\\ub18d\\ub9bc/\\ud574\\uc591\"],[\"\\uad50\\uc721/\\ubb38\\ud654/\\uccb4\\uc721/\\uad00\\uad11\"],[\"\\uad6d\\ud1a0/\\uad50\\ud1b5/\\ub18d\\ub9bc/\\ud574\\uc591\"],[\"\\uad6d\\ud1a0/\\uad50\\ud1b5/\\ub18d\\ub9bc/\\ud574\\uc591\"],[\"\\uc7ac\\uc815/\\uae08\\uc735/\\uc18c\\ube44\\uc790\"],[\"\\uad6d\\ud1a0/\\uad50\\ud1b5/\\ub18d\\ub9bc/\\ud574\\uc591\"],[\"\\uad6d\\ud1a0/\\uad50\\ud1b5/\\ub18d\\ub9bc/\\ud574\\uc591\"],[\"\\uad6d\\ud1a0/\\uad50\\ud1b5/\\ub18d\\ub9bc/\\ud574\\uc591\"],[\"\\uad6d\\ud1a0/\\uad50\\ud1b5/\\ub18d\\ub9bc/\\ud574\\uc591\"],[\"\\uad6d\\ud1a0/\\uad50\\ud1b5/\\ub18d\\ub9bc/\\ud574\\uc591\"],[\"\\uad6d\\ud1a0/\\uad50\\ud1b5/\\ub18d\\ub9bc/\\ud574\\uc591\"],[\"\\uad6d\\ud1a0/\\uad50\\ud1b5/\\ub18d\\ub9bc/\\ud574\\uc591\"],[\"\\uad6d\\ud1a0/\\uad50\\ud1b5/\\ub18d\\ub9bc/\\ud574\\uc591\"],[\"\\uad50\\uc721/\\ubb38\\ud654/\\uccb4\\uc721/\\uad00\\uad11\"],[\"\\uad6d\\ud1a0/\\uad50\\ud1b5/\\ub18d\\ub9bc/\\ud574\\uc591\"],[\"\\uad50\\uc721/\\ubb38\\ud654/\\uccb4\\uc721/\\uad00\\uad11\"],[\"\\uad50\\uc721/\\ubb38\\ud654/\\uccb4\\uc721/\\uad00\\uad11\"],[\"\\uad50\\uc721/\\ubb38\\ud654/\\uccb4\\uc721/\\uad00\\uad11\"],[\"\\uad50\\uc721/\\ubb38\\ud654/\\uccb4\\uc721/\\uad00\\uad11\"],[\"\\uad50\\uc721/\\ubb38\\ud654/\\uccb4\\uc721/\\uad00\\uad11\"],[\"\\uc7ac\\uc815/\\uae08\\uc735/\\uc18c\\ube44\\uc790\"],[\"\\uc7ac\\uc815/\\uae08\\uc735/\\uc18c\\ube44\\uc790\"],[\"\\uad6d\\ud1a0/\\uad50\\ud1b5/\\ub18d\\ub9bc/\\ud574\\uc591\"],[\"\\uc7ac\\uc815/\\uae08\\uc735/\\uc18c\\ube44\\uc790\"],[\"\\uad50\\uc721/\\ubb38\\ud654/\\uccb4\\uc721/\\uad00\\uad11\"],[\"\\uad6d\\ud1a0/\\uad50\\ud1b5/\\ub18d\\ub9bc/\\ud574\\uc591\"],[\"\\uc7ac\\uc815/\\uae08\\uc735/\\uc18c\\ube44\\uc790\"]],\"domain\":{\"x\":[0.0,1.0],\"y\":[0.0,1.0]},\"hovertemplate\":\"labels=%{label}<br>\\ube48\\ub3c4\\uc218\\uae30\\ubc18\\uc810\\uc218=%{value}<br>parent=%{parent}<br>id=%{id}<br>\\ubd84\\uc57c\\uba85=%{customdata[0]}<extra></extra>\",\"ids\":[\"\\uad50\\uc721/\\ubb38\\ud654/\\uccb4\\uc721/\\uad00\\uad11/\\uac1c\\uc778 \\uc815\\ubcf4\",\"\\uad6d\\ud1a0/\\uad50\\ud1b5/\\ub18d\\ub9bc/\\ud574\\uc591/\\uc120\\ubc15\\uc6d0\\ubd80\\ubcc0\\uacbd\\ub4f1\\ub85d \\uc2e0\\uccad\",\"\\uad6d\\ud1a0/\\uad50\\ud1b5/\\ub18d\\ub9bc/\\ud574\\uc591/\\uc120\\ubc15\\uc6d0\\ubd80\\ub4f1\\ubcf8 \\uc5f4\\ub78c\",\"\\uad6d\\ud1a0/\\uad50\\ud1b5/\\ub18d\\ub9bc/\\ud574\\uc591/\\uc120\\ubc15 \\uc785\\ucd9c\\ud56d\",\"\\uad6d\\ud1a0/\\uad50\\ud1b5/\\ub18d\\ub9bc/\\ud574\\uc591/\\uc11c\\ub958 \\uc81c\\ucd9c\",\"\\uad50\\uc721/\\ubb38\\ud654/\\uccb4\\uc721/\\uad00\\uad11/\\uc0c1\\ud658 \\ud559\\uc790\\uae08\\ub300\\ucd9c\",\"\\uad50\\uc721/\\ubb38\\ud654/\\uccb4\\uc721/\\uad00\\uad11/\\uc0ac\\ud559 \\uc5f0\\uae08 \\uacf5\\ub2e8\",\"\\uad50\\uc721/\\ubb38\\ud654/\\uccb4\\uc721/\\uad00\\uad11/\\uc0ac\\ud559 \\uc5f0\\uae08\",\"\\uc7ac\\uc815/\\uae08\\uc735/\\uc18c\\ube44\\uc790/\\uc0ac\\uc5c5\\uc790 \\ub4f1\\ub85d\",\"\\uad6d\\ud1a0/\\uad50\\ud1b5/\\ub18d\\ub9bc/\\ud574\\uc591/\\uc0ac\\uc124\\ud56d\\ub85c\\ud45c\\uc9c0 \\uc124\\uce58\",\"\\uad6d\\ud1a0/\\uad50\\ud1b5/\\ub18d\\ub9bc/\\ud574\\uc591/\\ube44\\uad00\\ub9ac\\uccad \\ud56d\\ub9cc\\uac1c\\ubc1c\\uc0ac\\uc5c5\",\"\\uad50\\uc721/\\ubb38\\ud654/\\uccb4\\uc721/\\uad00\\uad11/\\ubd84\\uad50\\uc7a5 \\ud559\\uc801\",\"\\uc7ac\\uc815/\\uae08\\uc735/\\uc18c\\ube44\\uc790/\\ubd80\\uac00\\uac00\\uce58\\uc138 \\uc2e0\\uace0\",\"\\uad50\\uc721/\\ubb38\\ud654/\\uccb4\\uc721/\\uad00\\uad11/\\ubc29\\uacfc\\ud6c4 \\ud559\\uad50\",\"\\uad50\\uc721/\\ubb38\\ud654/\\uccb4\\uc721/\\uad00\\uad11/\\ubbf8\\uc138 \\uba3c\\uc9c0\",\"\\uc7ac\\uc815/\\uae08\\uc735/\\uc18c\\ube44\\uc790/\\uc0ac\\uc5c5\\uc790\\ub4f1\\ub85d \\uc2e0\\uccad\",\"\\uad50\\uc721/\\ubb38\\ud654/\\uccb4\\uc721/\\uad00\\uad11/\\ub300\\ucc45 \\uc2ec\\uc758\\uc704\\uc6d0\\ud68c\",\"\\uad6d\\ud1a0/\\uad50\\ud1b5/\\ub18d\\ub9bc/\\ud574\\uc591/\\ub4f1\\ub85d \\uc808\\ucc28\",\"\\uad6d\\ud1a0/\\uad50\\ud1b5/\\ub18d\\ub9bc/\\ud574\\uc591/\\uacbd\\uc6b0 \\ud589\\uc815\\ucc98\\ubd84\",\"\\uad6d\\ud1a0/\\uad50\\ud1b5/\\ub18d\\ub9bc/\\ud574\\uc591/\\uacbd\\uc6b0 \\ud589\\uc815\\ucc98\\ubd84 \\uae30\\uc900\",\"\\uad6d\\ud1a0/\\uad50\\ud1b5/\\ub18d\\ub9bc/\\ud574\\uc591/\\uacf5\\uc720\\uc218\\uba74 \\ub9e4\\ub9bd\",\"\\uad6d\\ud1a0/\\uad50\\ud1b5/\\ub18d\\ub9bc/\\ud574\\uc591/\\uacf5\\uc720\\uc218\\uba74 \\uc810\\uc6a9\\uc0ac\\uc6a9\",\"\\uad50\\uc721/\\ubb38\\ud654/\\uccb4\\uc721/\\uad00\\uad11/\\uad50\\uc6d0 \\uc790\\uaca9\\uac80\\uc815\",\"\\uad50\\uc721/\\ubb38\\ud654/\\uccb4\\uc721/\\uad00\\uad11/\\uacfc\\ud559 \\uae30\\uc220\",\"\\uad50\\uc721/\\ubb38\\ud654/\\uccb4\\uc721/\\uad00\\uad11/\\uad50\\uc721\\ube44 \\uc9c0\\uc6d0\",\"\\uad6d\\ud1a0/\\uad50\\ud1b5/\\ub18d\\ub9bc/\\ud574\\uc591/\\uad6d\\uc720\\uc7ac\\uc0b0 \\uc0ac\\uc6a9\\ub8cc\",\"\\uc7ac\\uc815/\\uae08\\uc735/\\uc18c\\ube44\\uc790/\\uadfc\\ub85c\\uc7a5\\ub824\\uae08 \\uc2e0\\uccad\",\"\\uc7ac\\uc815/\\uae08\\uc735/\\uc18c\\ube44\\uc790/\\uadfc\\ub85c\\uc7a5\\ub824\\uae08 \\uc790\\ub140\\uc7a5\\ub824\\uae08\",\"\\uad50\\uc721/\\ubb38\\ud654/\\uccb4\\uc721/\\uad00\\uad11/\\uae30\\uc220 \\ubd84\\uc57c\",\"\\uad50\\uc721/\\ubb38\\ud654/\\uccb4\\uc721/\\uad00\\uad11/\\uad50\\uc721 \\uacfc\\uc815\",\"\\uc7ac\\uc815/\\uae08\\uc735/\\uc18c\\ube44\\uc790/\\uc601\\uc218\\uc99d \\ubc1c\\uae09\",\"\\uad50\\uc721/\\ubb38\\ud654/\\uccb4\\uc721/\\uad00\\uad11/\\uc815\\ubcf4\\uacf5\\uc2dc \\uc785\\ub825\",\"\\uad50\\uc721/\\ubb38\\ud654/\\uccb4\\uc721/\\uad00\\uad11/\\uc785\\ub825 \\uc9c0\\uce68\",\"\\uc7ac\\uc815/\\uae08\\uc735/\\uc18c\\ube44\\uc790/\\uc7a5\\ub824\\uae08 \\uc2e0\\uccad\",\"\\uad50\\uc721/\\ubb38\\ud654/\\uccb4\\uc721/\\uad00\\uad11/\\uc815\\ubcf4\\uacf5\\uac1c \\uccad\\uad6c\",\"\\uad50\\uc721/\\ubb38\\ud654/\\uccb4\\uc721/\\uad00\\uad11/\\uc815\\ubcf4\\uacf5\\uc2dc \\uc785\\ub825 \\uc9c0\\uce68\",\"\\uad6d\\ud1a0/\\uad50\\ud1b5/\\ub18d\\ub9bc/\\ud574\\uc591/\\uc99d\\uba85\\uc11c \\ubc1c\\uae09\",\"\\uad50\\uc721/\\ubb38\\ud654/\\uccb4\\uc721/\\uad00\\uad11/\\uc878\\uc5c5 \\ud559\\uad50\",\"\\uad50\\uc721/\\ubb38\\ud654/\\uccb4\\uc721/\\uad00\\uad11/\\uc878\\uc5c5 \\ud559\\uad50 \\ud3d0\\uad50\",\"\\uc7ac\\uc815/\\uae08\\uc735/\\uc18c\\ube44\\uc790/\\uc885\\ud569\\uc18c\\ub4dd\\uc138 \\uc2e0\\uace0\",\"\\uad50\\uc721/\\ubb38\\ud654/\\uccb4\\uc721/\\uad00\\uad11/\\uc911\\ud559\\uad50 \\ubc30\\uc815\",\"\\uad50\\uc721/\\ubb38\\ud654/\\uccb4\\uc721/\\uad00\\uad11/\\uc99d\\uba85\\uc11c \\ubc1c\\uae09\",\"\\uc7ac\\uc815/\\uae08\\uc735/\\uc18c\\ube44\\uc790/\\uc5f0\\ub9d0 \\uc815\\uc0b0\",\"\\uad50\\uc721/\\ubb38\\ud654/\\uccb4\\uc721/\\uad00\\uad11/\\uc878\\uc5c5 \\uc99d\\uba85\\uc11c\",\"\\uad50\\uc721/\\ubb38\\ud654/\\uccb4\\uc721/\\uad00\\uad11/\\uc5f0\\uae08 \\uacf5\\ub2e8\",\"\\uc7ac\\uc815/\\uae08\\uc735/\\uc18c\\ube44\\uc790/\\uc2e0\\uc6a9 \\uce74\\ub4dc\",\"\\uc7ac\\uc815/\\uae08\\uc735/\\uc18c\\ube44\\uc790/\\uc591\\ub3c4 \\uc18c\\ub4dd\\uc138\",\"\\uad6d\\ud1a0/\\uad50\\ud1b5/\\ub18d\\ub9bc/\\ud574\\uc591/\\uc5b4\\uc5c5\\uacbd\\uc601\\uccb4 \\ub4f1\\ub85d\",\"\\uc7ac\\uc815/\\uae08\\uc735/\\uc18c\\ube44\\uc790/\\uc138\\uae08\\uacc4\\uc0b0\\uc11c \\ubc1c\\uae09\",\"\\uc7ac\\uc815/\\uae08\\uc735/\\uc18c\\ube44\\uc790/\\uc138\\ubb34\\uc11c \\ubc29\\ubb38\",\"\\uc7ac\\uc815/\\uae08\\uc735/\\uc18c\\ube44\\uc790/\\uc18c\\ub4dd\\uc138 \\uc2e0\\uace0\",\"\\uad6d\\ud1a0/\\uad50\\ud1b5/\\ub18d\\ub9bc/\\ud574\\uc591/\\uc18c\\ud615\\uc120\\ubc15 \\uc870\\uc885\\uc0ac\",\"\\uad6d\\ud1a0/\\uad50\\ud1b5/\\ub18d\\ub9bc/\\ud574\\uc591/\\uc218\\uc0b0 \\uc790\\uc6d0\",\"\\uc7ac\\uc815/\\uae08\\uc735/\\uc18c\\ube44\\uc790/\\uc18c\\ub4dd\\uc138 \\uac10\\uba74\",\"\\uad6d\\ud1a0/\\uad50\\ud1b5/\\ub18d\\ub9bc/\\ud574\\uc591/\\uc2b9\\ud558\\uc120 \\uacf5\\uc778\",\"\\uc7ac\\uc815/\\uae08\\uc735/\\uc18c\\ube44\\uc790/\\uc2e0\\uace0 \\ub0a9\\ubd80\",\"\\uad6d\\ud1a0/\\uad50\\ud1b5/\\ub18d\\ub9bc/\\ud574\\uc591/\\uc2e0\\uccad \\uad6c\\ube44\\uc11c\\ub958\",\"\\uad50\\uc721/\\ubb38\\ud654/\\uccb4\\uc721/\\uad00\\uad11/\\uc2e0\\uccad \\uc808\\ucc28\",\"\\uad6d\\ud1a0/\\uad50\\ud1b5/\\ub18d\\ub9bc/\\ud574\\uc591/\\uc2e0\\uccad \\uc808\\ucc28\",\"\\uad6d\\ud1a0/\\uad50\\ud1b5/\\ub18d\\ub9bc/\\ud574\\uc591/\\uc218\\uc911 \\ub808\\uc800\",\"\\uc7ac\\uc815/\\uae08\\uc735/\\uc18c\\ube44\\uc790/\\ud604\\uae08 \\uc601\\uc218\\uc99d\",\"\\uad6d\\ud1a0/\\uad50\\ud1b5/\\ub18d\\ub9bc/\\ud574\\uc591/\\ud56d\\ub9cc\\uc6b4\\uc1a1\\uad00\\ub828\\uc0ac\\uc5c5 \\ub4f1\\ub85d\",\"\\uad6d\\ud1a0/\\uad50\\ud1b5/\\ub18d\\ub9bc/\\ud574\\uc591/\\ud589\\uc815\\ucc98\\ubd84 \\uae30\\uc900\",\"\\uad6d\\ud1a0/\\uad50\\ud1b5/\\ub18d\\ub9bc/\\ud574\\uc591/\\ud589\\uc815 \\uae30\\uad00\",\"\\uad6d\\ud1a0/\\uad50\\ud1b5/\\ub18d\\ub9bc/\\ud574\\uc591/\\ud574\\uc5ed\\uc774\\uc6a9\\uc601\\ud5a5\\ud3c9\\uac00 \\ub300\\ud589\\uc790\",\"\\uad6d\\ud1a0/\\uad50\\ud1b5/\\ub18d\\ub9bc/\\ud574\\uc591/\\ud574\\uc591 \\uc4f0\\ub808\\uae30\",\"\\uad6d\\ud1a0/\\uad50\\ud1b5/\\ub18d\\ub9bc/\\ud574\\uc591/\\ud574\\uae30\\uc0ac \\uba74\\ud5c8\\uc99d\",\"\\uad6d\\ud1a0/\\uad50\\ud1b5/\\ub18d\\ub9bc/\\ud574\\uc591/\\ud574\\uae30\\uc0ac \\uba74\\ud5c8\",\"\\uad6d\\ud1a0/\\uad50\\ud1b5/\\ub18d\\ub9bc/\\ud574\\uc591/\\ud56d\\ub9cc\\uc2dc\\uc124 \\uc0ac\\uc6a9\\ud5c8\\uac00\",\"\\uad50\\uc721/\\ubb38\\ud654/\\uccb4\\uc721/\\uad00\\uad11/\\ud559\\uad50 \\ud3d0\\uad50\",\"\\uad6d\\ud1a0/\\uad50\\ud1b5/\\ub18d\\ub9bc/\\ud574\\uc591/\\ud56d\\ub85c\\ud45c\\uc9c0 \\uc124\\uce58\",\"\\uad50\\uc721/\\ubb38\\ud654/\\uccb4\\uc721/\\uad00\\uad11/\\ud559\\uc6d0 \\uc124\\ub9bd\",\"\\uad50\\uc721/\\ubb38\\ud654/\\uccb4\\uc721/\\uad00\\uad11/\\ud559\\uad50\\ud3ed\\ub825 \\uc608\\ubc29\",\"\\uad50\\uc721/\\ubb38\\ud654/\\uccb4\\uc721/\\uad00\\uad11/\\ud559\\uad50\\ud3ed\\ub825 \\ub300\\ucc45 \\uc2ec\\uc758\\uc704\\uc6d0\\ud68c\",\"\\uad50\\uc721/\\ubb38\\ud654/\\uccb4\\uc721/\\uad00\\uad11/\\ud559\\uad50\\ud3ed\\ub825 \\ub300\\ucc45\",\"\\uad50\\uc721/\\ubb38\\ud654/\\uccb4\\uc721/\\uad00\\uad11/\\ud559\\uad50 \\uc0dd\\ud65c\\uae30\\ub85d\\ubd80\",\"\\uc7ac\\uc815/\\uae08\\uc735/\\uc18c\\ube44\\uc790/\\uce74\\ub4dc \\uacb0\\uc81c\",\"\\uc7ac\\uc815/\\uae08\\uc735/\\uc18c\\ube44\\uc790/\\ud604\\uae08 \\uc601\\uc218\\uc99d \\ubc1c\\uae09\",\"\\uad6d\\ud1a0/\\uad50\\ud1b5/\\ub18d\\ub9bc/\\ud574\\uc591/\\ud56d\\ub85c\\ud45c\\uc9c0 \\uc704\\ud0c1\\uad00\\ub9ac\\uc5c5\",\"\\uc7ac\\uc815/\\uae08\\uc735/\\uc18c\\ube44\\uc790/\\ud655\\uc815 \\uc77c\\uc790\",\"\\uad50\\uc721/\\ubb38\\ud654/\\uccb4\\uc721/\\uad00\\uad11\",\"\\uad6d\\ud1a0/\\uad50\\ud1b5/\\ub18d\\ub9bc/\\ud574\\uc591\",\"\\uc7ac\\uc815/\\uae08\\uc735/\\uc18c\\ube44\\uc790\"],\"labels\":[\"\\uac1c\\uc778 \\uc815\\ubcf4\",\"\\uc120\\ubc15\\uc6d0\\ubd80\\ubcc0\\uacbd\\ub4f1\\ub85d \\uc2e0\\uccad\",\"\\uc120\\ubc15\\uc6d0\\ubd80\\ub4f1\\ubcf8 \\uc5f4\\ub78c\",\"\\uc120\\ubc15 \\uc785\\ucd9c\\ud56d\",\"\\uc11c\\ub958 \\uc81c\\ucd9c\",\"\\uc0c1\\ud658 \\ud559\\uc790\\uae08\\ub300\\ucd9c\",\"\\uc0ac\\ud559 \\uc5f0\\uae08 \\uacf5\\ub2e8\",\"\\uc0ac\\ud559 \\uc5f0\\uae08\",\"\\uc0ac\\uc5c5\\uc790 \\ub4f1\\ub85d\",\"\\uc0ac\\uc124\\ud56d\\ub85c\\ud45c\\uc9c0 \\uc124\\uce58\",\"\\ube44\\uad00\\ub9ac\\uccad \\ud56d\\ub9cc\\uac1c\\ubc1c\\uc0ac\\uc5c5\",\"\\ubd84\\uad50\\uc7a5 \\ud559\\uc801\",\"\\ubd80\\uac00\\uac00\\uce58\\uc138 \\uc2e0\\uace0\",\"\\ubc29\\uacfc\\ud6c4 \\ud559\\uad50\",\"\\ubbf8\\uc138 \\uba3c\\uc9c0\",\"\\uc0ac\\uc5c5\\uc790\\ub4f1\\ub85d \\uc2e0\\uccad\",\"\\ub300\\ucc45 \\uc2ec\\uc758\\uc704\\uc6d0\\ud68c\",\"\\ub4f1\\ub85d \\uc808\\ucc28\",\"\\uacbd\\uc6b0 \\ud589\\uc815\\ucc98\\ubd84\",\"\\uacbd\\uc6b0 \\ud589\\uc815\\ucc98\\ubd84 \\uae30\\uc900\",\"\\uacf5\\uc720\\uc218\\uba74 \\ub9e4\\ub9bd\",\"\\uacf5\\uc720\\uc218\\uba74 \\uc810\\uc6a9\\uc0ac\\uc6a9\",\"\\uad50\\uc6d0 \\uc790\\uaca9\\uac80\\uc815\",\"\\uacfc\\ud559 \\uae30\\uc220\",\"\\uad50\\uc721\\ube44 \\uc9c0\\uc6d0\",\"\\uad6d\\uc720\\uc7ac\\uc0b0 \\uc0ac\\uc6a9\\ub8cc\",\"\\uadfc\\ub85c\\uc7a5\\ub824\\uae08 \\uc2e0\\uccad\",\"\\uadfc\\ub85c\\uc7a5\\ub824\\uae08 \\uc790\\ub140\\uc7a5\\ub824\\uae08\",\"\\uae30\\uc220 \\ubd84\\uc57c\",\"\\uad50\\uc721 \\uacfc\\uc815\",\"\\uc601\\uc218\\uc99d \\ubc1c\\uae09\",\"\\uc815\\ubcf4\\uacf5\\uc2dc \\uc785\\ub825\",\"\\uc785\\ub825 \\uc9c0\\uce68\",\"\\uc7a5\\ub824\\uae08 \\uc2e0\\uccad\",\"\\uc815\\ubcf4\\uacf5\\uac1c \\uccad\\uad6c\",\"\\uc815\\ubcf4\\uacf5\\uc2dc \\uc785\\ub825 \\uc9c0\\uce68\",\"\\uc99d\\uba85\\uc11c \\ubc1c\\uae09\",\"\\uc878\\uc5c5 \\ud559\\uad50\",\"\\uc878\\uc5c5 \\ud559\\uad50 \\ud3d0\\uad50\",\"\\uc885\\ud569\\uc18c\\ub4dd\\uc138 \\uc2e0\\uace0\",\"\\uc911\\ud559\\uad50 \\ubc30\\uc815\",\"\\uc99d\\uba85\\uc11c \\ubc1c\\uae09\",\"\\uc5f0\\ub9d0 \\uc815\\uc0b0\",\"\\uc878\\uc5c5 \\uc99d\\uba85\\uc11c\",\"\\uc5f0\\uae08 \\uacf5\\ub2e8\",\"\\uc2e0\\uc6a9 \\uce74\\ub4dc\",\"\\uc591\\ub3c4 \\uc18c\\ub4dd\\uc138\",\"\\uc5b4\\uc5c5\\uacbd\\uc601\\uccb4 \\ub4f1\\ub85d\",\"\\uc138\\uae08\\uacc4\\uc0b0\\uc11c \\ubc1c\\uae09\",\"\\uc138\\ubb34\\uc11c \\ubc29\\ubb38\",\"\\uc18c\\ub4dd\\uc138 \\uc2e0\\uace0\",\"\\uc18c\\ud615\\uc120\\ubc15 \\uc870\\uc885\\uc0ac\",\"\\uc218\\uc0b0 \\uc790\\uc6d0\",\"\\uc18c\\ub4dd\\uc138 \\uac10\\uba74\",\"\\uc2b9\\ud558\\uc120 \\uacf5\\uc778\",\"\\uc2e0\\uace0 \\ub0a9\\ubd80\",\"\\uc2e0\\uccad \\uad6c\\ube44\\uc11c\\ub958\",\"\\uc2e0\\uccad \\uc808\\ucc28\",\"\\uc2e0\\uccad \\uc808\\ucc28\",\"\\uc218\\uc911 \\ub808\\uc800\",\"\\ud604\\uae08 \\uc601\\uc218\\uc99d\",\"\\ud56d\\ub9cc\\uc6b4\\uc1a1\\uad00\\ub828\\uc0ac\\uc5c5 \\ub4f1\\ub85d\",\"\\ud589\\uc815\\ucc98\\ubd84 \\uae30\\uc900\",\"\\ud589\\uc815 \\uae30\\uad00\",\"\\ud574\\uc5ed\\uc774\\uc6a9\\uc601\\ud5a5\\ud3c9\\uac00 \\ub300\\ud589\\uc790\",\"\\ud574\\uc591 \\uc4f0\\ub808\\uae30\",\"\\ud574\\uae30\\uc0ac \\uba74\\ud5c8\\uc99d\",\"\\ud574\\uae30\\uc0ac \\uba74\\ud5c8\",\"\\ud56d\\ub9cc\\uc2dc\\uc124 \\uc0ac\\uc6a9\\ud5c8\\uac00\",\"\\ud559\\uad50 \\ud3d0\\uad50\",\"\\ud56d\\ub85c\\ud45c\\uc9c0 \\uc124\\uce58\",\"\\ud559\\uc6d0 \\uc124\\ub9bd\",\"\\ud559\\uad50\\ud3ed\\ub825 \\uc608\\ubc29\",\"\\ud559\\uad50\\ud3ed\\ub825 \\ub300\\ucc45 \\uc2ec\\uc758\\uc704\\uc6d0\\ud68c\",\"\\ud559\\uad50\\ud3ed\\ub825 \\ub300\\ucc45\",\"\\ud559\\uad50 \\uc0dd\\ud65c\\uae30\\ub85d\\ubd80\",\"\\uce74\\ub4dc \\uacb0\\uc81c\",\"\\ud604\\uae08 \\uc601\\uc218\\uc99d \\ubc1c\\uae09\",\"\\ud56d\\ub85c\\ud45c\\uc9c0 \\uc704\\ud0c1\\uad00\\ub9ac\\uc5c5\",\"\\ud655\\uc815 \\uc77c\\uc790\",\"\\uad50\\uc721/\\ubb38\\ud654/\\uccb4\\uc721/\\uad00\\uad11\",\"\\uad6d\\ud1a0/\\uad50\\ud1b5/\\ub18d\\ub9bc/\\ud574\\uc591\",\"\\uc7ac\\uc815/\\uae08\\uc735/\\uc18c\\ube44\\uc790\"],\"marker\":{\"colors\":[\"#636efa\",\"#EF553B\",\"#EF553B\",\"#EF553B\",\"#EF553B\",\"#636efa\",\"#636efa\",\"#636efa\",\"#00cc96\",\"#EF553B\",\"#EF553B\",\"#636efa\",\"#00cc96\",\"#636efa\",\"#636efa\",\"#00cc96\",\"#636efa\",\"#EF553B\",\"#EF553B\",\"#EF553B\",\"#EF553B\",\"#EF553B\",\"#636efa\",\"#636efa\",\"#636efa\",\"#EF553B\",\"#00cc96\",\"#00cc96\",\"#636efa\",\"#636efa\",\"#00cc96\",\"#636efa\",\"#636efa\",\"#00cc96\",\"#636efa\",\"#636efa\",\"#EF553B\",\"#636efa\",\"#636efa\",\"#00cc96\",\"#636efa\",\"#636efa\",\"#00cc96\",\"#636efa\",\"#636efa\",\"#00cc96\",\"#00cc96\",\"#EF553B\",\"#00cc96\",\"#00cc96\",\"#00cc96\",\"#EF553B\",\"#EF553B\",\"#00cc96\",\"#EF553B\",\"#00cc96\",\"#EF553B\",\"#636efa\",\"#EF553B\",\"#EF553B\",\"#00cc96\",\"#EF553B\",\"#EF553B\",\"#EF553B\",\"#EF553B\",\"#EF553B\",\"#EF553B\",\"#EF553B\",\"#EF553B\",\"#636efa\",\"#EF553B\",\"#636efa\",\"#636efa\",\"#636efa\",\"#636efa\",\"#636efa\",\"#00cc96\",\"#00cc96\",\"#EF553B\",\"#00cc96\",\"#636efa\",\"#EF553B\",\"#00cc96\"]},\"name\":\"\",\"parents\":[\"\\uad50\\uc721/\\ubb38\\ud654/\\uccb4\\uc721/\\uad00\\uad11\",\"\\uad6d\\ud1a0/\\uad50\\ud1b5/\\ub18d\\ub9bc/\\ud574\\uc591\",\"\\uad6d\\ud1a0/\\uad50\\ud1b5/\\ub18d\\ub9bc/\\ud574\\uc591\",\"\\uad6d\\ud1a0/\\uad50\\ud1b5/\\ub18d\\ub9bc/\\ud574\\uc591\",\"\\uad6d\\ud1a0/\\uad50\\ud1b5/\\ub18d\\ub9bc/\\ud574\\uc591\",\"\\uad50\\uc721/\\ubb38\\ud654/\\uccb4\\uc721/\\uad00\\uad11\",\"\\uad50\\uc721/\\ubb38\\ud654/\\uccb4\\uc721/\\uad00\\uad11\",\"\\uad50\\uc721/\\ubb38\\ud654/\\uccb4\\uc721/\\uad00\\uad11\",\"\\uc7ac\\uc815/\\uae08\\uc735/\\uc18c\\ube44\\uc790\",\"\\uad6d\\ud1a0/\\uad50\\ud1b5/\\ub18d\\ub9bc/\\ud574\\uc591\",\"\\uad6d\\ud1a0/\\uad50\\ud1b5/\\ub18d\\ub9bc/\\ud574\\uc591\",\"\\uad50\\uc721/\\ubb38\\ud654/\\uccb4\\uc721/\\uad00\\uad11\",\"\\uc7ac\\uc815/\\uae08\\uc735/\\uc18c\\ube44\\uc790\",\"\\uad50\\uc721/\\ubb38\\ud654/\\uccb4\\uc721/\\uad00\\uad11\",\"\\uad50\\uc721/\\ubb38\\ud654/\\uccb4\\uc721/\\uad00\\uad11\",\"\\uc7ac\\uc815/\\uae08\\uc735/\\uc18c\\ube44\\uc790\",\"\\uad50\\uc721/\\ubb38\\ud654/\\uccb4\\uc721/\\uad00\\uad11\",\"\\uad6d\\ud1a0/\\uad50\\ud1b5/\\ub18d\\ub9bc/\\ud574\\uc591\",\"\\uad6d\\ud1a0/\\uad50\\ud1b5/\\ub18d\\ub9bc/\\ud574\\uc591\",\"\\uad6d\\ud1a0/\\uad50\\ud1b5/\\ub18d\\ub9bc/\\ud574\\uc591\",\"\\uad6d\\ud1a0/\\uad50\\ud1b5/\\ub18d\\ub9bc/\\ud574\\uc591\",\"\\uad6d\\ud1a0/\\uad50\\ud1b5/\\ub18d\\ub9bc/\\ud574\\uc591\",\"\\uad50\\uc721/\\ubb38\\ud654/\\uccb4\\uc721/\\uad00\\uad11\",\"\\uad50\\uc721/\\ubb38\\ud654/\\uccb4\\uc721/\\uad00\\uad11\",\"\\uad50\\uc721/\\ubb38\\ud654/\\uccb4\\uc721/\\uad00\\uad11\",\"\\uad6d\\ud1a0/\\uad50\\ud1b5/\\ub18d\\ub9bc/\\ud574\\uc591\",\"\\uc7ac\\uc815/\\uae08\\uc735/\\uc18c\\ube44\\uc790\",\"\\uc7ac\\uc815/\\uae08\\uc735/\\uc18c\\ube44\\uc790\",\"\\uad50\\uc721/\\ubb38\\ud654/\\uccb4\\uc721/\\uad00\\uad11\",\"\\uad50\\uc721/\\ubb38\\ud654/\\uccb4\\uc721/\\uad00\\uad11\",\"\\uc7ac\\uc815/\\uae08\\uc735/\\uc18c\\ube44\\uc790\",\"\\uad50\\uc721/\\ubb38\\ud654/\\uccb4\\uc721/\\uad00\\uad11\",\"\\uad50\\uc721/\\ubb38\\ud654/\\uccb4\\uc721/\\uad00\\uad11\",\"\\uc7ac\\uc815/\\uae08\\uc735/\\uc18c\\ube44\\uc790\",\"\\uad50\\uc721/\\ubb38\\ud654/\\uccb4\\uc721/\\uad00\\uad11\",\"\\uad50\\uc721/\\ubb38\\ud654/\\uccb4\\uc721/\\uad00\\uad11\",\"\\uad6d\\ud1a0/\\uad50\\ud1b5/\\ub18d\\ub9bc/\\ud574\\uc591\",\"\\uad50\\uc721/\\ubb38\\ud654/\\uccb4\\uc721/\\uad00\\uad11\",\"\\uad50\\uc721/\\ubb38\\ud654/\\uccb4\\uc721/\\uad00\\uad11\",\"\\uc7ac\\uc815/\\uae08\\uc735/\\uc18c\\ube44\\uc790\",\"\\uad50\\uc721/\\ubb38\\ud654/\\uccb4\\uc721/\\uad00\\uad11\",\"\\uad50\\uc721/\\ubb38\\ud654/\\uccb4\\uc721/\\uad00\\uad11\",\"\\uc7ac\\uc815/\\uae08\\uc735/\\uc18c\\ube44\\uc790\",\"\\uad50\\uc721/\\ubb38\\ud654/\\uccb4\\uc721/\\uad00\\uad11\",\"\\uad50\\uc721/\\ubb38\\ud654/\\uccb4\\uc721/\\uad00\\uad11\",\"\\uc7ac\\uc815/\\uae08\\uc735/\\uc18c\\ube44\\uc790\",\"\\uc7ac\\uc815/\\uae08\\uc735/\\uc18c\\ube44\\uc790\",\"\\uad6d\\ud1a0/\\uad50\\ud1b5/\\ub18d\\ub9bc/\\ud574\\uc591\",\"\\uc7ac\\uc815/\\uae08\\uc735/\\uc18c\\ube44\\uc790\",\"\\uc7ac\\uc815/\\uae08\\uc735/\\uc18c\\ube44\\uc790\",\"\\uc7ac\\uc815/\\uae08\\uc735/\\uc18c\\ube44\\uc790\",\"\\uad6d\\ud1a0/\\uad50\\ud1b5/\\ub18d\\ub9bc/\\ud574\\uc591\",\"\\uad6d\\ud1a0/\\uad50\\ud1b5/\\ub18d\\ub9bc/\\ud574\\uc591\",\"\\uc7ac\\uc815/\\uae08\\uc735/\\uc18c\\ube44\\uc790\",\"\\uad6d\\ud1a0/\\uad50\\ud1b5/\\ub18d\\ub9bc/\\ud574\\uc591\",\"\\uc7ac\\uc815/\\uae08\\uc735/\\uc18c\\ube44\\uc790\",\"\\uad6d\\ud1a0/\\uad50\\ud1b5/\\ub18d\\ub9bc/\\ud574\\uc591\",\"\\uad50\\uc721/\\ubb38\\ud654/\\uccb4\\uc721/\\uad00\\uad11\",\"\\uad6d\\ud1a0/\\uad50\\ud1b5/\\ub18d\\ub9bc/\\ud574\\uc591\",\"\\uad6d\\ud1a0/\\uad50\\ud1b5/\\ub18d\\ub9bc/\\ud574\\uc591\",\"\\uc7ac\\uc815/\\uae08\\uc735/\\uc18c\\ube44\\uc790\",\"\\uad6d\\ud1a0/\\uad50\\ud1b5/\\ub18d\\ub9bc/\\ud574\\uc591\",\"\\uad6d\\ud1a0/\\uad50\\ud1b5/\\ub18d\\ub9bc/\\ud574\\uc591\",\"\\uad6d\\ud1a0/\\uad50\\ud1b5/\\ub18d\\ub9bc/\\ud574\\uc591\",\"\\uad6d\\ud1a0/\\uad50\\ud1b5/\\ub18d\\ub9bc/\\ud574\\uc591\",\"\\uad6d\\ud1a0/\\uad50\\ud1b5/\\ub18d\\ub9bc/\\ud574\\uc591\",\"\\uad6d\\ud1a0/\\uad50\\ud1b5/\\ub18d\\ub9bc/\\ud574\\uc591\",\"\\uad6d\\ud1a0/\\uad50\\ud1b5/\\ub18d\\ub9bc/\\ud574\\uc591\",\"\\uad6d\\ud1a0/\\uad50\\ud1b5/\\ub18d\\ub9bc/\\ud574\\uc591\",\"\\uad50\\uc721/\\ubb38\\ud654/\\uccb4\\uc721/\\uad00\\uad11\",\"\\uad6d\\ud1a0/\\uad50\\ud1b5/\\ub18d\\ub9bc/\\ud574\\uc591\",\"\\uad50\\uc721/\\ubb38\\ud654/\\uccb4\\uc721/\\uad00\\uad11\",\"\\uad50\\uc721/\\ubb38\\ud654/\\uccb4\\uc721/\\uad00\\uad11\",\"\\uad50\\uc721/\\ubb38\\ud654/\\uccb4\\uc721/\\uad00\\uad11\",\"\\uad50\\uc721/\\ubb38\\ud654/\\uccb4\\uc721/\\uad00\\uad11\",\"\\uad50\\uc721/\\ubb38\\ud654/\\uccb4\\uc721/\\uad00\\uad11\",\"\\uc7ac\\uc815/\\uae08\\uc735/\\uc18c\\ube44\\uc790\",\"\\uc7ac\\uc815/\\uae08\\uc735/\\uc18c\\ube44\\uc790\",\"\\uad6d\\ud1a0/\\uad50\\ud1b5/\\ub18d\\ub9bc/\\ud574\\uc591\",\"\\uc7ac\\uc815/\\uae08\\uc735/\\uc18c\\ube44\\uc790\",\"\",\"\",\"\"],\"type\":\"treemap\",\"values\":[26.1042026006168,27.49943490439794,14.0,16.55670282703131,14.593436541733222,26.98778697356121,38.024502250943954,39.083000997048195,23.549025995049863,19.01829739223083,30.436500224663167,36.66460852040293,18.37363153487078,47.59235178399325,30.035409081695967,31.62799012789056,29.20280396645738,16.43248433159545,26.19111865651316,23.35654148837103,19.107832187178026,15.239048862751488,25.407494816629438,25.204480664275746,33.5959832886889,19.648422732942056,36.624285452006184,31.43467527915327,25.22643087515374,45.728089761669736,24.98861499578144,32.905471103523354,31.942637621771922,17.28407615136942,27.740325941786388,31.942637621771922,14.07963331057705,47.77916855981891,45.5817139798198,45.89342886811185,35.96757175770361,29.826885603383698,82.72916264130065,30.03549626237237,38.024502250943954,18.959918803634388,33.70798228491229,34.3384299270928,16.782839656054993,16.023314166459144,28.58926185949671,14.461477969187893,17.827402680405108,16.685032928184132,14.427683068046964,15.0075346028214,21.93781779454561,33.16690624670689,15.14910190141888,17.399527386739955,68.4396420218354,13.833037404396817,23.869668061777308,15.812154124443133,16.316388826669534,16.977965628392084,14.237925383101185,16.844122453056706,19.077859114069867,48.571149499560505,16.285278371473346,35.00146002701989,27.23212747798175,29.20280396645738,36.564216433828015,28.806959297680653,15.142906501109895,21.339443747250844,22.958848120322127,15.15125646846924,1019.1491792332683,567.9141416751239,578.3340240857624]}],                        {\"legend\":{\"tracegroupgap\":0},\"template\":{\"data\":{\"bar\":[{\"error_x\":{\"color\":\"#2a3f5f\"},\"error_y\":{\"color\":\"#2a3f5f\"},\"marker\":{\"line\":{\"color\":\"#E5ECF6\",\"width\":0.5},\"pattern\":{\"fillmode\":\"overlay\",\"size\":10,\"solidity\":0.2}},\"type\":\"bar\"}],\"barpolar\":[{\"marker\":{\"line\":{\"color\":\"#E5ECF6\",\"width\":0.5},\"pattern\":{\"fillmode\":\"overlay\",\"size\":10,\"solidity\":0.2}},\"type\":\"barpolar\"}],\"carpet\":[{\"aaxis\":{\"endlinecolor\":\"#2a3f5f\",\"gridcolor\":\"white\",\"linecolor\":\"white\",\"minorgridcolor\":\"white\",\"startlinecolor\":\"#2a3f5f\"},\"baxis\":{\"endlinecolor\":\"#2a3f5f\",\"gridcolor\":\"white\",\"linecolor\":\"white\",\"minorgridcolor\":\"white\",\"startlinecolor\":\"#2a3f5f\"},\"type\":\"carpet\"}],\"choropleth\":[{\"colorbar\":{\"outlinewidth\":0,\"ticks\":\"\"},\"type\":\"choropleth\"}],\"contour\":[{\"colorbar\":{\"outlinewidth\":0,\"ticks\":\"\"},\"colorscale\":[[0.0,\"#0d0887\"],[0.1111111111111111,\"#46039f\"],[0.2222222222222222,\"#7201a8\"],[0.3333333333333333,\"#9c179e\"],[0.4444444444444444,\"#bd3786\"],[0.5555555555555556,\"#d8576b\"],[0.6666666666666666,\"#ed7953\"],[0.7777777777777778,\"#fb9f3a\"],[0.8888888888888888,\"#fdca26\"],[1.0,\"#f0f921\"]],\"type\":\"contour\"}],\"contourcarpet\":[{\"colorbar\":{\"outlinewidth\":0,\"ticks\":\"\"},\"type\":\"contourcarpet\"}],\"heatmap\":[{\"colorbar\":{\"outlinewidth\":0,\"ticks\":\"\"},\"colorscale\":[[0.0,\"#0d0887\"],[0.1111111111111111,\"#46039f\"],[0.2222222222222222,\"#7201a8\"],[0.3333333333333333,\"#9c179e\"],[0.4444444444444444,\"#bd3786\"],[0.5555555555555556,\"#d8576b\"],[0.6666666666666666,\"#ed7953\"],[0.7777777777777778,\"#fb9f3a\"],[0.8888888888888888,\"#fdca26\"],[1.0,\"#f0f921\"]],\"type\":\"heatmap\"}],\"heatmapgl\":[{\"colorbar\":{\"outlinewidth\":0,\"ticks\":\"\"},\"colorscale\":[[0.0,\"#0d0887\"],[0.1111111111111111,\"#46039f\"],[0.2222222222222222,\"#7201a8\"],[0.3333333333333333,\"#9c179e\"],[0.4444444444444444,\"#bd3786\"],[0.5555555555555556,\"#d8576b\"],[0.6666666666666666,\"#ed7953\"],[0.7777777777777778,\"#fb9f3a\"],[0.8888888888888888,\"#fdca26\"],[1.0,\"#f0f921\"]],\"type\":\"heatmapgl\"}],\"histogram\":[{\"marker\":{\"pattern\":{\"fillmode\":\"overlay\",\"size\":10,\"solidity\":0.2}},\"type\":\"histogram\"}],\"histogram2d\":[{\"colorbar\":{\"outlinewidth\":0,\"ticks\":\"\"},\"colorscale\":[[0.0,\"#0d0887\"],[0.1111111111111111,\"#46039f\"],[0.2222222222222222,\"#7201a8\"],[0.3333333333333333,\"#9c179e\"],[0.4444444444444444,\"#bd3786\"],[0.5555555555555556,\"#d8576b\"],[0.6666666666666666,\"#ed7953\"],[0.7777777777777778,\"#fb9f3a\"],[0.8888888888888888,\"#fdca26\"],[1.0,\"#f0f921\"]],\"type\":\"histogram2d\"}],\"histogram2dcontour\":[{\"colorbar\":{\"outlinewidth\":0,\"ticks\":\"\"},\"colorscale\":[[0.0,\"#0d0887\"],[0.1111111111111111,\"#46039f\"],[0.2222222222222222,\"#7201a8\"],[0.3333333333333333,\"#9c179e\"],[0.4444444444444444,\"#bd3786\"],[0.5555555555555556,\"#d8576b\"],[0.6666666666666666,\"#ed7953\"],[0.7777777777777778,\"#fb9f3a\"],[0.8888888888888888,\"#fdca26\"],[1.0,\"#f0f921\"]],\"type\":\"histogram2dcontour\"}],\"mesh3d\":[{\"colorbar\":{\"outlinewidth\":0,\"ticks\":\"\"},\"type\":\"mesh3d\"}],\"parcoords\":[{\"line\":{\"colorbar\":{\"outlinewidth\":0,\"ticks\":\"\"}},\"type\":\"parcoords\"}],\"pie\":[{\"automargin\":true,\"type\":\"pie\"}],\"scatter\":[{\"marker\":{\"colorbar\":{\"outlinewidth\":0,\"ticks\":\"\"}},\"type\":\"scatter\"}],\"scatter3d\":[{\"line\":{\"colorbar\":{\"outlinewidth\":0,\"ticks\":\"\"}},\"marker\":{\"colorbar\":{\"outlinewidth\":0,\"ticks\":\"\"}},\"type\":\"scatter3d\"}],\"scattercarpet\":[{\"marker\":{\"colorbar\":{\"outlinewidth\":0,\"ticks\":\"\"}},\"type\":\"scattercarpet\"}],\"scattergeo\":[{\"marker\":{\"colorbar\":{\"outlinewidth\":0,\"ticks\":\"\"}},\"type\":\"scattergeo\"}],\"scattergl\":[{\"marker\":{\"colorbar\":{\"outlinewidth\":0,\"ticks\":\"\"}},\"type\":\"scattergl\"}],\"scattermapbox\":[{\"marker\":{\"colorbar\":{\"outlinewidth\":0,\"ticks\":\"\"}},\"type\":\"scattermapbox\"}],\"scatterpolar\":[{\"marker\":{\"colorbar\":{\"outlinewidth\":0,\"ticks\":\"\"}},\"type\":\"scatterpolar\"}],\"scatterpolargl\":[{\"marker\":{\"colorbar\":{\"outlinewidth\":0,\"ticks\":\"\"}},\"type\":\"scatterpolargl\"}],\"scatterternary\":[{\"marker\":{\"colorbar\":{\"outlinewidth\":0,\"ticks\":\"\"}},\"type\":\"scatterternary\"}],\"surface\":[{\"colorbar\":{\"outlinewidth\":0,\"ticks\":\"\"},\"colorscale\":[[0.0,\"#0d0887\"],[0.1111111111111111,\"#46039f\"],[0.2222222222222222,\"#7201a8\"],[0.3333333333333333,\"#9c179e\"],[0.4444444444444444,\"#bd3786\"],[0.5555555555555556,\"#d8576b\"],[0.6666666666666666,\"#ed7953\"],[0.7777777777777778,\"#fb9f3a\"],[0.8888888888888888,\"#fdca26\"],[1.0,\"#f0f921\"]],\"type\":\"surface\"}],\"table\":[{\"cells\":{\"fill\":{\"color\":\"#EBF0F8\"},\"line\":{\"color\":\"white\"}},\"header\":{\"fill\":{\"color\":\"#C8D4E3\"},\"line\":{\"color\":\"white\"}},\"type\":\"table\"}]},\"layout\":{\"annotationdefaults\":{\"arrowcolor\":\"#2a3f5f\",\"arrowhead\":0,\"arrowwidth\":1},\"autotypenumbers\":\"strict\",\"coloraxis\":{\"colorbar\":{\"outlinewidth\":0,\"ticks\":\"\"}},\"colorscale\":{\"diverging\":[[0,\"#8e0152\"],[0.1,\"#c51b7d\"],[0.2,\"#de77ae\"],[0.3,\"#f1b6da\"],[0.4,\"#fde0ef\"],[0.5,\"#f7f7f7\"],[0.6,\"#e6f5d0\"],[0.7,\"#b8e186\"],[0.8,\"#7fbc41\"],[0.9,\"#4d9221\"],[1,\"#276419\"]],\"sequential\":[[0.0,\"#0d0887\"],[0.1111111111111111,\"#46039f\"],[0.2222222222222222,\"#7201a8\"],[0.3333333333333333,\"#9c179e\"],[0.4444444444444444,\"#bd3786\"],[0.5555555555555556,\"#d8576b\"],[0.6666666666666666,\"#ed7953\"],[0.7777777777777778,\"#fb9f3a\"],[0.8888888888888888,\"#fdca26\"],[1.0,\"#f0f921\"]],\"sequentialminus\":[[0.0,\"#0d0887\"],[0.1111111111111111,\"#46039f\"],[0.2222222222222222,\"#7201a8\"],[0.3333333333333333,\"#9c179e\"],[0.4444444444444444,\"#bd3786\"],[0.5555555555555556,\"#d8576b\"],[0.6666666666666666,\"#ed7953\"],[0.7777777777777778,\"#fb9f3a\"],[0.8888888888888888,\"#fdca26\"],[1.0,\"#f0f921\"]]},\"colorway\":[\"#636efa\",\"#EF553B\",\"#00cc96\",\"#ab63fa\",\"#FFA15A\",\"#19d3f3\",\"#FF6692\",\"#B6E880\",\"#FF97FF\",\"#FECB52\"],\"font\":{\"color\":\"#2a3f5f\"},\"geo\":{\"bgcolor\":\"white\",\"lakecolor\":\"white\",\"landcolor\":\"#E5ECF6\",\"showlakes\":true,\"showland\":true,\"subunitcolor\":\"white\"},\"hoverlabel\":{\"align\":\"left\"},\"hovermode\":\"closest\",\"mapbox\":{\"style\":\"light\"},\"paper_bgcolor\":\"white\",\"plot_bgcolor\":\"#E5ECF6\",\"polar\":{\"angularaxis\":{\"gridcolor\":\"white\",\"linecolor\":\"white\",\"ticks\":\"\"},\"bgcolor\":\"#E5ECF6\",\"radialaxis\":{\"gridcolor\":\"white\",\"linecolor\":\"white\",\"ticks\":\"\"}},\"scene\":{\"xaxis\":{\"backgroundcolor\":\"#E5ECF6\",\"gridcolor\":\"white\",\"gridwidth\":2,\"linecolor\":\"white\",\"showbackground\":true,\"ticks\":\"\",\"zerolinecolor\":\"white\"},\"yaxis\":{\"backgroundcolor\":\"#E5ECF6\",\"gridcolor\":\"white\",\"gridwidth\":2,\"linecolor\":\"white\",\"showbackground\":true,\"ticks\":\"\",\"zerolinecolor\":\"white\"},\"zaxis\":{\"backgroundcolor\":\"#E5ECF6\",\"gridcolor\":\"white\",\"gridwidth\":2,\"linecolor\":\"white\",\"showbackground\":true,\"ticks\":\"\",\"zerolinecolor\":\"white\"}},\"shapedefaults\":{\"line\":{\"color\":\"#2a3f5f\"}},\"ternary\":{\"aaxis\":{\"gridcolor\":\"white\",\"linecolor\":\"white\",\"ticks\":\"\"},\"baxis\":{\"gridcolor\":\"white\",\"linecolor\":\"white\",\"ticks\":\"\"},\"bgcolor\":\"#E5ECF6\",\"caxis\":{\"gridcolor\":\"white\",\"linecolor\":\"white\",\"ticks\":\"\"}},\"title\":{\"x\":0.05},\"xaxis\":{\"automargin\":true,\"gridcolor\":\"white\",\"linecolor\":\"white\",\"ticks\":\"\",\"title\":{\"standoff\":15},\"zerolinecolor\":\"white\",\"zerolinewidth\":2},\"yaxis\":{\"automargin\":true,\"gridcolor\":\"white\",\"linecolor\":\"white\",\"ticks\":\"\",\"title\":{\"standoff\":15},\"zerolinecolor\":\"white\",\"zerolinewidth\":2}}},\"title\":{\"text\":\"\\ubd84\\uc57c\\ubcc4 \\ubbfc\\uc6d0 Treemap\"}},                        {\"responsive\": true}                    ).then(function(){\n",
              "                            \n",
              "var gd = document.getElementById('32fb90cc-0858-4574-9a16-6accb74f972b');\n",
              "var x = new MutationObserver(function (mutations, observer) {{\n",
              "        var display = window.getComputedStyle(gd).display;\n",
              "        if (!display || display === 'none') {{\n",
              "            console.log([gd, 'removed!']);\n",
              "            Plotly.purge(gd);\n",
              "            observer.disconnect();\n",
              "        }}\n",
              "}});\n",
              "\n",
              "// Listen for the removal of the full notebook cells\n",
              "var notebookContainer = gd.closest('#notebook-container');\n",
              "if (notebookContainer) {{\n",
              "    x.observe(notebookContainer, {childList: true});\n",
              "}}\n",
              "\n",
              "// Listen for the clearing of the current output cell\n",
              "var outputEl = gd.closest('.output');\n",
              "if (outputEl) {{\n",
              "    x.observe(outputEl, {childList: true});\n",
              "}}\n",
              "\n",
              "                        })                };                            </script>        </div>\n",
              "</body>\n",
              "</html>"
            ]
          },
          "metadata": {}
        }
      ]
    },
    {
      "cell_type": "markdown",
      "metadata": {
        "id": "_ut5e7TZMVoA"
      },
      "source": [
        "**교육/문화/체육/관광 분야에서는 졸업학교(분교장) 폐교와 관련한 문의, 방과후학교 관련 문의, 학교폭력, 교육비 및 학자금 관련 문의가 주요 안건**  \n",
        "**재정/금융/소비자 분야에서는 연말정산, 현금영수증, 종합소득세, 사업자등록, 근로장려금 관련 문의가 주요 안건**  \n",
        "**국토/교통/농림/해양 분야에서는 주로 해양관련이 대부분이며, 어업경영체, 해기사면허, 항만시설, 선박 해양쓰레기 관련 문의가 주요 안건**  "
      ]
    },
    {
      "cell_type": "markdown",
      "metadata": {
        "id": "Ca6o3aYENVjj"
      },
      "source": [
        "교육/문화/체육/관광 분야에서는 학교폭력이라는 키워드가 어느정도 중요하다고 보이며,  \n",
        "재정/금융/소비자 분야에서는 근로장려금, 연말정산이라는 키워드가 중요하다고 생각되며,  \n",
        "국토/교통/농림/해양 분야에서는 주로 해양관련 키워드가 주를 이룬다고 보인다.  \n",
        "\n",
        "위 시계열 그래프에서도 재정/금융/소비자 분야에서 2021년 5월, 6월에 피크가 나타났었는데 (2020년은 데이터가 없어 확인 불가) 이는 근로장려금 신청관련이라고 생각되며, 2021년 1월 역시 작은 피크가 있어 이는 연말정산 관련이라고 생각된다.\n",
        "\n"
      ]
    },
    {
      "cell_type": "markdown",
      "metadata": {
        "id": "ybForw7bM8SA"
      },
      "source": [
        "이 중에서 눈여겨보아야 할 부분이 연말정산으로 올해가 얼마 남지 않았기 때문에 시민들의 관심 대상이 될 것이라 생각  \n",
        "따라서 연말정산 관련 문의가 무엇인지 세부적으로 파악해보려고 함"
      ]
    },
    {
      "cell_type": "code",
      "metadata": {
        "id": "jyWc8iRUCVhj"
      },
      "source": [
        "year_tax = root.loc[(root['분야명']=='재정/금융/소비자') & (root['질문내용'].str.contains('연말정산')), '질문내용']\n",
        "tokenizer = Tokenizer(year_tax)\n",
        "tokenizer.add_dictionary(dic)\n",
        "tokens_ = tokenizer.fit(passtag='Noun')\n",
        "#tokens_all = tokenizer.fit()"
      ],
      "execution_count": null,
      "outputs": []
    },
    {
      "cell_type": "code",
      "metadata": {
        "colab": {
          "base_uri": "https://localhost:8080/"
        },
        "id": "uGd-rIyAPG4g",
        "outputId": "fa8bcbee-5753-4f3f-c8d1-95a1a5290783"
      },
      "source": [
        "pd.Series(tokens_).sample(5)"
      ],
      "execution_count": null,
      "outputs": [
        {
          "output_type": "execute_result",
          "data": {
            "text/plain": [
              "49     [년, 월, 일, 현금, 영수증, 미발급, 대하여, 홈텍스, 신고, 지금, 처리, ...\n",
              "97     [연말, 정산, 시, 공제, 항목, 것, 연말, 정산, 소득공제, 내용, 정정, 추...\n",
              "118    [저희, 회사, 연말, 정산, 대상, 근로자, 입사, 지역, 가입자, 납부, 국민,...\n",
              "120          [근로소득, 간이지급명세서, 제출, 연말, 정산, 지급, 명세서, 등, 제출]\n",
              "37       [안녕하세요제, 음료, 배달, 중, 근로자, 사업소득, 이것, 연말, 정산, 있나요]\n",
              "dtype: object"
            ]
          },
          "metadata": {},
          "execution_count": 86
        }
      ]
    },
    {
      "cell_type": "code",
      "metadata": {
        "colab": {
          "base_uri": "https://localhost:8080/"
        },
        "id": "RE-2mcvamNGw",
        "outputId": "a71c72a0-4097-4603-8ea3-e334ec208072"
      },
      "source": [
        "year_tax.sample(10).to_list()"
      ],
      "execution_count": null,
      "outputs": [
        {
          "output_type": "execute_result",
          "data": {
            "text/plain": [
              "['제가 오늘 순천세무서로부터 2019년 귀속 종합소득세를 무신고하여 과세자료가 발생하였으니 홈택스 등을 이용하여 기한후신고를 하라고안내를 받았습니다제가 알기로는 근로소득자는 연말정산을 통해 환급받거나 추가납부하면 끝나며 종합소득세 신고대상은 아닌것으로 알고 있습니다저는 2014년부터 순천에 소재한 중소기업에서 근로소득을 지급받고 있는데 확인해 보니 여수에 소재한 처음듣는 법인업체에서근로소득을 지급한것으로 신고를 한것이었습니다 인터넷에 해당 사업장에 전화를 걸어 어떻게 된 영문인지 확인해보니주민등록번호를 잘못 입력해서 신고한것이었습니다 해당 사업장 관계자는 주민등록번호 오기입에 따라 잘못 신고가 된거라고 다시 수정제출한다고 했습니다 앞으로는 이런일이 절대 일어나지 않았으면 좋겠고 이 사업장에는 세무서에서 어떤 불이익이 주는지 알고 싶습니다',\n",
              " '안녕하십니까 회사를 다니고 있는 직원으로서 지난 2020년 근로소득 연말정산에서 월세액 세액공제가 누락한 사실을 확인하였습니다  준비서류는 확인하였는데  누락한 월세액 세액공제신청시  현금영수증 등 소득공제신청도 동시에 가능한지 문의합니다',\n",
              " '연말정산자료를 제출했는데 회사에서 입력하면서 부모님공제를 누락하였습니다 사업자는 다시신고하는 절차가 번거롭고 사실상 힘들다고 하면서 소득세 신고때 개인이 직접할 수 있다고 합니다 5월에 소득세 신고시 직접 신고해서 추가할 수 있을까요',\n",
              " '연말정산이란 무엇인가요',\n",
              " '제가 20년도 월세 납부내역 현금영수증 신청을 하였는데 남인천세무서측에서 신고내용과 다르게 처리가 되어서 대표 전화번호로 전화를 수십번을 했는데 연결이 안되네요홈텍스 고객센터랑 통화하니까 남인천세무서측에서 처리한거라서 남인천세무서에 연락을 해보라는데 몇주동안 전화연결 자체가 안되네요코로나때문에 방문 자제하라면서 직접 찾아가야만 처리가 되는건지 대표전화 써놓고 전화연결이 안되는건 이해가 안되네요 제가 19년도 연말정산 당시 사업자와 25만원에 계약한 건에 대해 현금영수증 신청한 이력이 있으나 당시 착오가 있어 세무서 담당자와 통화하여 현금영수증 발급을 안하겠다고 민원취소 처리를 하였습니다그리고 19년도 11월에 현재 집주인 집을 팔았으며 저는 현재 집주인분과 다시 계약을 하였고 지금까지 유효합니다 20년도 월세 납부내역 현금영수증 신청시 19년도 11월 월세계약서20년도 월세납부내역을 모두 첨부하였는데20년도 6월까지 왜 뜬금없이 민원취소한 로 처리가 되었는지 제가 첨부한 월세 납부내역에 는 있지도 않고 전부 님께 이체한 내역인데 아예 확인도 안하신건지금액도 30만원씩 이체했는데 25만원으로 처리됨 어쨌든 사업자는 몇년전 끝난 계약에 대해 현금영수증 청구를 받았으니  측에도 부당하다고 생각이 듭니다 확인하시고 처리 혹은 연락부탁드립니다 ',\n",
              " '연말정산 과거자료 재정산을 요청합니다',\n",
              " '맞벌이 부부인데요연말정산관련 헷갈리는 부분이 있음부양가족 공제는 누가 받는것이 유리한지랑 서로 인적공제가 가능한지',\n",
              " '안녕하세요20여년전 미국에 이민가서 살다가 2018년 초에 귀국하여 현재 대한민국 인천광역시 소재 모 회사에 근무중입니다제가 알고 싶은 건 회사를 다닌 지 56개월 밖에 되지 않았지만 미국에서 이민갔다가 온 저도 연말정산 대상이 되는지 궁금하고저 같이 한국인이지만 외국인등록번호를 부여받은 사람들은 연말정산을 어떻게 해야 하는 지 궁금합니다저 같은 외국인을 위해 연말정산을 하는 방법을 알려주시기 바랍니다부탁드립니다 ',\n",
              " '이전직장에서 받은 소득이 있는데 현재 직장에서는 현재 다니는 직장소득만 연말정산을 했습니다현재 직장에서는 연말정산이 끝나서 못한다고 합니다 이경우 어떻게 해야 하는지요',\n",
              " '현금카드를 사용하는 외국인 직원들이 여러명 있는데 연말정산 제출용으로 현금카드사용 내역을 출력하려 합니다 헌데 외국인직원이 홈택스에 로그인이 되지를 않습니다 이름 입력 주민등록번호 자리에 외국인번호 입력 하고 간편인증 하려는데 되지를 않네요 홈택스에서 외국인노동자 우리직원 이름으로 로그인해서 간소화자료를 검색및 출력하는 방법을 알고 싶습니다 ']"
            ]
          },
          "metadata": {},
          "execution_count": 138
        }
      ]
    },
    {
      "cell_type": "code",
      "metadata": {
        "id": "MUC5CGiKXChJ"
      },
      "source": [
        "stopwords = ['있나요', '하나요', '있음', '받는것', '경우', '하여',\n",
        "             '안녕하세요', '가요', '안녕하세요제']"
      ],
      "execution_count": null,
      "outputs": []
    },
    {
      "cell_type": "code",
      "metadata": {
        "id": "630-xhteW_7V"
      },
      "source": [
        "tokens2 = pd.Series(tokens_).map(lambda x:[w for w in x if (not w in stopwords) and (len(w) > 1)]).to_list()"
      ],
      "execution_count": null,
      "outputs": []
    },
    {
      "cell_type": "code",
      "metadata": {
        "id": "Rs-CGsEKba5N"
      },
      "source": [
        "from sklearn.feature_extraction.text import CountVectorizer"
      ],
      "execution_count": null,
      "outputs": []
    },
    {
      "cell_type": "code",
      "metadata": {
        "id": "boCm2X9DPG6d"
      },
      "source": [
        "vectorizer = TfidfVectorizer(analyzer='word',\n",
        "                             lowercase=False,\n",
        "                             tokenizer=None,\n",
        "                             preprocessor=None,\n",
        "                             min_df=5,\n",
        "                             max_df=0.8,\n",
        "                             ngram_range=(2,3),\n",
        "                             stop_words=stopwords\n",
        "                             )\n",
        "\n",
        "vec_tokens = vectorizer.fit_transform(pd.Series(tokens2).astype(\"U\"))"
      ],
      "execution_count": null,
      "outputs": []
    },
    {
      "cell_type": "code",
      "metadata": {
        "colab": {
          "base_uri": "https://localhost:8080/"
        },
        "id": "b_uND1GxbvOc",
        "outputId": "4072dd45-e465-45a1-c7c7-418d5f1fbc52"
      },
      "source": [
        "vectorizer.get_feature_names()"
      ],
      "execution_count": null,
      "outputs": [
        {
          "output_type": "execute_result",
          "data": {
            "text/plain": [
              "['근로소득 연말',\n",
              " '근로소득 연말 정산',\n",
              " '부양가족 공제',\n",
              " '소득공제 누락',\n",
              " '연말 정산 간소화',\n",
              " '연말 정산 결과',\n",
              " '연말 정산 공제',\n",
              " '연말 정산 누락',\n",
              " '연말 정산 소득공제',\n",
              " '장기주택저당차입금 이자상환액',\n",
              " '정산 간소화',\n",
              " '정산 결과',\n",
              " '정산 공제',\n",
              " '정산 누락',\n",
              " '정산 소득공제',\n",
              " '종합소득세 신고',\n",
              " '필요 서류',\n",
              " '현금 영수증',\n",
              " '회사 연말',\n",
              " '회사 연말 정산']"
            ]
          },
          "metadata": {},
          "execution_count": 122
        }
      ]
    },
    {
      "cell_type": "code",
      "metadata": {
        "colab": {
          "base_uri": "https://localhost:8080/"
        },
        "id": "XQc7cXJ-kxkP",
        "outputId": "f8d93c9d-ebf2-4894-ccbf-c0edaee03bff"
      },
      "source": [
        "!pwd"
      ],
      "execution_count": 1,
      "outputs": [
        {
          "output_type": "stream",
          "name": "stdout",
          "text": [
            "/content\n"
          ]
        }
      ]
    },
    {
      "cell_type": "code",
      "metadata": {
        "id": "tfhLX071komI"
      },
      "source": [
        "%%shell\n",
        "jupyter nbconvert --to html /Your notebook path/file.ipynb"
      ],
      "execution_count": null,
      "outputs": []
    }
  ]
}